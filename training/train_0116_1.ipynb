{
 "cells": [
  {
   "cell_type": "markdown",
   "metadata": {},
   "source": [
    "train_0115_1 : cigarette & person & smoke <br/>\n",
    "train_0116_1 : only cigarette"
   ]
  },
  {
   "cell_type": "code",
   "execution_count": 1,
   "metadata": {},
   "outputs": [],
   "source": [
    "import os\n",
    "import cv2\n",
    "%matplotlib inline\n",
    "from ultralytics import YOLO\n",
    "import matplotlib.pyplot as plt"
   ]
  },
  {
   "cell_type": "code",
   "execution_count": 3,
   "metadata": {},
   "outputs": [
    {
     "name": "stdout",
     "output_type": "stream",
     "text": [
      "Downloading https://github.com/ultralytics/assets/releases/download/v8.3.0/yolov8n.pt to 'yolov8n.pt'...\n"
     ]
    },
    {
     "name": "stderr",
     "output_type": "stream",
     "text": [
      "100%|██████████| 6.25M/6.25M [00:00<00:00, 17.0MB/s]"
     ]
    },
    {
     "name": "stdout",
     "output_type": "stream",
     "text": [
      "<class 'dict'> 80\n",
      "{0: 'person', 1: 'bicycle', 2: 'car', 3: 'motorcycle', 4: 'airplane', 5: 'bus', 6: 'train', 7: 'truck', 8: 'boat', 9: 'traffic light', 10: 'fire hydrant', 11: 'stop sign', 12: 'parking meter', 13: 'bench', 14: 'bird', 15: 'cat', 16: 'dog', 17: 'horse', 18: 'sheep', 19: 'cow', 20: 'elephant', 21: 'bear', 22: 'zebra', 23: 'giraffe', 24: 'backpack', 25: 'umbrella', 26: 'handbag', 27: 'tie', 28: 'suitcase', 29: 'frisbee', 30: 'skis', 31: 'snowboard', 32: 'sports ball', 33: 'kite', 34: 'baseball bat', 35: 'baseball glove', 36: 'skateboard', 37: 'surfboard', 38: 'tennis racket', 39: 'bottle', 40: 'wine glass', 41: 'cup', 42: 'fork', 43: 'knife', 44: 'spoon', 45: 'bowl', 46: 'banana', 47: 'apple', 48: 'sandwich', 49: 'orange', 50: 'broccoli', 51: 'carrot', 52: 'hot dog', 53: 'pizza', 54: 'donut', 55: 'cake', 56: 'chair', 57: 'couch', 58: 'potted plant', 59: 'bed', 60: 'dining table', 61: 'toilet', 62: 'tv', 63: 'laptop', 64: 'mouse', 65: 'remote', 66: 'keyboard', 67: 'cell phone', 68: 'microwave', 69: 'oven', 70: 'toaster', 71: 'sink', 72: 'refrigerator', 73: 'book', 74: 'clock', 75: 'vase', 76: 'scissors', 77: 'teddy bear', 78: 'hair drier', 79: 'toothbrush'}\n"
     ]
    },
    {
     "name": "stderr",
     "output_type": "stream",
     "text": [
      "\n"
     ]
    }
   ],
   "source": [
    "model = YOLO(\"yolov8n.pt\")\n",
    "print(type(model.names),len(model.names))\n",
    "print(model.names)"
   ]
  },
  {
   "cell_type": "code",
   "execution_count": 4,
   "metadata": {},
   "outputs": [
    {
     "name": "stdout",
     "output_type": "stream",
     "text": [
      "New https://pypi.org/project/ultralytics/8.3.61 available  Update with 'pip install -U ultralytics'\n",
      "Ultralytics 8.3.59  Python-3.12.8 torch-2.5.1+cpu CPU (12th Gen Intel Core(TM) i5-1240P)\n",
      "\u001b[34m\u001b[1mengine\\trainer: \u001b[0mtask=detect, mode=train, model=yolov8n.pt, data=C:/Users/datasets/data.yaml, epochs=50, time=None, patience=10, batch=8, imgsz=320, save=True, save_period=-1, cache=False, device=None, workers=8, project=None, name=train14, exist_ok=False, pretrained=True, optimizer=auto, verbose=True, seed=0, deterministic=True, single_cls=False, rect=False, cos_lr=False, close_mosaic=10, resume=False, amp=True, fraction=1.0, profile=False, freeze=None, multi_scale=False, overlap_mask=True, mask_ratio=4, dropout=0.0, val=True, split=val, save_json=False, save_hybrid=False, conf=None, iou=0.7, max_det=300, half=False, dnn=False, plots=True, source=None, vid_stride=1, stream_buffer=False, visualize=False, augment=False, agnostic_nms=False, classes=None, retina_masks=False, embed=None, show=False, save_frames=False, save_txt=False, save_conf=False, save_crop=False, show_labels=True, show_conf=True, show_boxes=True, line_width=None, format=torchscript, keras=False, optimize=False, int8=False, dynamic=False, simplify=True, opset=None, workspace=None, nms=False, lr0=0.01, lrf=0.01, momentum=0.937, weight_decay=0.0005, warmup_epochs=3.0, warmup_momentum=0.8, warmup_bias_lr=0.1, box=7.5, cls=0.5, dfl=1.5, pose=12.0, kobj=1.0, nbs=64, hsv_h=0.015, hsv_s=0.7, hsv_v=0.4, degrees=0.0, translate=0.1, scale=0.5, shear=0.0, perspective=0.0, flipud=0.0, fliplr=0.5, bgr=0.0, mosaic=1.0, mixup=0.0, copy_paste=0.0, copy_paste_mode=flip, auto_augment=randaugment, erasing=0.4, crop_fraction=1.0, cfg=None, tracker=botsort.yaml, save_dir=c:\\Users\\shihy\\runs\\detect\\train14\n",
      "Overriding model.yaml nc=80 with nc=1\n",
      "\n",
      "                   from  n    params  module                                       arguments                     \n",
      "  0                  -1  1       464  ultralytics.nn.modules.conv.Conv             [3, 16, 3, 2]                 \n",
      "  1                  -1  1      4672  ultralytics.nn.modules.conv.Conv             [16, 32, 3, 2]                \n",
      "  2                  -1  1      7360  ultralytics.nn.modules.block.C2f             [32, 32, 1, True]             \n",
      "  3                  -1  1     18560  ultralytics.nn.modules.conv.Conv             [32, 64, 3, 2]                \n",
      "  4                  -1  2     49664  ultralytics.nn.modules.block.C2f             [64, 64, 2, True]             \n",
      "  5                  -1  1     73984  ultralytics.nn.modules.conv.Conv             [64, 128, 3, 2]               \n",
      "  6                  -1  2    197632  ultralytics.nn.modules.block.C2f             [128, 128, 2, True]           \n",
      "  7                  -1  1    295424  ultralytics.nn.modules.conv.Conv             [128, 256, 3, 2]              \n",
      "  8                  -1  1    460288  ultralytics.nn.modules.block.C2f             [256, 256, 1, True]           \n",
      "  9                  -1  1    164608  ultralytics.nn.modules.block.SPPF            [256, 256, 5]                 \n",
      " 10                  -1  1         0  torch.nn.modules.upsampling.Upsample         [None, 2, 'nearest']          \n",
      " 11             [-1, 6]  1         0  ultralytics.nn.modules.conv.Concat           [1]                           \n",
      " 12                  -1  1    148224  ultralytics.nn.modules.block.C2f             [384, 128, 1]                 \n",
      " 13                  -1  1         0  torch.nn.modules.upsampling.Upsample         [None, 2, 'nearest']          \n",
      " 14             [-1, 4]  1         0  ultralytics.nn.modules.conv.Concat           [1]                           \n",
      " 15                  -1  1     37248  ultralytics.nn.modules.block.C2f             [192, 64, 1]                  \n",
      " 16                  -1  1     36992  ultralytics.nn.modules.conv.Conv             [64, 64, 3, 2]                \n",
      " 17            [-1, 12]  1         0  ultralytics.nn.modules.conv.Concat           [1]                           \n",
      " 18                  -1  1    123648  ultralytics.nn.modules.block.C2f             [192, 128, 1]                 \n",
      " 19                  -1  1    147712  ultralytics.nn.modules.conv.Conv             [128, 128, 3, 2]              \n",
      " 20             [-1, 9]  1         0  ultralytics.nn.modules.conv.Concat           [1]                           \n",
      " 21                  -1  1    493056  ultralytics.nn.modules.block.C2f             [384, 256, 1]                 \n",
      " 22        [15, 18, 21]  1    751507  ultralytics.nn.modules.head.Detect           [1, [64, 128, 256]]           \n",
      "Model summary: 225 layers, 3,011,043 parameters, 3,011,027 gradients, 8.2 GFLOPs\n",
      "\n",
      "Transferred 319/355 items from pretrained weights\n",
      "Freezing layer 'model.22.dfl.conv.weight'\n"
     ]
    },
    {
     "name": "stderr",
     "output_type": "stream",
     "text": [
      "\u001b[34m\u001b[1mtrain: \u001b[0mScanning C:\\Users\\datasets\\train\\labels... 2910 images, 0 backgrounds, 0 corrupt: 100%|██████████| 2910/2910 [00:07<00:00, 377.22it/s]\n"
     ]
    },
    {
     "name": "stdout",
     "output_type": "stream",
     "text": [
      "\u001b[34m\u001b[1mtrain: \u001b[0mNew cache created: C:\\Users\\datasets\\train\\labels.cache\n",
      "WARNING  Box and segment counts should be equal, but got len(segments) = 2, len(boxes) = 3069. To resolve this only boxes will be used and all segments will be removed. To avoid this please supply either a detect or segment dataset, not a detect-segment mixed dataset.\n"
     ]
    },
    {
     "name": "stderr",
     "output_type": "stream",
     "text": [
      "\u001b[34m\u001b[1mval: \u001b[0mScanning C:\\Users\\datasets\\valid\\labels... 810 images, 0 backgrounds, 0 corrupt: 100%|██████████| 810/810 [00:02<00:00, 376.90it/s]\n"
     ]
    },
    {
     "name": "stdout",
     "output_type": "stream",
     "text": [
      "\u001b[34m\u001b[1mval: \u001b[0mNew cache created: C:\\Users\\datasets\\valid\\labels.cache\n",
      "Plotting labels to c:\\Users\\shihy\\runs\\detect\\train14\\labels.jpg... \n",
      "\u001b[34m\u001b[1moptimizer:\u001b[0m 'optimizer=auto' found, ignoring 'lr0=0.01' and 'momentum=0.937' and determining best 'optimizer', 'lr0' and 'momentum' automatically... \n",
      "\u001b[34m\u001b[1moptimizer:\u001b[0m AdamW(lr=0.002, momentum=0.9) with parameter groups 57 weight(decay=0.0), 64 weight(decay=0.0005), 63 bias(decay=0.0)\n",
      "Image sizes 320 train, 320 val\n",
      "Using 0 dataloader workers\n",
      "Logging results to \u001b[1mc:\\Users\\shihy\\runs\\detect\\train14\u001b[0m\n",
      "Starting training for 50 epochs...\n",
      "\n",
      "      Epoch    GPU_mem   box_loss   cls_loss   dfl_loss  Instances       Size\n"
     ]
    },
    {
     "name": "stderr",
     "output_type": "stream",
     "text": [
      "       1/50         0G      2.496      3.007      1.623         10        320: 100%|██████████| 364/364 [03:44<00:00,  1.62it/s]\n",
      "                 Class     Images  Instances      Box(P          R      mAP50  mAP50-95): 100%|██████████| 51/51 [00:25<00:00,  2.00it/s]\n"
     ]
    },
    {
     "name": "stdout",
     "output_type": "stream",
     "text": [
      "                   all        810        865      0.216      0.221       0.11     0.0347\n",
      "\n",
      "      Epoch    GPU_mem   box_loss   cls_loss   dfl_loss  Instances       Size\n"
     ]
    },
    {
     "name": "stderr",
     "output_type": "stream",
     "text": [
      "       2/50         0G      2.673      2.839       1.76         12        320: 100%|██████████| 364/364 [03:52<00:00,  1.56it/s]\n",
      "                 Class     Images  Instances      Box(P          R      mAP50  mAP50-95): 100%|██████████| 51/51 [00:28<00:00,  1.82it/s]"
     ]
    },
    {
     "name": "stdout",
     "output_type": "stream",
     "text": [
      "                   all        810        865      0.177      0.177     0.0922     0.0294\n"
     ]
    },
    {
     "name": "stderr",
     "output_type": "stream",
     "text": [
      "\n"
     ]
    },
    {
     "name": "stdout",
     "output_type": "stream",
     "text": [
      "\n",
      "      Epoch    GPU_mem   box_loss   cls_loss   dfl_loss  Instances       Size\n"
     ]
    },
    {
     "name": "stderr",
     "output_type": "stream",
     "text": [
      "       3/50         0G      2.659       2.63      1.774         13        320: 100%|██████████| 364/364 [04:44<00:00,  1.28it/s]\n",
      "                 Class     Images  Instances      Box(P          R      mAP50  mAP50-95): 100%|██████████| 51/51 [00:29<00:00,  1.73it/s]"
     ]
    },
    {
     "name": "stdout",
     "output_type": "stream",
     "text": [
      "                   all        810        865      0.202      0.224      0.114     0.0371\n"
     ]
    },
    {
     "name": "stderr",
     "output_type": "stream",
     "text": [
      "\n"
     ]
    },
    {
     "name": "stdout",
     "output_type": "stream",
     "text": [
      "\n",
      "      Epoch    GPU_mem   box_loss   cls_loss   dfl_loss  Instances       Size\n"
     ]
    },
    {
     "name": "stderr",
     "output_type": "stream",
     "text": [
      "       4/50         0G      2.636      2.556      1.777         15        320: 100%|██████████| 364/364 [05:18<00:00,  1.14it/s]\n",
      "                 Class     Images  Instances      Box(P          R      mAP50  mAP50-95): 100%|██████████| 51/51 [00:34<00:00,  1.48it/s]"
     ]
    },
    {
     "name": "stdout",
     "output_type": "stream",
     "text": [
      "                   all        810        865      0.227      0.274      0.153      0.048\n"
     ]
    },
    {
     "name": "stderr",
     "output_type": "stream",
     "text": [
      "\n"
     ]
    },
    {
     "name": "stdout",
     "output_type": "stream",
     "text": [
      "\n",
      "      Epoch    GPU_mem   box_loss   cls_loss   dfl_loss  Instances       Size\n"
     ]
    },
    {
     "name": "stderr",
     "output_type": "stream",
     "text": [
      "       5/50         0G      2.595      2.476      1.771          6        320: 100%|██████████| 364/364 [05:53<00:00,  1.03it/s]\n",
      "                 Class     Images  Instances      Box(P          R      mAP50  mAP50-95): 100%|██████████| 51/51 [00:32<00:00,  1.59it/s]"
     ]
    },
    {
     "name": "stdout",
     "output_type": "stream",
     "text": [
      "                   all        810        865      0.285      0.269      0.184     0.0657\n"
     ]
    },
    {
     "name": "stderr",
     "output_type": "stream",
     "text": [
      "\n"
     ]
    },
    {
     "name": "stdout",
     "output_type": "stream",
     "text": [
      "\n",
      "      Epoch    GPU_mem   box_loss   cls_loss   dfl_loss  Instances       Size\n"
     ]
    },
    {
     "name": "stderr",
     "output_type": "stream",
     "text": [
      "       6/50         0G      2.502      2.362      1.705         11        320: 100%|██████████| 364/364 [04:49<00:00,  1.26it/s]\n",
      "                 Class     Images  Instances      Box(P          R      mAP50  mAP50-95): 100%|██████████| 51/51 [00:34<00:00,  1.49it/s]"
     ]
    },
    {
     "name": "stdout",
     "output_type": "stream",
     "text": [
      "                   all        810        865      0.245      0.288       0.18     0.0596\n"
     ]
    },
    {
     "name": "stderr",
     "output_type": "stream",
     "text": [
      "\n"
     ]
    },
    {
     "name": "stdout",
     "output_type": "stream",
     "text": [
      "\n",
      "      Epoch    GPU_mem   box_loss   cls_loss   dfl_loss  Instances       Size\n"
     ]
    },
    {
     "name": "stderr",
     "output_type": "stream",
     "text": [
      "       7/50         0G      2.491      2.315      1.668         10        320: 100%|██████████| 364/364 [04:47<00:00,  1.27it/s]\n",
      "                 Class     Images  Instances      Box(P          R      mAP50  mAP50-95): 100%|██████████| 51/51 [00:24<00:00,  2.08it/s]"
     ]
    },
    {
     "name": "stdout",
     "output_type": "stream",
     "text": [
      "                   all        810        865      0.142      0.308      0.107     0.0363\n"
     ]
    },
    {
     "name": "stderr",
     "output_type": "stream",
     "text": [
      "\n"
     ]
    },
    {
     "name": "stdout",
     "output_type": "stream",
     "text": [
      "\n",
      "      Epoch    GPU_mem   box_loss   cls_loss   dfl_loss  Instances       Size\n"
     ]
    },
    {
     "name": "stderr",
     "output_type": "stream",
     "text": [
      "       8/50         0G      2.385      2.222      1.603          8        320: 100%|██████████| 364/364 [03:44<00:00,  1.62it/s]\n",
      "                 Class     Images  Instances      Box(P          R      mAP50  mAP50-95): 100%|██████████| 51/51 [00:25<00:00,  2.01it/s]"
     ]
    },
    {
     "name": "stdout",
     "output_type": "stream",
     "text": [
      "                   all        810        865      0.332      0.366      0.241     0.0784\n"
     ]
    },
    {
     "name": "stderr",
     "output_type": "stream",
     "text": [
      "\n"
     ]
    },
    {
     "name": "stdout",
     "output_type": "stream",
     "text": [
      "\n",
      "      Epoch    GPU_mem   box_loss   cls_loss   dfl_loss  Instances       Size\n"
     ]
    },
    {
     "name": "stderr",
     "output_type": "stream",
     "text": [
      "       9/50         0G      2.384      2.161      1.633         10        320: 100%|██████████| 364/364 [03:49<00:00,  1.58it/s]\n",
      "                 Class     Images  Instances      Box(P          R      mAP50  mAP50-95): 100%|██████████| 51/51 [00:24<00:00,  2.08it/s]"
     ]
    },
    {
     "name": "stdout",
     "output_type": "stream",
     "text": [
      "                   all        810        865      0.383      0.397      0.293      0.101\n"
     ]
    },
    {
     "name": "stderr",
     "output_type": "stream",
     "text": [
      "\n"
     ]
    },
    {
     "name": "stdout",
     "output_type": "stream",
     "text": [
      "\n",
      "      Epoch    GPU_mem   box_loss   cls_loss   dfl_loss  Instances       Size\n"
     ]
    },
    {
     "name": "stderr",
     "output_type": "stream",
     "text": [
      "      10/50         0G      2.336      2.121      1.584         10        320: 100%|██████████| 364/364 [03:45<00:00,  1.62it/s]\n",
      "                 Class     Images  Instances      Box(P          R      mAP50  mAP50-95): 100%|██████████| 51/51 [00:24<00:00,  2.07it/s]"
     ]
    },
    {
     "name": "stdout",
     "output_type": "stream",
     "text": [
      "                   all        810        865      0.308      0.326      0.209     0.0786\n"
     ]
    },
    {
     "name": "stderr",
     "output_type": "stream",
     "text": [
      "\n"
     ]
    },
    {
     "name": "stdout",
     "output_type": "stream",
     "text": [
      "\n",
      "      Epoch    GPU_mem   box_loss   cls_loss   dfl_loss  Instances       Size\n"
     ]
    },
    {
     "name": "stderr",
     "output_type": "stream",
     "text": [
      "      11/50         0G      2.321      2.093      1.597          8        320: 100%|██████████| 364/364 [03:45<00:00,  1.62it/s]\n",
      "                 Class     Images  Instances      Box(P          R      mAP50  mAP50-95): 100%|██████████| 51/51 [00:24<00:00,  2.10it/s]"
     ]
    },
    {
     "name": "stdout",
     "output_type": "stream",
     "text": [
      "                   all        810        865      0.248      0.405      0.217     0.0817\n"
     ]
    },
    {
     "name": "stderr",
     "output_type": "stream",
     "text": [
      "\n"
     ]
    },
    {
     "name": "stdout",
     "output_type": "stream",
     "text": [
      "\n",
      "      Epoch    GPU_mem   box_loss   cls_loss   dfl_loss  Instances       Size\n"
     ]
    },
    {
     "name": "stderr",
     "output_type": "stream",
     "text": [
      "      12/50         0G      2.321      2.089      1.563         11        320: 100%|██████████| 364/364 [03:45<00:00,  1.62it/s]\n",
      "                 Class     Images  Instances      Box(P          R      mAP50  mAP50-95): 100%|██████████| 51/51 [00:24<00:00,  2.06it/s]"
     ]
    },
    {
     "name": "stdout",
     "output_type": "stream",
     "text": [
      "                   all        810        865      0.356      0.435      0.306      0.111\n"
     ]
    },
    {
     "name": "stderr",
     "output_type": "stream",
     "text": [
      "\n"
     ]
    },
    {
     "name": "stdout",
     "output_type": "stream",
     "text": [
      "\n",
      "      Epoch    GPU_mem   box_loss   cls_loss   dfl_loss  Instances       Size\n"
     ]
    },
    {
     "name": "stderr",
     "output_type": "stream",
     "text": [
      "      13/50         0G      2.307      2.043      1.578         11        320: 100%|██████████| 364/364 [03:41<00:00,  1.65it/s]\n",
      "                 Class     Images  Instances      Box(P          R      mAP50  mAP50-95): 100%|██████████| 51/51 [00:23<00:00,  2.13it/s]"
     ]
    },
    {
     "name": "stdout",
     "output_type": "stream",
     "text": [
      "                   all        810        865      0.432      0.411      0.346      0.132\n"
     ]
    },
    {
     "name": "stderr",
     "output_type": "stream",
     "text": [
      "\n"
     ]
    },
    {
     "name": "stdout",
     "output_type": "stream",
     "text": [
      "\n",
      "      Epoch    GPU_mem   box_loss   cls_loss   dfl_loss  Instances       Size\n"
     ]
    },
    {
     "name": "stderr",
     "output_type": "stream",
     "text": [
      "      14/50         0G      2.265      1.975      1.541          9        320: 100%|██████████| 364/364 [03:45<00:00,  1.61it/s]\n",
      "                 Class     Images  Instances      Box(P          R      mAP50  mAP50-95): 100%|██████████| 51/51 [00:24<00:00,  2.10it/s]"
     ]
    },
    {
     "name": "stdout",
     "output_type": "stream",
     "text": [
      "                   all        810        865      0.403      0.432      0.332      0.118\n"
     ]
    },
    {
     "name": "stderr",
     "output_type": "stream",
     "text": [
      "\n"
     ]
    },
    {
     "name": "stdout",
     "output_type": "stream",
     "text": [
      "\n",
      "      Epoch    GPU_mem   box_loss   cls_loss   dfl_loss  Instances       Size\n"
     ]
    },
    {
     "name": "stderr",
     "output_type": "stream",
     "text": [
      "      15/50         0G      2.262      1.946      1.526         11        320: 100%|██████████| 364/364 [03:43<00:00,  1.63it/s]\n",
      "                 Class     Images  Instances      Box(P          R      mAP50  mAP50-95): 100%|██████████| 51/51 [00:23<00:00,  2.13it/s]"
     ]
    },
    {
     "name": "stdout",
     "output_type": "stream",
     "text": [
      "                   all        810        865      0.316      0.442      0.262      0.107\n"
     ]
    },
    {
     "name": "stderr",
     "output_type": "stream",
     "text": [
      "\n"
     ]
    },
    {
     "name": "stdout",
     "output_type": "stream",
     "text": [
      "\n",
      "      Epoch    GPU_mem   box_loss   cls_loss   dfl_loss  Instances       Size\n"
     ]
    },
    {
     "name": "stderr",
     "output_type": "stream",
     "text": [
      "      16/50         0G      2.208      1.954       1.52          7        320: 100%|██████████| 364/364 [03:39<00:00,  1.66it/s]\n",
      "                 Class     Images  Instances      Box(P          R      mAP50  mAP50-95): 100%|██████████| 51/51 [00:23<00:00,  2.15it/s]"
     ]
    },
    {
     "name": "stdout",
     "output_type": "stream",
     "text": [
      "                   all        810        865      0.365      0.417       0.32      0.125\n"
     ]
    },
    {
     "name": "stderr",
     "output_type": "stream",
     "text": [
      "\n"
     ]
    },
    {
     "name": "stdout",
     "output_type": "stream",
     "text": [
      "\n",
      "      Epoch    GPU_mem   box_loss   cls_loss   dfl_loss  Instances       Size\n"
     ]
    },
    {
     "name": "stderr",
     "output_type": "stream",
     "text": [
      "      17/50         0G        2.2      1.923       1.52          9        320: 100%|██████████| 364/364 [03:40<00:00,  1.65it/s]\n",
      "                 Class     Images  Instances      Box(P          R      mAP50  mAP50-95): 100%|██████████| 51/51 [00:23<00:00,  2.13it/s]"
     ]
    },
    {
     "name": "stdout",
     "output_type": "stream",
     "text": [
      "                   all        810        865      0.414      0.472      0.352      0.132\n"
     ]
    },
    {
     "name": "stderr",
     "output_type": "stream",
     "text": [
      "\n"
     ]
    },
    {
     "name": "stdout",
     "output_type": "stream",
     "text": [
      "\n",
      "      Epoch    GPU_mem   box_loss   cls_loss   dfl_loss  Instances       Size\n"
     ]
    },
    {
     "name": "stderr",
     "output_type": "stream",
     "text": [
      "      18/50         0G      2.197      1.901      1.484          9        320: 100%|██████████| 364/364 [03:39<00:00,  1.66it/s]\n",
      "                 Class     Images  Instances      Box(P          R      mAP50  mAP50-95): 100%|██████████| 51/51 [00:24<00:00,  2.09it/s]"
     ]
    },
    {
     "name": "stdout",
     "output_type": "stream",
     "text": [
      "                   all        810        865      0.453      0.458      0.382      0.155\n"
     ]
    },
    {
     "name": "stderr",
     "output_type": "stream",
     "text": [
      "\n"
     ]
    },
    {
     "name": "stdout",
     "output_type": "stream",
     "text": [
      "\n",
      "      Epoch    GPU_mem   box_loss   cls_loss   dfl_loss  Instances       Size\n"
     ]
    },
    {
     "name": "stderr",
     "output_type": "stream",
     "text": [
      "      19/50         0G      2.163      1.853      1.495          3        320: 100%|██████████| 364/364 [03:40<00:00,  1.65it/s]\n",
      "                 Class     Images  Instances      Box(P          R      mAP50  mAP50-95): 100%|██████████| 51/51 [00:24<00:00,  2.11it/s]"
     ]
    },
    {
     "name": "stdout",
     "output_type": "stream",
     "text": [
      "                   all        810        865      0.411      0.454      0.337      0.135\n"
     ]
    },
    {
     "name": "stderr",
     "output_type": "stream",
     "text": [
      "\n"
     ]
    },
    {
     "name": "stdout",
     "output_type": "stream",
     "text": [
      "\n",
      "      Epoch    GPU_mem   box_loss   cls_loss   dfl_loss  Instances       Size\n"
     ]
    },
    {
     "name": "stderr",
     "output_type": "stream",
     "text": [
      "      20/50         0G      2.171      1.838       1.47          8        320: 100%|██████████| 364/364 [03:39<00:00,  1.66it/s]\n",
      "                 Class     Images  Instances      Box(P          R      mAP50  mAP50-95): 100%|██████████| 51/51 [00:24<00:00,  2.12it/s]"
     ]
    },
    {
     "name": "stdout",
     "output_type": "stream",
     "text": [
      "                   all        810        865      0.516      0.477      0.438      0.172\n"
     ]
    },
    {
     "name": "stderr",
     "output_type": "stream",
     "text": [
      "\n"
     ]
    },
    {
     "name": "stdout",
     "output_type": "stream",
     "text": [
      "\n",
      "      Epoch    GPU_mem   box_loss   cls_loss   dfl_loss  Instances       Size\n"
     ]
    },
    {
     "name": "stderr",
     "output_type": "stream",
     "text": [
      "      21/50         0G      2.131      1.795      1.451          9        320: 100%|██████████| 364/364 [03:39<00:00,  1.66it/s]\n",
      "                 Class     Images  Instances      Box(P          R      mAP50  mAP50-95): 100%|██████████| 51/51 [00:23<00:00,  2.17it/s]"
     ]
    },
    {
     "name": "stdout",
     "output_type": "stream",
     "text": [
      "                   all        810        865      0.373      0.468      0.344      0.135\n"
     ]
    },
    {
     "name": "stderr",
     "output_type": "stream",
     "text": [
      "\n"
     ]
    },
    {
     "name": "stdout",
     "output_type": "stream",
     "text": [
      "\n",
      "      Epoch    GPU_mem   box_loss   cls_loss   dfl_loss  Instances       Size\n"
     ]
    },
    {
     "name": "stderr",
     "output_type": "stream",
     "text": [
      "      22/50         0G      2.148       1.81      1.465         14        320: 100%|██████████| 364/364 [03:39<00:00,  1.66it/s]\n",
      "                 Class     Images  Instances      Box(P          R      mAP50  mAP50-95): 100%|██████████| 51/51 [00:24<00:00,  2.07it/s]"
     ]
    },
    {
     "name": "stdout",
     "output_type": "stream",
     "text": [
      "                   all        810        865      0.475      0.479      0.425      0.165\n"
     ]
    },
    {
     "name": "stderr",
     "output_type": "stream",
     "text": [
      "\n"
     ]
    },
    {
     "name": "stdout",
     "output_type": "stream",
     "text": [
      "\n",
      "      Epoch    GPU_mem   box_loss   cls_loss   dfl_loss  Instances       Size\n"
     ]
    },
    {
     "name": "stderr",
     "output_type": "stream",
     "text": [
      "      23/50         0G      2.148      1.791      1.463         10        320: 100%|██████████| 364/364 [03:40<00:00,  1.65it/s]\n",
      "                 Class     Images  Instances      Box(P          R      mAP50  mAP50-95): 100%|██████████| 51/51 [00:23<00:00,  2.14it/s]"
     ]
    },
    {
     "name": "stdout",
     "output_type": "stream",
     "text": [
      "                   all        810        865       0.52      0.502      0.456      0.182\n"
     ]
    },
    {
     "name": "stderr",
     "output_type": "stream",
     "text": [
      "\n"
     ]
    },
    {
     "name": "stdout",
     "output_type": "stream",
     "text": [
      "\n",
      "      Epoch    GPU_mem   box_loss   cls_loss   dfl_loss  Instances       Size\n"
     ]
    },
    {
     "name": "stderr",
     "output_type": "stream",
     "text": [
      "      24/50         0G      2.115      1.752      1.446         13        320: 100%|██████████| 364/364 [03:40<00:00,  1.65it/s]\n",
      "                 Class     Images  Instances      Box(P          R      mAP50  mAP50-95): 100%|██████████| 51/51 [00:23<00:00,  2.15it/s]"
     ]
    },
    {
     "name": "stdout",
     "output_type": "stream",
     "text": [
      "                   all        810        865      0.453       0.52      0.409      0.159\n"
     ]
    },
    {
     "name": "stderr",
     "output_type": "stream",
     "text": [
      "\n"
     ]
    },
    {
     "name": "stdout",
     "output_type": "stream",
     "text": [
      "\n",
      "      Epoch    GPU_mem   box_loss   cls_loss   dfl_loss  Instances       Size\n"
     ]
    },
    {
     "name": "stderr",
     "output_type": "stream",
     "text": [
      "      25/50         0G        2.1      1.766      1.427          7        320: 100%|██████████| 364/364 [03:37<00:00,  1.67it/s]\n",
      "                 Class     Images  Instances      Box(P          R      mAP50  mAP50-95): 100%|██████████| 51/51 [00:23<00:00,  2.14it/s]"
     ]
    },
    {
     "name": "stdout",
     "output_type": "stream",
     "text": [
      "                   all        810        865      0.544      0.518      0.488      0.195\n"
     ]
    },
    {
     "name": "stderr",
     "output_type": "stream",
     "text": [
      "\n"
     ]
    },
    {
     "name": "stdout",
     "output_type": "stream",
     "text": [
      "\n",
      "      Epoch    GPU_mem   box_loss   cls_loss   dfl_loss  Instances       Size\n"
     ]
    },
    {
     "name": "stderr",
     "output_type": "stream",
     "text": [
      "      26/50         0G      2.069      1.691      1.408         19        320: 100%|██████████| 364/364 [03:40<00:00,  1.65it/s]\n",
      "                 Class     Images  Instances      Box(P          R      mAP50  mAP50-95): 100%|██████████| 51/51 [00:24<00:00,  2.12it/s]"
     ]
    },
    {
     "name": "stdout",
     "output_type": "stream",
     "text": [
      "                   all        810        865      0.514      0.529      0.469       0.19\n"
     ]
    },
    {
     "name": "stderr",
     "output_type": "stream",
     "text": [
      "\n"
     ]
    },
    {
     "name": "stdout",
     "output_type": "stream",
     "text": [
      "\n",
      "      Epoch    GPU_mem   box_loss   cls_loss   dfl_loss  Instances       Size\n"
     ]
    },
    {
     "name": "stderr",
     "output_type": "stream",
     "text": [
      "      27/50         0G      2.051      1.665      1.418         13        320: 100%|██████████| 364/364 [03:40<00:00,  1.65it/s]\n",
      "                 Class     Images  Instances      Box(P          R      mAP50  mAP50-95): 100%|██████████| 51/51 [00:24<00:00,  2.11it/s]"
     ]
    },
    {
     "name": "stdout",
     "output_type": "stream",
     "text": [
      "                   all        810        865      0.533      0.517      0.482      0.194\n"
     ]
    },
    {
     "name": "stderr",
     "output_type": "stream",
     "text": [
      "\n"
     ]
    },
    {
     "name": "stdout",
     "output_type": "stream",
     "text": [
      "\n",
      "      Epoch    GPU_mem   box_loss   cls_loss   dfl_loss  Instances       Size\n"
     ]
    },
    {
     "name": "stderr",
     "output_type": "stream",
     "text": [
      "      28/50         0G      2.066      1.685      1.422          9        320: 100%|██████████| 364/364 [03:41<00:00,  1.65it/s]\n",
      "                 Class     Images  Instances      Box(P          R      mAP50  mAP50-95): 100%|██████████| 51/51 [00:23<00:00,  2.14it/s]"
     ]
    },
    {
     "name": "stdout",
     "output_type": "stream",
     "text": [
      "                   all        810        865      0.569      0.496      0.495      0.193\n"
     ]
    },
    {
     "name": "stderr",
     "output_type": "stream",
     "text": [
      "\n"
     ]
    },
    {
     "name": "stdout",
     "output_type": "stream",
     "text": [
      "\n",
      "      Epoch    GPU_mem   box_loss   cls_loss   dfl_loss  Instances       Size\n"
     ]
    },
    {
     "name": "stderr",
     "output_type": "stream",
     "text": [
      "      29/50         0G      2.049      1.661      1.405         13        320: 100%|██████████| 364/364 [03:46<00:00,  1.61it/s]\n",
      "                 Class     Images  Instances      Box(P          R      mAP50  mAP50-95): 100%|██████████| 51/51 [00:24<00:00,  2.11it/s]"
     ]
    },
    {
     "name": "stdout",
     "output_type": "stream",
     "text": [
      "                   all        810        865      0.489      0.503       0.46      0.193\n"
     ]
    },
    {
     "name": "stderr",
     "output_type": "stream",
     "text": [
      "\n"
     ]
    },
    {
     "name": "stdout",
     "output_type": "stream",
     "text": [
      "\n",
      "      Epoch    GPU_mem   box_loss   cls_loss   dfl_loss  Instances       Size\n"
     ]
    },
    {
     "name": "stderr",
     "output_type": "stream",
     "text": [
      "      30/50         0G      2.044      1.649      1.397          6        320: 100%|██████████| 364/364 [03:40<00:00,  1.65it/s]\n",
      "                 Class     Images  Instances      Box(P          R      mAP50  mAP50-95): 100%|██████████| 51/51 [00:23<00:00,  2.14it/s]"
     ]
    },
    {
     "name": "stdout",
     "output_type": "stream",
     "text": [
      "                   all        810        865      0.573      0.534      0.515      0.211\n"
     ]
    },
    {
     "name": "stderr",
     "output_type": "stream",
     "text": [
      "\n"
     ]
    },
    {
     "name": "stdout",
     "output_type": "stream",
     "text": [
      "\n",
      "      Epoch    GPU_mem   box_loss   cls_loss   dfl_loss  Instances       Size\n"
     ]
    },
    {
     "name": "stderr",
     "output_type": "stream",
     "text": [
      "      31/50         0G      2.018      1.609      1.385          8        320: 100%|██████████| 364/364 [03:41<00:00,  1.64it/s]\n",
      "                 Class     Images  Instances      Box(P          R      mAP50  mAP50-95): 100%|██████████| 51/51 [00:25<00:00,  2.01it/s]"
     ]
    },
    {
     "name": "stdout",
     "output_type": "stream",
     "text": [
      "                   all        810        865      0.602      0.524      0.522      0.212\n"
     ]
    },
    {
     "name": "stderr",
     "output_type": "stream",
     "text": [
      "\n"
     ]
    },
    {
     "name": "stdout",
     "output_type": "stream",
     "text": [
      "\n",
      "      Epoch    GPU_mem   box_loss   cls_loss   dfl_loss  Instances       Size\n"
     ]
    },
    {
     "name": "stderr",
     "output_type": "stream",
     "text": [
      "      32/50         0G      2.028      1.606      1.392          7        320: 100%|██████████| 364/364 [03:40<00:00,  1.65it/s]\n",
      "                 Class     Images  Instances      Box(P          R      mAP50  mAP50-95): 100%|██████████| 51/51 [00:24<00:00,  2.10it/s]"
     ]
    },
    {
     "name": "stdout",
     "output_type": "stream",
     "text": [
      "                   all        810        865      0.566      0.525      0.493      0.207\n"
     ]
    },
    {
     "name": "stderr",
     "output_type": "stream",
     "text": [
      "\n"
     ]
    },
    {
     "name": "stdout",
     "output_type": "stream",
     "text": [
      "\n",
      "      Epoch    GPU_mem   box_loss   cls_loss   dfl_loss  Instances       Size\n"
     ]
    },
    {
     "name": "stderr",
     "output_type": "stream",
     "text": [
      "      33/50         0G      2.031      1.598      1.381          8        320: 100%|██████████| 364/364 [03:39<00:00,  1.66it/s]\n",
      "                 Class     Images  Instances      Box(P          R      mAP50  mAP50-95): 100%|██████████| 51/51 [00:23<00:00,  2.21it/s]"
     ]
    },
    {
     "name": "stdout",
     "output_type": "stream",
     "text": [
      "                   all        810        865      0.613      0.538      0.539      0.222\n"
     ]
    },
    {
     "name": "stderr",
     "output_type": "stream",
     "text": [
      "\n"
     ]
    },
    {
     "name": "stdout",
     "output_type": "stream",
     "text": [
      "\n",
      "      Epoch    GPU_mem   box_loss   cls_loss   dfl_loss  Instances       Size\n"
     ]
    },
    {
     "name": "stderr",
     "output_type": "stream",
     "text": [
      "      34/50         0G      1.965      1.552      1.368          8        320: 100%|██████████| 364/364 [03:41<00:00,  1.65it/s]\n",
      "                 Class     Images  Instances      Box(P          R      mAP50  mAP50-95): 100%|██████████| 51/51 [00:24<00:00,  2.09it/s]"
     ]
    },
    {
     "name": "stdout",
     "output_type": "stream",
     "text": [
      "                   all        810        865      0.635       0.54      0.544      0.232\n"
     ]
    },
    {
     "name": "stderr",
     "output_type": "stream",
     "text": [
      "\n"
     ]
    },
    {
     "name": "stdout",
     "output_type": "stream",
     "text": [
      "\n",
      "      Epoch    GPU_mem   box_loss   cls_loss   dfl_loss  Instances       Size\n"
     ]
    },
    {
     "name": "stderr",
     "output_type": "stream",
     "text": [
      "      35/50         0G      1.997      1.563      1.378         10        320: 100%|██████████| 364/364 [03:37<00:00,  1.68it/s]\n",
      "                 Class     Images  Instances      Box(P          R      mAP50  mAP50-95): 100%|██████████| 51/51 [00:23<00:00,  2.14it/s]"
     ]
    },
    {
     "name": "stdout",
     "output_type": "stream",
     "text": [
      "                   all        810        865      0.577      0.532      0.509      0.205\n"
     ]
    },
    {
     "name": "stderr",
     "output_type": "stream",
     "text": [
      "\n"
     ]
    },
    {
     "name": "stdout",
     "output_type": "stream",
     "text": [
      "\n",
      "      Epoch    GPU_mem   box_loss   cls_loss   dfl_loss  Instances       Size\n"
     ]
    },
    {
     "name": "stderr",
     "output_type": "stream",
     "text": [
      "      36/50         0G      1.965      1.536      1.368          9        320: 100%|██████████| 364/364 [03:39<00:00,  1.66it/s]\n",
      "                 Class     Images  Instances      Box(P          R      mAP50  mAP50-95): 100%|██████████| 51/51 [00:24<00:00,  2.11it/s]"
     ]
    },
    {
     "name": "stdout",
     "output_type": "stream",
     "text": [
      "                   all        810        865      0.644       0.52      0.552      0.234\n"
     ]
    },
    {
     "name": "stderr",
     "output_type": "stream",
     "text": [
      "\n"
     ]
    },
    {
     "name": "stdout",
     "output_type": "stream",
     "text": [
      "\n",
      "      Epoch    GPU_mem   box_loss   cls_loss   dfl_loss  Instances       Size\n"
     ]
    },
    {
     "name": "stderr",
     "output_type": "stream",
     "text": [
      "      37/50         0G      1.917      1.488      1.321         11        320: 100%|██████████| 364/364 [03:37<00:00,  1.67it/s]\n",
      "                 Class     Images  Instances      Box(P          R      mAP50  mAP50-95): 100%|██████████| 51/51 [00:23<00:00,  2.18it/s]"
     ]
    },
    {
     "name": "stdout",
     "output_type": "stream",
     "text": [
      "                   all        810        865      0.636      0.566      0.569      0.236\n"
     ]
    },
    {
     "name": "stderr",
     "output_type": "stream",
     "text": [
      "\n"
     ]
    },
    {
     "name": "stdout",
     "output_type": "stream",
     "text": [
      "\n",
      "      Epoch    GPU_mem   box_loss   cls_loss   dfl_loss  Instances       Size\n"
     ]
    },
    {
     "name": "stderr",
     "output_type": "stream",
     "text": [
      "      38/50         0G      1.949      1.511      1.339          5        320: 100%|██████████| 364/364 [03:37<00:00,  1.67it/s]\n",
      "                 Class     Images  Instances      Box(P          R      mAP50  mAP50-95): 100%|██████████| 51/51 [00:23<00:00,  2.14it/s]"
     ]
    },
    {
     "name": "stdout",
     "output_type": "stream",
     "text": [
      "                   all        810        865      0.638      0.561      0.558      0.232\n"
     ]
    },
    {
     "name": "stderr",
     "output_type": "stream",
     "text": [
      "\n"
     ]
    },
    {
     "name": "stdout",
     "output_type": "stream",
     "text": [
      "\n",
      "      Epoch    GPU_mem   box_loss   cls_loss   dfl_loss  Instances       Size\n"
     ]
    },
    {
     "name": "stderr",
     "output_type": "stream",
     "text": [
      "      39/50         0G      1.965       1.51      1.331          8        320: 100%|██████████| 364/364 [03:38<00:00,  1.66it/s]\n",
      "                 Class     Images  Instances      Box(P          R      mAP50  mAP50-95): 100%|██████████| 51/51 [00:23<00:00,  2.17it/s]"
     ]
    },
    {
     "name": "stdout",
     "output_type": "stream",
     "text": [
      "                   all        810        865      0.606      0.554      0.537      0.235\n"
     ]
    },
    {
     "name": "stderr",
     "output_type": "stream",
     "text": [
      "\n"
     ]
    },
    {
     "name": "stdout",
     "output_type": "stream",
     "text": [
      "\n",
      "      Epoch    GPU_mem   box_loss   cls_loss   dfl_loss  Instances       Size\n"
     ]
    },
    {
     "name": "stderr",
     "output_type": "stream",
     "text": [
      "      40/50         0G      1.901      1.457      1.326         10        320: 100%|██████████| 364/364 [03:39<00:00,  1.66it/s]\n",
      "                 Class     Images  Instances      Box(P          R      mAP50  mAP50-95): 100%|██████████| 51/51 [00:22<00:00,  2.26it/s]"
     ]
    },
    {
     "name": "stdout",
     "output_type": "stream",
     "text": [
      "                   all        810        865       0.64      0.536      0.539      0.231\n"
     ]
    },
    {
     "name": "stderr",
     "output_type": "stream",
     "text": [
      "\n"
     ]
    },
    {
     "name": "stdout",
     "output_type": "stream",
     "text": [
      "Closing dataloader mosaic\n",
      "\n",
      "      Epoch    GPU_mem   box_loss   cls_loss   dfl_loss  Instances       Size\n"
     ]
    },
    {
     "name": "stderr",
     "output_type": "stream",
     "text": [
      "      41/50         0G      1.933      1.376      1.376          6        320: 100%|██████████| 364/364 [03:40<00:00,  1.65it/s]\n",
      "                 Class     Images  Instances      Box(P          R      mAP50  mAP50-95): 100%|██████████| 51/51 [00:24<00:00,  2.11it/s]"
     ]
    },
    {
     "name": "stdout",
     "output_type": "stream",
     "text": [
      "                   all        810        865      0.677      0.549       0.57      0.246\n"
     ]
    },
    {
     "name": "stderr",
     "output_type": "stream",
     "text": [
      "\n"
     ]
    },
    {
     "name": "stdout",
     "output_type": "stream",
     "text": [
      "\n",
      "      Epoch    GPU_mem   box_loss   cls_loss   dfl_loss  Instances       Size\n"
     ]
    },
    {
     "name": "stderr",
     "output_type": "stream",
     "text": [
      "      42/50         0G      1.888      1.337      1.336          6        320: 100%|██████████| 364/364 [03:37<00:00,  1.68it/s]\n",
      "                 Class     Images  Instances      Box(P          R      mAP50  mAP50-95): 100%|██████████| 51/51 [00:23<00:00,  2.19it/s]"
     ]
    },
    {
     "name": "stdout",
     "output_type": "stream",
     "text": [
      "                   all        810        865      0.613      0.567      0.567      0.247\n"
     ]
    },
    {
     "name": "stderr",
     "output_type": "stream",
     "text": [
      "\n"
     ]
    },
    {
     "name": "stdout",
     "output_type": "stream",
     "text": [
      "\n",
      "      Epoch    GPU_mem   box_loss   cls_loss   dfl_loss  Instances       Size\n"
     ]
    },
    {
     "name": "stderr",
     "output_type": "stream",
     "text": [
      "      43/50         0G      1.889      1.308       1.34          7        320: 100%|██████████| 364/364 [03:36<00:00,  1.68it/s]\n",
      "                 Class     Images  Instances      Box(P          R      mAP50  mAP50-95): 100%|██████████| 51/51 [00:23<00:00,  2.13it/s]"
     ]
    },
    {
     "name": "stdout",
     "output_type": "stream",
     "text": [
      "                   all        810        865      0.626      0.554      0.568      0.253\n"
     ]
    },
    {
     "name": "stderr",
     "output_type": "stream",
     "text": [
      "\n"
     ]
    },
    {
     "name": "stdout",
     "output_type": "stream",
     "text": [
      "\n",
      "      Epoch    GPU_mem   box_loss   cls_loss   dfl_loss  Instances       Size\n"
     ]
    },
    {
     "name": "stderr",
     "output_type": "stream",
     "text": [
      "      44/50         0G      1.872      1.284      1.326          6        320: 100%|██████████| 364/364 [03:33<00:00,  1.70it/s]\n",
      "                 Class     Images  Instances      Box(P          R      mAP50  mAP50-95): 100%|██████████| 51/51 [00:22<00:00,  2.25it/s]"
     ]
    },
    {
     "name": "stdout",
     "output_type": "stream",
     "text": [
      "                   all        810        865      0.639      0.576      0.569      0.256\n"
     ]
    },
    {
     "name": "stderr",
     "output_type": "stream",
     "text": [
      "\n"
     ]
    },
    {
     "name": "stdout",
     "output_type": "stream",
     "text": [
      "\n",
      "      Epoch    GPU_mem   box_loss   cls_loss   dfl_loss  Instances       Size\n"
     ]
    },
    {
     "name": "stderr",
     "output_type": "stream",
     "text": [
      "      45/50         0G      1.882      1.262      1.336          6        320: 100%|██████████| 364/364 [03:35<00:00,  1.69it/s]\n",
      "                 Class     Images  Instances      Box(P          R      mAP50  mAP50-95): 100%|██████████| 51/51 [00:23<00:00,  2.18it/s]"
     ]
    },
    {
     "name": "stdout",
     "output_type": "stream",
     "text": [
      "                   all        810        865      0.616      0.549      0.567      0.253\n"
     ]
    },
    {
     "name": "stderr",
     "output_type": "stream",
     "text": [
      "\n"
     ]
    },
    {
     "name": "stdout",
     "output_type": "stream",
     "text": [
      "\n",
      "      Epoch    GPU_mem   box_loss   cls_loss   dfl_loss  Instances       Size\n"
     ]
    },
    {
     "name": "stderr",
     "output_type": "stream",
     "text": [
      "      46/50         0G      1.861      1.257       1.33          6        320: 100%|██████████| 364/364 [03:33<00:00,  1.70it/s]\n",
      "                 Class     Images  Instances      Box(P          R      mAP50  mAP50-95): 100%|██████████| 51/51 [00:22<00:00,  2.24it/s]"
     ]
    },
    {
     "name": "stdout",
     "output_type": "stream",
     "text": [
      "                   all        810        865      0.676      0.552      0.577       0.26\n"
     ]
    },
    {
     "name": "stderr",
     "output_type": "stream",
     "text": [
      "\n"
     ]
    },
    {
     "name": "stdout",
     "output_type": "stream",
     "text": [
      "\n",
      "      Epoch    GPU_mem   box_loss   cls_loss   dfl_loss  Instances       Size\n"
     ]
    },
    {
     "name": "stderr",
     "output_type": "stream",
     "text": [
      "      47/50         0G      1.847      1.245      1.312          8        320: 100%|██████████| 364/364 [03:32<00:00,  1.71it/s]\n",
      "                 Class     Images  Instances      Box(P          R      mAP50  mAP50-95): 100%|██████████| 51/51 [00:23<00:00,  2.17it/s]"
     ]
    },
    {
     "name": "stdout",
     "output_type": "stream",
     "text": [
      "                   all        810        865      0.677      0.565      0.589      0.259\n"
     ]
    },
    {
     "name": "stderr",
     "output_type": "stream",
     "text": [
      "\n"
     ]
    },
    {
     "name": "stdout",
     "output_type": "stream",
     "text": [
      "\n",
      "      Epoch    GPU_mem   box_loss   cls_loss   dfl_loss  Instances       Size\n"
     ]
    },
    {
     "name": "stderr",
     "output_type": "stream",
     "text": [
      "      48/50         0G      1.848      1.231      1.313          6        320: 100%|██████████| 364/364 [03:58<00:00,  1.52it/s]\n",
      "                 Class     Images  Instances      Box(P          R      mAP50  mAP50-95): 100%|██████████| 51/51 [00:31<00:00,  1.62it/s]"
     ]
    },
    {
     "name": "stdout",
     "output_type": "stream",
     "text": [
      "                   all        810        865      0.672      0.567      0.595      0.263\n"
     ]
    },
    {
     "name": "stderr",
     "output_type": "stream",
     "text": [
      "\n"
     ]
    },
    {
     "name": "stdout",
     "output_type": "stream",
     "text": [
      "\n",
      "      Epoch    GPU_mem   box_loss   cls_loss   dfl_loss  Instances       Size\n"
     ]
    },
    {
     "name": "stderr",
     "output_type": "stream",
     "text": [
      "      49/50         0G      1.832      1.209      1.304          7        320: 100%|██████████| 364/364 [03:51<00:00,  1.58it/s]\n",
      "                 Class     Images  Instances      Box(P          R      mAP50  mAP50-95): 100%|██████████| 51/51 [00:24<00:00,  2.12it/s]"
     ]
    },
    {
     "name": "stdout",
     "output_type": "stream",
     "text": [
      "                   all        810        865      0.665      0.568      0.595      0.269\n"
     ]
    },
    {
     "name": "stderr",
     "output_type": "stream",
     "text": [
      "\n"
     ]
    },
    {
     "name": "stdout",
     "output_type": "stream",
     "text": [
      "\n",
      "      Epoch    GPU_mem   box_loss   cls_loss   dfl_loss  Instances       Size\n"
     ]
    },
    {
     "name": "stderr",
     "output_type": "stream",
     "text": [
      "      50/50         0G      1.811      1.205      1.282          7        320: 100%|██████████| 364/364 [03:34<00:00,  1.69it/s]\n",
      "                 Class     Images  Instances      Box(P          R      mAP50  mAP50-95): 100%|██████████| 51/51 [00:22<00:00,  2.23it/s]"
     ]
    },
    {
     "name": "stdout",
     "output_type": "stream",
     "text": [
      "                   all        810        865      0.655      0.563      0.586      0.267\n"
     ]
    },
    {
     "name": "stderr",
     "output_type": "stream",
     "text": [
      "\n"
     ]
    },
    {
     "name": "stdout",
     "output_type": "stream",
     "text": [
      "\n",
      "50 epochs completed in 3.542 hours.\n",
      "Optimizer stripped from c:\\Users\\shihy\\runs\\detect\\train14\\weights\\last.pt, 6.2MB\n",
      "Optimizer stripped from c:\\Users\\shihy\\runs\\detect\\train14\\weights\\best.pt, 6.2MB\n",
      "\n",
      "Validating c:\\Users\\shihy\\runs\\detect\\train14\\weights\\best.pt...\n",
      "Ultralytics 8.3.59  Python-3.12.8 torch-2.5.1+cpu CPU (12th Gen Intel Core(TM) i5-1240P)\n",
      "Model summary (fused): 168 layers, 3,005,843 parameters, 0 gradients, 8.1 GFLOPs\n"
     ]
    },
    {
     "name": "stderr",
     "output_type": "stream",
     "text": [
      "                 Class     Images  Instances      Box(P          R      mAP50  mAP50-95): 100%|██████████| 51/51 [00:20<00:00,  2.49it/s]\n"
     ]
    },
    {
     "name": "stdout",
     "output_type": "stream",
     "text": [
      "                   all        810        865      0.665      0.566      0.593      0.269\n",
      "Speed: 0.2ms preprocess, 17.9ms inference, 0.0ms loss, 0.5ms postprocess per image\n",
      "Results saved to \u001b[1mc:\\Users\\shihy\\runs\\detect\\train14\u001b[0m\n"
     ]
    },
    {
     "data": {
      "text/plain": [
       "ultralytics.utils.metrics.DetMetrics object with attributes:\n",
       "\n",
       "ap_class_index: array([0])\n",
       "box: ultralytics.utils.metrics.Metric object\n",
       "confusion_matrix: <ultralytics.utils.metrics.ConfusionMatrix object at 0x000001AB3C646720>\n",
       "curves: ['Precision-Recall(B)', 'F1-Confidence(B)', 'Precision-Confidence(B)', 'Recall-Confidence(B)']\n",
       "curves_results: [[array([          0,    0.001001,    0.002002,    0.003003,    0.004004,    0.005005,    0.006006,    0.007007,    0.008008,    0.009009,     0.01001,    0.011011,    0.012012,    0.013013,    0.014014,    0.015015,    0.016016,    0.017017,    0.018018,    0.019019,     0.02002,    0.021021,    0.022022,    0.023023,\n",
       "          0.024024,    0.025025,    0.026026,    0.027027,    0.028028,    0.029029,     0.03003,    0.031031,    0.032032,    0.033033,    0.034034,    0.035035,    0.036036,    0.037037,    0.038038,    0.039039,     0.04004,    0.041041,    0.042042,    0.043043,    0.044044,    0.045045,    0.046046,    0.047047,\n",
       "          0.048048,    0.049049,     0.05005,    0.051051,    0.052052,    0.053053,    0.054054,    0.055055,    0.056056,    0.057057,    0.058058,    0.059059,     0.06006,    0.061061,    0.062062,    0.063063,    0.064064,    0.065065,    0.066066,    0.067067,    0.068068,    0.069069,     0.07007,    0.071071,\n",
       "          0.072072,    0.073073,    0.074074,    0.075075,    0.076076,    0.077077,    0.078078,    0.079079,     0.08008,    0.081081,    0.082082,    0.083083,    0.084084,    0.085085,    0.086086,    0.087087,    0.088088,    0.089089,     0.09009,    0.091091,    0.092092,    0.093093,    0.094094,    0.095095,\n",
       "          0.096096,    0.097097,    0.098098,    0.099099,      0.1001,      0.1011,      0.1021,      0.1031,      0.1041,     0.10511,     0.10611,     0.10711,     0.10811,     0.10911,     0.11011,     0.11111,     0.11211,     0.11311,     0.11411,     0.11512,     0.11612,     0.11712,     0.11812,     0.11912,\n",
       "           0.12012,     0.12112,     0.12212,     0.12312,     0.12412,     0.12513,     0.12613,     0.12713,     0.12813,     0.12913,     0.13013,     0.13113,     0.13213,     0.13313,     0.13413,     0.13514,     0.13614,     0.13714,     0.13814,     0.13914,     0.14014,     0.14114,     0.14214,     0.14314,\n",
       "           0.14414,     0.14515,     0.14615,     0.14715,     0.14815,     0.14915,     0.15015,     0.15115,     0.15215,     0.15315,     0.15415,     0.15516,     0.15616,     0.15716,     0.15816,     0.15916,     0.16016,     0.16116,     0.16216,     0.16316,     0.16416,     0.16517,     0.16617,     0.16717,\n",
       "           0.16817,     0.16917,     0.17017,     0.17117,     0.17217,     0.17317,     0.17417,     0.17518,     0.17618,     0.17718,     0.17818,     0.17918,     0.18018,     0.18118,     0.18218,     0.18318,     0.18418,     0.18519,     0.18619,     0.18719,     0.18819,     0.18919,     0.19019,     0.19119,\n",
       "           0.19219,     0.19319,     0.19419,      0.1952,      0.1962,      0.1972,      0.1982,      0.1992,      0.2002,      0.2012,      0.2022,      0.2032,      0.2042,     0.20521,     0.20621,     0.20721,     0.20821,     0.20921,     0.21021,     0.21121,     0.21221,     0.21321,     0.21421,     0.21522,\n",
       "           0.21622,     0.21722,     0.21822,     0.21922,     0.22022,     0.22122,     0.22222,     0.22322,     0.22422,     0.22523,     0.22623,     0.22723,     0.22823,     0.22923,     0.23023,     0.23123,     0.23223,     0.23323,     0.23423,     0.23524,     0.23624,     0.23724,     0.23824,     0.23924,\n",
       "           0.24024,     0.24124,     0.24224,     0.24324,     0.24424,     0.24525,     0.24625,     0.24725,     0.24825,     0.24925,     0.25025,     0.25125,     0.25225,     0.25325,     0.25425,     0.25526,     0.25626,     0.25726,     0.25826,     0.25926,     0.26026,     0.26126,     0.26226,     0.26326,\n",
       "           0.26426,     0.26527,     0.26627,     0.26727,     0.26827,     0.26927,     0.27027,     0.27127,     0.27227,     0.27327,     0.27427,     0.27528,     0.27628,     0.27728,     0.27828,     0.27928,     0.28028,     0.28128,     0.28228,     0.28328,     0.28428,     0.28529,     0.28629,     0.28729,\n",
       "           0.28829,     0.28929,     0.29029,     0.29129,     0.29229,     0.29329,     0.29429,      0.2953,      0.2963,      0.2973,      0.2983,      0.2993,      0.3003,      0.3013,      0.3023,      0.3033,      0.3043,     0.30531,     0.30631,     0.30731,     0.30831,     0.30931,     0.31031,     0.31131,\n",
       "           0.31231,     0.31331,     0.31431,     0.31532,     0.31632,     0.31732,     0.31832,     0.31932,     0.32032,     0.32132,     0.32232,     0.32332,     0.32432,     0.32533,     0.32633,     0.32733,     0.32833,     0.32933,     0.33033,     0.33133,     0.33233,     0.33333,     0.33433,     0.33534,\n",
       "           0.33634,     0.33734,     0.33834,     0.33934,     0.34034,     0.34134,     0.34234,     0.34334,     0.34434,     0.34535,     0.34635,     0.34735,     0.34835,     0.34935,     0.35035,     0.35135,     0.35235,     0.35335,     0.35435,     0.35536,     0.35636,     0.35736,     0.35836,     0.35936,\n",
       "           0.36036,     0.36136,     0.36236,     0.36336,     0.36436,     0.36537,     0.36637,     0.36737,     0.36837,     0.36937,     0.37037,     0.37137,     0.37237,     0.37337,     0.37437,     0.37538,     0.37638,     0.37738,     0.37838,     0.37938,     0.38038,     0.38138,     0.38238,     0.38338,\n",
       "           0.38438,     0.38539,     0.38639,     0.38739,     0.38839,     0.38939,     0.39039,     0.39139,     0.39239,     0.39339,     0.39439,      0.3954,      0.3964,      0.3974,      0.3984,      0.3994,      0.4004,      0.4014,      0.4024,      0.4034,      0.4044,     0.40541,     0.40641,     0.40741,\n",
       "           0.40841,     0.40941,     0.41041,     0.41141,     0.41241,     0.41341,     0.41441,     0.41542,     0.41642,     0.41742,     0.41842,     0.41942,     0.42042,     0.42142,     0.42242,     0.42342,     0.42442,     0.42543,     0.42643,     0.42743,     0.42843,     0.42943,     0.43043,     0.43143,\n",
       "           0.43243,     0.43343,     0.43443,     0.43544,     0.43644,     0.43744,     0.43844,     0.43944,     0.44044,     0.44144,     0.44244,     0.44344,     0.44444,     0.44545,     0.44645,     0.44745,     0.44845,     0.44945,     0.45045,     0.45145,     0.45245,     0.45345,     0.45445,     0.45546,\n",
       "           0.45646,     0.45746,     0.45846,     0.45946,     0.46046,     0.46146,     0.46246,     0.46346,     0.46446,     0.46547,     0.46647,     0.46747,     0.46847,     0.46947,     0.47047,     0.47147,     0.47247,     0.47347,     0.47447,     0.47548,     0.47648,     0.47748,     0.47848,     0.47948,\n",
       "           0.48048,     0.48148,     0.48248,     0.48348,     0.48448,     0.48549,     0.48649,     0.48749,     0.48849,     0.48949,     0.49049,     0.49149,     0.49249,     0.49349,     0.49449,      0.4955,      0.4965,      0.4975,      0.4985,      0.4995,      0.5005,      0.5015,      0.5025,      0.5035,\n",
       "            0.5045,     0.50551,     0.50651,     0.50751,     0.50851,     0.50951,     0.51051,     0.51151,     0.51251,     0.51351,     0.51451,     0.51552,     0.51652,     0.51752,     0.51852,     0.51952,     0.52052,     0.52152,     0.52252,     0.52352,     0.52452,     0.52553,     0.52653,     0.52753,\n",
       "           0.52853,     0.52953,     0.53053,     0.53153,     0.53253,     0.53353,     0.53453,     0.53554,     0.53654,     0.53754,     0.53854,     0.53954,     0.54054,     0.54154,     0.54254,     0.54354,     0.54454,     0.54555,     0.54655,     0.54755,     0.54855,     0.54955,     0.55055,     0.55155,\n",
       "           0.55255,     0.55355,     0.55455,     0.55556,     0.55656,     0.55756,     0.55856,     0.55956,     0.56056,     0.56156,     0.56256,     0.56356,     0.56456,     0.56557,     0.56657,     0.56757,     0.56857,     0.56957,     0.57057,     0.57157,     0.57257,     0.57357,     0.57457,     0.57558,\n",
       "           0.57658,     0.57758,     0.57858,     0.57958,     0.58058,     0.58158,     0.58258,     0.58358,     0.58458,     0.58559,     0.58659,     0.58759,     0.58859,     0.58959,     0.59059,     0.59159,     0.59259,     0.59359,     0.59459,      0.5956,      0.5966,      0.5976,      0.5986,      0.5996,\n",
       "            0.6006,      0.6016,      0.6026,      0.6036,      0.6046,     0.60561,     0.60661,     0.60761,     0.60861,     0.60961,     0.61061,     0.61161,     0.61261,     0.61361,     0.61461,     0.61562,     0.61662,     0.61762,     0.61862,     0.61962,     0.62062,     0.62162,     0.62262,     0.62362,\n",
       "           0.62462,     0.62563,     0.62663,     0.62763,     0.62863,     0.62963,     0.63063,     0.63163,     0.63263,     0.63363,     0.63463,     0.63564,     0.63664,     0.63764,     0.63864,     0.63964,     0.64064,     0.64164,     0.64264,     0.64364,     0.64464,     0.64565,     0.64665,     0.64765,\n",
       "           0.64865,     0.64965,     0.65065,     0.65165,     0.65265,     0.65365,     0.65465,     0.65566,     0.65666,     0.65766,     0.65866,     0.65966,     0.66066,     0.66166,     0.66266,     0.66366,     0.66466,     0.66567,     0.66667,     0.66767,     0.66867,     0.66967,     0.67067,     0.67167,\n",
       "           0.67267,     0.67367,     0.67467,     0.67568,     0.67668,     0.67768,     0.67868,     0.67968,     0.68068,     0.68168,     0.68268,     0.68368,     0.68468,     0.68569,     0.68669,     0.68769,     0.68869,     0.68969,     0.69069,     0.69169,     0.69269,     0.69369,     0.69469,      0.6957,\n",
       "            0.6967,      0.6977,      0.6987,      0.6997,      0.7007,      0.7017,      0.7027,      0.7037,      0.7047,     0.70571,     0.70671,     0.70771,     0.70871,     0.70971,     0.71071,     0.71171,     0.71271,     0.71371,     0.71471,     0.71572,     0.71672,     0.71772,     0.71872,     0.71972,\n",
       "           0.72072,     0.72172,     0.72272,     0.72372,     0.72472,     0.72573,     0.72673,     0.72773,     0.72873,     0.72973,     0.73073,     0.73173,     0.73273,     0.73373,     0.73473,     0.73574,     0.73674,     0.73774,     0.73874,     0.73974,     0.74074,     0.74174,     0.74274,     0.74374,\n",
       "           0.74474,     0.74575,     0.74675,     0.74775,     0.74875,     0.74975,     0.75075,     0.75175,     0.75275,     0.75375,     0.75475,     0.75576,     0.75676,     0.75776,     0.75876,     0.75976,     0.76076,     0.76176,     0.76276,     0.76376,     0.76476,     0.76577,     0.76677,     0.76777,\n",
       "           0.76877,     0.76977,     0.77077,     0.77177,     0.77277,     0.77377,     0.77477,     0.77578,     0.77678,     0.77778,     0.77878,     0.77978,     0.78078,     0.78178,     0.78278,     0.78378,     0.78478,     0.78579,     0.78679,     0.78779,     0.78879,     0.78979,     0.79079,     0.79179,\n",
       "           0.79279,     0.79379,     0.79479,      0.7958,      0.7968,      0.7978,      0.7988,      0.7998,      0.8008,      0.8018,      0.8028,      0.8038,      0.8048,     0.80581,     0.80681,     0.80781,     0.80881,     0.80981,     0.81081,     0.81181,     0.81281,     0.81381,     0.81481,     0.81582,\n",
       "           0.81682,     0.81782,     0.81882,     0.81982,     0.82082,     0.82182,     0.82282,     0.82382,     0.82482,     0.82583,     0.82683,     0.82783,     0.82883,     0.82983,     0.83083,     0.83183,     0.83283,     0.83383,     0.83483,     0.83584,     0.83684,     0.83784,     0.83884,     0.83984,\n",
       "           0.84084,     0.84184,     0.84284,     0.84384,     0.84484,     0.84585,     0.84685,     0.84785,     0.84885,     0.84985,     0.85085,     0.85185,     0.85285,     0.85385,     0.85485,     0.85586,     0.85686,     0.85786,     0.85886,     0.85986,     0.86086,     0.86186,     0.86286,     0.86386,\n",
       "           0.86486,     0.86587,     0.86687,     0.86787,     0.86887,     0.86987,     0.87087,     0.87187,     0.87287,     0.87387,     0.87487,     0.87588,     0.87688,     0.87788,     0.87888,     0.87988,     0.88088,     0.88188,     0.88288,     0.88388,     0.88488,     0.88589,     0.88689,     0.88789,\n",
       "           0.88889,     0.88989,     0.89089,     0.89189,     0.89289,     0.89389,     0.89489,      0.8959,      0.8969,      0.8979,      0.8989,      0.8999,      0.9009,      0.9019,      0.9029,      0.9039,      0.9049,     0.90591,     0.90691,     0.90791,     0.90891,     0.90991,     0.91091,     0.91191,\n",
       "           0.91291,     0.91391,     0.91491,     0.91592,     0.91692,     0.91792,     0.91892,     0.91992,     0.92092,     0.92192,     0.92292,     0.92392,     0.92492,     0.92593,     0.92693,     0.92793,     0.92893,     0.92993,     0.93093,     0.93193,     0.93293,     0.93393,     0.93493,     0.93594,\n",
       "           0.93694,     0.93794,     0.93894,     0.93994,     0.94094,     0.94194,     0.94294,     0.94394,     0.94494,     0.94595,     0.94695,     0.94795,     0.94895,     0.94995,     0.95095,     0.95195,     0.95295,     0.95395,     0.95495,     0.95596,     0.95696,     0.95796,     0.95896,     0.95996,\n",
       "           0.96096,     0.96196,     0.96296,     0.96396,     0.96496,     0.96597,     0.96697,     0.96797,     0.96897,     0.96997,     0.97097,     0.97197,     0.97297,     0.97397,     0.97497,     0.97598,     0.97698,     0.97798,     0.97898,     0.97998,     0.98098,     0.98198,     0.98298,     0.98398,\n",
       "           0.98498,     0.98599,     0.98699,     0.98799,     0.98899,     0.98999,     0.99099,     0.99199,     0.99299,     0.99399,     0.99499,       0.996,       0.997,       0.998,       0.999,           1]), array([[          1,           1,           1,           1,           1,           1,           1,           1,           1,           1,           1,           1,           1,           1,           1,           1,           1,           1,           1,           1,           1,           1,           1,\n",
       "                  1,           1,           1,           1,           1,           1,           1,           1,     0.97561,     0.97561,     0.97561,     0.97561,     0.97561,     0.97561,     0.97561,     0.97561,     0.97561,     0.97561,     0.97561,     0.97561,     0.97561,     0.97561,     0.97561,\n",
       "            0.97561,     0.96667,     0.96667,     0.96667,     0.96667,     0.96667,     0.96667,     0.96667,     0.96667,     0.96667,     0.96667,     0.96667,     0.96667,     0.96667,     0.96667,     0.96667,     0.96667,     0.96667,     0.96667,     0.96667,     0.96667,     0.95385,     0.95385,\n",
       "            0.95385,     0.95385,     0.95385,     0.94595,     0.94595,     0.94595,     0.94595,     0.94595,     0.94595,     0.94595,     0.94595,     0.94595,     0.94253,     0.94253,     0.94253,     0.94253,     0.94253,     0.94253,     0.94253,     0.94253,     0.94253,     0.94253,     0.94253,\n",
       "            0.94253,     0.94253,     0.94253,     0.93939,     0.93939,     0.93939,     0.93939,     0.93939,     0.93939,     0.93939,     0.93939,     0.93939,     0.93939,     0.93939,     0.93939,     0.93939,     0.93396,     0.93396,     0.93396,     0.93396,     0.93396,     0.93396,     0.93396,\n",
       "            0.93023,     0.93023,     0.93023,     0.93023,     0.93023,     0.93023,     0.93023,     0.93023,     0.93023,     0.93023,     0.93023,     0.93023,     0.93023,     0.93023,     0.93023,     0.93023,     0.93023,     0.93023,     0.93023,     0.93023,     0.93023,     0.93023,     0.93023,\n",
       "            0.93023,     0.92481,     0.92481,     0.92481,     0.92481,     0.91852,     0.91724,     0.91724,     0.91724,     0.91724,     0.91724,     0.91724,     0.91724,     0.91724,     0.91724,     0.91724,     0.91156,     0.91139,     0.91139,     0.91139,     0.91139,     0.91139,     0.91139,\n",
       "            0.91139,     0.91139,     0.91139,     0.91139,     0.91139,     0.91139,     0.90854,     0.90854,     0.90854,     0.90854,     0.90854,     0.90854,     0.90419,     0.90419,     0.89941,     0.89552,     0.89552,     0.89552,     0.89552,     0.89552,     0.89552,     0.89552,     0.89552,\n",
       "            0.89552,     0.89552,     0.89552,     0.89552,     0.89552,     0.89552,     0.89552,     0.89552,     0.89552,     0.89552,     0.89552,     0.89552,     0.89552,     0.89552,     0.89552,     0.89552,     0.89552,     0.89552,     0.89552,     0.89552,     0.89552,     0.89552,     0.89552,\n",
       "            0.89552,     0.89372,     0.89372,     0.89372,     0.89372,     0.89372,     0.89372,     0.89202,     0.89202,     0.89202,     0.89202,     0.89202,     0.89202,     0.88889,     0.88889,     0.88584,     0.88584,     0.88584,     0.88393,     0.88393,     0.88393,     0.88393,     0.88158,\n",
       "            0.88158,     0.88158,     0.88158,     0.87967,     0.87967,     0.87967,     0.87967,     0.87967,     0.87967,     0.87967,     0.87967,     0.87967,     0.87967,     0.87967,     0.87967,     0.87755,     0.87755,     0.87755,     0.87755,     0.87451,     0.87451,     0.87451,     0.87451,\n",
       "            0.87451,     0.87451,     0.87451,     0.87451,     0.87451,      0.8716,     0.86873,     0.86792,     0.86792,     0.86792,     0.86792,     0.86792,     0.86792,     0.86667,     0.86667,     0.86667,     0.86667,     0.86667,     0.86496,     0.86496,     0.86496,     0.86232,     0.85971,\n",
       "            0.85971,     0.85714,     0.85563,     0.85563,     0.85563,     0.85017,      0.8488,      0.8488,      0.8488,      0.8488,     0.84642,     0.84564,     0.84564,     0.84564,     0.84564,     0.84564,     0.84053,     0.84013,     0.84013,     0.84013,     0.84013,     0.84013,     0.84013,\n",
       "            0.84013,     0.84013,     0.84013,     0.84013,     0.84013,     0.84013,     0.84013,     0.84013,     0.84013,     0.84013,     0.84013,     0.83901,     0.83901,     0.83901,     0.83792,     0.83792,     0.83792,     0.83792,     0.83784,     0.83784,     0.83784,     0.83784,     0.83784,\n",
       "            0.83784,     0.83382,     0.83382,     0.83382,     0.83382,     0.83382,     0.83382,     0.83382,     0.83382,     0.83237,     0.83237,     0.83143,     0.83143,     0.83143,     0.83143,     0.82768,     0.82768,     0.82078,     0.82078,     0.82078,     0.82078,     0.82078,     0.82078,\n",
       "            0.82078,     0.82078,     0.82078,     0.82078,     0.82078,     0.82078,     0.82078,     0.82078,     0.82078,     0.82078,     0.82078,     0.82078,     0.82078,     0.82078,     0.82078,     0.82078,     0.82078,     0.82078,     0.82078,     0.82078,     0.81912,     0.81912,     0.81266,\n",
       "            0.81266,     0.81266,     0.81266,      0.8125,      0.8125,      0.8125,      0.8125,      0.8125,     0.81141,     0.81141,     0.81081,     0.81081,     0.81081,     0.81081,     0.81022,     0.81022,     0.81022,      0.8101,      0.8101,      0.8101,      0.8101,      0.8101,     0.80714,\n",
       "            0.80714,     0.80425,     0.80425,     0.80282,      0.8014,      0.8014,      0.7963,     0.79493,     0.79358,     0.79224,      0.7907,      0.7907,      0.7907,      0.7907,      0.7907,      0.7907,      0.7907,      0.7907,      0.7907,      0.7907,      0.7907,      0.7907,      0.7907,\n",
       "             0.7907,      0.7907,      0.7907,      0.7907,      0.7907,      0.7907,      0.7907,      0.7907,      0.7907,      0.7907,      0.7907,      0.7907,      0.7907,      0.7907,      0.7907,      0.7907,      0.7907,      0.7907,     0.78947,     0.78947,     0.78926,     0.78926,     0.78926,\n",
       "            0.78926,     0.78926,     0.78926,     0.78926,     0.78926,     0.78893,     0.78893,     0.78893,     0.78615,     0.78499,     0.78112,     0.78112,     0.78112,     0.78088,     0.78088,     0.78088,     0.77909,     0.77909,     0.77909,     0.77909,     0.77886,     0.77886,     0.77886,\n",
       "            0.77821,     0.77821,     0.77308,     0.77308,     0.77308,     0.77247,     0.77247,     0.76938,     0.76938,     0.76938,     0.76938,     0.76836,     0.76735,     0.76636,     0.76438,     0.76438,     0.75963,     0.75963,     0.75963,     0.75592,     0.75226,        0.75,     0.74956,\n",
       "            0.74956,     0.74956,     0.74956,     0.74956,     0.74956,     0.74824,     0.74824,     0.74824,     0.74737,      0.7465,      0.7465,     0.74479,     0.74479,     0.74266,     0.74182,     0.74061,     0.74061,     0.74061,     0.74061,     0.74024,     0.74024,     0.73986,     0.73986,\n",
       "            0.73658,     0.73658,     0.73579,      0.7352,      0.7352,      0.7352,      0.7352,      0.7352,      0.7352,      0.7352,      0.7352,     0.73443,     0.73409,     0.73409,     0.72859,     0.72756,     0.72756,     0.72756,     0.72756,     0.72222,     0.71924,     0.71073,     0.70943,\n",
       "            0.70943,     0.70943,     0.70769,      0.7032,      0.7032,     0.70045,     0.69774,      0.6963,      0.6963,      0.6963,      0.6963,      0.6963,      0.6963,      0.6963,     0.69501,     0.69501,     0.69501,     0.69501,     0.69501,     0.69343,     0.69231,     0.69231,     0.68678,\n",
       "            0.68678,     0.68526,     0.68474,     0.68421,     0.68272,     0.68028,     0.67692,     0.67643,     0.67643,      0.6685,     0.66712,     0.66621,     0.66621,     0.66577,     0.66577,     0.66577,     0.66577,     0.66577,     0.66577,        0.66,     0.65957,     0.65786,     0.65786,\n",
       "            0.65786,     0.65234,     0.65234,     0.65234,     0.63304,     0.62935,     0.62935,     0.62935,     0.62935,     0.62935,     0.62469,     0.62469,     0.62469,     0.62469,     0.62469,     0.62469,     0.62439,     0.62409,     0.62303,     0.62273,     0.62094,      0.6199,      0.6199,\n",
       "            0.61814,     0.61611,     0.61611,     0.61511,     0.61412,     0.60673,     0.60673,     0.60508,     0.60276,     0.60091,     0.60091,     0.59842,     0.59842,     0.59685,     0.59685,     0.59529,     0.59441,     0.58895,     0.58681,     0.58534,     0.58261,     0.58261,      0.5818,\n",
       "            0.57849,     0.57709,     0.57569,     0.57553,     0.57278,     0.57278,     0.57278,     0.56963,     0.56712,     0.55714,     0.55477,     0.55298,     0.55231,     0.55231,     0.54945,     0.54771,     0.54762,     0.54644,     0.54635,     0.53727,     0.53506,     0.53506,     0.53506,\n",
       "            0.53244,     0.53226,     0.53226,     0.53226,     0.52572,     0.52572,     0.52509,     0.52509,     0.52509,     0.52311,     0.52258,     0.52015,     0.51869,     0.51869,     0.51724,     0.51627,     0.51161,     0.51161,     0.51113,      0.5093,      0.5093,     0.50794,     0.50437,\n",
       "            0.50348,     0.49828,     0.49828,     0.49701,     0.49701,     0.49031,     0.47437,     0.46983,     0.46843,     0.46843,     0.46257,     0.45937,     0.45937,     0.45814,     0.45814,     0.45814,     0.45309,     0.45309,     0.45309,     0.45309,     0.45178,     0.44345,     0.43777,\n",
       "            0.43777,     0.43478,     0.43478,       0.433,       0.433,     0.43216,     0.41875,     0.41707,     0.41707,     0.41707,      0.4149,      0.4149,     0.41485,     0.41485,     0.40885,     0.40854,     0.40854,     0.40302,     0.40236,     0.40236,     0.39922,     0.39922,     0.39858,\n",
       "            0.39845,     0.39277,     0.38154,     0.38154,     0.38051,     0.37996,      0.3778,     0.37764,     0.37764,     0.37665,     0.37433,     0.37433,     0.36941,     0.36254,     0.35533,     0.35017,     0.34348,     0.34087,     0.34087,     0.33581,      0.3358,     0.33527,     0.32904,\n",
       "            0.32904,     0.32887,     0.32405,     0.32405,     0.32374,      0.3231,     0.31706,     0.31693,     0.31326,     0.31133,     0.31133,     0.30898,     0.30887,     0.30722,     0.30722,     0.30722,     0.30539,     0.30539,      0.2979,     0.29526,      0.2928,     0.29065,     0.28101,\n",
       "            0.27712,     0.27712,     0.27712,     0.27431,     0.27291,     0.26943,     0.26907,     0.26528,     0.26337,     0.26337,     0.26262,     0.25974,     0.24722,     0.24213,     0.23929,     0.23544,     0.23529,     0.23529,     0.23466,     0.22633,     0.21153,     0.20929,     0.20722,\n",
       "            0.20681,     0.20681,     0.20681,     0.20681,      0.2042,     0.20401,     0.19832,     0.19832,     0.19695,     0.19695,     0.18616,     0.18603,       0.185,      0.1768,     0.17424,     0.16841,     0.16841,     0.16164,     0.15042,     0.14829,     0.14253,     0.13923,     0.13424,\n",
       "            0.13369,     0.13369,     0.13279,     0.12925,     0.12766,     0.12181,     0.12104,     0.12065,     0.12065,     0.11805,      0.1165,     0.11389,     0.11276,     0.10853,    0.095469,    0.095079,    0.095079,    0.091859,    0.089069,    0.084728,    0.081176,    0.078047,    0.077791,\n",
       "           0.077791,    0.069161,    0.069161,    0.059172,    0.058075,    0.057714,    0.057582,    0.057582,    0.057433,    0.054891,    0.054871,    0.046789,    0.045187,    0.041848,    0.038616,    0.038616,    0.035809,    0.035634,    0.034445,     0.03422,    0.033994,    0.033769,    0.033544,\n",
       "           0.033319,    0.033094,    0.032869,    0.032644,    0.032418,    0.032193,    0.031968,    0.031743,    0.031518,    0.031293,    0.031068,    0.030843,    0.030617,    0.030392,    0.030167,    0.029942,    0.029717,    0.029492,    0.029267,    0.029042,    0.028816,    0.028591,    0.028366,\n",
       "           0.028141,    0.027916,    0.027691,    0.027466,    0.027241,    0.027015,     0.02679,    0.026565,     0.02634,    0.026115,     0.02589,    0.025665,     0.02544,    0.025214,    0.024989,    0.024764,    0.024539,    0.024314,    0.024089,    0.023864,    0.023638,    0.023413,    0.023188,\n",
       "           0.022963,    0.022738,    0.022513,    0.022288,    0.022063,    0.021837,    0.021612,    0.021387,    0.021162,    0.020937,    0.020712,    0.020487,    0.020262,    0.020036,    0.019811,    0.019586,    0.019361,    0.019136,    0.018911,    0.018686,    0.018461,    0.018235,     0.01801,\n",
       "           0.017785,     0.01756,    0.017335,     0.01711,    0.016885,    0.016659,    0.016434,    0.016209,    0.015984,    0.015759,    0.015534,    0.015309,    0.015084,    0.014858,    0.014633,    0.014408,    0.014183,    0.013958,    0.013733,    0.013508,    0.013283,    0.013057,    0.012832,\n",
       "           0.012607,    0.012382,    0.012157,    0.011932,    0.011707,    0.011482,    0.011256,    0.011031,    0.010806,    0.010581,    0.010356,    0.010131,   0.0099056,   0.0096805,   0.0094554,   0.0092303,   0.0090051,     0.00878,   0.0085549,   0.0083297,   0.0081046,   0.0078795,   0.0076544,\n",
       "          0.0074292,   0.0072041,    0.006979,   0.0067539,   0.0065287,   0.0063036,   0.0060785,   0.0058533,   0.0056282,   0.0054031,    0.005178,   0.0049528,   0.0047277,   0.0045026,   0.0042774,   0.0040523,   0.0038272,   0.0036021,   0.0033769,   0.0031518,   0.0029267,   0.0027015,   0.0024764,\n",
       "          0.0022513,   0.0020262,    0.001801,   0.0015759,   0.0013508,   0.0011256,  0.00090051,  0.00067539,  0.00045026,  0.00022513,           0]]), 'Recall', 'Precision'], [array([          0,    0.001001,    0.002002,    0.003003,    0.004004,    0.005005,    0.006006,    0.007007,    0.008008,    0.009009,     0.01001,    0.011011,    0.012012,    0.013013,    0.014014,    0.015015,    0.016016,    0.017017,    0.018018,    0.019019,     0.02002,    0.021021,    0.022022,    0.023023,\n",
       "          0.024024,    0.025025,    0.026026,    0.027027,    0.028028,    0.029029,     0.03003,    0.031031,    0.032032,    0.033033,    0.034034,    0.035035,    0.036036,    0.037037,    0.038038,    0.039039,     0.04004,    0.041041,    0.042042,    0.043043,    0.044044,    0.045045,    0.046046,    0.047047,\n",
       "          0.048048,    0.049049,     0.05005,    0.051051,    0.052052,    0.053053,    0.054054,    0.055055,    0.056056,    0.057057,    0.058058,    0.059059,     0.06006,    0.061061,    0.062062,    0.063063,    0.064064,    0.065065,    0.066066,    0.067067,    0.068068,    0.069069,     0.07007,    0.071071,\n",
       "          0.072072,    0.073073,    0.074074,    0.075075,    0.076076,    0.077077,    0.078078,    0.079079,     0.08008,    0.081081,    0.082082,    0.083083,    0.084084,    0.085085,    0.086086,    0.087087,    0.088088,    0.089089,     0.09009,    0.091091,    0.092092,    0.093093,    0.094094,    0.095095,\n",
       "          0.096096,    0.097097,    0.098098,    0.099099,      0.1001,      0.1011,      0.1021,      0.1031,      0.1041,     0.10511,     0.10611,     0.10711,     0.10811,     0.10911,     0.11011,     0.11111,     0.11211,     0.11311,     0.11411,     0.11512,     0.11612,     0.11712,     0.11812,     0.11912,\n",
       "           0.12012,     0.12112,     0.12212,     0.12312,     0.12412,     0.12513,     0.12613,     0.12713,     0.12813,     0.12913,     0.13013,     0.13113,     0.13213,     0.13313,     0.13413,     0.13514,     0.13614,     0.13714,     0.13814,     0.13914,     0.14014,     0.14114,     0.14214,     0.14314,\n",
       "           0.14414,     0.14515,     0.14615,     0.14715,     0.14815,     0.14915,     0.15015,     0.15115,     0.15215,     0.15315,     0.15415,     0.15516,     0.15616,     0.15716,     0.15816,     0.15916,     0.16016,     0.16116,     0.16216,     0.16316,     0.16416,     0.16517,     0.16617,     0.16717,\n",
       "           0.16817,     0.16917,     0.17017,     0.17117,     0.17217,     0.17317,     0.17417,     0.17518,     0.17618,     0.17718,     0.17818,     0.17918,     0.18018,     0.18118,     0.18218,     0.18318,     0.18418,     0.18519,     0.18619,     0.18719,     0.18819,     0.18919,     0.19019,     0.19119,\n",
       "           0.19219,     0.19319,     0.19419,      0.1952,      0.1962,      0.1972,      0.1982,      0.1992,      0.2002,      0.2012,      0.2022,      0.2032,      0.2042,     0.20521,     0.20621,     0.20721,     0.20821,     0.20921,     0.21021,     0.21121,     0.21221,     0.21321,     0.21421,     0.21522,\n",
       "           0.21622,     0.21722,     0.21822,     0.21922,     0.22022,     0.22122,     0.22222,     0.22322,     0.22422,     0.22523,     0.22623,     0.22723,     0.22823,     0.22923,     0.23023,     0.23123,     0.23223,     0.23323,     0.23423,     0.23524,     0.23624,     0.23724,     0.23824,     0.23924,\n",
       "           0.24024,     0.24124,     0.24224,     0.24324,     0.24424,     0.24525,     0.24625,     0.24725,     0.24825,     0.24925,     0.25025,     0.25125,     0.25225,     0.25325,     0.25425,     0.25526,     0.25626,     0.25726,     0.25826,     0.25926,     0.26026,     0.26126,     0.26226,     0.26326,\n",
       "           0.26426,     0.26527,     0.26627,     0.26727,     0.26827,     0.26927,     0.27027,     0.27127,     0.27227,     0.27327,     0.27427,     0.27528,     0.27628,     0.27728,     0.27828,     0.27928,     0.28028,     0.28128,     0.28228,     0.28328,     0.28428,     0.28529,     0.28629,     0.28729,\n",
       "           0.28829,     0.28929,     0.29029,     0.29129,     0.29229,     0.29329,     0.29429,      0.2953,      0.2963,      0.2973,      0.2983,      0.2993,      0.3003,      0.3013,      0.3023,      0.3033,      0.3043,     0.30531,     0.30631,     0.30731,     0.30831,     0.30931,     0.31031,     0.31131,\n",
       "           0.31231,     0.31331,     0.31431,     0.31532,     0.31632,     0.31732,     0.31832,     0.31932,     0.32032,     0.32132,     0.32232,     0.32332,     0.32432,     0.32533,     0.32633,     0.32733,     0.32833,     0.32933,     0.33033,     0.33133,     0.33233,     0.33333,     0.33433,     0.33534,\n",
       "           0.33634,     0.33734,     0.33834,     0.33934,     0.34034,     0.34134,     0.34234,     0.34334,     0.34434,     0.34535,     0.34635,     0.34735,     0.34835,     0.34935,     0.35035,     0.35135,     0.35235,     0.35335,     0.35435,     0.35536,     0.35636,     0.35736,     0.35836,     0.35936,\n",
       "           0.36036,     0.36136,     0.36236,     0.36336,     0.36436,     0.36537,     0.36637,     0.36737,     0.36837,     0.36937,     0.37037,     0.37137,     0.37237,     0.37337,     0.37437,     0.37538,     0.37638,     0.37738,     0.37838,     0.37938,     0.38038,     0.38138,     0.38238,     0.38338,\n",
       "           0.38438,     0.38539,     0.38639,     0.38739,     0.38839,     0.38939,     0.39039,     0.39139,     0.39239,     0.39339,     0.39439,      0.3954,      0.3964,      0.3974,      0.3984,      0.3994,      0.4004,      0.4014,      0.4024,      0.4034,      0.4044,     0.40541,     0.40641,     0.40741,\n",
       "           0.40841,     0.40941,     0.41041,     0.41141,     0.41241,     0.41341,     0.41441,     0.41542,     0.41642,     0.41742,     0.41842,     0.41942,     0.42042,     0.42142,     0.42242,     0.42342,     0.42442,     0.42543,     0.42643,     0.42743,     0.42843,     0.42943,     0.43043,     0.43143,\n",
       "           0.43243,     0.43343,     0.43443,     0.43544,     0.43644,     0.43744,     0.43844,     0.43944,     0.44044,     0.44144,     0.44244,     0.44344,     0.44444,     0.44545,     0.44645,     0.44745,     0.44845,     0.44945,     0.45045,     0.45145,     0.45245,     0.45345,     0.45445,     0.45546,\n",
       "           0.45646,     0.45746,     0.45846,     0.45946,     0.46046,     0.46146,     0.46246,     0.46346,     0.46446,     0.46547,     0.46647,     0.46747,     0.46847,     0.46947,     0.47047,     0.47147,     0.47247,     0.47347,     0.47447,     0.47548,     0.47648,     0.47748,     0.47848,     0.47948,\n",
       "           0.48048,     0.48148,     0.48248,     0.48348,     0.48448,     0.48549,     0.48649,     0.48749,     0.48849,     0.48949,     0.49049,     0.49149,     0.49249,     0.49349,     0.49449,      0.4955,      0.4965,      0.4975,      0.4985,      0.4995,      0.5005,      0.5015,      0.5025,      0.5035,\n",
       "            0.5045,     0.50551,     0.50651,     0.50751,     0.50851,     0.50951,     0.51051,     0.51151,     0.51251,     0.51351,     0.51451,     0.51552,     0.51652,     0.51752,     0.51852,     0.51952,     0.52052,     0.52152,     0.52252,     0.52352,     0.52452,     0.52553,     0.52653,     0.52753,\n",
       "           0.52853,     0.52953,     0.53053,     0.53153,     0.53253,     0.53353,     0.53453,     0.53554,     0.53654,     0.53754,     0.53854,     0.53954,     0.54054,     0.54154,     0.54254,     0.54354,     0.54454,     0.54555,     0.54655,     0.54755,     0.54855,     0.54955,     0.55055,     0.55155,\n",
       "           0.55255,     0.55355,     0.55455,     0.55556,     0.55656,     0.55756,     0.55856,     0.55956,     0.56056,     0.56156,     0.56256,     0.56356,     0.56456,     0.56557,     0.56657,     0.56757,     0.56857,     0.56957,     0.57057,     0.57157,     0.57257,     0.57357,     0.57457,     0.57558,\n",
       "           0.57658,     0.57758,     0.57858,     0.57958,     0.58058,     0.58158,     0.58258,     0.58358,     0.58458,     0.58559,     0.58659,     0.58759,     0.58859,     0.58959,     0.59059,     0.59159,     0.59259,     0.59359,     0.59459,      0.5956,      0.5966,      0.5976,      0.5986,      0.5996,\n",
       "            0.6006,      0.6016,      0.6026,      0.6036,      0.6046,     0.60561,     0.60661,     0.60761,     0.60861,     0.60961,     0.61061,     0.61161,     0.61261,     0.61361,     0.61461,     0.61562,     0.61662,     0.61762,     0.61862,     0.61962,     0.62062,     0.62162,     0.62262,     0.62362,\n",
       "           0.62462,     0.62563,     0.62663,     0.62763,     0.62863,     0.62963,     0.63063,     0.63163,     0.63263,     0.63363,     0.63463,     0.63564,     0.63664,     0.63764,     0.63864,     0.63964,     0.64064,     0.64164,     0.64264,     0.64364,     0.64464,     0.64565,     0.64665,     0.64765,\n",
       "           0.64865,     0.64965,     0.65065,     0.65165,     0.65265,     0.65365,     0.65465,     0.65566,     0.65666,     0.65766,     0.65866,     0.65966,     0.66066,     0.66166,     0.66266,     0.66366,     0.66466,     0.66567,     0.66667,     0.66767,     0.66867,     0.66967,     0.67067,     0.67167,\n",
       "           0.67267,     0.67367,     0.67467,     0.67568,     0.67668,     0.67768,     0.67868,     0.67968,     0.68068,     0.68168,     0.68268,     0.68368,     0.68468,     0.68569,     0.68669,     0.68769,     0.68869,     0.68969,     0.69069,     0.69169,     0.69269,     0.69369,     0.69469,      0.6957,\n",
       "            0.6967,      0.6977,      0.6987,      0.6997,      0.7007,      0.7017,      0.7027,      0.7037,      0.7047,     0.70571,     0.70671,     0.70771,     0.70871,     0.70971,     0.71071,     0.71171,     0.71271,     0.71371,     0.71471,     0.71572,     0.71672,     0.71772,     0.71872,     0.71972,\n",
       "           0.72072,     0.72172,     0.72272,     0.72372,     0.72472,     0.72573,     0.72673,     0.72773,     0.72873,     0.72973,     0.73073,     0.73173,     0.73273,     0.73373,     0.73473,     0.73574,     0.73674,     0.73774,     0.73874,     0.73974,     0.74074,     0.74174,     0.74274,     0.74374,\n",
       "           0.74474,     0.74575,     0.74675,     0.74775,     0.74875,     0.74975,     0.75075,     0.75175,     0.75275,     0.75375,     0.75475,     0.75576,     0.75676,     0.75776,     0.75876,     0.75976,     0.76076,     0.76176,     0.76276,     0.76376,     0.76476,     0.76577,     0.76677,     0.76777,\n",
       "           0.76877,     0.76977,     0.77077,     0.77177,     0.77277,     0.77377,     0.77477,     0.77578,     0.77678,     0.77778,     0.77878,     0.77978,     0.78078,     0.78178,     0.78278,     0.78378,     0.78478,     0.78579,     0.78679,     0.78779,     0.78879,     0.78979,     0.79079,     0.79179,\n",
       "           0.79279,     0.79379,     0.79479,      0.7958,      0.7968,      0.7978,      0.7988,      0.7998,      0.8008,      0.8018,      0.8028,      0.8038,      0.8048,     0.80581,     0.80681,     0.80781,     0.80881,     0.80981,     0.81081,     0.81181,     0.81281,     0.81381,     0.81481,     0.81582,\n",
       "           0.81682,     0.81782,     0.81882,     0.81982,     0.82082,     0.82182,     0.82282,     0.82382,     0.82482,     0.82583,     0.82683,     0.82783,     0.82883,     0.82983,     0.83083,     0.83183,     0.83283,     0.83383,     0.83483,     0.83584,     0.83684,     0.83784,     0.83884,     0.83984,\n",
       "           0.84084,     0.84184,     0.84284,     0.84384,     0.84484,     0.84585,     0.84685,     0.84785,     0.84885,     0.84985,     0.85085,     0.85185,     0.85285,     0.85385,     0.85485,     0.85586,     0.85686,     0.85786,     0.85886,     0.85986,     0.86086,     0.86186,     0.86286,     0.86386,\n",
       "           0.86486,     0.86587,     0.86687,     0.86787,     0.86887,     0.86987,     0.87087,     0.87187,     0.87287,     0.87387,     0.87487,     0.87588,     0.87688,     0.87788,     0.87888,     0.87988,     0.88088,     0.88188,     0.88288,     0.88388,     0.88488,     0.88589,     0.88689,     0.88789,\n",
       "           0.88889,     0.88989,     0.89089,     0.89189,     0.89289,     0.89389,     0.89489,      0.8959,      0.8969,      0.8979,      0.8989,      0.8999,      0.9009,      0.9019,      0.9029,      0.9039,      0.9049,     0.90591,     0.90691,     0.90791,     0.90891,     0.90991,     0.91091,     0.91191,\n",
       "           0.91291,     0.91391,     0.91491,     0.91592,     0.91692,     0.91792,     0.91892,     0.91992,     0.92092,     0.92192,     0.92292,     0.92392,     0.92492,     0.92593,     0.92693,     0.92793,     0.92893,     0.92993,     0.93093,     0.93193,     0.93293,     0.93393,     0.93493,     0.93594,\n",
       "           0.93694,     0.93794,     0.93894,     0.93994,     0.94094,     0.94194,     0.94294,     0.94394,     0.94494,     0.94595,     0.94695,     0.94795,     0.94895,     0.94995,     0.95095,     0.95195,     0.95295,     0.95395,     0.95495,     0.95596,     0.95696,     0.95796,     0.95896,     0.95996,\n",
       "           0.96096,     0.96196,     0.96296,     0.96396,     0.96496,     0.96597,     0.96697,     0.96797,     0.96897,     0.96997,     0.97097,     0.97197,     0.97297,     0.97397,     0.97497,     0.97598,     0.97698,     0.97798,     0.97898,     0.97998,     0.98098,     0.98198,     0.98298,     0.98398,\n",
       "           0.98498,     0.98599,     0.98699,     0.98799,     0.98899,     0.98999,     0.99099,     0.99199,     0.99299,     0.99399,     0.99499,       0.996,       0.997,       0.998,       0.999,           1]), array([[   0.066446,     0.06648,    0.094713,     0.11551,     0.13439,     0.15093,     0.16525,     0.17814,     0.19081,     0.20031,     0.20966,     0.21891,     0.22798,      0.2362,     0.24387,     0.25167,     0.25996,     0.26735,     0.27382,     0.28045,     0.28629,     0.29226,     0.29752,\n",
       "             0.3025,      0.3082,     0.31345,      0.3182,     0.32396,     0.32716,     0.33004,     0.33406,     0.33793,     0.34199,      0.3458,     0.35005,     0.35415,     0.35881,     0.36131,     0.36498,      0.3679,     0.37063,     0.37423,     0.37771,     0.38023,     0.38344,     0.38701,\n",
       "            0.38909,     0.39223,     0.39394,      0.3974,     0.39914,      0.4018,     0.40334,     0.40622,     0.40731,     0.41025,     0.41323,     0.41636,     0.41999,      0.4219,     0.42482,     0.42685,     0.42932,     0.43231,     0.43466,     0.43602,     0.43739,      0.4385,     0.44075,\n",
       "            0.44351,     0.44521,      0.4479,     0.44921,     0.45061,     0.45222,     0.45398,     0.45465,     0.45548,     0.45747,      0.4595,     0.46071,     0.46197,     0.46417,     0.46584,       0.467,     0.46816,     0.47024,     0.47194,     0.47291,     0.47445,     0.47663,     0.47758,\n",
       "            0.47964,     0.48227,     0.48327,     0.48421,       0.486,     0.48753,     0.48906,     0.49027,     0.49208,     0.49359,     0.49481,      0.4949,     0.49614,     0.49701,     0.49874,     0.49967,     0.50186,     0.50316,     0.50522,      0.5067,     0.50753,      0.5084,     0.50952,\n",
       "            0.51139,     0.51142,     0.51234,     0.51322,     0.51465,     0.51651,     0.51731,     0.51716,      0.5192,     0.52018,      0.5218,     0.52096,      0.5224,     0.52167,     0.52261,     0.52312,     0.52435,     0.52602,     0.52663,     0.52817,     0.52961,      0.5317,     0.53319,\n",
       "              0.533,     0.53375,     0.53535,     0.53509,     0.53655,     0.53848,     0.54003,     0.54084,     0.54151,     0.54255,       0.544,     0.54482,      0.5443,     0.54508,     0.54713,     0.54842,     0.54806,     0.54869,     0.54994,     0.55099,     0.55319,     0.55373,     0.55289,\n",
       "            0.55333,     0.55356,     0.55584,     0.55648,     0.55687,     0.55762,     0.55891,     0.55985,     0.56132,     0.56179,     0.56251,     0.56439,     0.56583,     0.56705,     0.56762,     0.56883,     0.56956,     0.57114,     0.57073,     0.57165,     0.57179,     0.57361,     0.57371,\n",
       "            0.57487,     0.57561,      0.5764,     0.57644,     0.57696,     0.57737,     0.57642,      0.5766,     0.57839,     0.57909,     0.57947,     0.58004,     0.58001,     0.58122,     0.58109,       0.582,     0.58119,     0.58097,     0.58194,       0.584,     0.58406,     0.58328,      0.5833,\n",
       "            0.58392,     0.58413,      0.5835,     0.58458,     0.58692,      0.5874,     0.58966,     0.58921,     0.58902,     0.58879,     0.58831,     0.58913,     0.58967,     0.59018,     0.59026,     0.59068,     0.59075,     0.59123,     0.59226,      0.5936,     0.59467,     0.59497,     0.59559,\n",
       "            0.59654,     0.59653,     0.59677,     0.59712,     0.59734,     0.59848,     0.59755,     0.59827,     0.59896,     0.59895,     0.59922,     0.59897,     0.60009,     0.60013,     0.60002,     0.60115,     0.60144,     0.60194,     0.60172,     0.60344,     0.60436,     0.60399,     0.60425,\n",
       "            0.60462,     0.60377,      0.6038,     0.60405,     0.60435,     0.60356,     0.60427,     0.60435,     0.60536,     0.60481,     0.60526,     0.60506,     0.60667,     0.60772,     0.60847,     0.60785,     0.60849,     0.60801,     0.60726,      0.6076,     0.60778,     0.60823,     0.60865,\n",
       "            0.60796,     0.60789,     0.60722,     0.60348,       0.604,     0.60478,     0.60528,     0.60608,     0.60385,      0.6052,     0.60509,     0.60602,     0.60653,     0.60761,     0.60855,     0.60966,     0.61096,     0.61246,     0.61342,     0.61228,     0.61232,     0.61283,     0.61389,\n",
       "             0.6131,     0.61265,     0.61269,     0.61405,     0.61424,     0.61456,     0.61364,     0.61328,     0.61172,     0.61093,     0.61055,     0.60986,     0.61017,     0.61057,     0.61169,     0.61242,     0.61301,     0.61236,      0.6126,     0.61214,     0.61328,     0.61302,     0.61295,\n",
       "            0.61327,      0.6135,     0.61231,     0.61205,      0.6123,     0.61282,     0.61321,     0.61269,     0.61249,     0.61277,     0.61199,     0.60968,     0.61016,     0.60601,     0.60651,     0.60611,     0.60604,     0.60615,      0.6065,     0.60694,     0.60691,     0.60651,     0.60523,\n",
       "            0.60548,     0.60621,     0.60691,     0.60765,     0.60809,     0.60753,     0.60813,     0.60958,     0.60751,     0.60717,     0.60801,     0.60567,     0.60453,      0.6014,      0.6016,     0.60029,     0.60122,     0.59937,     0.59916,     0.59653,     0.59587,     0.59536,     0.59525,\n",
       "            0.59539,     0.59496,     0.59454,     0.59395,     0.59365,     0.59313,     0.59293,     0.59039,     0.58851,     0.58653,     0.58597,     0.58632,      0.5865,     0.58672,     0.58627,     0.58712,     0.58568,     0.58567,     0.58497,     0.58498,     0.58387,     0.58115,     0.58179,\n",
       "            0.58193,     0.58207,     0.58022,     0.58036,     0.57988,     0.57856,      0.5791,     0.57989,     0.57885,     0.57829,      0.5771,     0.57554,     0.57313,     0.57291,     0.57188,      0.5706,      0.5703,     0.56912,     0.56952,     0.56942,     0.56916,     0.56881,     0.56638,\n",
       "            0.56543,     0.56465,     0.56334,     0.56066,     0.56027,     0.55885,     0.55692,     0.55592,     0.55387,     0.54944,     0.54754,     0.54579,     0.54266,     0.54148,     0.53912,     0.53887,     0.53919,     0.53694,     0.53569,     0.53266,     0.53248,     0.53174,     0.53088,\n",
       "            0.53017,     0.52983,     0.52969,     0.53046,     0.52954,     0.52901,     0.52847,     0.52682,     0.52717,     0.52684,     0.52577,     0.52602,     0.52402,     0.52044,     0.51842,     0.51548,     0.51416,     0.51277,     0.51004,     0.50942,     0.50942,     0.50747,     0.50479,\n",
       "            0.50511,     0.50591,     0.50327,     0.50043,     0.49784,     0.49612,     0.49395,     0.49298,     0.49234,     0.49182,     0.49005,     0.48353,     0.48227,     0.48255,     0.48268,     0.48281,     0.47922,      0.4803,      0.4806,     0.48045,     0.47993,     0.47905,     0.47856,\n",
       "            0.47418,     0.47305,     0.47251,     0.47002,     0.46837,     0.46617,     0.46468,     0.46542,     0.46298,     0.46126,     0.46049,     0.45915,     0.45609,     0.45571,     0.45419,     0.45224,     0.45124,     0.45045,     0.44657,     0.44505,      0.4442,       0.441,     0.43873,\n",
       "            0.43762,     0.43668,     0.43575,     0.43458,     0.43363,      0.4328,      0.4328,     0.42919,     0.42828,     0.42506,     0.42387,     0.42351,     0.42259,     0.42273,     0.42177,     0.41898,     0.41798,     0.41817,     0.41737,     0.41685,     0.41694,     0.41703,     0.41712,\n",
       "            0.41603,     0.41438,     0.41361,     0.41302,     0.41251,     0.41201,     0.41223,     0.41134,     0.40824,     0.40732,     0.40686,     0.40543,     0.40465,     0.40102,     0.40031,     0.39916,     0.39793,     0.39811,     0.39763,     0.39634,     0.39535,     0.39217,     0.39009,\n",
       "            0.38855,     0.38823,     0.38835,     0.38847,     0.38653,     0.38465,     0.38302,     0.38319,     0.38322,     0.37388,     0.37168,     0.37188,     0.37009,     0.36765,     0.36673,     0.36353,     0.35904,      0.3583,     0.35762,     0.35788,     0.35504,     0.35322,     0.35231,\n",
       "            0.34788,     0.34521,     0.34491,     0.34501,     0.34511,     0.34416,     0.34145,     0.33844,     0.33609,     0.33356,     0.32918,     0.32689,     0.32598,     0.32517,     0.32008,      0.3195,     0.31893,      0.3174,     0.31391,     0.31204,      0.3106,     0.30868,     0.30771,\n",
       "            0.30608,     0.30509,     0.30417,     0.30332,     0.30222,     0.30146,     0.29969,     0.29903,     0.29837,     0.29553,     0.29373,      0.2939,     0.29231,     0.29078,     0.28971,     0.28924,     0.28833,     0.28446,     0.28381,     0.28316,     0.28242,     0.28162,     0.28111,\n",
       "            0.27993,     0.27933,     0.27877,     0.27822,     0.27608,      0.2733,     0.27262,     0.27211,     0.27161,     0.26862,     0.26737,     0.26651,     0.26312,     0.26336,     0.25711,     0.25432,     0.25341,      0.2505,     0.24775,     0.24789,     0.24717,     0.24517,     0.24364,\n",
       "            0.24261,      0.2419,     0.24123,     0.23879,      0.2374,     0.23682,     0.23623,      0.2353,     0.23426,     0.23261,     0.23147,     0.22893,     0.22724,     0.22584,     0.22469,     0.22367,      0.2222,     0.22071,     0.21969,     0.21913,     0.21858,     0.21752,      0.2157,\n",
       "            0.21463,     0.21409,     0.21361,     0.21314,     0.21265,     0.21136,     0.21033,     0.20947,     0.20876,     0.20821,     0.20766,     0.20639,     0.20377,      0.2025,     0.19704,     0.19197,     0.19051,     0.18977,     0.18902,     0.18821,     0.18739,     0.18507,     0.18466,\n",
       "            0.18425,     0.18384,     0.18343,     0.18304,     0.18264,     0.18225,     0.18185,     0.18153,     0.18129,     0.18105,     0.18081,     0.18057,     0.18033,     0.18009,     0.17985,     0.17568,     0.17489,      0.1741,     0.17309,     0.17209,     0.17211,     0.17213,     0.17215,\n",
       "            0.17217,     0.17219,     0.17221,     0.17223,     0.17225,     0.17163,     0.16971,     0.16813,     0.16699,     0.16591,     0.16487,     0.16421,     0.16371,     0.16321,     0.16271,     0.15939,     0.15792,     0.15676,     0.15471,     0.15343,     0.15257,     0.15204,     0.15151,\n",
       "            0.15098,     0.15036,     0.14973,      0.1491,     0.14888,     0.14781,     0.14498,     0.14439,     0.14379,     0.14319,     0.14145,     0.14046,     0.13962,     0.13709,     0.13662,     0.13616,     0.13569,     0.13522,     0.13459,     0.13395,      0.1333,     0.13324,      0.1333,\n",
       "             0.1329,     0.13195,     0.13096,     0.12988,     0.12919,     0.12893,     0.12868,     0.12842,     0.12817,     0.12791,     0.12765,      0.1274,     0.12668,     0.12564,      0.1253,     0.12534,     0.12538,     0.12494,     0.12404,     0.12323,     0.12271,     0.12218,     0.12165,\n",
       "            0.12077,     0.11938,     0.11837,     0.11738,     0.11402,     0.11265,     0.11158,     0.10868,      0.1073,     0.10518,     0.10454,     0.10412,      0.1037,     0.10328,     0.10286,     0.10071,     0.10026,    0.099803,    0.099348,    0.098892,    0.098381,    0.097823,    0.097264,\n",
       "           0.096706,    0.094216,    0.092922,    0.092188,     0.09182,    0.091453,    0.091085,    0.090718,     0.09035,    0.089597,    0.088795,    0.088208,    0.088228,    0.088248,    0.088267,    0.088287,    0.086004,    0.084233,    0.081352,    0.080596,     0.07984,     0.07921,    0.078584,\n",
       "           0.077957,    0.077094,    0.076059,    0.074738,     0.07302,    0.070916,    0.069535,    0.067812,    0.064323,     0.06341,    0.062614,    0.062452,    0.062289,    0.062126,    0.061963,    0.061801,    0.061638,    0.061475,    0.061312,    0.061149,    0.060987,    0.060824,    0.060661,\n",
       "           0.060498,    0.058299,     0.05834,    0.058081,    0.057451,    0.056821,     0.05619,    0.053717,    0.052219,    0.051367,    0.050765,    0.050163,    0.049315,    0.046995,    0.046181,    0.045365,    0.042463,    0.039084,    0.038196,    0.037687,    0.037178,    0.036669,     0.03626,\n",
       "           0.036063,    0.035867,    0.035671,    0.035475,    0.035279,    0.035082,    0.034886,     0.03469,    0.034493,    0.034297,      0.0341,    0.033197,    0.032258,    0.031222,    0.030112,    0.029517,    0.029344,    0.029171,    0.028998,    0.028825,    0.028652,    0.028478,    0.028305,\n",
       "           0.028132,    0.027958,    0.027785,    0.027611,    0.027438,    0.027051,    0.026512,    0.025973,    0.025433,    0.023517,    0.022086,    0.021157,    0.020505,    0.020278,    0.020051,    0.019824,    0.019597,    0.019369,    0.019142,    0.018915,    0.018687,     0.01846,    0.016012,\n",
       "           0.015826,    0.015639,    0.015453,    0.015266,     0.01508,    0.014893,    0.014707,     0.01452,    0.014333,    0.014146,     0.01396,    0.013766,    0.013281,    0.012796,    0.012311,    0.011825,    0.011447,    0.011298,    0.011149,       0.011,    0.010851,    0.010702,    0.010553,\n",
       "           0.010404,    0.010254,    0.010105,   0.0099562,    0.009807,   0.0096578,   0.0095086,   0.0093593,     0.00921,   0.0090032,   0.0087947,   0.0085861,   0.0083775,   0.0081688,   0.0079601,   0.0077514,   0.0075426,   0.0073338,   0.0071249,    0.006916,   0.0057527,   0.0045945,   0.0040586,\n",
       "          0.0035224,    0.002986,   0.0024493,           0,           0,           0,           0,           0,           0,           0,           0,           0,           0,           0,           0,           0,           0,           0,           0,           0,           0,           0,           0,\n",
       "                  0,           0,           0,           0,           0,           0,           0,           0,           0,           0,           0]]), 'Confidence', 'F1'], [array([          0,    0.001001,    0.002002,    0.003003,    0.004004,    0.005005,    0.006006,    0.007007,    0.008008,    0.009009,     0.01001,    0.011011,    0.012012,    0.013013,    0.014014,    0.015015,    0.016016,    0.017017,    0.018018,    0.019019,     0.02002,    0.021021,    0.022022,    0.023023,\n",
       "          0.024024,    0.025025,    0.026026,    0.027027,    0.028028,    0.029029,     0.03003,    0.031031,    0.032032,    0.033033,    0.034034,    0.035035,    0.036036,    0.037037,    0.038038,    0.039039,     0.04004,    0.041041,    0.042042,    0.043043,    0.044044,    0.045045,    0.046046,    0.047047,\n",
       "          0.048048,    0.049049,     0.05005,    0.051051,    0.052052,    0.053053,    0.054054,    0.055055,    0.056056,    0.057057,    0.058058,    0.059059,     0.06006,    0.061061,    0.062062,    0.063063,    0.064064,    0.065065,    0.066066,    0.067067,    0.068068,    0.069069,     0.07007,    0.071071,\n",
       "          0.072072,    0.073073,    0.074074,    0.075075,    0.076076,    0.077077,    0.078078,    0.079079,     0.08008,    0.081081,    0.082082,    0.083083,    0.084084,    0.085085,    0.086086,    0.087087,    0.088088,    0.089089,     0.09009,    0.091091,    0.092092,    0.093093,    0.094094,    0.095095,\n",
       "          0.096096,    0.097097,    0.098098,    0.099099,      0.1001,      0.1011,      0.1021,      0.1031,      0.1041,     0.10511,     0.10611,     0.10711,     0.10811,     0.10911,     0.11011,     0.11111,     0.11211,     0.11311,     0.11411,     0.11512,     0.11612,     0.11712,     0.11812,     0.11912,\n",
       "           0.12012,     0.12112,     0.12212,     0.12312,     0.12412,     0.12513,     0.12613,     0.12713,     0.12813,     0.12913,     0.13013,     0.13113,     0.13213,     0.13313,     0.13413,     0.13514,     0.13614,     0.13714,     0.13814,     0.13914,     0.14014,     0.14114,     0.14214,     0.14314,\n",
       "           0.14414,     0.14515,     0.14615,     0.14715,     0.14815,     0.14915,     0.15015,     0.15115,     0.15215,     0.15315,     0.15415,     0.15516,     0.15616,     0.15716,     0.15816,     0.15916,     0.16016,     0.16116,     0.16216,     0.16316,     0.16416,     0.16517,     0.16617,     0.16717,\n",
       "           0.16817,     0.16917,     0.17017,     0.17117,     0.17217,     0.17317,     0.17417,     0.17518,     0.17618,     0.17718,     0.17818,     0.17918,     0.18018,     0.18118,     0.18218,     0.18318,     0.18418,     0.18519,     0.18619,     0.18719,     0.18819,     0.18919,     0.19019,     0.19119,\n",
       "           0.19219,     0.19319,     0.19419,      0.1952,      0.1962,      0.1972,      0.1982,      0.1992,      0.2002,      0.2012,      0.2022,      0.2032,      0.2042,     0.20521,     0.20621,     0.20721,     0.20821,     0.20921,     0.21021,     0.21121,     0.21221,     0.21321,     0.21421,     0.21522,\n",
       "           0.21622,     0.21722,     0.21822,     0.21922,     0.22022,     0.22122,     0.22222,     0.22322,     0.22422,     0.22523,     0.22623,     0.22723,     0.22823,     0.22923,     0.23023,     0.23123,     0.23223,     0.23323,     0.23423,     0.23524,     0.23624,     0.23724,     0.23824,     0.23924,\n",
       "           0.24024,     0.24124,     0.24224,     0.24324,     0.24424,     0.24525,     0.24625,     0.24725,     0.24825,     0.24925,     0.25025,     0.25125,     0.25225,     0.25325,     0.25425,     0.25526,     0.25626,     0.25726,     0.25826,     0.25926,     0.26026,     0.26126,     0.26226,     0.26326,\n",
       "           0.26426,     0.26527,     0.26627,     0.26727,     0.26827,     0.26927,     0.27027,     0.27127,     0.27227,     0.27327,     0.27427,     0.27528,     0.27628,     0.27728,     0.27828,     0.27928,     0.28028,     0.28128,     0.28228,     0.28328,     0.28428,     0.28529,     0.28629,     0.28729,\n",
       "           0.28829,     0.28929,     0.29029,     0.29129,     0.29229,     0.29329,     0.29429,      0.2953,      0.2963,      0.2973,      0.2983,      0.2993,      0.3003,      0.3013,      0.3023,      0.3033,      0.3043,     0.30531,     0.30631,     0.30731,     0.30831,     0.30931,     0.31031,     0.31131,\n",
       "           0.31231,     0.31331,     0.31431,     0.31532,     0.31632,     0.31732,     0.31832,     0.31932,     0.32032,     0.32132,     0.32232,     0.32332,     0.32432,     0.32533,     0.32633,     0.32733,     0.32833,     0.32933,     0.33033,     0.33133,     0.33233,     0.33333,     0.33433,     0.33534,\n",
       "           0.33634,     0.33734,     0.33834,     0.33934,     0.34034,     0.34134,     0.34234,     0.34334,     0.34434,     0.34535,     0.34635,     0.34735,     0.34835,     0.34935,     0.35035,     0.35135,     0.35235,     0.35335,     0.35435,     0.35536,     0.35636,     0.35736,     0.35836,     0.35936,\n",
       "           0.36036,     0.36136,     0.36236,     0.36336,     0.36436,     0.36537,     0.36637,     0.36737,     0.36837,     0.36937,     0.37037,     0.37137,     0.37237,     0.37337,     0.37437,     0.37538,     0.37638,     0.37738,     0.37838,     0.37938,     0.38038,     0.38138,     0.38238,     0.38338,\n",
       "           0.38438,     0.38539,     0.38639,     0.38739,     0.38839,     0.38939,     0.39039,     0.39139,     0.39239,     0.39339,     0.39439,      0.3954,      0.3964,      0.3974,      0.3984,      0.3994,      0.4004,      0.4014,      0.4024,      0.4034,      0.4044,     0.40541,     0.40641,     0.40741,\n",
       "           0.40841,     0.40941,     0.41041,     0.41141,     0.41241,     0.41341,     0.41441,     0.41542,     0.41642,     0.41742,     0.41842,     0.41942,     0.42042,     0.42142,     0.42242,     0.42342,     0.42442,     0.42543,     0.42643,     0.42743,     0.42843,     0.42943,     0.43043,     0.43143,\n",
       "           0.43243,     0.43343,     0.43443,     0.43544,     0.43644,     0.43744,     0.43844,     0.43944,     0.44044,     0.44144,     0.44244,     0.44344,     0.44444,     0.44545,     0.44645,     0.44745,     0.44845,     0.44945,     0.45045,     0.45145,     0.45245,     0.45345,     0.45445,     0.45546,\n",
       "           0.45646,     0.45746,     0.45846,     0.45946,     0.46046,     0.46146,     0.46246,     0.46346,     0.46446,     0.46547,     0.46647,     0.46747,     0.46847,     0.46947,     0.47047,     0.47147,     0.47247,     0.47347,     0.47447,     0.47548,     0.47648,     0.47748,     0.47848,     0.47948,\n",
       "           0.48048,     0.48148,     0.48248,     0.48348,     0.48448,     0.48549,     0.48649,     0.48749,     0.48849,     0.48949,     0.49049,     0.49149,     0.49249,     0.49349,     0.49449,      0.4955,      0.4965,      0.4975,      0.4985,      0.4995,      0.5005,      0.5015,      0.5025,      0.5035,\n",
       "            0.5045,     0.50551,     0.50651,     0.50751,     0.50851,     0.50951,     0.51051,     0.51151,     0.51251,     0.51351,     0.51451,     0.51552,     0.51652,     0.51752,     0.51852,     0.51952,     0.52052,     0.52152,     0.52252,     0.52352,     0.52452,     0.52553,     0.52653,     0.52753,\n",
       "           0.52853,     0.52953,     0.53053,     0.53153,     0.53253,     0.53353,     0.53453,     0.53554,     0.53654,     0.53754,     0.53854,     0.53954,     0.54054,     0.54154,     0.54254,     0.54354,     0.54454,     0.54555,     0.54655,     0.54755,     0.54855,     0.54955,     0.55055,     0.55155,\n",
       "           0.55255,     0.55355,     0.55455,     0.55556,     0.55656,     0.55756,     0.55856,     0.55956,     0.56056,     0.56156,     0.56256,     0.56356,     0.56456,     0.56557,     0.56657,     0.56757,     0.56857,     0.56957,     0.57057,     0.57157,     0.57257,     0.57357,     0.57457,     0.57558,\n",
       "           0.57658,     0.57758,     0.57858,     0.57958,     0.58058,     0.58158,     0.58258,     0.58358,     0.58458,     0.58559,     0.58659,     0.58759,     0.58859,     0.58959,     0.59059,     0.59159,     0.59259,     0.59359,     0.59459,      0.5956,      0.5966,      0.5976,      0.5986,      0.5996,\n",
       "            0.6006,      0.6016,      0.6026,      0.6036,      0.6046,     0.60561,     0.60661,     0.60761,     0.60861,     0.60961,     0.61061,     0.61161,     0.61261,     0.61361,     0.61461,     0.61562,     0.61662,     0.61762,     0.61862,     0.61962,     0.62062,     0.62162,     0.62262,     0.62362,\n",
       "           0.62462,     0.62563,     0.62663,     0.62763,     0.62863,     0.62963,     0.63063,     0.63163,     0.63263,     0.63363,     0.63463,     0.63564,     0.63664,     0.63764,     0.63864,     0.63964,     0.64064,     0.64164,     0.64264,     0.64364,     0.64464,     0.64565,     0.64665,     0.64765,\n",
       "           0.64865,     0.64965,     0.65065,     0.65165,     0.65265,     0.65365,     0.65465,     0.65566,     0.65666,     0.65766,     0.65866,     0.65966,     0.66066,     0.66166,     0.66266,     0.66366,     0.66466,     0.66567,     0.66667,     0.66767,     0.66867,     0.66967,     0.67067,     0.67167,\n",
       "           0.67267,     0.67367,     0.67467,     0.67568,     0.67668,     0.67768,     0.67868,     0.67968,     0.68068,     0.68168,     0.68268,     0.68368,     0.68468,     0.68569,     0.68669,     0.68769,     0.68869,     0.68969,     0.69069,     0.69169,     0.69269,     0.69369,     0.69469,      0.6957,\n",
       "            0.6967,      0.6977,      0.6987,      0.6997,      0.7007,      0.7017,      0.7027,      0.7037,      0.7047,     0.70571,     0.70671,     0.70771,     0.70871,     0.70971,     0.71071,     0.71171,     0.71271,     0.71371,     0.71471,     0.71572,     0.71672,     0.71772,     0.71872,     0.71972,\n",
       "           0.72072,     0.72172,     0.72272,     0.72372,     0.72472,     0.72573,     0.72673,     0.72773,     0.72873,     0.72973,     0.73073,     0.73173,     0.73273,     0.73373,     0.73473,     0.73574,     0.73674,     0.73774,     0.73874,     0.73974,     0.74074,     0.74174,     0.74274,     0.74374,\n",
       "           0.74474,     0.74575,     0.74675,     0.74775,     0.74875,     0.74975,     0.75075,     0.75175,     0.75275,     0.75375,     0.75475,     0.75576,     0.75676,     0.75776,     0.75876,     0.75976,     0.76076,     0.76176,     0.76276,     0.76376,     0.76476,     0.76577,     0.76677,     0.76777,\n",
       "           0.76877,     0.76977,     0.77077,     0.77177,     0.77277,     0.77377,     0.77477,     0.77578,     0.77678,     0.77778,     0.77878,     0.77978,     0.78078,     0.78178,     0.78278,     0.78378,     0.78478,     0.78579,     0.78679,     0.78779,     0.78879,     0.78979,     0.79079,     0.79179,\n",
       "           0.79279,     0.79379,     0.79479,      0.7958,      0.7968,      0.7978,      0.7988,      0.7998,      0.8008,      0.8018,      0.8028,      0.8038,      0.8048,     0.80581,     0.80681,     0.80781,     0.80881,     0.80981,     0.81081,     0.81181,     0.81281,     0.81381,     0.81481,     0.81582,\n",
       "           0.81682,     0.81782,     0.81882,     0.81982,     0.82082,     0.82182,     0.82282,     0.82382,     0.82482,     0.82583,     0.82683,     0.82783,     0.82883,     0.82983,     0.83083,     0.83183,     0.83283,     0.83383,     0.83483,     0.83584,     0.83684,     0.83784,     0.83884,     0.83984,\n",
       "           0.84084,     0.84184,     0.84284,     0.84384,     0.84484,     0.84585,     0.84685,     0.84785,     0.84885,     0.84985,     0.85085,     0.85185,     0.85285,     0.85385,     0.85485,     0.85586,     0.85686,     0.85786,     0.85886,     0.85986,     0.86086,     0.86186,     0.86286,     0.86386,\n",
       "           0.86486,     0.86587,     0.86687,     0.86787,     0.86887,     0.86987,     0.87087,     0.87187,     0.87287,     0.87387,     0.87487,     0.87588,     0.87688,     0.87788,     0.87888,     0.87988,     0.88088,     0.88188,     0.88288,     0.88388,     0.88488,     0.88589,     0.88689,     0.88789,\n",
       "           0.88889,     0.88989,     0.89089,     0.89189,     0.89289,     0.89389,     0.89489,      0.8959,      0.8969,      0.8979,      0.8989,      0.8999,      0.9009,      0.9019,      0.9029,      0.9039,      0.9049,     0.90591,     0.90691,     0.90791,     0.90891,     0.90991,     0.91091,     0.91191,\n",
       "           0.91291,     0.91391,     0.91491,     0.91592,     0.91692,     0.91792,     0.91892,     0.91992,     0.92092,     0.92192,     0.92292,     0.92392,     0.92492,     0.92593,     0.92693,     0.92793,     0.92893,     0.92993,     0.93093,     0.93193,     0.93293,     0.93393,     0.93493,     0.93594,\n",
       "           0.93694,     0.93794,     0.93894,     0.93994,     0.94094,     0.94194,     0.94294,     0.94394,     0.94494,     0.94595,     0.94695,     0.94795,     0.94895,     0.94995,     0.95095,     0.95195,     0.95295,     0.95395,     0.95495,     0.95596,     0.95696,     0.95796,     0.95896,     0.95996,\n",
       "           0.96096,     0.96196,     0.96296,     0.96396,     0.96496,     0.96597,     0.96697,     0.96797,     0.96897,     0.96997,     0.97097,     0.97197,     0.97297,     0.97397,     0.97497,     0.97598,     0.97698,     0.97798,     0.97898,     0.97998,     0.98098,     0.98198,     0.98298,     0.98398,\n",
       "           0.98498,     0.98599,     0.98699,     0.98799,     0.98899,     0.98999,     0.99099,     0.99199,     0.99299,     0.99399,     0.99499,       0.996,       0.997,       0.998,       0.999,           1]), array([[    0.03458,    0.034599,    0.050188,    0.062069,     0.07312,    0.083058,    0.091856,    0.099927,     0.10797,     0.11416,     0.12033,     0.12655,     0.13271,     0.13842,     0.14379,     0.14928,      0.1552,     0.16049,     0.16523,     0.17014,     0.17451,     0.17902,     0.18298,\n",
       "            0.18696,     0.19133,     0.19539,     0.19932,     0.20386,     0.20665,     0.20927,     0.21261,     0.21575,     0.21907,      0.2222,     0.22573,     0.22925,     0.23317,     0.23561,     0.23874,     0.24135,     0.24382,     0.24707,     0.25011,     0.25233,     0.25516,     0.25833,\n",
       "            0.26032,     0.26328,     0.26509,     0.26824,     0.27011,     0.27256,     0.27428,     0.27695,     0.27827,     0.28118,     0.28399,     0.28695,     0.29049,     0.29258,     0.29557,     0.29773,     0.30013,     0.30307,     0.30538,     0.30692,     0.30886,     0.31036,     0.31282,\n",
       "            0.31583,     0.31797,     0.32073,     0.32207,     0.32373,     0.32584,     0.32768,     0.32884,     0.32993,     0.33203,     0.33417,     0.33573,     0.33752,     0.33988,     0.34192,     0.34317,     0.34469,     0.34694,     0.34879,     0.35013,     0.35181,     0.35422,     0.35554,\n",
       "            0.35784,     0.36077,     0.36217,     0.36323,     0.36525,     0.36698,     0.36872,      0.3704,     0.37247,     0.37451,     0.37592,     0.37696,     0.37873,     0.38039,     0.38275,     0.38384,     0.38643,     0.38797,     0.39043,     0.39255,     0.39355,     0.39459,     0.39595,\n",
       "            0.39821,     0.39909,     0.40082,     0.40265,     0.40441,     0.40671,     0.40847,     0.40868,     0.41123,     0.41247,      0.4145,     0.41465,     0.41647,     0.41678,     0.41798,     0.41905,     0.42063,     0.42278,     0.42358,     0.42558,     0.42744,     0.43017,     0.43213,\n",
       "            0.43268,     0.43467,      0.4368,     0.43738,     0.43933,     0.44193,     0.44451,      0.4456,     0.44651,     0.44793,     0.44991,     0.45153,     0.45205,      0.4534,     0.45625,     0.45804,     0.45925,     0.46052,     0.46244,     0.46431,     0.46744,     0.46822,     0.46802,\n",
       "            0.46875,     0.46965,     0.47293,     0.47444,     0.47501,      0.4761,     0.47798,     0.47936,     0.48151,     0.48221,     0.48327,     0.48605,     0.48819,     0.49018,     0.49148,      0.4933,     0.49439,     0.49677,     0.49666,     0.49819,     0.49968,     0.50248,     0.50394,\n",
       "            0.50574,     0.50755,     0.50878,     0.50953,     0.51033,     0.51099,     0.51105,     0.51184,     0.51467,     0.51695,      0.5178,     0.51944,     0.52012,     0.52206,     0.52333,     0.52481,      0.5245,     0.52464,     0.52774,     0.53114,     0.53189,     0.53228,     0.53311,\n",
       "            0.53415,     0.53449,     0.53503,     0.53712,     0.54164,     0.54246,     0.54632,     0.54725,     0.54738,     0.54759,     0.54731,     0.54882,     0.55063,     0.55239,     0.55341,     0.55415,     0.55516,      0.5569,     0.55873,     0.56113,     0.56305,     0.56358,     0.56469,\n",
       "            0.56641,     0.56688,     0.56775,     0.56839,     0.56974,     0.57183,     0.57206,     0.57337,     0.57525,     0.57658,     0.57708,     0.57761,      0.5807,      0.5818,     0.58262,     0.58475,     0.58634,     0.58833,     0.58897,     0.59227,     0.59406,     0.59551,     0.59711,\n",
       "            0.59825,     0.59776,     0.59845,     0.59894,     0.59952,     0.60021,     0.60162,     0.60248,     0.60504,     0.60499,      0.6059,     0.60666,     0.60991,     0.61203,     0.61476,     0.61467,     0.61601,     0.61581,     0.61592,     0.61773,     0.61945,     0.62079,     0.62254,\n",
       "            0.62285,     0.62347,     0.62464,      0.6232,     0.62431,     0.62597,     0.62705,     0.62876,     0.62855,     0.63228,     0.63341,     0.63546,     0.63658,     0.63896,     0.64105,     0.64351,     0.64642,     0.64978,     0.65195,     0.65164,     0.65388,     0.65505,     0.65777,\n",
       "             0.6587,     0.65917,     0.66081,     0.66399,     0.66443,     0.66518,     0.66515,     0.66566,     0.66485,     0.66585,     0.66687,     0.66684,     0.66758,     0.67018,      0.6729,     0.67466,     0.67636,     0.67602,     0.67677,     0.67735,     0.68016,     0.68124,     0.68278,\n",
       "            0.68358,     0.68415,     0.68471,     0.68582,     0.68645,     0.68956,     0.69196,     0.69332,     0.69422,     0.69495,     0.69461,     0.69444,     0.69618,     0.69441,     0.69604,     0.69858,     0.70038,     0.70273,     0.70563,     0.70682,      0.7088,     0.70912,     0.71031,\n",
       "            0.71111,     0.71312,     0.71507,     0.71714,     0.71836,     0.71882,     0.72196,     0.72692,     0.72772,     0.72898,     0.73367,     0.73462,     0.73409,     0.73264,     0.73479,       0.737,     0.73982,     0.73917,     0.73998,     0.73984,     0.74171,     0.74147,     0.74251,\n",
       "            0.74478,     0.74458,     0.74439,     0.74635,     0.74713,      0.7471,     0.74813,     0.74749,     0.74842,     0.74867,     0.74973,     0.75088,      0.7543,      0.7558,     0.75642,     0.75926,     0.76026,     0.76385,     0.76381,     0.76686,     0.76916,     0.76903,     0.77125,\n",
       "            0.77176,     0.77226,     0.77208,     0.77301,     0.77281,     0.77258,     0.77451,     0.77736,     0.77767,     0.77878,     0.77828,     0.77763,     0.77943,     0.78062,     0.78019,     0.77965,     0.78091,     0.78183,     0.78334,     0.78477,     0.78552,      0.7878,     0.78781,\n",
       "            0.78888,     0.78856,     0.78802,     0.78691,      0.7879,     0.78993,     0.78982,     0.78941,     0.78856,     0.78823,     0.78743,     0.78823,     0.78847,     0.78797,     0.78697,     0.78865,     0.79017,     0.78921,     0.78868,     0.78739,     0.79218,     0.79288,     0.79315,\n",
       "            0.79502,     0.79603,     0.79751,     0.80137,     0.80099,     0.80249,     0.80399,     0.80338,       0.805,     0.80683,     0.80827,     0.80948,     0.80925,     0.80962,     0.81063,     0.80996,     0.81077,     0.81207,     0.81098,     0.81073,     0.81213,     0.81183,     0.81081,\n",
       "            0.81246,     0.81661,     0.81987,     0.81875,     0.81772,     0.81778,     0.81818,      0.8178,     0.81754,     0.81733,     0.81661,     0.81395,     0.81648,     0.81808,     0.81883,     0.81957,     0.81883,     0.82516,     0.82694,     0.82758,     0.82737,     0.82703,      0.8287,\n",
       "            0.83181,     0.83364,     0.83343,     0.83247,     0.83183,     0.83097,     0.83076,     0.83552,     0.83677,     0.83611,     0.83581,      0.8377,     0.83809,     0.83881,     0.83822,     0.83995,     0.83956,     0.83926,     0.83775,     0.83865,     0.83936,      0.8381,      0.8372,\n",
       "            0.83676,     0.83638,     0.83601,     0.83554,     0.83806,     0.84138,     0.84542,     0.84402,     0.84609,     0.84792,     0.84746,     0.85013,     0.84978,     0.85362,     0.85519,     0.85414,     0.85789,      0.8595,     0.85941,     0.85952,      0.8603,     0.86107,     0.86185,\n",
       "            0.86392,     0.86433,     0.86406,     0.86385,     0.86366,     0.86348,     0.86571,     0.86632,     0.86521,     0.86488,     0.86595,     0.86734,     0.86706,     0.86575,     0.86825,      0.8683,      0.8718,     0.87347,     0.87431,     0.87386,     0.87352,      0.8724,     0.87167,\n",
       "            0.87111,     0.87188,      0.8731,     0.87432,     0.87726,      0.8766,     0.87606,     0.87788,     0.87962,     0.87636,      0.8766,      0.8793,     0.87866,      0.8778,     0.88121,     0.88389,     0.88233,     0.88206,     0.88201,     0.88517,     0.88653,     0.88821,     0.88951,\n",
       "            0.89047,     0.88955,     0.89058,     0.89186,     0.89314,     0.89339,     0.89248,     0.89145,     0.89498,     0.89412,     0.89261,     0.89181,     0.89149,      0.8912,     0.88936,     0.88915,     0.88894,     0.88838,     0.88707,     0.88635,      0.8858,     0.88506,     0.88732,\n",
       "            0.88883,     0.88845,      0.8881,     0.88778,     0.88735,     0.89198,     0.89131,     0.89106,     0.89081,     0.88971,     0.89434,     0.89937,     0.90408,     0.90354,     0.90317,     0.90841,     0.90811,     0.90678,     0.90656,     0.90633,     0.90607,     0.90579,     0.91125,\n",
       "            0.91086,     0.91065,     0.91047,     0.91028,     0.90954,     0.90857,     0.90833,     0.90815,     0.90797,      0.9069,     0.90644,     0.90613,     0.91133,     0.91707,     0.91512,     0.91414,     0.91382,     0.91277,     0.91183,     0.91555,     0.91823,     0.92438,     0.92388,\n",
       "            0.92354,     0.92331,     0.92383,     0.92941,     0.92898,     0.92879,     0.92861,     0.92831,     0.92797,     0.92743,     0.92706,     0.92621,     0.92564,     0.92516,     0.92476,      0.9244,     0.92388,     0.92335,     0.92298,     0.92277,     0.92257,     0.92218,      0.9215,\n",
       "             0.9211,     0.92089,     0.92071,     0.92053,     0.92034,     0.91984,     0.91944,      0.9191,     0.91881,     0.91859,     0.91837,     0.91786,     0.92796,     0.93348,     0.93157,     0.93907,     0.93859,     0.93834,     0.93809,     0.93781,     0.93753,     0.93672,     0.93657,\n",
       "            0.93643,     0.93628,     0.93614,     0.93599,     0.93585,     0.93571,     0.93557,     0.93545,     0.93536,     0.93527,     0.93518,     0.93509,       0.935,     0.93491,     0.93483,     0.93324,     0.93293,     0.93262,     0.93222,     0.93185,     0.93308,     0.93431,     0.93554,\n",
       "            0.93677,       0.938,     0.93923,     0.94046,     0.94169,      0.9423,     0.94164,     0.94107,     0.94066,     0.94026,     0.93988,     0.93963,     0.93944,     0.93925,     0.93906,     0.93776,     0.93717,      0.9367,     0.93585,     0.93531,     0.93494,     0.93471,     0.93448,\n",
       "            0.93425,     0.93397,     0.93369,     0.93341,     0.94587,     0.94546,     0.94438,     0.94414,     0.94391,     0.94367,     0.94297,     0.94256,     0.94221,     0.94113,     0.94093,     0.94072,     0.94052,     0.94031,     0.94003,     0.93974,     0.93945,     0.94443,     0.95054,\n",
       "            0.95369,     0.95335,     0.95299,     0.95259,     0.95233,     0.95224,     0.95214,     0.95204,     0.95194,     0.95185,     0.95175,     0.95165,     0.95137,     0.95096,     0.95409,     0.95915,     0.96421,     0.96654,     0.96629,     0.96606,     0.96591,     0.96576,     0.96561,\n",
       "            0.96535,     0.96493,     0.96463,     0.96432,     0.96324,     0.96279,     0.96242,      0.9614,      0.9609,      0.9601,     0.95985,     0.95969,     0.95952,     0.95936,     0.95919,     0.95831,     0.95812,     0.95792,     0.95773,     0.95754,     0.95731,     0.95706,     0.95682,\n",
       "            0.95657,     0.95542,     0.95479,     0.95443,     0.95425,     0.95406,     0.95388,     0.95369,     0.95351,     0.95311,     0.95269,     0.95361,      0.9583,     0.96299,     0.96768,     0.97236,     0.97494,     0.97441,     0.97348,     0.97323,     0.97298,     0.97276,     0.97254,\n",
       "            0.97232,       0.972,     0.97162,     0.97111,     0.97042,     0.96954,     0.96893,     0.96814,     0.96641,     0.96593,      0.9655,     0.96541,     0.96532,     0.96523,     0.96513,     0.96504,     0.96495,     0.96486,     0.96476,     0.96467,     0.96458,     0.96449,     0.96439,\n",
       "             0.9643,     0.96483,     0.98746,           1,           1,           1,           1,           1,           1,           1,           1,           1,           1,           1,           1,           1,           1,           1,           1,           1,           1,           1,           1,\n",
       "                  1,           1,           1,           1,           1,           1,           1,           1,           1,           1,           1,           1,           1,           1,           1,           1,           1,           1,           1,           1,           1,           1,           1,\n",
       "                  1,           1,           1,           1,           1,           1,           1,           1,           1,           1,           1,           1,           1,           1,           1,           1,           1,           1,           1,           1,           1,           1,           1,\n",
       "                  1,           1,           1,           1,           1,           1,           1,           1,           1,           1,           1,           1,           1,           1,           1,           1,           1,           1,           1,           1,           1,           1,           1,\n",
       "                  1,           1,           1,           1,           1,           1,           1,           1,           1,           1,           1,           1,           1,           1,           1,           1,           1,           1,           1,           1,           1,           1,           1,\n",
       "                  1,           1,           1,           1,           1,           1,           1,           1,           1,           1,           1,           1,           1,           1,           1,           1,           1,           1,           1,           1,           1,           1,           1,\n",
       "                  1,           1,           1,           1,           1,           1,           1,           1,           1,           1,           1]]), 'Confidence', 'Precision'], [array([          0,    0.001001,    0.002002,    0.003003,    0.004004,    0.005005,    0.006006,    0.007007,    0.008008,    0.009009,     0.01001,    0.011011,    0.012012,    0.013013,    0.014014,    0.015015,    0.016016,    0.017017,    0.018018,    0.019019,     0.02002,    0.021021,    0.022022,    0.023023,\n",
       "          0.024024,    0.025025,    0.026026,    0.027027,    0.028028,    0.029029,     0.03003,    0.031031,    0.032032,    0.033033,    0.034034,    0.035035,    0.036036,    0.037037,    0.038038,    0.039039,     0.04004,    0.041041,    0.042042,    0.043043,    0.044044,    0.045045,    0.046046,    0.047047,\n",
       "          0.048048,    0.049049,     0.05005,    0.051051,    0.052052,    0.053053,    0.054054,    0.055055,    0.056056,    0.057057,    0.058058,    0.059059,     0.06006,    0.061061,    0.062062,    0.063063,    0.064064,    0.065065,    0.066066,    0.067067,    0.068068,    0.069069,     0.07007,    0.071071,\n",
       "          0.072072,    0.073073,    0.074074,    0.075075,    0.076076,    0.077077,    0.078078,    0.079079,     0.08008,    0.081081,    0.082082,    0.083083,    0.084084,    0.085085,    0.086086,    0.087087,    0.088088,    0.089089,     0.09009,    0.091091,    0.092092,    0.093093,    0.094094,    0.095095,\n",
       "          0.096096,    0.097097,    0.098098,    0.099099,      0.1001,      0.1011,      0.1021,      0.1031,      0.1041,     0.10511,     0.10611,     0.10711,     0.10811,     0.10911,     0.11011,     0.11111,     0.11211,     0.11311,     0.11411,     0.11512,     0.11612,     0.11712,     0.11812,     0.11912,\n",
       "           0.12012,     0.12112,     0.12212,     0.12312,     0.12412,     0.12513,     0.12613,     0.12713,     0.12813,     0.12913,     0.13013,     0.13113,     0.13213,     0.13313,     0.13413,     0.13514,     0.13614,     0.13714,     0.13814,     0.13914,     0.14014,     0.14114,     0.14214,     0.14314,\n",
       "           0.14414,     0.14515,     0.14615,     0.14715,     0.14815,     0.14915,     0.15015,     0.15115,     0.15215,     0.15315,     0.15415,     0.15516,     0.15616,     0.15716,     0.15816,     0.15916,     0.16016,     0.16116,     0.16216,     0.16316,     0.16416,     0.16517,     0.16617,     0.16717,\n",
       "           0.16817,     0.16917,     0.17017,     0.17117,     0.17217,     0.17317,     0.17417,     0.17518,     0.17618,     0.17718,     0.17818,     0.17918,     0.18018,     0.18118,     0.18218,     0.18318,     0.18418,     0.18519,     0.18619,     0.18719,     0.18819,     0.18919,     0.19019,     0.19119,\n",
       "           0.19219,     0.19319,     0.19419,      0.1952,      0.1962,      0.1972,      0.1982,      0.1992,      0.2002,      0.2012,      0.2022,      0.2032,      0.2042,     0.20521,     0.20621,     0.20721,     0.20821,     0.20921,     0.21021,     0.21121,     0.21221,     0.21321,     0.21421,     0.21522,\n",
       "           0.21622,     0.21722,     0.21822,     0.21922,     0.22022,     0.22122,     0.22222,     0.22322,     0.22422,     0.22523,     0.22623,     0.22723,     0.22823,     0.22923,     0.23023,     0.23123,     0.23223,     0.23323,     0.23423,     0.23524,     0.23624,     0.23724,     0.23824,     0.23924,\n",
       "           0.24024,     0.24124,     0.24224,     0.24324,     0.24424,     0.24525,     0.24625,     0.24725,     0.24825,     0.24925,     0.25025,     0.25125,     0.25225,     0.25325,     0.25425,     0.25526,     0.25626,     0.25726,     0.25826,     0.25926,     0.26026,     0.26126,     0.26226,     0.26326,\n",
       "           0.26426,     0.26527,     0.26627,     0.26727,     0.26827,     0.26927,     0.27027,     0.27127,     0.27227,     0.27327,     0.27427,     0.27528,     0.27628,     0.27728,     0.27828,     0.27928,     0.28028,     0.28128,     0.28228,     0.28328,     0.28428,     0.28529,     0.28629,     0.28729,\n",
       "           0.28829,     0.28929,     0.29029,     0.29129,     0.29229,     0.29329,     0.29429,      0.2953,      0.2963,      0.2973,      0.2983,      0.2993,      0.3003,      0.3013,      0.3023,      0.3033,      0.3043,     0.30531,     0.30631,     0.30731,     0.30831,     0.30931,     0.31031,     0.31131,\n",
       "           0.31231,     0.31331,     0.31431,     0.31532,     0.31632,     0.31732,     0.31832,     0.31932,     0.32032,     0.32132,     0.32232,     0.32332,     0.32432,     0.32533,     0.32633,     0.32733,     0.32833,     0.32933,     0.33033,     0.33133,     0.33233,     0.33333,     0.33433,     0.33534,\n",
       "           0.33634,     0.33734,     0.33834,     0.33934,     0.34034,     0.34134,     0.34234,     0.34334,     0.34434,     0.34535,     0.34635,     0.34735,     0.34835,     0.34935,     0.35035,     0.35135,     0.35235,     0.35335,     0.35435,     0.35536,     0.35636,     0.35736,     0.35836,     0.35936,\n",
       "           0.36036,     0.36136,     0.36236,     0.36336,     0.36436,     0.36537,     0.36637,     0.36737,     0.36837,     0.36937,     0.37037,     0.37137,     0.37237,     0.37337,     0.37437,     0.37538,     0.37638,     0.37738,     0.37838,     0.37938,     0.38038,     0.38138,     0.38238,     0.38338,\n",
       "           0.38438,     0.38539,     0.38639,     0.38739,     0.38839,     0.38939,     0.39039,     0.39139,     0.39239,     0.39339,     0.39439,      0.3954,      0.3964,      0.3974,      0.3984,      0.3994,      0.4004,      0.4014,      0.4024,      0.4034,      0.4044,     0.40541,     0.40641,     0.40741,\n",
       "           0.40841,     0.40941,     0.41041,     0.41141,     0.41241,     0.41341,     0.41441,     0.41542,     0.41642,     0.41742,     0.41842,     0.41942,     0.42042,     0.42142,     0.42242,     0.42342,     0.42442,     0.42543,     0.42643,     0.42743,     0.42843,     0.42943,     0.43043,     0.43143,\n",
       "           0.43243,     0.43343,     0.43443,     0.43544,     0.43644,     0.43744,     0.43844,     0.43944,     0.44044,     0.44144,     0.44244,     0.44344,     0.44444,     0.44545,     0.44645,     0.44745,     0.44845,     0.44945,     0.45045,     0.45145,     0.45245,     0.45345,     0.45445,     0.45546,\n",
       "           0.45646,     0.45746,     0.45846,     0.45946,     0.46046,     0.46146,     0.46246,     0.46346,     0.46446,     0.46547,     0.46647,     0.46747,     0.46847,     0.46947,     0.47047,     0.47147,     0.47247,     0.47347,     0.47447,     0.47548,     0.47648,     0.47748,     0.47848,     0.47948,\n",
       "           0.48048,     0.48148,     0.48248,     0.48348,     0.48448,     0.48549,     0.48649,     0.48749,     0.48849,     0.48949,     0.49049,     0.49149,     0.49249,     0.49349,     0.49449,      0.4955,      0.4965,      0.4975,      0.4985,      0.4995,      0.5005,      0.5015,      0.5025,      0.5035,\n",
       "            0.5045,     0.50551,     0.50651,     0.50751,     0.50851,     0.50951,     0.51051,     0.51151,     0.51251,     0.51351,     0.51451,     0.51552,     0.51652,     0.51752,     0.51852,     0.51952,     0.52052,     0.52152,     0.52252,     0.52352,     0.52452,     0.52553,     0.52653,     0.52753,\n",
       "           0.52853,     0.52953,     0.53053,     0.53153,     0.53253,     0.53353,     0.53453,     0.53554,     0.53654,     0.53754,     0.53854,     0.53954,     0.54054,     0.54154,     0.54254,     0.54354,     0.54454,     0.54555,     0.54655,     0.54755,     0.54855,     0.54955,     0.55055,     0.55155,\n",
       "           0.55255,     0.55355,     0.55455,     0.55556,     0.55656,     0.55756,     0.55856,     0.55956,     0.56056,     0.56156,     0.56256,     0.56356,     0.56456,     0.56557,     0.56657,     0.56757,     0.56857,     0.56957,     0.57057,     0.57157,     0.57257,     0.57357,     0.57457,     0.57558,\n",
       "           0.57658,     0.57758,     0.57858,     0.57958,     0.58058,     0.58158,     0.58258,     0.58358,     0.58458,     0.58559,     0.58659,     0.58759,     0.58859,     0.58959,     0.59059,     0.59159,     0.59259,     0.59359,     0.59459,      0.5956,      0.5966,      0.5976,      0.5986,      0.5996,\n",
       "            0.6006,      0.6016,      0.6026,      0.6036,      0.6046,     0.60561,     0.60661,     0.60761,     0.60861,     0.60961,     0.61061,     0.61161,     0.61261,     0.61361,     0.61461,     0.61562,     0.61662,     0.61762,     0.61862,     0.61962,     0.62062,     0.62162,     0.62262,     0.62362,\n",
       "           0.62462,     0.62563,     0.62663,     0.62763,     0.62863,     0.62963,     0.63063,     0.63163,     0.63263,     0.63363,     0.63463,     0.63564,     0.63664,     0.63764,     0.63864,     0.63964,     0.64064,     0.64164,     0.64264,     0.64364,     0.64464,     0.64565,     0.64665,     0.64765,\n",
       "           0.64865,     0.64965,     0.65065,     0.65165,     0.65265,     0.65365,     0.65465,     0.65566,     0.65666,     0.65766,     0.65866,     0.65966,     0.66066,     0.66166,     0.66266,     0.66366,     0.66466,     0.66567,     0.66667,     0.66767,     0.66867,     0.66967,     0.67067,     0.67167,\n",
       "           0.67267,     0.67367,     0.67467,     0.67568,     0.67668,     0.67768,     0.67868,     0.67968,     0.68068,     0.68168,     0.68268,     0.68368,     0.68468,     0.68569,     0.68669,     0.68769,     0.68869,     0.68969,     0.69069,     0.69169,     0.69269,     0.69369,     0.69469,      0.6957,\n",
       "            0.6967,      0.6977,      0.6987,      0.6997,      0.7007,      0.7017,      0.7027,      0.7037,      0.7047,     0.70571,     0.70671,     0.70771,     0.70871,     0.70971,     0.71071,     0.71171,     0.71271,     0.71371,     0.71471,     0.71572,     0.71672,     0.71772,     0.71872,     0.71972,\n",
       "           0.72072,     0.72172,     0.72272,     0.72372,     0.72472,     0.72573,     0.72673,     0.72773,     0.72873,     0.72973,     0.73073,     0.73173,     0.73273,     0.73373,     0.73473,     0.73574,     0.73674,     0.73774,     0.73874,     0.73974,     0.74074,     0.74174,     0.74274,     0.74374,\n",
       "           0.74474,     0.74575,     0.74675,     0.74775,     0.74875,     0.74975,     0.75075,     0.75175,     0.75275,     0.75375,     0.75475,     0.75576,     0.75676,     0.75776,     0.75876,     0.75976,     0.76076,     0.76176,     0.76276,     0.76376,     0.76476,     0.76577,     0.76677,     0.76777,\n",
       "           0.76877,     0.76977,     0.77077,     0.77177,     0.77277,     0.77377,     0.77477,     0.77578,     0.77678,     0.77778,     0.77878,     0.77978,     0.78078,     0.78178,     0.78278,     0.78378,     0.78478,     0.78579,     0.78679,     0.78779,     0.78879,     0.78979,     0.79079,     0.79179,\n",
       "           0.79279,     0.79379,     0.79479,      0.7958,      0.7968,      0.7978,      0.7988,      0.7998,      0.8008,      0.8018,      0.8028,      0.8038,      0.8048,     0.80581,     0.80681,     0.80781,     0.80881,     0.80981,     0.81081,     0.81181,     0.81281,     0.81381,     0.81481,     0.81582,\n",
       "           0.81682,     0.81782,     0.81882,     0.81982,     0.82082,     0.82182,     0.82282,     0.82382,     0.82482,     0.82583,     0.82683,     0.82783,     0.82883,     0.82983,     0.83083,     0.83183,     0.83283,     0.83383,     0.83483,     0.83584,     0.83684,     0.83784,     0.83884,     0.83984,\n",
       "           0.84084,     0.84184,     0.84284,     0.84384,     0.84484,     0.84585,     0.84685,     0.84785,     0.84885,     0.84985,     0.85085,     0.85185,     0.85285,     0.85385,     0.85485,     0.85586,     0.85686,     0.85786,     0.85886,     0.85986,     0.86086,     0.86186,     0.86286,     0.86386,\n",
       "           0.86486,     0.86587,     0.86687,     0.86787,     0.86887,     0.86987,     0.87087,     0.87187,     0.87287,     0.87387,     0.87487,     0.87588,     0.87688,     0.87788,     0.87888,     0.87988,     0.88088,     0.88188,     0.88288,     0.88388,     0.88488,     0.88589,     0.88689,     0.88789,\n",
       "           0.88889,     0.88989,     0.89089,     0.89189,     0.89289,     0.89389,     0.89489,      0.8959,      0.8969,      0.8979,      0.8989,      0.8999,      0.9009,      0.9019,      0.9029,      0.9039,      0.9049,     0.90591,     0.90691,     0.90791,     0.90891,     0.90991,     0.91091,     0.91191,\n",
       "           0.91291,     0.91391,     0.91491,     0.91592,     0.91692,     0.91792,     0.91892,     0.91992,     0.92092,     0.92192,     0.92292,     0.92392,     0.92492,     0.92593,     0.92693,     0.92793,     0.92893,     0.92993,     0.93093,     0.93193,     0.93293,     0.93393,     0.93493,     0.93594,\n",
       "           0.93694,     0.93794,     0.93894,     0.93994,     0.94094,     0.94194,     0.94294,     0.94394,     0.94494,     0.94595,     0.94695,     0.94795,     0.94895,     0.94995,     0.95095,     0.95195,     0.95295,     0.95395,     0.95495,     0.95596,     0.95696,     0.95796,     0.95896,     0.95996,\n",
       "           0.96096,     0.96196,     0.96296,     0.96396,     0.96496,     0.96597,     0.96697,     0.96797,     0.96897,     0.96997,     0.97097,     0.97197,     0.97297,     0.97397,     0.97497,     0.97598,     0.97698,     0.97798,     0.97898,     0.97998,     0.98098,     0.98198,     0.98298,     0.98398,\n",
       "           0.98498,     0.98599,     0.98699,     0.98799,     0.98899,     0.98999,     0.99099,     0.99199,     0.99299,     0.99399,     0.99499,       0.996,       0.997,       0.998,       0.999,           1]), array([[    0.84624,     0.84624,     0.83931,     0.83121,      0.8289,     0.82543,     0.82197,     0.81965,     0.81965,     0.81618,     0.81387,      0.8104,     0.80809,     0.80462,     0.80231,     0.80116,         0.8,         0.8,     0.79884,     0.79769,     0.79653,     0.79538,     0.79538,\n",
       "            0.79191,     0.79191,     0.79191,     0.78844,     0.78844,     0.78497,     0.78035,     0.77919,     0.77919,     0.77919,     0.77919,     0.77919,     0.77803,     0.77803,     0.77457,     0.77457,     0.77341,     0.77225,      0.7711,      0.7711,      0.7711,      0.7711,      0.7711,\n",
       "            0.76994,     0.76879,     0.76647,     0.76647,     0.76416,     0.76416,     0.76185,     0.76185,     0.75954,     0.75838,     0.75838,     0.75838,      0.7578,     0.75607,     0.75491,     0.75376,     0.75376,     0.75376,     0.75376,      0.7526,     0.74911,     0.74682,     0.74566,\n",
       "            0.74451,      0.7422,      0.7422,      0.7422,     0.74104,     0.73873,     0.73873,     0.73642,     0.73526,     0.73526,     0.73526,     0.73388,     0.73179,     0.73179,     0.73064,     0.73064,     0.72948,     0.72948,     0.72948,     0.72832,     0.72832,     0.72832,     0.72717,\n",
       "            0.72717,     0.72717,     0.72601,     0.72601,     0.72601,     0.72601,     0.72601,     0.72486,     0.72486,      0.7237,      0.7237,     0.72023,     0.71908,     0.71676,     0.71561,     0.71561,     0.71561,     0.71561,     0.71561,     0.71445,     0.71445,     0.71445,     0.71445,\n",
       "            0.71445,     0.71175,     0.70983,     0.70751,     0.70751,     0.70751,      0.7052,     0.70405,     0.70405,     0.70405,     0.70405,     0.70058,     0.70058,     0.69711,     0.69711,     0.69595,     0.69595,     0.69595,     0.69595,     0.69595,     0.69595,     0.69595,     0.69595,\n",
       "            0.69389,     0.69133,     0.69133,     0.68902,     0.68902,     0.68902,     0.68786,     0.68786,     0.68786,     0.68786,     0.68786,     0.68671,     0.68384,     0.68324,     0.68324,     0.68324,     0.67943,     0.67861,     0.67826,     0.67746,     0.67746,     0.67746,     0.67535,\n",
       "            0.67514,     0.67399,     0.67399,     0.67283,     0.67283,     0.67283,     0.67283,     0.67283,     0.67283,     0.67283,     0.67283,     0.67283,     0.67283,     0.67249,     0.67168,     0.67168,     0.67168,     0.67168,     0.67075,     0.67052,     0.66821,     0.66821,      0.6659,\n",
       "             0.6659,     0.66474,     0.66474,     0.66358,     0.66358,     0.66358,     0.66096,     0.66012,     0.66012,      0.6582,      0.6578,     0.65665,     0.65549,     0.65549,     0.65318,     0.65318,     0.65162,     0.65087,     0.64855,     0.64855,     0.64759,     0.64509,     0.64393,\n",
       "            0.64393,     0.64393,     0.64162,     0.64124,     0.64046,     0.64046,     0.64046,     0.63815,     0.63752,     0.63668,     0.63596,     0.63584,     0.63468,     0.63353,     0.63237,     0.63237,     0.63121,     0.63006,     0.63006,     0.63006,     0.63006,     0.63006,     0.63006,\n",
       "            0.63006,     0.62945,      0.6289,      0.6289,     0.62775,     0.62775,     0.62543,     0.62543,     0.62471,     0.62312,     0.62312,     0.62197,     0.62081,     0.61965,      0.6185,      0.6185,     0.61734,     0.61618,     0.61503,     0.61503,     0.61503,     0.61272,     0.61156,\n",
       "            0.61113,     0.60991,     0.60925,     0.60925,     0.60925,     0.60694,     0.60694,     0.60623,     0.60568,     0.60462,     0.60462,     0.60347,     0.60347,     0.60347,     0.60231,     0.60118,     0.60116,      0.6004,     0.59884,      0.5978,     0.59654,     0.59616,     0.59538,\n",
       "            0.59377,     0.59306,     0.59075,     0.58497,     0.58497,     0.58497,     0.58497,     0.58497,     0.58101,     0.58035,     0.57919,     0.57919,     0.57919,     0.57919,     0.57919,     0.57919,     0.57919,     0.57919,     0.57919,      0.5774,     0.57572,     0.57572,     0.57549,\n",
       "            0.57341,     0.57225,      0.5711,      0.5711,      0.5711,      0.5711,     0.56953,     0.56853,     0.56645,     0.56439,     0.56301,     0.56185,     0.56185,     0.56069,     0.56069,     0.56069,     0.56051,     0.55965,     0.55954,     0.55838,     0.55838,     0.55723,     0.55607,\n",
       "            0.55607,     0.55607,     0.55376,      0.5526,      0.5526,     0.55145,     0.55055,     0.54885,     0.54798,     0.54798,     0.54694,     0.54335,     0.54306,     0.53757,     0.53739,     0.53526,      0.5341,      0.5329,     0.53179,     0.53179,     0.53064,     0.52984,     0.52724,\n",
       "            0.52717,     0.52717,     0.52717,     0.52717,     0.52717,     0.52608,     0.52531,     0.52486,     0.52139,     0.52023,      0.5191,     0.51524,     0.51384,     0.51004,     0.50928,     0.50636,     0.50636,     0.50405,     0.50337,     0.49973,     0.49796,     0.49735,     0.49673,\n",
       "            0.49592,     0.49541,     0.49491,     0.49324,     0.49249,     0.49178,     0.49106,     0.48786,     0.48491,     0.48211,     0.48092,     0.48092,     0.47977,     0.47946,     0.47861,     0.47861,      0.4763,      0.4749,     0.47399,     0.47283,     0.47052,     0.46705,     0.46705,\n",
       "            0.46705,     0.46705,     0.46474,     0.46457,     0.46404,     0.46243,     0.46243,     0.46243,     0.46099,     0.45989,     0.45856,     0.45682,     0.45318,      0.4525,     0.45136,     0.44995,     0.44916,      0.4474,      0.4474,     0.44682,     0.44624,     0.44509,     0.44211,\n",
       "            0.44063,     0.43977,     0.43835,     0.43546,     0.43468,     0.43237,     0.43009,     0.42903,     0.42684,     0.42169,     0.41968,      0.4174,     0.41368,     0.41246,     0.40999,     0.40925,     0.40922,     0.40688,     0.40558,     0.40245,     0.40102,         0.4,     0.39896,\n",
       "            0.39769,     0.39705,     0.39653,     0.39644,     0.39551,     0.39456,     0.39359,     0.39191,     0.39191,     0.39111,      0.3896,      0.3896,     0.38746,     0.38347,     0.38106,     0.37803,     0.37645,     0.37468,       0.372,     0.37139,      0.3711,     0.36909,     0.36647,\n",
       "            0.36647,     0.36647,     0.36307,     0.36034,     0.35785,     0.35607,     0.35376,     0.35284,     0.35223,     0.35174,     0.35006,     0.34392,      0.3422,      0.3422,      0.3422,      0.3422,     0.33873,     0.33873,     0.33873,     0.33847,       0.338,     0.33718,     0.33642,\n",
       "            0.33161,     0.33021,     0.32972,     0.32745,     0.32595,     0.32395,     0.32254,     0.32254,     0.32002,     0.31848,     0.31779,     0.31624,     0.31329,     0.31283,     0.31148,     0.30942,     0.30853,     0.30784,     0.30442,     0.30289,     0.30202,     0.29922,     0.29726,\n",
       "            0.29629,     0.29548,     0.29467,     0.29366,     0.29249,     0.29133,     0.29085,     0.28776,     0.28671,     0.28362,     0.28261,     0.28199,     0.28122,     0.28092,     0.27991,     0.27757,      0.2763,      0.2763,     0.27561,     0.27514,     0.27514,     0.27514,     0.27514,\n",
       "            0.27399,     0.27251,     0.27188,     0.27139,     0.27097,     0.27055,     0.27052,      0.2697,     0.26714,     0.26639,      0.2659,     0.26454,     0.26391,     0.26094,     0.26012,     0.25914,      0.2578,      0.2578,     0.25733,     0.25629,      0.2555,     0.25293,     0.25127,\n",
       "            0.25004,     0.24971,     0.24971,     0.24971,     0.24787,     0.24638,     0.24509,     0.24509,     0.24497,     0.23763,     0.23584,     0.23581,     0.23441,     0.23252,     0.23154,     0.22882,     0.22538,     0.22481,     0.22428,     0.22428,     0.22197,     0.22044,     0.21965,\n",
       "            0.21617,     0.21416,     0.21387,     0.21387,     0.21387,     0.21313,     0.21111,     0.20887,     0.20689,     0.20503,      0.2018,     0.20012,     0.19946,     0.19886,     0.19516,     0.19474,     0.19433,     0.19322,     0.19069,     0.18935,     0.18832,     0.18694,     0.18613,\n",
       "            0.18487,     0.18416,     0.18351,     0.18291,     0.18213,     0.18138,     0.18013,     0.17966,     0.17919,     0.17719,     0.17572,     0.17565,     0.17434,     0.17327,     0.17252,       0.172,     0.17137,     0.16869,     0.16824,     0.16779,     0.16728,     0.16673,     0.16619,\n",
       "            0.16538,     0.16496,     0.16458,      0.1642,     0.16274,     0.16084,     0.16037,     0.16003,     0.15969,     0.15766,     0.15681,     0.15623,     0.15376,     0.15376,     0.14957,      0.1477,      0.1471,     0.14517,     0.14335,     0.14335,     0.14281,     0.14133,     0.14032,\n",
       "            0.13965,     0.13918,     0.13873,     0.13699,     0.13609,     0.13571,     0.13533,     0.13473,     0.13405,     0.13298,     0.13224,     0.13061,     0.12952,     0.12862,     0.12788,     0.12723,     0.12629,     0.12534,     0.12468,     0.12433,     0.12398,      0.1233,     0.12214,\n",
       "            0.12146,     0.12112,     0.12082,     0.12052,     0.12022,      0.1194,     0.11875,     0.11821,     0.11776,     0.11741,     0.11706,     0.11627,     0.11445,     0.11357,     0.11017,     0.10691,     0.10602,     0.10556,      0.1051,      0.1046,      0.1041,     0.10268,     0.10243,\n",
       "            0.10218,     0.10193,     0.10168,     0.10144,      0.1012,     0.10096,     0.10072,     0.10052,     0.10037,     0.10022,     0.10008,    0.099931,    0.099785,    0.099639,    0.099493,    0.096967,    0.096488,    0.096009,    0.095404,    0.094798,    0.094798,    0.094798,    0.094798,\n",
       "           0.094798,    0.094798,    0.094798,    0.094798,    0.094798,     0.09441,    0.093262,    0.092311,    0.091629,    0.090982,    0.090361,    0.089966,    0.089669,    0.089371,    0.089074,    0.087098,    0.086224,    0.085537,    0.084328,     0.08357,    0.083063,    0.082751,    0.082439,\n",
       "           0.082128,    0.081764,    0.081392,    0.081019,      0.0808,    0.080173,    0.078517,     0.07817,    0.077823,    0.077475,    0.076459,    0.075885,    0.075396,     0.07393,     0.07366,     0.07339,    0.073119,    0.072849,    0.072484,    0.072113,    0.071742,    0.071676,    0.071676,\n",
       "           0.071427,    0.070882,    0.070311,     0.06969,    0.069295,    0.069148,    0.069001,    0.068855,    0.068708,    0.068561,    0.068415,    0.068268,    0.067857,    0.067263,    0.067052,    0.067052,    0.067052,    0.066787,    0.066272,    0.065815,    0.065516,    0.065216,    0.064916,\n",
       "           0.064416,    0.063627,    0.063055,    0.062496,    0.060597,    0.059826,    0.059224,    0.057594,    0.056824,    0.055638,    0.055283,    0.055049,    0.054814,    0.054579,    0.054345,    0.053149,    0.052897,    0.052644,    0.052391,    0.052139,    0.051855,    0.051546,    0.051236,\n",
       "           0.050927,    0.049551,    0.048838,    0.048433,    0.048231,    0.048028,    0.047826,    0.047624,    0.047422,    0.047008,    0.046568,    0.046243,    0.046243,    0.046243,    0.046243,    0.046243,    0.044986,    0.044019,     0.04245,    0.042039,    0.041628,    0.041286,    0.040946,\n",
       "           0.040606,    0.040139,    0.039579,    0.038865,    0.037937,    0.036804,    0.036061,    0.035136,    0.033269,    0.032781,    0.032356,     0.03227,    0.032183,    0.032096,    0.032009,    0.031922,    0.031836,    0.031749,    0.031662,    0.031575,    0.031489,    0.031402,    0.031315,\n",
       "           0.031228,    0.030058,    0.030058,    0.029909,    0.029575,    0.029241,    0.028907,      0.0276,    0.026809,    0.026361,    0.026044,    0.025727,    0.025281,    0.024063,    0.023636,    0.023209,    0.021692,    0.019931,     0.01947,    0.019205,    0.018941,    0.018677,    0.018465,\n",
       "           0.018363,    0.018261,    0.018159,    0.018058,    0.017956,    0.017854,    0.017753,    0.017651,    0.017549,    0.017448,    0.017346,    0.016879,    0.016393,    0.015858,    0.015286,     0.01498,    0.014891,    0.014801,    0.014712,    0.014623,    0.014534,    0.014445,    0.014356,\n",
       "           0.014266,    0.014177,    0.014088,    0.013999,     0.01391,    0.013711,    0.013434,    0.013157,     0.01288,    0.011899,    0.011166,    0.010692,    0.010359,    0.010243,    0.010127,    0.010011,   0.0098953,   0.0097794,   0.0096635,   0.0095476,   0.0094318,   0.0093159,   0.0080706,\n",
       "          0.0079759,   0.0078812,   0.0077865,   0.0076918,   0.0075971,   0.0075024,   0.0074077,    0.007313,   0.0072183,   0.0071236,   0.0070289,   0.0069308,    0.006685,   0.0064393,   0.0061936,   0.0059478,   0.0057564,    0.005681,   0.0056057,   0.0055303,    0.005455,   0.0053797,   0.0053043,\n",
       "           0.005229,   0.0051537,   0.0050783,    0.005003,   0.0049277,   0.0048523,    0.004777,   0.0047017,   0.0046263,   0.0045219,   0.0044167,   0.0043116,   0.0042064,   0.0041012,    0.003996,   0.0038908,   0.0037856,   0.0036804,   0.0035752,     0.00347,   0.0028846,   0.0023025,   0.0020334,\n",
       "          0.0017643,   0.0014952,   0.0012261,           0,           0,           0,           0,           0,           0,           0,           0,           0,           0,           0,           0,           0,           0,           0,           0,           0,           0,           0,           0,\n",
       "                  0,           0,           0,           0,           0,           0,           0,           0,           0,           0,           0]]), 'Confidence', 'Recall']]\n",
       "fitness: np.float64(0.30154311133200923)\n",
       "keys: ['metrics/precision(B)', 'metrics/recall(B)', 'metrics/mAP50(B)', 'metrics/mAP50-95(B)']\n",
       "maps: array([    0.26911])\n",
       "names: {0: 'cigarette'}\n",
       "plot: True\n",
       "results_dict: {'metrics/precision(B)': np.float64(0.6648484562737011), 'metrics/recall(B)': np.float64(0.5664509505204947), 'metrics/mAP50(B)': np.float64(0.5934346994696881), 'metrics/mAP50-95(B)': np.float64(0.2691107126500449), 'fitness': np.float64(0.30154311133200923)}\n",
       "save_dir: WindowsPath('c:/Users/shihy/runs/detect/train14')\n",
       "speed: {'preprocess': 0.24032504470260058, 'inference': 17.936982048882378, 'loss': 0.0, 'postprocess': 0.4824182133615753}\n",
       "task: 'detect'"
      ]
     },
     "execution_count": 4,
     "metadata": {},
     "output_type": "execute_result"
    }
   ],
   "source": [
    "model.train(\n",
    "    data=\"C:/Users/datasets/data.yaml\",  # 데이터셋 경로\n",
    "    epochs=50,                           # 학습 Epoch 수\n",
    "    patience=10,                         # 조기 종료 설정\n",
    "    imgsz=320,                           # 이미지 크기 (작게 설정)\n",
    "    batch=8,                             # 배치 크기 (작게 설정)\n",
    ")"
   ]
  },
  {
   "cell_type": "code",
   "execution_count": null,
   "metadata": {},
   "outputs": [],
   "source": []
  }
 ],
 "metadata": {
  "kernelspec": {
   "display_name": "smoke",
   "language": "python",
   "name": "python3"
  },
  "language_info": {
   "codemirror_mode": {
    "name": "ipython",
    "version": 3
   },
   "file_extension": ".py",
   "mimetype": "text/x-python",
   "name": "python",
   "nbconvert_exporter": "python",
   "pygments_lexer": "ipython3",
   "version": "3.12.8"
  }
 },
 "nbformat": 4,
 "nbformat_minor": 2
}
