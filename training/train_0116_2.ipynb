{
 "cells": [
  {
   "cell_type": "markdown",
   "metadata": {},
   "source": [
    "train_0116_2 : person"
   ]
  },
  {
   "cell_type": "code",
   "execution_count": 1,
   "metadata": {},
   "outputs": [],
   "source": [
    "import os\n",
    "import cv2\n",
    "%matplotlib inline\n",
    "from ultralytics import YOLO\n",
    "import matplotlib.pyplot as plt"
   ]
  },
  {
   "cell_type": "code",
   "execution_count": 2,
   "metadata": {},
   "outputs": [
    {
     "name": "stdout",
     "output_type": "stream",
     "text": [
      "<class 'dict'> 80\n",
      "{0: 'person', 1: 'bicycle', 2: 'car', 3: 'motorcycle', 4: 'airplane', 5: 'bus', 6: 'train', 7: 'truck', 8: 'boat', 9: 'traffic light', 10: 'fire hydrant', 11: 'stop sign', 12: 'parking meter', 13: 'bench', 14: 'bird', 15: 'cat', 16: 'dog', 17: 'horse', 18: 'sheep', 19: 'cow', 20: 'elephant', 21: 'bear', 22: 'zebra', 23: 'giraffe', 24: 'backpack', 25: 'umbrella', 26: 'handbag', 27: 'tie', 28: 'suitcase', 29: 'frisbee', 30: 'skis', 31: 'snowboard', 32: 'sports ball', 33: 'kite', 34: 'baseball bat', 35: 'baseball glove', 36: 'skateboard', 37: 'surfboard', 38: 'tennis racket', 39: 'bottle', 40: 'wine glass', 41: 'cup', 42: 'fork', 43: 'knife', 44: 'spoon', 45: 'bowl', 46: 'banana', 47: 'apple', 48: 'sandwich', 49: 'orange', 50: 'broccoli', 51: 'carrot', 52: 'hot dog', 53: 'pizza', 54: 'donut', 55: 'cake', 56: 'chair', 57: 'couch', 58: 'potted plant', 59: 'bed', 60: 'dining table', 61: 'toilet', 62: 'tv', 63: 'laptop', 64: 'mouse', 65: 'remote', 66: 'keyboard', 67: 'cell phone', 68: 'microwave', 69: 'oven', 70: 'toaster', 71: 'sink', 72: 'refrigerator', 73: 'book', 74: 'clock', 75: 'vase', 76: 'scissors', 77: 'teddy bear', 78: 'hair drier', 79: 'toothbrush'}\n"
     ]
    }
   ],
   "source": [
    "model = YOLO(\"yolov8n.pt\")\n",
    "print(type(model.names),len(model.names))\n",
    "print(model.names)"
   ]
  },
  {
   "cell_type": "code",
   "execution_count": 3,
   "metadata": {},
   "outputs": [
    {
     "name": "stdout",
     "output_type": "stream",
     "text": [
      "New https://pypi.org/project/ultralytics/8.3.61 available  Update with 'pip install -U ultralytics'\n",
      "Ultralytics 8.3.59  Python-3.12.8 torch-2.5.1+cpu CPU (12th Gen Intel Core(TM) i5-1240P)\n",
      "\u001b[34m\u001b[1mengine\\trainer: \u001b[0mtask=detect, mode=train, model=yolov8n.pt, data=C:/Users/datasets/data.yaml, epochs=50, time=None, patience=10, batch=8, imgsz=320, save=True, save_period=-1, cache=False, device=None, workers=8, project=None, name=train15, exist_ok=False, pretrained=True, optimizer=auto, verbose=True, seed=0, deterministic=True, single_cls=False, rect=False, cos_lr=False, close_mosaic=10, resume=False, amp=True, fraction=1.0, profile=False, freeze=None, multi_scale=False, overlap_mask=True, mask_ratio=4, dropout=0.0, val=True, split=val, save_json=False, save_hybrid=False, conf=None, iou=0.7, max_det=300, half=False, dnn=False, plots=True, source=None, vid_stride=1, stream_buffer=False, visualize=False, augment=False, agnostic_nms=False, classes=None, retina_masks=False, embed=None, show=False, save_frames=False, save_txt=False, save_conf=False, save_crop=False, show_labels=True, show_conf=True, show_boxes=True, line_width=None, format=torchscript, keras=False, optimize=False, int8=False, dynamic=False, simplify=True, opset=None, workspace=None, nms=False, lr0=0.01, lrf=0.01, momentum=0.937, weight_decay=0.0005, warmup_epochs=3.0, warmup_momentum=0.8, warmup_bias_lr=0.1, box=7.5, cls=0.5, dfl=1.5, pose=12.0, kobj=1.0, nbs=64, hsv_h=0.015, hsv_s=0.7, hsv_v=0.4, degrees=0.0, translate=0.1, scale=0.5, shear=0.0, perspective=0.0, flipud=0.0, fliplr=0.5, bgr=0.0, mosaic=1.0, mixup=0.0, copy_paste=0.0, copy_paste_mode=flip, auto_augment=randaugment, erasing=0.4, crop_fraction=1.0, cfg=None, tracker=botsort.yaml, save_dir=c:\\Users\\shihy\\runs\\detect\\train15\n",
      "Overriding model.yaml nc=80 with nc=1\n",
      "\n",
      "                   from  n    params  module                                       arguments                     \n",
      "  0                  -1  1       464  ultralytics.nn.modules.conv.Conv             [3, 16, 3, 2]                 \n",
      "  1                  -1  1      4672  ultralytics.nn.modules.conv.Conv             [16, 32, 3, 2]                \n",
      "  2                  -1  1      7360  ultralytics.nn.modules.block.C2f             [32, 32, 1, True]             \n",
      "  3                  -1  1     18560  ultralytics.nn.modules.conv.Conv             [32, 64, 3, 2]                \n",
      "  4                  -1  2     49664  ultralytics.nn.modules.block.C2f             [64, 64, 2, True]             \n",
      "  5                  -1  1     73984  ultralytics.nn.modules.conv.Conv             [64, 128, 3, 2]               \n",
      "  6                  -1  2    197632  ultralytics.nn.modules.block.C2f             [128, 128, 2, True]           \n",
      "  7                  -1  1    295424  ultralytics.nn.modules.conv.Conv             [128, 256, 3, 2]              \n",
      "  8                  -1  1    460288  ultralytics.nn.modules.block.C2f             [256, 256, 1, True]           \n",
      "  9                  -1  1    164608  ultralytics.nn.modules.block.SPPF            [256, 256, 5]                 \n",
      " 10                  -1  1         0  torch.nn.modules.upsampling.Upsample         [None, 2, 'nearest']          \n",
      " 11             [-1, 6]  1         0  ultralytics.nn.modules.conv.Concat           [1]                           \n",
      " 12                  -1  1    148224  ultralytics.nn.modules.block.C2f             [384, 128, 1]                 \n",
      " 13                  -1  1         0  torch.nn.modules.upsampling.Upsample         [None, 2, 'nearest']          \n",
      " 14             [-1, 4]  1         0  ultralytics.nn.modules.conv.Concat           [1]                           \n",
      " 15                  -1  1     37248  ultralytics.nn.modules.block.C2f             [192, 64, 1]                  \n",
      " 16                  -1  1     36992  ultralytics.nn.modules.conv.Conv             [64, 64, 3, 2]                \n",
      " 17            [-1, 12]  1         0  ultralytics.nn.modules.conv.Concat           [1]                           \n",
      " 18                  -1  1    123648  ultralytics.nn.modules.block.C2f             [192, 128, 1]                 \n",
      " 19                  -1  1    147712  ultralytics.nn.modules.conv.Conv             [128, 128, 3, 2]              \n",
      " 20             [-1, 9]  1         0  ultralytics.nn.modules.conv.Concat           [1]                           \n",
      " 21                  -1  1    493056  ultralytics.nn.modules.block.C2f             [384, 256, 1]                 \n",
      " 22        [15, 18, 21]  1    751507  ultralytics.nn.modules.head.Detect           [1, [64, 128, 256]]           \n",
      "Model summary: 225 layers, 3,011,043 parameters, 3,011,027 gradients, 8.2 GFLOPs\n",
      "\n",
      "Transferred 319/355 items from pretrained weights\n",
      "Freezing layer 'model.22.dfl.conv.weight'\n"
     ]
    },
    {
     "name": "stderr",
     "output_type": "stream",
     "text": [
      "\u001b[34m\u001b[1mtrain: \u001b[0mScanning C:\\Users\\datasets\\train\\labels... 4407 images, 69 backgrounds, 0 corrupt: 100%|██████████| 4407/4407 [00:11<00:00, 380.45it/s]\n"
     ]
    },
    {
     "name": "stdout",
     "output_type": "stream",
     "text": [
      "\u001b[34m\u001b[1mtrain: \u001b[0mNew cache created: C:\\Users\\datasets\\train\\labels.cache\n"
     ]
    },
    {
     "name": "stderr",
     "output_type": "stream",
     "text": [
      "\u001b[34m\u001b[1mval: \u001b[0mScanning C:\\Users\\datasets\\valid\\labels... 1071 images, 44 backgrounds, 0 corrupt: 100%|██████████| 1071/1071 [00:03<00:00, 348.51it/s]\n"
     ]
    },
    {
     "name": "stdout",
     "output_type": "stream",
     "text": [
      "\u001b[34m\u001b[1mval: \u001b[0mNew cache created: C:\\Users\\datasets\\valid\\labels.cache\n",
      "Plotting labels to c:\\Users\\shihy\\runs\\detect\\train15\\labels.jpg... \n",
      "\u001b[34m\u001b[1moptimizer:\u001b[0m 'optimizer=auto' found, ignoring 'lr0=0.01' and 'momentum=0.937' and determining best 'optimizer', 'lr0' and 'momentum' automatically... \n",
      "\u001b[34m\u001b[1moptimizer:\u001b[0m AdamW(lr=0.002, momentum=0.9) with parameter groups 57 weight(decay=0.0), 64 weight(decay=0.0005), 63 bias(decay=0.0)\n",
      "Image sizes 320 train, 320 val\n",
      "Using 0 dataloader workers\n",
      "Logging results to \u001b[1mc:\\Users\\shihy\\runs\\detect\\train15\u001b[0m\n",
      "Starting training for 50 epochs...\n",
      "\n",
      "      Epoch    GPU_mem   box_loss   cls_loss   dfl_loss  Instances       Size\n"
     ]
    },
    {
     "name": "stderr",
     "output_type": "stream",
     "text": [
      "       1/50         0G      1.643      1.927      1.457         28        320: 100%|██████████| 551/551 [05:44<00:00,  1.60it/s]\n",
      "                 Class     Images  Instances      Box(P          R      mAP50  mAP50-95): 100%|██████████| 67/67 [00:34<00:00,  1.94it/s]"
     ]
    },
    {
     "name": "stdout",
     "output_type": "stream",
     "text": [
      "                   all       1071       2293      0.375      0.431      0.321      0.162\n"
     ]
    },
    {
     "name": "stderr",
     "output_type": "stream",
     "text": [
      "\n"
     ]
    },
    {
     "name": "stdout",
     "output_type": "stream",
     "text": [
      "\n",
      "      Epoch    GPU_mem   box_loss   cls_loss   dfl_loss  Instances       Size\n"
     ]
    },
    {
     "name": "stderr",
     "output_type": "stream",
     "text": [
      "       2/50         0G      1.807      1.932      1.585         21        320: 100%|██████████| 551/551 [06:02<00:00,  1.52it/s]\n",
      "                 Class     Images  Instances      Box(P          R      mAP50  mAP50-95): 100%|██████████| 67/67 [00:32<00:00,  2.07it/s]"
     ]
    },
    {
     "name": "stdout",
     "output_type": "stream",
     "text": [
      "                   all       1071       2293      0.531      0.415      0.421      0.198\n"
     ]
    },
    {
     "name": "stderr",
     "output_type": "stream",
     "text": [
      "\n"
     ]
    },
    {
     "name": "stdout",
     "output_type": "stream",
     "text": [
      "\n",
      "      Epoch    GPU_mem   box_loss   cls_loss   dfl_loss  Instances       Size\n"
     ]
    },
    {
     "name": "stderr",
     "output_type": "stream",
     "text": [
      "       3/50         0G      1.811      1.917      1.605         22        320: 100%|██████████| 551/551 [05:39<00:00,  1.62it/s]\n",
      "                 Class     Images  Instances      Box(P          R      mAP50  mAP50-95): 100%|██████████| 67/67 [00:37<00:00,  1.77it/s]"
     ]
    },
    {
     "name": "stdout",
     "output_type": "stream",
     "text": [
      "                   all       1071       2293      0.498      0.447      0.414      0.185\n"
     ]
    },
    {
     "name": "stderr",
     "output_type": "stream",
     "text": [
      "\n"
     ]
    },
    {
     "name": "stdout",
     "output_type": "stream",
     "text": [
      "\n",
      "      Epoch    GPU_mem   box_loss   cls_loss   dfl_loss  Instances       Size\n"
     ]
    },
    {
     "name": "stderr",
     "output_type": "stream",
     "text": [
      "       4/50         0G      1.785      1.875      1.579         16        320: 100%|██████████| 551/551 [05:40<00:00,  1.62it/s]\n",
      "                 Class     Images  Instances      Box(P          R      mAP50  mAP50-95): 100%|██████████| 67/67 [00:32<00:00,  2.03it/s]"
     ]
    },
    {
     "name": "stdout",
     "output_type": "stream",
     "text": [
      "                   all       1071       2293      0.547      0.463      0.478      0.239\n"
     ]
    },
    {
     "name": "stderr",
     "output_type": "stream",
     "text": [
      "\n"
     ]
    },
    {
     "name": "stdout",
     "output_type": "stream",
     "text": [
      "\n",
      "      Epoch    GPU_mem   box_loss   cls_loss   dfl_loss  Instances       Size\n"
     ]
    },
    {
     "name": "stderr",
     "output_type": "stream",
     "text": [
      "       5/50         0G      1.727      1.815      1.543         45        320: 100%|██████████| 551/551 [05:41<00:00,  1.62it/s]\n",
      "                 Class     Images  Instances      Box(P          R      mAP50  mAP50-95): 100%|██████████| 67/67 [00:32<00:00,  2.08it/s]"
     ]
    },
    {
     "name": "stdout",
     "output_type": "stream",
     "text": [
      "                   all       1071       2293      0.604      0.464      0.516      0.265\n"
     ]
    },
    {
     "name": "stderr",
     "output_type": "stream",
     "text": [
      "\n"
     ]
    },
    {
     "name": "stdout",
     "output_type": "stream",
     "text": [
      "\n",
      "      Epoch    GPU_mem   box_loss   cls_loss   dfl_loss  Instances       Size\n"
     ]
    },
    {
     "name": "stderr",
     "output_type": "stream",
     "text": [
      "       6/50         0G      1.676      1.724      1.512         18        320: 100%|██████████| 551/551 [05:40<00:00,  1.62it/s]\n",
      "                 Class     Images  Instances      Box(P          R      mAP50  mAP50-95): 100%|██████████| 67/67 [00:31<00:00,  2.09it/s]"
     ]
    },
    {
     "name": "stdout",
     "output_type": "stream",
     "text": [
      "                   all       1071       2293      0.679      0.503       0.55      0.283\n"
     ]
    },
    {
     "name": "stderr",
     "output_type": "stream",
     "text": [
      "\n"
     ]
    },
    {
     "name": "stdout",
     "output_type": "stream",
     "text": [
      "\n",
      "      Epoch    GPU_mem   box_loss   cls_loss   dfl_loss  Instances       Size\n"
     ]
    },
    {
     "name": "stderr",
     "output_type": "stream",
     "text": [
      "       7/50         0G      1.645      1.679      1.493         17        320: 100%|██████████| 551/551 [05:33<00:00,  1.65it/s]\n",
      "                 Class     Images  Instances      Box(P          R      mAP50  mAP50-95): 100%|██████████| 67/67 [00:32<00:00,  2.06it/s]"
     ]
    },
    {
     "name": "stdout",
     "output_type": "stream",
     "text": [
      "                   all       1071       2293      0.642      0.539      0.569       0.31\n"
     ]
    },
    {
     "name": "stderr",
     "output_type": "stream",
     "text": [
      "\n"
     ]
    },
    {
     "name": "stdout",
     "output_type": "stream",
     "text": [
      "\n",
      "      Epoch    GPU_mem   box_loss   cls_loss   dfl_loss  Instances       Size\n"
     ]
    },
    {
     "name": "stderr",
     "output_type": "stream",
     "text": [
      "       8/50         0G      1.612       1.64      1.471         19        320: 100%|██████████| 551/551 [05:41<00:00,  1.61it/s]\n",
      "                 Class     Images  Instances      Box(P          R      mAP50  mAP50-95): 100%|██████████| 67/67 [00:32<00:00,  2.09it/s]"
     ]
    },
    {
     "name": "stdout",
     "output_type": "stream",
     "text": [
      "                   all       1071       2293      0.674      0.551      0.602       0.33\n"
     ]
    },
    {
     "name": "stderr",
     "output_type": "stream",
     "text": [
      "\n"
     ]
    },
    {
     "name": "stdout",
     "output_type": "stream",
     "text": [
      "\n",
      "      Epoch    GPU_mem   box_loss   cls_loss   dfl_loss  Instances       Size\n"
     ]
    },
    {
     "name": "stderr",
     "output_type": "stream",
     "text": [
      "       9/50         0G      1.583      1.601      1.449         31        320: 100%|██████████| 551/551 [05:40<00:00,  1.62it/s]\n",
      "                 Class     Images  Instances      Box(P          R      mAP50  mAP50-95): 100%|██████████| 67/67 [00:33<00:00,  1.97it/s]"
     ]
    },
    {
     "name": "stdout",
     "output_type": "stream",
     "text": [
      "                   all       1071       2293       0.69      0.555      0.616      0.338\n"
     ]
    },
    {
     "name": "stderr",
     "output_type": "stream",
     "text": [
      "\n"
     ]
    },
    {
     "name": "stdout",
     "output_type": "stream",
     "text": [
      "\n",
      "      Epoch    GPU_mem   box_loss   cls_loss   dfl_loss  Instances       Size\n"
     ]
    },
    {
     "name": "stderr",
     "output_type": "stream",
     "text": [
      "      10/50         0G      1.566      1.566       1.44         21        320: 100%|██████████| 551/551 [05:33<00:00,  1.65it/s]\n",
      "                 Class     Images  Instances      Box(P          R      mAP50  mAP50-95): 100%|██████████| 67/67 [00:32<00:00,  2.08it/s]"
     ]
    },
    {
     "name": "stdout",
     "output_type": "stream",
     "text": [
      "                   all       1071       2293      0.661      0.549      0.607       0.33\n"
     ]
    },
    {
     "name": "stderr",
     "output_type": "stream",
     "text": [
      "\n"
     ]
    },
    {
     "name": "stdout",
     "output_type": "stream",
     "text": [
      "\n",
      "      Epoch    GPU_mem   box_loss   cls_loss   dfl_loss  Instances       Size\n"
     ]
    },
    {
     "name": "stderr",
     "output_type": "stream",
     "text": [
      "      11/50         0G      1.559      1.536       1.43         21        320: 100%|██████████| 551/551 [05:38<00:00,  1.63it/s]\n",
      "                 Class     Images  Instances      Box(P          R      mAP50  mAP50-95): 100%|██████████| 67/67 [00:34<00:00,  1.95it/s]"
     ]
    },
    {
     "name": "stdout",
     "output_type": "stream",
     "text": [
      "                   all       1071       2293      0.708      0.585      0.637      0.359\n"
     ]
    },
    {
     "name": "stderr",
     "output_type": "stream",
     "text": [
      "\n"
     ]
    },
    {
     "name": "stdout",
     "output_type": "stream",
     "text": [
      "\n",
      "      Epoch    GPU_mem   box_loss   cls_loss   dfl_loss  Instances       Size\n"
     ]
    },
    {
     "name": "stderr",
     "output_type": "stream",
     "text": [
      "      12/50         0G      1.531      1.507      1.417         39        320: 100%|██████████| 551/551 [05:38<00:00,  1.63it/s]\n",
      "                 Class     Images  Instances      Box(P          R      mAP50  mAP50-95): 100%|██████████| 67/67 [00:32<00:00,  2.05it/s]"
     ]
    },
    {
     "name": "stdout",
     "output_type": "stream",
     "text": [
      "                   all       1071       2293      0.682      0.585       0.63      0.362\n"
     ]
    },
    {
     "name": "stderr",
     "output_type": "stream",
     "text": [
      "\n"
     ]
    },
    {
     "name": "stdout",
     "output_type": "stream",
     "text": [
      "\n",
      "      Epoch    GPU_mem   box_loss   cls_loss   dfl_loss  Instances       Size\n"
     ]
    },
    {
     "name": "stderr",
     "output_type": "stream",
     "text": [
      "      13/50         0G      1.522      1.477      1.411         28        320: 100%|██████████| 551/551 [05:37<00:00,  1.63it/s]\n",
      "                 Class     Images  Instances      Box(P          R      mAP50  mAP50-95): 100%|██████████| 67/67 [00:31<00:00,  2.12it/s]"
     ]
    },
    {
     "name": "stdout",
     "output_type": "stream",
     "text": [
      "                   all       1071       2293      0.692      0.558       0.62      0.366\n"
     ]
    },
    {
     "name": "stderr",
     "output_type": "stream",
     "text": [
      "\n"
     ]
    },
    {
     "name": "stdout",
     "output_type": "stream",
     "text": [
      "\n",
      "      Epoch    GPU_mem   box_loss   cls_loss   dfl_loss  Instances       Size\n"
     ]
    },
    {
     "name": "stderr",
     "output_type": "stream",
     "text": [
      "      14/50         0G      1.484      1.454      1.383         34        320: 100%|██████████| 551/551 [05:39<00:00,  1.62it/s]\n",
      "                 Class     Images  Instances      Box(P          R      mAP50  mAP50-95): 100%|██████████| 67/67 [00:31<00:00,  2.11it/s]"
     ]
    },
    {
     "name": "stdout",
     "output_type": "stream",
     "text": [
      "                   all       1071       2293      0.741      0.572      0.655      0.376\n"
     ]
    },
    {
     "name": "stderr",
     "output_type": "stream",
     "text": [
      "\n"
     ]
    },
    {
     "name": "stdout",
     "output_type": "stream",
     "text": [
      "\n",
      "      Epoch    GPU_mem   box_loss   cls_loss   dfl_loss  Instances       Size\n"
     ]
    },
    {
     "name": "stderr",
     "output_type": "stream",
     "text": [
      "      15/50         0G      1.493      1.433      1.385         50        320: 100%|██████████| 551/551 [05:41<00:00,  1.62it/s]\n",
      "                 Class     Images  Instances      Box(P          R      mAP50  mAP50-95): 100%|██████████| 67/67 [00:33<00:00,  2.00it/s]"
     ]
    },
    {
     "name": "stdout",
     "output_type": "stream",
     "text": [
      "                   all       1071       2293      0.695      0.585      0.643      0.381\n"
     ]
    },
    {
     "name": "stderr",
     "output_type": "stream",
     "text": [
      "\n"
     ]
    },
    {
     "name": "stdout",
     "output_type": "stream",
     "text": [
      "\n",
      "      Epoch    GPU_mem   box_loss   cls_loss   dfl_loss  Instances       Size\n"
     ]
    },
    {
     "name": "stderr",
     "output_type": "stream",
     "text": [
      "      16/50         0G       1.47      1.414      1.373         28        320: 100%|██████████| 551/551 [05:35<00:00,  1.64it/s]\n",
      "                 Class     Images  Instances      Box(P          R      mAP50  mAP50-95): 100%|██████████| 67/67 [00:33<00:00,  1.99it/s]"
     ]
    },
    {
     "name": "stdout",
     "output_type": "stream",
     "text": [
      "                   all       1071       2293      0.758       0.58      0.655      0.394\n"
     ]
    },
    {
     "name": "stderr",
     "output_type": "stream",
     "text": [
      "\n"
     ]
    },
    {
     "name": "stdout",
     "output_type": "stream",
     "text": [
      "\n",
      "      Epoch    GPU_mem   box_loss   cls_loss   dfl_loss  Instances       Size\n"
     ]
    },
    {
     "name": "stderr",
     "output_type": "stream",
     "text": [
      "      17/50         0G      1.463      1.396      1.374         22        320: 100%|██████████| 551/551 [05:36<00:00,  1.64it/s]\n",
      "                 Class     Images  Instances      Box(P          R      mAP50  mAP50-95): 100%|██████████| 67/67 [00:31<00:00,  2.11it/s]"
     ]
    },
    {
     "name": "stdout",
     "output_type": "stream",
     "text": [
      "                   all       1071       2293      0.727      0.577      0.645      0.376\n"
     ]
    },
    {
     "name": "stderr",
     "output_type": "stream",
     "text": [
      "\n"
     ]
    },
    {
     "name": "stdout",
     "output_type": "stream",
     "text": [
      "\n",
      "      Epoch    GPU_mem   box_loss   cls_loss   dfl_loss  Instances       Size\n"
     ]
    },
    {
     "name": "stderr",
     "output_type": "stream",
     "text": [
      "      18/50         0G      1.432       1.37      1.359         22        320: 100%|██████████| 551/551 [05:38<00:00,  1.63it/s]\n",
      "                 Class     Images  Instances      Box(P          R      mAP50  mAP50-95): 100%|██████████| 67/67 [00:33<00:00,  1.98it/s]"
     ]
    },
    {
     "name": "stdout",
     "output_type": "stream",
     "text": [
      "                   all       1071       2293      0.732      0.608      0.675      0.396\n"
     ]
    },
    {
     "name": "stderr",
     "output_type": "stream",
     "text": [
      "\n"
     ]
    },
    {
     "name": "stdout",
     "output_type": "stream",
     "text": [
      "\n",
      "      Epoch    GPU_mem   box_loss   cls_loss   dfl_loss  Instances       Size\n"
     ]
    },
    {
     "name": "stderr",
     "output_type": "stream",
     "text": [
      "      19/50         0G      1.432      1.351      1.355         26        320: 100%|██████████| 551/551 [05:36<00:00,  1.64it/s]\n",
      "                 Class     Images  Instances      Box(P          R      mAP50  mAP50-95): 100%|██████████| 67/67 [00:32<00:00,  2.05it/s]"
     ]
    },
    {
     "name": "stdout",
     "output_type": "stream",
     "text": [
      "                   all       1071       2293      0.777       0.59      0.684      0.411\n"
     ]
    },
    {
     "name": "stderr",
     "output_type": "stream",
     "text": [
      "\n"
     ]
    },
    {
     "name": "stdout",
     "output_type": "stream",
     "text": [
      "\n",
      "      Epoch    GPU_mem   box_loss   cls_loss   dfl_loss  Instances       Size\n"
     ]
    },
    {
     "name": "stderr",
     "output_type": "stream",
     "text": [
      "      20/50         0G      1.419      1.334      1.341         38        320: 100%|██████████| 551/551 [05:38<00:00,  1.63it/s]\n",
      "                 Class     Images  Instances      Box(P          R      mAP50  mAP50-95): 100%|██████████| 67/67 [00:31<00:00,  2.12it/s]"
     ]
    },
    {
     "name": "stdout",
     "output_type": "stream",
     "text": [
      "                   all       1071       2293      0.734      0.592      0.661      0.391\n"
     ]
    },
    {
     "name": "stderr",
     "output_type": "stream",
     "text": [
      "\n"
     ]
    },
    {
     "name": "stdout",
     "output_type": "stream",
     "text": [
      "\n",
      "      Epoch    GPU_mem   box_loss   cls_loss   dfl_loss  Instances       Size\n"
     ]
    },
    {
     "name": "stderr",
     "output_type": "stream",
     "text": [
      "      21/50         0G       1.42      1.321      1.335         38        320: 100%|██████████| 551/551 [05:35<00:00,  1.64it/s]\n",
      "                 Class     Images  Instances      Box(P          R      mAP50  mAP50-95): 100%|██████████| 67/67 [00:32<00:00,  2.06it/s]"
     ]
    },
    {
     "name": "stdout",
     "output_type": "stream",
     "text": [
      "                   all       1071       2293      0.729      0.616      0.673      0.406\n"
     ]
    },
    {
     "name": "stderr",
     "output_type": "stream",
     "text": [
      "\n"
     ]
    },
    {
     "name": "stdout",
     "output_type": "stream",
     "text": [
      "\n",
      "      Epoch    GPU_mem   box_loss   cls_loss   dfl_loss  Instances       Size\n"
     ]
    },
    {
     "name": "stderr",
     "output_type": "stream",
     "text": [
      "      22/50         0G        1.4      1.286      1.321         20        320: 100%|██████████| 551/551 [05:38<00:00,  1.63it/s]\n",
      "                 Class     Images  Instances      Box(P          R      mAP50  mAP50-95): 100%|██████████| 67/67 [00:31<00:00,  2.13it/s]"
     ]
    },
    {
     "name": "stdout",
     "output_type": "stream",
     "text": [
      "                   all       1071       2293      0.738      0.609      0.681      0.406\n"
     ]
    },
    {
     "name": "stderr",
     "output_type": "stream",
     "text": [
      "\n"
     ]
    },
    {
     "name": "stdout",
     "output_type": "stream",
     "text": [
      "\n",
      "      Epoch    GPU_mem   box_loss   cls_loss   dfl_loss  Instances       Size\n"
     ]
    },
    {
     "name": "stderr",
     "output_type": "stream",
     "text": [
      "      23/50         0G      1.387      1.295      1.327         19        320: 100%|██████████| 551/551 [05:41<00:00,  1.61it/s]\n",
      "                 Class     Images  Instances      Box(P          R      mAP50  mAP50-95): 100%|██████████| 67/67 [00:34<00:00,  1.94it/s]"
     ]
    },
    {
     "name": "stdout",
     "output_type": "stream",
     "text": [
      "                   all       1071       2293      0.751       0.61      0.686      0.415\n"
     ]
    },
    {
     "name": "stderr",
     "output_type": "stream",
     "text": [
      "\n"
     ]
    },
    {
     "name": "stdout",
     "output_type": "stream",
     "text": [
      "\n",
      "      Epoch    GPU_mem   box_loss   cls_loss   dfl_loss  Instances       Size\n"
     ]
    },
    {
     "name": "stderr",
     "output_type": "stream",
     "text": [
      "      24/50         0G      1.382      1.281      1.313         22        320: 100%|██████████| 551/551 [05:42<00:00,  1.61it/s]\n",
      "                 Class     Images  Instances      Box(P          R      mAP50  mAP50-95): 100%|██████████| 67/67 [00:34<00:00,  1.97it/s]"
     ]
    },
    {
     "name": "stdout",
     "output_type": "stream",
     "text": [
      "                   all       1071       2293       0.75      0.624      0.691      0.426\n"
     ]
    },
    {
     "name": "stderr",
     "output_type": "stream",
     "text": [
      "\n"
     ]
    },
    {
     "name": "stdout",
     "output_type": "stream",
     "text": [
      "\n",
      "      Epoch    GPU_mem   box_loss   cls_loss   dfl_loss  Instances       Size\n"
     ]
    },
    {
     "name": "stderr",
     "output_type": "stream",
     "text": [
      "      25/50         0G      1.373       1.26      1.304         30        320: 100%|██████████| 551/551 [05:42<00:00,  1.61it/s]\n",
      "                 Class     Images  Instances      Box(P          R      mAP50  mAP50-95): 100%|██████████| 67/67 [00:32<00:00,  2.05it/s]"
     ]
    },
    {
     "name": "stdout",
     "output_type": "stream",
     "text": [
      "                   all       1071       2293      0.754      0.617      0.681      0.415\n"
     ]
    },
    {
     "name": "stderr",
     "output_type": "stream",
     "text": [
      "\n"
     ]
    },
    {
     "name": "stdout",
     "output_type": "stream",
     "text": [
      "\n",
      "      Epoch    GPU_mem   box_loss   cls_loss   dfl_loss  Instances       Size\n"
     ]
    },
    {
     "name": "stderr",
     "output_type": "stream",
     "text": [
      "      26/50         0G      1.363      1.254      1.305         42        320: 100%|██████████| 551/551 [05:50<00:00,  1.57it/s]\n",
      "                 Class     Images  Instances      Box(P          R      mAP50  mAP50-95): 100%|██████████| 67/67 [00:32<00:00,  2.06it/s]"
     ]
    },
    {
     "name": "stdout",
     "output_type": "stream",
     "text": [
      "                   all       1071       2293      0.742       0.62      0.686      0.413\n"
     ]
    },
    {
     "name": "stderr",
     "output_type": "stream",
     "text": [
      "\n"
     ]
    },
    {
     "name": "stdout",
     "output_type": "stream",
     "text": [
      "\n",
      "      Epoch    GPU_mem   box_loss   cls_loss   dfl_loss  Instances       Size\n"
     ]
    },
    {
     "name": "stderr",
     "output_type": "stream",
     "text": [
      "      27/50         0G      1.357      1.242       1.31         44        320: 100%|██████████| 551/551 [05:39<00:00,  1.62it/s]\n",
      "                 Class     Images  Instances      Box(P          R      mAP50  mAP50-95): 100%|██████████| 67/67 [00:34<00:00,  1.92it/s]"
     ]
    },
    {
     "name": "stdout",
     "output_type": "stream",
     "text": [
      "                   all       1071       2293      0.763      0.618      0.698      0.424\n"
     ]
    },
    {
     "name": "stderr",
     "output_type": "stream",
     "text": [
      "\n"
     ]
    },
    {
     "name": "stdout",
     "output_type": "stream",
     "text": [
      "\n",
      "      Epoch    GPU_mem   box_loss   cls_loss   dfl_loss  Instances       Size\n"
     ]
    },
    {
     "name": "stderr",
     "output_type": "stream",
     "text": [
      "      28/50         0G      1.329      1.206      1.288         55        320: 100%|██████████| 551/551 [05:37<00:00,  1.63it/s]\n",
      "                 Class     Images  Instances      Box(P          R      mAP50  mAP50-95): 100%|██████████| 67/67 [00:32<00:00,  2.05it/s]"
     ]
    },
    {
     "name": "stdout",
     "output_type": "stream",
     "text": [
      "                   all       1071       2293      0.753      0.624      0.693      0.421\n"
     ]
    },
    {
     "name": "stderr",
     "output_type": "stream",
     "text": [
      "\n"
     ]
    },
    {
     "name": "stdout",
     "output_type": "stream",
     "text": [
      "\n",
      "      Epoch    GPU_mem   box_loss   cls_loss   dfl_loss  Instances       Size\n"
     ]
    },
    {
     "name": "stderr",
     "output_type": "stream",
     "text": [
      "      29/50         0G      1.348      1.203      1.285         43        320: 100%|██████████| 551/551 [05:32<00:00,  1.66it/s]\n",
      "                 Class     Images  Instances      Box(P          R      mAP50  mAP50-95): 100%|██████████| 67/67 [00:31<00:00,  2.14it/s]"
     ]
    },
    {
     "name": "stdout",
     "output_type": "stream",
     "text": [
      "                   all       1071       2293       0.75      0.613      0.695      0.426\n"
     ]
    },
    {
     "name": "stderr",
     "output_type": "stream",
     "text": [
      "\n"
     ]
    },
    {
     "name": "stdout",
     "output_type": "stream",
     "text": [
      "\n",
      "      Epoch    GPU_mem   box_loss   cls_loss   dfl_loss  Instances       Size\n"
     ]
    },
    {
     "name": "stderr",
     "output_type": "stream",
     "text": [
      "      30/50         0G      1.325      1.191      1.277         43        320: 100%|██████████| 551/551 [05:35<00:00,  1.64it/s]\n",
      "                 Class     Images  Instances      Box(P          R      mAP50  mAP50-95): 100%|██████████| 67/67 [00:32<00:00,  2.04it/s]"
     ]
    },
    {
     "name": "stdout",
     "output_type": "stream",
     "text": [
      "                   all       1071       2293       0.76      0.635      0.705      0.437\n"
     ]
    },
    {
     "name": "stderr",
     "output_type": "stream",
     "text": [
      "\n"
     ]
    },
    {
     "name": "stdout",
     "output_type": "stream",
     "text": [
      "\n",
      "      Epoch    GPU_mem   box_loss   cls_loss   dfl_loss  Instances       Size\n"
     ]
    },
    {
     "name": "stderr",
     "output_type": "stream",
     "text": [
      "      31/50         0G      1.303      1.173      1.273         19        320: 100%|██████████| 551/551 [05:41<00:00,  1.61it/s]\n",
      "                 Class     Images  Instances      Box(P          R      mAP50  mAP50-95): 100%|██████████| 67/67 [00:35<00:00,  1.90it/s]"
     ]
    },
    {
     "name": "stdout",
     "output_type": "stream",
     "text": [
      "                   all       1071       2293      0.765      0.632        0.7      0.431\n"
     ]
    },
    {
     "name": "stderr",
     "output_type": "stream",
     "text": [
      "\n"
     ]
    },
    {
     "name": "stdout",
     "output_type": "stream",
     "text": [
      "\n",
      "      Epoch    GPU_mem   box_loss   cls_loss   dfl_loss  Instances       Size\n"
     ]
    },
    {
     "name": "stderr",
     "output_type": "stream",
     "text": [
      "      32/50         0G      1.316      1.179      1.277         15        320: 100%|██████████| 551/551 [05:38<00:00,  1.63it/s]\n",
      "                 Class     Images  Instances      Box(P          R      mAP50  mAP50-95): 100%|██████████| 67/67 [00:32<00:00,  2.04it/s]"
     ]
    },
    {
     "name": "stdout",
     "output_type": "stream",
     "text": [
      "                   all       1071       2293      0.762      0.636      0.708      0.447\n"
     ]
    },
    {
     "name": "stderr",
     "output_type": "stream",
     "text": [
      "\n"
     ]
    },
    {
     "name": "stdout",
     "output_type": "stream",
     "text": [
      "\n",
      "      Epoch    GPU_mem   box_loss   cls_loss   dfl_loss  Instances       Size\n"
     ]
    },
    {
     "name": "stderr",
     "output_type": "stream",
     "text": [
      "      33/50         0G      1.307      1.163      1.274         19        320: 100%|██████████| 551/551 [05:35<00:00,  1.64it/s]\n",
      "                 Class     Images  Instances      Box(P          R      mAP50  mAP50-95): 100%|██████████| 67/67 [00:33<00:00,  2.02it/s]"
     ]
    },
    {
     "name": "stdout",
     "output_type": "stream",
     "text": [
      "                   all       1071       2293      0.788      0.632      0.717      0.444\n"
     ]
    },
    {
     "name": "stderr",
     "output_type": "stream",
     "text": [
      "\n"
     ]
    },
    {
     "name": "stdout",
     "output_type": "stream",
     "text": [
      "\n",
      "      Epoch    GPU_mem   box_loss   cls_loss   dfl_loss  Instances       Size\n"
     ]
    },
    {
     "name": "stderr",
     "output_type": "stream",
     "text": [
      "      34/50         0G      1.299      1.148      1.264         39        320: 100%|██████████| 551/551 [06:21<00:00,  1.44it/s]\n",
      "                 Class     Images  Instances      Box(P          R      mAP50  mAP50-95): 100%|██████████| 67/67 [00:33<00:00,  1.97it/s]"
     ]
    },
    {
     "name": "stdout",
     "output_type": "stream",
     "text": [
      "                   all       1071       2293      0.777      0.637       0.71      0.439\n"
     ]
    },
    {
     "name": "stderr",
     "output_type": "stream",
     "text": [
      "\n"
     ]
    },
    {
     "name": "stdout",
     "output_type": "stream",
     "text": [
      "\n",
      "      Epoch    GPU_mem   box_loss   cls_loss   dfl_loss  Instances       Size\n"
     ]
    },
    {
     "name": "stderr",
     "output_type": "stream",
     "text": [
      "      35/50         0G      1.278      1.133      1.256         13        320: 100%|██████████| 551/551 [06:30<00:00,  1.41it/s]\n",
      "                 Class     Images  Instances      Box(P          R      mAP50  mAP50-95): 100%|██████████| 67/67 [00:36<00:00,  1.85it/s]"
     ]
    },
    {
     "name": "stdout",
     "output_type": "stream",
     "text": [
      "                   all       1071       2293      0.797      0.634      0.722      0.442\n"
     ]
    },
    {
     "name": "stderr",
     "output_type": "stream",
     "text": [
      "\n"
     ]
    },
    {
     "name": "stdout",
     "output_type": "stream",
     "text": [
      "\n",
      "      Epoch    GPU_mem   box_loss   cls_loss   dfl_loss  Instances       Size\n"
     ]
    },
    {
     "name": "stderr",
     "output_type": "stream",
     "text": [
      "      36/50         0G      1.283      1.127      1.258         29        320: 100%|██████████| 551/551 [06:37<00:00,  1.39it/s]\n",
      "                 Class     Images  Instances      Box(P          R      mAP50  mAP50-95): 100%|██████████| 67/67 [00:35<00:00,  1.88it/s]"
     ]
    },
    {
     "name": "stdout",
     "output_type": "stream",
     "text": [
      "                   all       1071       2293      0.798      0.637      0.721      0.445\n"
     ]
    },
    {
     "name": "stderr",
     "output_type": "stream",
     "text": [
      "\n"
     ]
    },
    {
     "name": "stdout",
     "output_type": "stream",
     "text": [
      "\n",
      "      Epoch    GPU_mem   box_loss   cls_loss   dfl_loss  Instances       Size\n"
     ]
    },
    {
     "name": "stderr",
     "output_type": "stream",
     "text": [
      "      37/50         0G      1.273      1.112      1.247         17        320: 100%|██████████| 551/551 [06:26<00:00,  1.43it/s]\n",
      "                 Class     Images  Instances      Box(P          R      mAP50  mAP50-95): 100%|██████████| 67/67 [00:33<00:00,  2.02it/s]"
     ]
    },
    {
     "name": "stdout",
     "output_type": "stream",
     "text": [
      "                   all       1071       2293      0.796      0.643      0.724      0.451\n"
     ]
    },
    {
     "name": "stderr",
     "output_type": "stream",
     "text": [
      "\n"
     ]
    },
    {
     "name": "stdout",
     "output_type": "stream",
     "text": [
      "\n",
      "      Epoch    GPU_mem   box_loss   cls_loss   dfl_loss  Instances       Size\n"
     ]
    },
    {
     "name": "stderr",
     "output_type": "stream",
     "text": [
      "      38/50         0G      1.254      1.085      1.243         22        320: 100%|██████████| 551/551 [05:38<00:00,  1.63it/s]\n",
      "                 Class     Images  Instances      Box(P          R      mAP50  mAP50-95): 100%|██████████| 67/67 [00:32<00:00,  2.06it/s]"
     ]
    },
    {
     "name": "stdout",
     "output_type": "stream",
     "text": [
      "                   all       1071       2293      0.787      0.644      0.725      0.451\n"
     ]
    },
    {
     "name": "stderr",
     "output_type": "stream",
     "text": [
      "\n"
     ]
    },
    {
     "name": "stdout",
     "output_type": "stream",
     "text": [
      "\n",
      "      Epoch    GPU_mem   box_loss   cls_loss   dfl_loss  Instances       Size\n"
     ]
    },
    {
     "name": "stderr",
     "output_type": "stream",
     "text": [
      "      39/50         0G       1.25      1.085      1.235         32        320: 100%|██████████| 551/551 [05:30<00:00,  1.67it/s]\n",
      "                 Class     Images  Instances      Box(P          R      mAP50  mAP50-95): 100%|██████████| 67/67 [00:32<00:00,  2.08it/s]"
     ]
    },
    {
     "name": "stdout",
     "output_type": "stream",
     "text": [
      "                   all       1071       2293      0.788      0.644      0.724       0.46\n"
     ]
    },
    {
     "name": "stderr",
     "output_type": "stream",
     "text": [
      "\n"
     ]
    },
    {
     "name": "stdout",
     "output_type": "stream",
     "text": [
      "\n",
      "      Epoch    GPU_mem   box_loss   cls_loss   dfl_loss  Instances       Size\n"
     ]
    },
    {
     "name": "stderr",
     "output_type": "stream",
     "text": [
      "      40/50         0G      1.243      1.077      1.236         25        320: 100%|██████████| 551/551 [05:34<00:00,  1.65it/s]\n",
      "                 Class     Images  Instances      Box(P          R      mAP50  mAP50-95): 100%|██████████| 67/67 [00:35<00:00,  1.90it/s]"
     ]
    },
    {
     "name": "stdout",
     "output_type": "stream",
     "text": [
      "                   all       1071       2293      0.778      0.656      0.731      0.463\n"
     ]
    },
    {
     "name": "stderr",
     "output_type": "stream",
     "text": [
      "\n"
     ]
    },
    {
     "name": "stdout",
     "output_type": "stream",
     "text": [
      "Closing dataloader mosaic\n",
      "\n",
      "      Epoch    GPU_mem   box_loss   cls_loss   dfl_loss  Instances       Size\n"
     ]
    },
    {
     "name": "stderr",
     "output_type": "stream",
     "text": [
      "      41/50         0G      1.198     0.9328      1.182         25        320: 100%|██████████| 551/551 [06:01<00:00,  1.52it/s]\n",
      "                 Class     Images  Instances      Box(P          R      mAP50  mAP50-95): 100%|██████████| 67/67 [00:38<00:00,  1.75it/s]"
     ]
    },
    {
     "name": "stdout",
     "output_type": "stream",
     "text": [
      "                   all       1071       2293      0.776      0.653      0.726       0.46\n"
     ]
    },
    {
     "name": "stderr",
     "output_type": "stream",
     "text": [
      "\n"
     ]
    },
    {
     "name": "stdout",
     "output_type": "stream",
     "text": [
      "\n",
      "      Epoch    GPU_mem   box_loss   cls_loss   dfl_loss  Instances       Size\n"
     ]
    },
    {
     "name": "stderr",
     "output_type": "stream",
     "text": [
      "      42/50         0G      1.178     0.8964      1.177         10        320: 100%|██████████| 551/551 [06:01<00:00,  1.52it/s]\n",
      "                 Class     Images  Instances      Box(P          R      mAP50  mAP50-95): 100%|██████████| 67/67 [00:33<00:00,  1.97it/s]"
     ]
    },
    {
     "name": "stdout",
     "output_type": "stream",
     "text": [
      "                   all       1071       2293      0.792      0.637      0.726      0.461\n"
     ]
    },
    {
     "name": "stderr",
     "output_type": "stream",
     "text": [
      "\n"
     ]
    },
    {
     "name": "stdout",
     "output_type": "stream",
     "text": [
      "\n",
      "      Epoch    GPU_mem   box_loss   cls_loss   dfl_loss  Instances       Size\n"
     ]
    },
    {
     "name": "stderr",
     "output_type": "stream",
     "text": [
      "      43/50         0G      1.164     0.8796      1.169         18        320: 100%|██████████| 551/551 [05:40<00:00,  1.62it/s]\n",
      "                 Class     Images  Instances      Box(P          R      mAP50  mAP50-95): 100%|██████████| 67/67 [00:31<00:00,  2.11it/s]"
     ]
    },
    {
     "name": "stdout",
     "output_type": "stream",
     "text": [
      "                   all       1071       2293      0.771      0.659      0.728      0.463\n"
     ]
    },
    {
     "name": "stderr",
     "output_type": "stream",
     "text": [
      "\n"
     ]
    },
    {
     "name": "stdout",
     "output_type": "stream",
     "text": [
      "\n",
      "      Epoch    GPU_mem   box_loss   cls_loss   dfl_loss  Instances       Size\n"
     ]
    },
    {
     "name": "stderr",
     "output_type": "stream",
     "text": [
      "      44/50         0G      1.148      0.861      1.158         11        320: 100%|██████████| 551/551 [05:23<00:00,  1.71it/s]\n",
      "                 Class     Images  Instances      Box(P          R      mAP50  mAP50-95): 100%|██████████| 67/67 [00:31<00:00,  2.12it/s]"
     ]
    },
    {
     "name": "stdout",
     "output_type": "stream",
     "text": [
      "                   all       1071       2293      0.791       0.65      0.729      0.465\n"
     ]
    },
    {
     "name": "stderr",
     "output_type": "stream",
     "text": [
      "\n"
     ]
    },
    {
     "name": "stdout",
     "output_type": "stream",
     "text": [
      "\n",
      "      Epoch    GPU_mem   box_loss   cls_loss   dfl_loss  Instances       Size\n"
     ]
    },
    {
     "name": "stderr",
     "output_type": "stream",
     "text": [
      "      45/50         0G       1.13     0.8361      1.145         28        320: 100%|██████████| 551/551 [05:26<00:00,  1.69it/s]\n",
      "                 Class     Images  Instances      Box(P          R      mAP50  mAP50-95): 100%|██████████| 67/67 [00:30<00:00,  2.18it/s]"
     ]
    },
    {
     "name": "stdout",
     "output_type": "stream",
     "text": [
      "                   all       1071       2293      0.795      0.648      0.729      0.461\n"
     ]
    },
    {
     "name": "stderr",
     "output_type": "stream",
     "text": [
      "\n"
     ]
    },
    {
     "name": "stdout",
     "output_type": "stream",
     "text": [
      "\n",
      "      Epoch    GPU_mem   box_loss   cls_loss   dfl_loss  Instances       Size\n"
     ]
    },
    {
     "name": "stderr",
     "output_type": "stream",
     "text": [
      "      46/50         0G      1.124     0.8322      1.144         16        320: 100%|██████████| 551/551 [05:16<00:00,  1.74it/s]\n",
      "                 Class     Images  Instances      Box(P          R      mAP50  mAP50-95): 100%|██████████| 67/67 [00:31<00:00,  2.15it/s]"
     ]
    },
    {
     "name": "stdout",
     "output_type": "stream",
     "text": [
      "                   all       1071       2293      0.784      0.651      0.728      0.464\n"
     ]
    },
    {
     "name": "stderr",
     "output_type": "stream",
     "text": [
      "\n"
     ]
    },
    {
     "name": "stdout",
     "output_type": "stream",
     "text": [
      "\n",
      "      Epoch    GPU_mem   box_loss   cls_loss   dfl_loss  Instances       Size\n"
     ]
    },
    {
     "name": "stderr",
     "output_type": "stream",
     "text": [
      "      47/50         0G       1.11     0.8298       1.14         14        320: 100%|██████████| 551/551 [05:21<00:00,  1.71it/s]\n",
      "                 Class     Images  Instances      Box(P          R      mAP50  mAP50-95): 100%|██████████| 67/67 [00:31<00:00,  2.11it/s]"
     ]
    },
    {
     "name": "stdout",
     "output_type": "stream",
     "text": [
      "                   all       1071       2293      0.791      0.655      0.729      0.466\n"
     ]
    },
    {
     "name": "stderr",
     "output_type": "stream",
     "text": [
      "\n"
     ]
    },
    {
     "name": "stdout",
     "output_type": "stream",
     "text": [
      "\n",
      "      Epoch    GPU_mem   box_loss   cls_loss   dfl_loss  Instances       Size\n"
     ]
    },
    {
     "name": "stderr",
     "output_type": "stream",
     "text": [
      "      48/50         0G      1.107     0.8143      1.138          9        320: 100%|██████████| 551/551 [05:23<00:00,  1.71it/s]\n",
      "                 Class     Images  Instances      Box(P          R      mAP50  mAP50-95): 100%|██████████| 67/67 [00:30<00:00,  2.20it/s]"
     ]
    },
    {
     "name": "stdout",
     "output_type": "stream",
     "text": [
      "                   all       1071       2293      0.798       0.65      0.735      0.474\n"
     ]
    },
    {
     "name": "stderr",
     "output_type": "stream",
     "text": [
      "\n"
     ]
    },
    {
     "name": "stdout",
     "output_type": "stream",
     "text": [
      "\n",
      "      Epoch    GPU_mem   box_loss   cls_loss   dfl_loss  Instances       Size\n"
     ]
    },
    {
     "name": "stderr",
     "output_type": "stream",
     "text": [
      "      49/50         0G      1.089     0.7987       1.13         52        320: 100%|██████████| 551/551 [05:15<00:00,  1.75it/s]\n",
      "                 Class     Images  Instances      Box(P          R      mAP50  mAP50-95): 100%|██████████| 67/67 [00:31<00:00,  2.16it/s]"
     ]
    },
    {
     "name": "stdout",
     "output_type": "stream",
     "text": [
      "                   all       1071       2293      0.797      0.663      0.738      0.475\n"
     ]
    },
    {
     "name": "stderr",
     "output_type": "stream",
     "text": [
      "\n"
     ]
    },
    {
     "name": "stdout",
     "output_type": "stream",
     "text": [
      "\n",
      "      Epoch    GPU_mem   box_loss   cls_loss   dfl_loss  Instances       Size\n"
     ]
    },
    {
     "name": "stderr",
     "output_type": "stream",
     "text": [
      "      50/50         0G       1.09     0.7994      1.129         13        320: 100%|██████████| 551/551 [05:20<00:00,  1.72it/s]\n",
      "                 Class     Images  Instances      Box(P          R      mAP50  mAP50-95): 100%|██████████| 67/67 [00:30<00:00,  2.19it/s]"
     ]
    },
    {
     "name": "stdout",
     "output_type": "stream",
     "text": [
      "                   all       1071       2293      0.801      0.648      0.736      0.473\n"
     ]
    },
    {
     "name": "stderr",
     "output_type": "stream",
     "text": [
      "\n"
     ]
    },
    {
     "name": "stdout",
     "output_type": "stream",
     "text": [
      "\n",
      "50 epochs completed in 5.208 hours.\n",
      "Optimizer stripped from c:\\Users\\shihy\\runs\\detect\\train15\\weights\\last.pt, 6.2MB\n",
      "Optimizer stripped from c:\\Users\\shihy\\runs\\detect\\train15\\weights\\best.pt, 6.2MB\n",
      "\n",
      "Validating c:\\Users\\shihy\\runs\\detect\\train15\\weights\\best.pt...\n",
      "Ultralytics 8.3.59  Python-3.12.8 torch-2.5.1+cpu CPU (12th Gen Intel Core(TM) i5-1240P)\n",
      "Model summary (fused): 168 layers, 3,005,843 parameters, 0 gradients, 8.1 GFLOPs\n"
     ]
    },
    {
     "name": "stderr",
     "output_type": "stream",
     "text": [
      "                 Class     Images  Instances      Box(P          R      mAP50  mAP50-95): 100%|██████████| 67/67 [00:26<00:00,  2.51it/s]\n"
     ]
    },
    {
     "name": "stdout",
     "output_type": "stream",
     "text": [
      "                   all       1071       2293      0.796      0.663      0.738      0.475\n",
      "Speed: 0.3ms preprocess, 17.6ms inference, 0.0ms loss, 0.4ms postprocess per image\n",
      "Results saved to \u001b[1mc:\\Users\\shihy\\runs\\detect\\train15\u001b[0m\n"
     ]
    },
    {
     "data": {
      "text/plain": [
       "ultralytics.utils.metrics.DetMetrics object with attributes:\n",
       "\n",
       "ap_class_index: array([0])\n",
       "box: ultralytics.utils.metrics.Metric object\n",
       "confusion_matrix: <ultralytics.utils.metrics.ConfusionMatrix object at 0x000001EA3A149400>\n",
       "curves: ['Precision-Recall(B)', 'F1-Confidence(B)', 'Precision-Confidence(B)', 'Recall-Confidence(B)']\n",
       "curves_results: [[array([          0,    0.001001,    0.002002,    0.003003,    0.004004,    0.005005,    0.006006,    0.007007,    0.008008,    0.009009,     0.01001,    0.011011,    0.012012,    0.013013,    0.014014,    0.015015,    0.016016,    0.017017,    0.018018,    0.019019,     0.02002,    0.021021,    0.022022,    0.023023,\n",
       "          0.024024,    0.025025,    0.026026,    0.027027,    0.028028,    0.029029,     0.03003,    0.031031,    0.032032,    0.033033,    0.034034,    0.035035,    0.036036,    0.037037,    0.038038,    0.039039,     0.04004,    0.041041,    0.042042,    0.043043,    0.044044,    0.045045,    0.046046,    0.047047,\n",
       "          0.048048,    0.049049,     0.05005,    0.051051,    0.052052,    0.053053,    0.054054,    0.055055,    0.056056,    0.057057,    0.058058,    0.059059,     0.06006,    0.061061,    0.062062,    0.063063,    0.064064,    0.065065,    0.066066,    0.067067,    0.068068,    0.069069,     0.07007,    0.071071,\n",
       "          0.072072,    0.073073,    0.074074,    0.075075,    0.076076,    0.077077,    0.078078,    0.079079,     0.08008,    0.081081,    0.082082,    0.083083,    0.084084,    0.085085,    0.086086,    0.087087,    0.088088,    0.089089,     0.09009,    0.091091,    0.092092,    0.093093,    0.094094,    0.095095,\n",
       "          0.096096,    0.097097,    0.098098,    0.099099,      0.1001,      0.1011,      0.1021,      0.1031,      0.1041,     0.10511,     0.10611,     0.10711,     0.10811,     0.10911,     0.11011,     0.11111,     0.11211,     0.11311,     0.11411,     0.11512,     0.11612,     0.11712,     0.11812,     0.11912,\n",
       "           0.12012,     0.12112,     0.12212,     0.12312,     0.12412,     0.12513,     0.12613,     0.12713,     0.12813,     0.12913,     0.13013,     0.13113,     0.13213,     0.13313,     0.13413,     0.13514,     0.13614,     0.13714,     0.13814,     0.13914,     0.14014,     0.14114,     0.14214,     0.14314,\n",
       "           0.14414,     0.14515,     0.14615,     0.14715,     0.14815,     0.14915,     0.15015,     0.15115,     0.15215,     0.15315,     0.15415,     0.15516,     0.15616,     0.15716,     0.15816,     0.15916,     0.16016,     0.16116,     0.16216,     0.16316,     0.16416,     0.16517,     0.16617,     0.16717,\n",
       "           0.16817,     0.16917,     0.17017,     0.17117,     0.17217,     0.17317,     0.17417,     0.17518,     0.17618,     0.17718,     0.17818,     0.17918,     0.18018,     0.18118,     0.18218,     0.18318,     0.18418,     0.18519,     0.18619,     0.18719,     0.18819,     0.18919,     0.19019,     0.19119,\n",
       "           0.19219,     0.19319,     0.19419,      0.1952,      0.1962,      0.1972,      0.1982,      0.1992,      0.2002,      0.2012,      0.2022,      0.2032,      0.2042,     0.20521,     0.20621,     0.20721,     0.20821,     0.20921,     0.21021,     0.21121,     0.21221,     0.21321,     0.21421,     0.21522,\n",
       "           0.21622,     0.21722,     0.21822,     0.21922,     0.22022,     0.22122,     0.22222,     0.22322,     0.22422,     0.22523,     0.22623,     0.22723,     0.22823,     0.22923,     0.23023,     0.23123,     0.23223,     0.23323,     0.23423,     0.23524,     0.23624,     0.23724,     0.23824,     0.23924,\n",
       "           0.24024,     0.24124,     0.24224,     0.24324,     0.24424,     0.24525,     0.24625,     0.24725,     0.24825,     0.24925,     0.25025,     0.25125,     0.25225,     0.25325,     0.25425,     0.25526,     0.25626,     0.25726,     0.25826,     0.25926,     0.26026,     0.26126,     0.26226,     0.26326,\n",
       "           0.26426,     0.26527,     0.26627,     0.26727,     0.26827,     0.26927,     0.27027,     0.27127,     0.27227,     0.27327,     0.27427,     0.27528,     0.27628,     0.27728,     0.27828,     0.27928,     0.28028,     0.28128,     0.28228,     0.28328,     0.28428,     0.28529,     0.28629,     0.28729,\n",
       "           0.28829,     0.28929,     0.29029,     0.29129,     0.29229,     0.29329,     0.29429,      0.2953,      0.2963,      0.2973,      0.2983,      0.2993,      0.3003,      0.3013,      0.3023,      0.3033,      0.3043,     0.30531,     0.30631,     0.30731,     0.30831,     0.30931,     0.31031,     0.31131,\n",
       "           0.31231,     0.31331,     0.31431,     0.31532,     0.31632,     0.31732,     0.31832,     0.31932,     0.32032,     0.32132,     0.32232,     0.32332,     0.32432,     0.32533,     0.32633,     0.32733,     0.32833,     0.32933,     0.33033,     0.33133,     0.33233,     0.33333,     0.33433,     0.33534,\n",
       "           0.33634,     0.33734,     0.33834,     0.33934,     0.34034,     0.34134,     0.34234,     0.34334,     0.34434,     0.34535,     0.34635,     0.34735,     0.34835,     0.34935,     0.35035,     0.35135,     0.35235,     0.35335,     0.35435,     0.35536,     0.35636,     0.35736,     0.35836,     0.35936,\n",
       "           0.36036,     0.36136,     0.36236,     0.36336,     0.36436,     0.36537,     0.36637,     0.36737,     0.36837,     0.36937,     0.37037,     0.37137,     0.37237,     0.37337,     0.37437,     0.37538,     0.37638,     0.37738,     0.37838,     0.37938,     0.38038,     0.38138,     0.38238,     0.38338,\n",
       "           0.38438,     0.38539,     0.38639,     0.38739,     0.38839,     0.38939,     0.39039,     0.39139,     0.39239,     0.39339,     0.39439,      0.3954,      0.3964,      0.3974,      0.3984,      0.3994,      0.4004,      0.4014,      0.4024,      0.4034,      0.4044,     0.40541,     0.40641,     0.40741,\n",
       "           0.40841,     0.40941,     0.41041,     0.41141,     0.41241,     0.41341,     0.41441,     0.41542,     0.41642,     0.41742,     0.41842,     0.41942,     0.42042,     0.42142,     0.42242,     0.42342,     0.42442,     0.42543,     0.42643,     0.42743,     0.42843,     0.42943,     0.43043,     0.43143,\n",
       "           0.43243,     0.43343,     0.43443,     0.43544,     0.43644,     0.43744,     0.43844,     0.43944,     0.44044,     0.44144,     0.44244,     0.44344,     0.44444,     0.44545,     0.44645,     0.44745,     0.44845,     0.44945,     0.45045,     0.45145,     0.45245,     0.45345,     0.45445,     0.45546,\n",
       "           0.45646,     0.45746,     0.45846,     0.45946,     0.46046,     0.46146,     0.46246,     0.46346,     0.46446,     0.46547,     0.46647,     0.46747,     0.46847,     0.46947,     0.47047,     0.47147,     0.47247,     0.47347,     0.47447,     0.47548,     0.47648,     0.47748,     0.47848,     0.47948,\n",
       "           0.48048,     0.48148,     0.48248,     0.48348,     0.48448,     0.48549,     0.48649,     0.48749,     0.48849,     0.48949,     0.49049,     0.49149,     0.49249,     0.49349,     0.49449,      0.4955,      0.4965,      0.4975,      0.4985,      0.4995,      0.5005,      0.5015,      0.5025,      0.5035,\n",
       "            0.5045,     0.50551,     0.50651,     0.50751,     0.50851,     0.50951,     0.51051,     0.51151,     0.51251,     0.51351,     0.51451,     0.51552,     0.51652,     0.51752,     0.51852,     0.51952,     0.52052,     0.52152,     0.52252,     0.52352,     0.52452,     0.52553,     0.52653,     0.52753,\n",
       "           0.52853,     0.52953,     0.53053,     0.53153,     0.53253,     0.53353,     0.53453,     0.53554,     0.53654,     0.53754,     0.53854,     0.53954,     0.54054,     0.54154,     0.54254,     0.54354,     0.54454,     0.54555,     0.54655,     0.54755,     0.54855,     0.54955,     0.55055,     0.55155,\n",
       "           0.55255,     0.55355,     0.55455,     0.55556,     0.55656,     0.55756,     0.55856,     0.55956,     0.56056,     0.56156,     0.56256,     0.56356,     0.56456,     0.56557,     0.56657,     0.56757,     0.56857,     0.56957,     0.57057,     0.57157,     0.57257,     0.57357,     0.57457,     0.57558,\n",
       "           0.57658,     0.57758,     0.57858,     0.57958,     0.58058,     0.58158,     0.58258,     0.58358,     0.58458,     0.58559,     0.58659,     0.58759,     0.58859,     0.58959,     0.59059,     0.59159,     0.59259,     0.59359,     0.59459,      0.5956,      0.5966,      0.5976,      0.5986,      0.5996,\n",
       "            0.6006,      0.6016,      0.6026,      0.6036,      0.6046,     0.60561,     0.60661,     0.60761,     0.60861,     0.60961,     0.61061,     0.61161,     0.61261,     0.61361,     0.61461,     0.61562,     0.61662,     0.61762,     0.61862,     0.61962,     0.62062,     0.62162,     0.62262,     0.62362,\n",
       "           0.62462,     0.62563,     0.62663,     0.62763,     0.62863,     0.62963,     0.63063,     0.63163,     0.63263,     0.63363,     0.63463,     0.63564,     0.63664,     0.63764,     0.63864,     0.63964,     0.64064,     0.64164,     0.64264,     0.64364,     0.64464,     0.64565,     0.64665,     0.64765,\n",
       "           0.64865,     0.64965,     0.65065,     0.65165,     0.65265,     0.65365,     0.65465,     0.65566,     0.65666,     0.65766,     0.65866,     0.65966,     0.66066,     0.66166,     0.66266,     0.66366,     0.66466,     0.66567,     0.66667,     0.66767,     0.66867,     0.66967,     0.67067,     0.67167,\n",
       "           0.67267,     0.67367,     0.67467,     0.67568,     0.67668,     0.67768,     0.67868,     0.67968,     0.68068,     0.68168,     0.68268,     0.68368,     0.68468,     0.68569,     0.68669,     0.68769,     0.68869,     0.68969,     0.69069,     0.69169,     0.69269,     0.69369,     0.69469,      0.6957,\n",
       "            0.6967,      0.6977,      0.6987,      0.6997,      0.7007,      0.7017,      0.7027,      0.7037,      0.7047,     0.70571,     0.70671,     0.70771,     0.70871,     0.70971,     0.71071,     0.71171,     0.71271,     0.71371,     0.71471,     0.71572,     0.71672,     0.71772,     0.71872,     0.71972,\n",
       "           0.72072,     0.72172,     0.72272,     0.72372,     0.72472,     0.72573,     0.72673,     0.72773,     0.72873,     0.72973,     0.73073,     0.73173,     0.73273,     0.73373,     0.73473,     0.73574,     0.73674,     0.73774,     0.73874,     0.73974,     0.74074,     0.74174,     0.74274,     0.74374,\n",
       "           0.74474,     0.74575,     0.74675,     0.74775,     0.74875,     0.74975,     0.75075,     0.75175,     0.75275,     0.75375,     0.75475,     0.75576,     0.75676,     0.75776,     0.75876,     0.75976,     0.76076,     0.76176,     0.76276,     0.76376,     0.76476,     0.76577,     0.76677,     0.76777,\n",
       "           0.76877,     0.76977,     0.77077,     0.77177,     0.77277,     0.77377,     0.77477,     0.77578,     0.77678,     0.77778,     0.77878,     0.77978,     0.78078,     0.78178,     0.78278,     0.78378,     0.78478,     0.78579,     0.78679,     0.78779,     0.78879,     0.78979,     0.79079,     0.79179,\n",
       "           0.79279,     0.79379,     0.79479,      0.7958,      0.7968,      0.7978,      0.7988,      0.7998,      0.8008,      0.8018,      0.8028,      0.8038,      0.8048,     0.80581,     0.80681,     0.80781,     0.80881,     0.80981,     0.81081,     0.81181,     0.81281,     0.81381,     0.81481,     0.81582,\n",
       "           0.81682,     0.81782,     0.81882,     0.81982,     0.82082,     0.82182,     0.82282,     0.82382,     0.82482,     0.82583,     0.82683,     0.82783,     0.82883,     0.82983,     0.83083,     0.83183,     0.83283,     0.83383,     0.83483,     0.83584,     0.83684,     0.83784,     0.83884,     0.83984,\n",
       "           0.84084,     0.84184,     0.84284,     0.84384,     0.84484,     0.84585,     0.84685,     0.84785,     0.84885,     0.84985,     0.85085,     0.85185,     0.85285,     0.85385,     0.85485,     0.85586,     0.85686,     0.85786,     0.85886,     0.85986,     0.86086,     0.86186,     0.86286,     0.86386,\n",
       "           0.86486,     0.86587,     0.86687,     0.86787,     0.86887,     0.86987,     0.87087,     0.87187,     0.87287,     0.87387,     0.87487,     0.87588,     0.87688,     0.87788,     0.87888,     0.87988,     0.88088,     0.88188,     0.88288,     0.88388,     0.88488,     0.88589,     0.88689,     0.88789,\n",
       "           0.88889,     0.88989,     0.89089,     0.89189,     0.89289,     0.89389,     0.89489,      0.8959,      0.8969,      0.8979,      0.8989,      0.8999,      0.9009,      0.9019,      0.9029,      0.9039,      0.9049,     0.90591,     0.90691,     0.90791,     0.90891,     0.90991,     0.91091,     0.91191,\n",
       "           0.91291,     0.91391,     0.91491,     0.91592,     0.91692,     0.91792,     0.91892,     0.91992,     0.92092,     0.92192,     0.92292,     0.92392,     0.92492,     0.92593,     0.92693,     0.92793,     0.92893,     0.92993,     0.93093,     0.93193,     0.93293,     0.93393,     0.93493,     0.93594,\n",
       "           0.93694,     0.93794,     0.93894,     0.93994,     0.94094,     0.94194,     0.94294,     0.94394,     0.94494,     0.94595,     0.94695,     0.94795,     0.94895,     0.94995,     0.95095,     0.95195,     0.95295,     0.95395,     0.95495,     0.95596,     0.95696,     0.95796,     0.95896,     0.95996,\n",
       "           0.96096,     0.96196,     0.96296,     0.96396,     0.96496,     0.96597,     0.96697,     0.96797,     0.96897,     0.96997,     0.97097,     0.97197,     0.97297,     0.97397,     0.97497,     0.97598,     0.97698,     0.97798,     0.97898,     0.97998,     0.98098,     0.98198,     0.98298,     0.98398,\n",
       "           0.98498,     0.98599,     0.98699,     0.98799,     0.98899,     0.98999,     0.99099,     0.99199,     0.99299,     0.99399,     0.99499,       0.996,       0.997,       0.998,       0.999,           1]), array([[          1,           1,           1,           1,           1,           1,           1,           1,           1,           1,           1,           1,           1,           1,           1,           1,           1,           1,           1,           1,           1,           1,           1,\n",
       "                  1,           1,           1,           1,           1,           1,           1,           1,           1,           1,           1,           1,           1,           1,           1,           1,           1,           1,           1,           1,           1,           1,           1,\n",
       "                  1,           1,           1,           1,           1,           1,           1,           1,           1,     0.99394,     0.99394,     0.99394,     0.99394,     0.99394,     0.99394,     0.99394,     0.99394,     0.99394,     0.99394,     0.99394,     0.99394,     0.99394,     0.99394,\n",
       "            0.99394,     0.99394,     0.99394,      0.9881,     0.98592,     0.98592,     0.98592,     0.98592,     0.98592,     0.98592,     0.98592,     0.98592,     0.98592,     0.98592,     0.98592,     0.98592,     0.98592,     0.98592,     0.98592,     0.98592,     0.98592,     0.98592,     0.98592,\n",
       "            0.98454,     0.98454,     0.98454,     0.98454,     0.98454,     0.98454,     0.98454,     0.98454,     0.98454,     0.98454,     0.98454,     0.98454,     0.98454,     0.98454,     0.98454,     0.98454,     0.98454,     0.98454,     0.98454,     0.98454,     0.98454,     0.98454,     0.98454,\n",
       "            0.98454,     0.98454,     0.98454,     0.98454,     0.98454,     0.98454,     0.98454,     0.98454,     0.98454,     0.98454,     0.98454,     0.98454,     0.98454,     0.98454,     0.98454,     0.98454,     0.98454,     0.98454,     0.98454,     0.98454,     0.98454,     0.98454,     0.98454,\n",
       "            0.98454,     0.98454,     0.98454,     0.98454,     0.98454,     0.98454,     0.98454,     0.98454,     0.98454,     0.98454,     0.98454,     0.98454,     0.98454,     0.98454,     0.98454,     0.98454,     0.98454,     0.98454,     0.98454,     0.98454,     0.98454,     0.98454,     0.98454,\n",
       "            0.98454,     0.98454,     0.98454,     0.98454,     0.98454,     0.98454,     0.98309,     0.98309,     0.98309,     0.98309,     0.98309,     0.98309,     0.98309,     0.98309,     0.98309,     0.98309,     0.98309,     0.98301,     0.98301,     0.98301,     0.98301,     0.98301,     0.98301,\n",
       "            0.98301,     0.98301,     0.98301,     0.98301,     0.98301,     0.98301,     0.98301,     0.98301,     0.98301,     0.98301,     0.98301,     0.98301,     0.98301,     0.98301,     0.98301,     0.98301,     0.98301,     0.98301,     0.98109,     0.98109,     0.97984,     0.97984,     0.97984,\n",
       "            0.97984,     0.97984,     0.97984,     0.97984,     0.97984,     0.97843,     0.97843,     0.97843,     0.97843,     0.97843,     0.97843,     0.97661,     0.97597,     0.97597,     0.97597,     0.97597,     0.97597,     0.97597,     0.97597,     0.97597,     0.97597,     0.97597,     0.97597,\n",
       "            0.97597,     0.97459,     0.97459,     0.97459,     0.97445,     0.97445,     0.97445,     0.97445,     0.97445,     0.97445,     0.97445,     0.97445,     0.97445,     0.97445,     0.97445,     0.97445,     0.97445,     0.97445,     0.97445,     0.97445,     0.97377,     0.97377,     0.97377,\n",
       "            0.97377,     0.97377,     0.97377,     0.97377,     0.97377,     0.97377,     0.97348,     0.97348,     0.97348,     0.97348,     0.97348,     0.97348,     0.97348,     0.97348,     0.97348,     0.97348,     0.97348,     0.97348,     0.97348,     0.97252,     0.97252,     0.97252,     0.97252,\n",
       "            0.97252,     0.97252,     0.97202,     0.97202,     0.97202,     0.97202,     0.97202,     0.97202,     0.97202,     0.97202,     0.97202,     0.97202,     0.97171,     0.97171,     0.97171,     0.97171,     0.97171,     0.97171,     0.97171,     0.97171,     0.97171,     0.97171,     0.97171,\n",
       "            0.97171,     0.97051,     0.97051,     0.97027,     0.97027,     0.97027,     0.97027,     0.97027,     0.97027,     0.97027,     0.97027,     0.97027,     0.97027,     0.97027,     0.96913,     0.96913,     0.96796,     0.96684,     0.96684,     0.96579,     0.96579,     0.96494,     0.96494,\n",
       "            0.96494,     0.96494,      0.9646,      0.9646,      0.9646,      0.9646,      0.9646,      0.9646,      0.9646,      0.9646,      0.9646,      0.9638,      0.9638,      0.9638,      0.9638,     0.96301,     0.96301,     0.96301,     0.96301,     0.96196,     0.96168,     0.96168,     0.96168,\n",
       "            0.96168,     0.96168,     0.96168,     0.96168,     0.96168,     0.96149,     0.96149,     0.96149,     0.96149,     0.96149,     0.96149,     0.96149,     0.96149,     0.96149,     0.96132,     0.96132,     0.96132,     0.96132,     0.96132,     0.96132,     0.96132,     0.96132,     0.96132,\n",
       "            0.96132,     0.96107,     0.96107,     0.96107,     0.96107,     0.96107,     0.96107,     0.96107,     0.96107,     0.96013,     0.95912,     0.95842,     0.95842,     0.95842,     0.95747,     0.95657,     0.95455,     0.95294,     0.95294,     0.95294,     0.95294,        0.95,     0.94926,\n",
       "            0.94926,     0.94896,     0.94896,     0.94896,     0.94896,     0.94896,     0.94845,     0.94845,     0.94845,     0.94845,     0.94764,     0.94764,     0.94608,     0.94608,     0.94608,     0.94428,     0.94361,     0.94361,     0.94289,      0.9418,      0.9418,      0.9418,      0.9418,\n",
       "             0.9418,      0.9418,      0.9418,      0.9418,      0.9418,      0.9418,      0.9418,      0.9418,      0.9418,      0.9418,      0.9414,      0.9414,      0.9414,     0.94056,     0.94017,     0.94017,     0.94017,     0.94017,     0.93948,     0.93948,     0.93948,     0.93948,     0.93948,\n",
       "            0.93948,     0.93948,     0.93948,     0.93866,     0.93727,     0.93727,     0.93596,     0.93596,     0.93596,      0.9358,      0.9358,      0.9358,      0.9358,      0.9358,     0.93537,     0.93537,     0.93537,      0.9347,      0.9347,     0.93405,     0.93327,     0.93292,     0.93292,\n",
       "            0.93292,     0.93013,     0.93013,     0.93013,     0.92938,     0.92882,     0.92882,      0.9282,     0.92672,     0.92618,     0.92618,     0.92583,     0.92583,     0.92583,     0.92464,     0.92464,     0.92405,     0.92405,     0.92275,     0.92205,     0.91987,     0.91964,     0.91964,\n",
       "            0.91964,     0.91901,     0.91852,     0.91852,     0.91715,     0.91619,     0.91619,     0.91619,     0.91552,     0.91447,     0.91447,     0.91447,     0.91447,     0.91447,     0.91447,     0.91447,     0.91349,     0.91349,     0.91349,     0.91291,     0.91239,     0.91188,     0.91158,\n",
       "            0.91158,     0.91158,     0.90959,     0.90789,     0.90789,     0.90789,     0.90707,     0.90707,     0.90707,      0.9052,     0.90509,     0.90509,     0.90509,     0.90509,     0.90501,     0.90501,     0.90501,     0.90501,     0.90501,     0.90501,     0.90501,     0.90501,     0.90476,\n",
       "            0.90476,     0.90459,     0.90459,     0.90459,     0.90427,     0.90427,     0.90427,     0.90382,     0.90344,     0.90344,     0.90276,     0.90276,     0.90276,     0.90267,     0.90267,     0.90267,     0.90267,     0.90115,     0.90115,     0.90115,     0.90036,     0.90036,     0.90036,\n",
       "            0.89865,     0.89767,     0.89767,     0.89726,     0.89699,     0.89699,      0.8958,     0.89422,     0.89375,      0.8932,     0.89227,     0.89224,     0.89224,     0.89224,     0.89224,     0.89056,     0.89025,     0.88972,     0.88934,     0.88926,     0.88926,     0.88926,     0.88874,\n",
       "            0.88784,     0.88747,     0.88747,     0.88585,     0.88549,     0.88513,     0.88462,     0.88367,     0.88247,     0.88247,     0.88247,      0.8822,      0.8822,     0.88178,     0.88136,     0.87775,     0.87775,     0.87773,     0.87773,     0.87773,     0.87677,      0.8758,     0.87222,\n",
       "            0.87183,     0.86915,      0.8673,     0.86683,     0.86375,     0.86301,     0.86149,     0.86068,      0.8597,     0.85469,     0.85278,      0.8483,     0.84653,     0.84588,     0.84588,      0.8439,      0.8439,     0.84349,     0.84267,     0.84045,     0.83964,     0.83795,     0.83765,\n",
       "            0.83636,     0.83626,     0.83626,     0.83615,     0.83586,     0.83411,     0.83382,     0.83314,     0.83276,      0.8318,      0.8318,     0.83019,     0.82991,     0.82963,     0.82888,     0.82403,      0.8233,     0.82083,     0.82077,     0.82077,      0.8196,     0.81773,     0.81773,\n",
       "            0.81398,     0.81329,     0.81093,     0.80857,     0.80857,     0.80857,     0.80823,     0.80778,     0.80711,     0.80635,      0.8045,     0.80373,     0.80373,     0.80309,     0.80032,     0.79947,     0.79947,     0.79821,      0.7979,     0.79406,     0.79355,     0.79335,     0.78855,\n",
       "            0.78788,     0.78788,     0.78568,     0.78082,     0.77839,     0.77839,     0.77839,     0.77839,     0.77628,     0.77286,     0.77286,     0.77117,      0.7695,     0.76468,     0.76265,     0.76265,     0.76265,     0.76177,     0.75528,     0.75431,     0.75346,     0.75238,     0.75166,\n",
       "            0.75142,     0.74929,     0.74706,     0.74381,     0.73955,      0.7365,     0.73505,     0.73126,     0.72272,     0.72043,     0.72043,     0.71811,      0.7174,     0.71714,     0.71315,     0.70985,     0.70985,     0.70565,     0.70268,     0.70004,      0.6988,     0.69595,      0.6925,\n",
       "            0.69159,     0.69156,     0.68645,     0.68399,     0.68355,     0.68028,     0.68026,     0.67913,     0.67372,     0.67139,     0.67125,     0.66962,     0.66867,       0.666,     0.65812,     0.65736,     0.64708,     0.64067,     0.63464,     0.62959,     0.62845,     0.62292,     0.62104,\n",
       "            0.61941,     0.61662,     0.61413,     0.61374,     0.61181,     0.60924,     0.60684,     0.60304,     0.60077,     0.59644,     0.59356,      0.5924,     0.59139,     0.59107,     0.58791,     0.58713,     0.58207,     0.57865,     0.57758,     0.57346,     0.57105,     0.56872,      0.5677,\n",
       "            0.56298,     0.55733,     0.55267,     0.54997,     0.54579,     0.54421,     0.53948,     0.53743,     0.53722,     0.53455,     0.53273,      0.5265,     0.52336,     0.52133,     0.51779,     0.51687,     0.51047,     0.50382,     0.50042,     0.49916,     0.49791,     0.49489,     0.49258,\n",
       "            0.48883,     0.48661,     0.48387,     0.47836,     0.47426,     0.47094,     0.46841,     0.46627,     0.46029,     0.45445,     0.45145,     0.44632,     0.44173,     0.43622,     0.43246,     0.42361,     0.42125,     0.41891,     0.41712,      0.4127,      0.4082,     0.40078,     0.39905,\n",
       "            0.39768,     0.38181,     0.37359,     0.37167,      0.3686,     0.35998,      0.3578,     0.35316,     0.34839,      0.3463,     0.34049,     0.33876,     0.33476,     0.33034,     0.32896,     0.32376,     0.31972,     0.31972,     0.31547,     0.30506,     0.30217,     0.29685,     0.28492,\n",
       "            0.28247,     0.27781,     0.27307,     0.27041,     0.26695,     0.26267,     0.25938,     0.25277,     0.24644,     0.23817,     0.23426,     0.22915,     0.22459,     0.22035,     0.21485,     0.21358,     0.21283,     0.21096,     0.20986,     0.20002,     0.19605,     0.19295,     0.19143,\n",
       "            0.18951,     0.18509,     0.18363,     0.18159,     0.18121,     0.17862,      0.1681,     0.16769,     0.16684,     0.16619,      0.1612,      0.1612,     0.15914,       0.156,     0.15544,     0.14983,     0.14236,     0.13873,     0.13756,     0.13541,     0.12967,     0.12814,     0.12717,\n",
       "            0.12261,      0.1214,     0.12081,     0.11541,     0.11292,     0.11204,     0.11068,     0.10763,     0.10204,     0.10035,    0.097493,     0.09594,    0.094468,     0.09313,    0.089816,    0.086755,    0.086359,    0.085923,    0.078594,     0.07614,    0.073554,    0.069969,    0.068423,\n",
       "            0.06736,    0.067057,    0.066379,    0.065878,    0.062394,    0.061055,    0.060333,    0.058579,    0.057105,      0.0565,    0.055892,    0.055285,    0.054677,     0.05407,    0.053462,    0.052854,    0.052247,    0.051639,    0.051032,    0.050424,    0.049817,    0.049209,    0.048602,\n",
       "           0.047994,    0.047387,    0.046779,    0.046172,    0.045564,    0.044957,    0.044349,    0.043742,    0.043134,    0.042527,    0.041919,    0.041312,    0.040704,    0.040096,    0.039489,    0.038881,    0.038274,    0.037666,    0.037059,    0.036451,    0.035844,    0.035236,    0.034629,\n",
       "           0.034021,    0.033414,    0.032806,    0.032199,    0.031591,    0.030984,    0.030376,    0.029769,    0.029161,    0.028554,    0.027946,    0.027339,    0.026731,    0.026123,    0.025516,    0.024908,    0.024301,    0.023693,    0.023086,    0.022478,    0.021871,    0.021263,    0.020656,\n",
       "           0.020048,    0.019441,    0.018833,    0.018226,    0.017618,    0.017011,    0.016403,    0.015796,    0.015188,    0.014581,    0.013973,    0.013365,    0.012758,     0.01215,    0.011543,    0.010935,    0.010328,   0.0097204,   0.0091128,   0.0085053,   0.0078978,   0.0072903,   0.0066827,\n",
       "          0.0060752,   0.0054677,   0.0048602,   0.0042527,   0.0036451,   0.0030376,   0.0024301,   0.0018226,    0.001215,  0.00060752,           0]]), 'Recall', 'Precision'], [array([          0,    0.001001,    0.002002,    0.003003,    0.004004,    0.005005,    0.006006,    0.007007,    0.008008,    0.009009,     0.01001,    0.011011,    0.012012,    0.013013,    0.014014,    0.015015,    0.016016,    0.017017,    0.018018,    0.019019,     0.02002,    0.021021,    0.022022,    0.023023,\n",
       "          0.024024,    0.025025,    0.026026,    0.027027,    0.028028,    0.029029,     0.03003,    0.031031,    0.032032,    0.033033,    0.034034,    0.035035,    0.036036,    0.037037,    0.038038,    0.039039,     0.04004,    0.041041,    0.042042,    0.043043,    0.044044,    0.045045,    0.046046,    0.047047,\n",
       "          0.048048,    0.049049,     0.05005,    0.051051,    0.052052,    0.053053,    0.054054,    0.055055,    0.056056,    0.057057,    0.058058,    0.059059,     0.06006,    0.061061,    0.062062,    0.063063,    0.064064,    0.065065,    0.066066,    0.067067,    0.068068,    0.069069,     0.07007,    0.071071,\n",
       "          0.072072,    0.073073,    0.074074,    0.075075,    0.076076,    0.077077,    0.078078,    0.079079,     0.08008,    0.081081,    0.082082,    0.083083,    0.084084,    0.085085,    0.086086,    0.087087,    0.088088,    0.089089,     0.09009,    0.091091,    0.092092,    0.093093,    0.094094,    0.095095,\n",
       "          0.096096,    0.097097,    0.098098,    0.099099,      0.1001,      0.1011,      0.1021,      0.1031,      0.1041,     0.10511,     0.10611,     0.10711,     0.10811,     0.10911,     0.11011,     0.11111,     0.11211,     0.11311,     0.11411,     0.11512,     0.11612,     0.11712,     0.11812,     0.11912,\n",
       "           0.12012,     0.12112,     0.12212,     0.12312,     0.12412,     0.12513,     0.12613,     0.12713,     0.12813,     0.12913,     0.13013,     0.13113,     0.13213,     0.13313,     0.13413,     0.13514,     0.13614,     0.13714,     0.13814,     0.13914,     0.14014,     0.14114,     0.14214,     0.14314,\n",
       "           0.14414,     0.14515,     0.14615,     0.14715,     0.14815,     0.14915,     0.15015,     0.15115,     0.15215,     0.15315,     0.15415,     0.15516,     0.15616,     0.15716,     0.15816,     0.15916,     0.16016,     0.16116,     0.16216,     0.16316,     0.16416,     0.16517,     0.16617,     0.16717,\n",
       "           0.16817,     0.16917,     0.17017,     0.17117,     0.17217,     0.17317,     0.17417,     0.17518,     0.17618,     0.17718,     0.17818,     0.17918,     0.18018,     0.18118,     0.18218,     0.18318,     0.18418,     0.18519,     0.18619,     0.18719,     0.18819,     0.18919,     0.19019,     0.19119,\n",
       "           0.19219,     0.19319,     0.19419,      0.1952,      0.1962,      0.1972,      0.1982,      0.1992,      0.2002,      0.2012,      0.2022,      0.2032,      0.2042,     0.20521,     0.20621,     0.20721,     0.20821,     0.20921,     0.21021,     0.21121,     0.21221,     0.21321,     0.21421,     0.21522,\n",
       "           0.21622,     0.21722,     0.21822,     0.21922,     0.22022,     0.22122,     0.22222,     0.22322,     0.22422,     0.22523,     0.22623,     0.22723,     0.22823,     0.22923,     0.23023,     0.23123,     0.23223,     0.23323,     0.23423,     0.23524,     0.23624,     0.23724,     0.23824,     0.23924,\n",
       "           0.24024,     0.24124,     0.24224,     0.24324,     0.24424,     0.24525,     0.24625,     0.24725,     0.24825,     0.24925,     0.25025,     0.25125,     0.25225,     0.25325,     0.25425,     0.25526,     0.25626,     0.25726,     0.25826,     0.25926,     0.26026,     0.26126,     0.26226,     0.26326,\n",
       "           0.26426,     0.26527,     0.26627,     0.26727,     0.26827,     0.26927,     0.27027,     0.27127,     0.27227,     0.27327,     0.27427,     0.27528,     0.27628,     0.27728,     0.27828,     0.27928,     0.28028,     0.28128,     0.28228,     0.28328,     0.28428,     0.28529,     0.28629,     0.28729,\n",
       "           0.28829,     0.28929,     0.29029,     0.29129,     0.29229,     0.29329,     0.29429,      0.2953,      0.2963,      0.2973,      0.2983,      0.2993,      0.3003,      0.3013,      0.3023,      0.3033,      0.3043,     0.30531,     0.30631,     0.30731,     0.30831,     0.30931,     0.31031,     0.31131,\n",
       "           0.31231,     0.31331,     0.31431,     0.31532,     0.31632,     0.31732,     0.31832,     0.31932,     0.32032,     0.32132,     0.32232,     0.32332,     0.32432,     0.32533,     0.32633,     0.32733,     0.32833,     0.32933,     0.33033,     0.33133,     0.33233,     0.33333,     0.33433,     0.33534,\n",
       "           0.33634,     0.33734,     0.33834,     0.33934,     0.34034,     0.34134,     0.34234,     0.34334,     0.34434,     0.34535,     0.34635,     0.34735,     0.34835,     0.34935,     0.35035,     0.35135,     0.35235,     0.35335,     0.35435,     0.35536,     0.35636,     0.35736,     0.35836,     0.35936,\n",
       "           0.36036,     0.36136,     0.36236,     0.36336,     0.36436,     0.36537,     0.36637,     0.36737,     0.36837,     0.36937,     0.37037,     0.37137,     0.37237,     0.37337,     0.37437,     0.37538,     0.37638,     0.37738,     0.37838,     0.37938,     0.38038,     0.38138,     0.38238,     0.38338,\n",
       "           0.38438,     0.38539,     0.38639,     0.38739,     0.38839,     0.38939,     0.39039,     0.39139,     0.39239,     0.39339,     0.39439,      0.3954,      0.3964,      0.3974,      0.3984,      0.3994,      0.4004,      0.4014,      0.4024,      0.4034,      0.4044,     0.40541,     0.40641,     0.40741,\n",
       "           0.40841,     0.40941,     0.41041,     0.41141,     0.41241,     0.41341,     0.41441,     0.41542,     0.41642,     0.41742,     0.41842,     0.41942,     0.42042,     0.42142,     0.42242,     0.42342,     0.42442,     0.42543,     0.42643,     0.42743,     0.42843,     0.42943,     0.43043,     0.43143,\n",
       "           0.43243,     0.43343,     0.43443,     0.43544,     0.43644,     0.43744,     0.43844,     0.43944,     0.44044,     0.44144,     0.44244,     0.44344,     0.44444,     0.44545,     0.44645,     0.44745,     0.44845,     0.44945,     0.45045,     0.45145,     0.45245,     0.45345,     0.45445,     0.45546,\n",
       "           0.45646,     0.45746,     0.45846,     0.45946,     0.46046,     0.46146,     0.46246,     0.46346,     0.46446,     0.46547,     0.46647,     0.46747,     0.46847,     0.46947,     0.47047,     0.47147,     0.47247,     0.47347,     0.47447,     0.47548,     0.47648,     0.47748,     0.47848,     0.47948,\n",
       "           0.48048,     0.48148,     0.48248,     0.48348,     0.48448,     0.48549,     0.48649,     0.48749,     0.48849,     0.48949,     0.49049,     0.49149,     0.49249,     0.49349,     0.49449,      0.4955,      0.4965,      0.4975,      0.4985,      0.4995,      0.5005,      0.5015,      0.5025,      0.5035,\n",
       "            0.5045,     0.50551,     0.50651,     0.50751,     0.50851,     0.50951,     0.51051,     0.51151,     0.51251,     0.51351,     0.51451,     0.51552,     0.51652,     0.51752,     0.51852,     0.51952,     0.52052,     0.52152,     0.52252,     0.52352,     0.52452,     0.52553,     0.52653,     0.52753,\n",
       "           0.52853,     0.52953,     0.53053,     0.53153,     0.53253,     0.53353,     0.53453,     0.53554,     0.53654,     0.53754,     0.53854,     0.53954,     0.54054,     0.54154,     0.54254,     0.54354,     0.54454,     0.54555,     0.54655,     0.54755,     0.54855,     0.54955,     0.55055,     0.55155,\n",
       "           0.55255,     0.55355,     0.55455,     0.55556,     0.55656,     0.55756,     0.55856,     0.55956,     0.56056,     0.56156,     0.56256,     0.56356,     0.56456,     0.56557,     0.56657,     0.56757,     0.56857,     0.56957,     0.57057,     0.57157,     0.57257,     0.57357,     0.57457,     0.57558,\n",
       "           0.57658,     0.57758,     0.57858,     0.57958,     0.58058,     0.58158,     0.58258,     0.58358,     0.58458,     0.58559,     0.58659,     0.58759,     0.58859,     0.58959,     0.59059,     0.59159,     0.59259,     0.59359,     0.59459,      0.5956,      0.5966,      0.5976,      0.5986,      0.5996,\n",
       "            0.6006,      0.6016,      0.6026,      0.6036,      0.6046,     0.60561,     0.60661,     0.60761,     0.60861,     0.60961,     0.61061,     0.61161,     0.61261,     0.61361,     0.61461,     0.61562,     0.61662,     0.61762,     0.61862,     0.61962,     0.62062,     0.62162,     0.62262,     0.62362,\n",
       "           0.62462,     0.62563,     0.62663,     0.62763,     0.62863,     0.62963,     0.63063,     0.63163,     0.63263,     0.63363,     0.63463,     0.63564,     0.63664,     0.63764,     0.63864,     0.63964,     0.64064,     0.64164,     0.64264,     0.64364,     0.64464,     0.64565,     0.64665,     0.64765,\n",
       "           0.64865,     0.64965,     0.65065,     0.65165,     0.65265,     0.65365,     0.65465,     0.65566,     0.65666,     0.65766,     0.65866,     0.65966,     0.66066,     0.66166,     0.66266,     0.66366,     0.66466,     0.66567,     0.66667,     0.66767,     0.66867,     0.66967,     0.67067,     0.67167,\n",
       "           0.67267,     0.67367,     0.67467,     0.67568,     0.67668,     0.67768,     0.67868,     0.67968,     0.68068,     0.68168,     0.68268,     0.68368,     0.68468,     0.68569,     0.68669,     0.68769,     0.68869,     0.68969,     0.69069,     0.69169,     0.69269,     0.69369,     0.69469,      0.6957,\n",
       "            0.6967,      0.6977,      0.6987,      0.6997,      0.7007,      0.7017,      0.7027,      0.7037,      0.7047,     0.70571,     0.70671,     0.70771,     0.70871,     0.70971,     0.71071,     0.71171,     0.71271,     0.71371,     0.71471,     0.71572,     0.71672,     0.71772,     0.71872,     0.71972,\n",
       "           0.72072,     0.72172,     0.72272,     0.72372,     0.72472,     0.72573,     0.72673,     0.72773,     0.72873,     0.72973,     0.73073,     0.73173,     0.73273,     0.73373,     0.73473,     0.73574,     0.73674,     0.73774,     0.73874,     0.73974,     0.74074,     0.74174,     0.74274,     0.74374,\n",
       "           0.74474,     0.74575,     0.74675,     0.74775,     0.74875,     0.74975,     0.75075,     0.75175,     0.75275,     0.75375,     0.75475,     0.75576,     0.75676,     0.75776,     0.75876,     0.75976,     0.76076,     0.76176,     0.76276,     0.76376,     0.76476,     0.76577,     0.76677,     0.76777,\n",
       "           0.76877,     0.76977,     0.77077,     0.77177,     0.77277,     0.77377,     0.77477,     0.77578,     0.77678,     0.77778,     0.77878,     0.77978,     0.78078,     0.78178,     0.78278,     0.78378,     0.78478,     0.78579,     0.78679,     0.78779,     0.78879,     0.78979,     0.79079,     0.79179,\n",
       "           0.79279,     0.79379,     0.79479,      0.7958,      0.7968,      0.7978,      0.7988,      0.7998,      0.8008,      0.8018,      0.8028,      0.8038,      0.8048,     0.80581,     0.80681,     0.80781,     0.80881,     0.80981,     0.81081,     0.81181,     0.81281,     0.81381,     0.81481,     0.81582,\n",
       "           0.81682,     0.81782,     0.81882,     0.81982,     0.82082,     0.82182,     0.82282,     0.82382,     0.82482,     0.82583,     0.82683,     0.82783,     0.82883,     0.82983,     0.83083,     0.83183,     0.83283,     0.83383,     0.83483,     0.83584,     0.83684,     0.83784,     0.83884,     0.83984,\n",
       "           0.84084,     0.84184,     0.84284,     0.84384,     0.84484,     0.84585,     0.84685,     0.84785,     0.84885,     0.84985,     0.85085,     0.85185,     0.85285,     0.85385,     0.85485,     0.85586,     0.85686,     0.85786,     0.85886,     0.85986,     0.86086,     0.86186,     0.86286,     0.86386,\n",
       "           0.86486,     0.86587,     0.86687,     0.86787,     0.86887,     0.86987,     0.87087,     0.87187,     0.87287,     0.87387,     0.87487,     0.87588,     0.87688,     0.87788,     0.87888,     0.87988,     0.88088,     0.88188,     0.88288,     0.88388,     0.88488,     0.88589,     0.88689,     0.88789,\n",
       "           0.88889,     0.88989,     0.89089,     0.89189,     0.89289,     0.89389,     0.89489,      0.8959,      0.8969,      0.8979,      0.8989,      0.8999,      0.9009,      0.9019,      0.9029,      0.9039,      0.9049,     0.90591,     0.90691,     0.90791,     0.90891,     0.90991,     0.91091,     0.91191,\n",
       "           0.91291,     0.91391,     0.91491,     0.91592,     0.91692,     0.91792,     0.91892,     0.91992,     0.92092,     0.92192,     0.92292,     0.92392,     0.92492,     0.92593,     0.92693,     0.92793,     0.92893,     0.92993,     0.93093,     0.93193,     0.93293,     0.93393,     0.93493,     0.93594,\n",
       "           0.93694,     0.93794,     0.93894,     0.93994,     0.94094,     0.94194,     0.94294,     0.94394,     0.94494,     0.94595,     0.94695,     0.94795,     0.94895,     0.94995,     0.95095,     0.95195,     0.95295,     0.95395,     0.95495,     0.95596,     0.95696,     0.95796,     0.95896,     0.95996,\n",
       "           0.96096,     0.96196,     0.96296,     0.96396,     0.96496,     0.96597,     0.96697,     0.96797,     0.96897,     0.96997,     0.97097,     0.97197,     0.97297,     0.97397,     0.97497,     0.97598,     0.97698,     0.97798,     0.97898,     0.97998,     0.98098,     0.98198,     0.98298,     0.98398,\n",
       "           0.98498,     0.98599,     0.98699,     0.98799,     0.98899,     0.98999,     0.99099,     0.99199,     0.99299,     0.99399,     0.99499,       0.996,       0.997,       0.998,       0.999,           1]), array([[    0.10709,     0.10715,     0.14756,      0.1773,     0.20164,     0.22138,     0.23927,      0.2565,     0.27132,     0.28441,      0.2981,     0.30931,     0.31924,     0.32958,     0.34001,     0.34864,     0.35758,     0.36646,     0.37454,     0.38189,     0.39024,     0.39889,     0.40528,\n",
       "            0.41204,     0.41872,     0.42505,     0.43173,     0.43862,       0.445,     0.45008,     0.45621,     0.46087,     0.46576,     0.46998,      0.4753,     0.47962,     0.48423,     0.48916,     0.49341,     0.49833,     0.50223,     0.50572,     0.50958,     0.51331,     0.51761,     0.52169,\n",
       "            0.52559,     0.52926,     0.53304,     0.53703,     0.53947,     0.54228,     0.54608,     0.54845,     0.55022,     0.55344,     0.55625,     0.55928,     0.56174,     0.56384,     0.56587,      0.5679,     0.57077,     0.57358,     0.57586,     0.57769,     0.57976,     0.58186,      0.5837,\n",
       "            0.58566,     0.58761,     0.58948,     0.59185,     0.59298,     0.59493,     0.59715,     0.59936,     0.60059,     0.60174,     0.60324,      0.6057,     0.60726,     0.60828,     0.60929,     0.61116,     0.61304,     0.61481,     0.61602,     0.61807,     0.62003,     0.62044,     0.62183,\n",
       "            0.62313,     0.62463,     0.62572,     0.62785,     0.62932,     0.63066,     0.63128,     0.63284,     0.63417,     0.63497,     0.63607,     0.63723,     0.63868,     0.63957,     0.64047,     0.64234,     0.64362,     0.64529,     0.64663,     0.64788,     0.64924,     0.64983,     0.65037,\n",
       "            0.65081,     0.65168,     0.65269,     0.65414,     0.65477,     0.65578,     0.65664,     0.65851,     0.65936,     0.65981,     0.66097,     0.66095,     0.66127,     0.66186,     0.66266,     0.66348,     0.66429,     0.66511,     0.66615,     0.66665,     0.66778,      0.6685,     0.66893,\n",
       "            0.66947,     0.67051,     0.67079,     0.67093,     0.67166,      0.6725,     0.67307,     0.67388,     0.67405,     0.67463,     0.67596,     0.67707,     0.67737,     0.67767,     0.67878,     0.67967,     0.68032,     0.68107,     0.68193,     0.68282,     0.68349,     0.68443,     0.68563,\n",
       "             0.6863,     0.68637,     0.68763,      0.6884,     0.68984,     0.69103,     0.69112,     0.69113,      0.6916,     0.69282,     0.69332,     0.69429,     0.69496,     0.69556,     0.69614,      0.6959,       0.696,     0.69638,     0.69625,     0.69685,     0.69744,     0.69772,     0.69812,\n",
       "            0.69855,     0.69929,     0.69928,     0.69905,      0.6991,     0.69999,      0.6997,     0.69981,     0.70047,     0.70085,     0.70125,     0.70216,     0.70286,     0.70288,     0.70242,      0.7024,     0.70319,     0.70369,     0.70416,     0.70493,     0.70484,     0.70517,     0.70498,\n",
       "            0.70552,     0.70531,     0.70504,     0.70578,     0.70658,     0.70797,     0.70841,      0.7079,     0.70771,      0.7081,     0.70841,     0.70858,     0.70888,     0.70887,     0.70938,     0.70998,     0.71037,     0.70993,     0.70986,     0.71081,     0.71024,     0.70955,     0.71046,\n",
       "             0.7105,     0.71097,     0.71236,     0.71276,     0.71296,     0.71411,     0.71408,     0.71452,     0.71544,     0.71512,     0.71497,     0.71582,     0.71636,     0.71664,     0.71733,     0.71775,     0.71857,     0.71879,     0.71874,     0.71946,     0.71986,      0.7196,     0.71956,\n",
       "            0.71917,      0.7192,     0.71904,     0.71887,     0.71888,     0.71872,     0.71863,     0.71914,     0.71982,     0.72035,     0.72075,     0.72088,     0.72113,      0.7208,     0.71992,     0.72025,     0.72067,     0.72077,     0.72111,     0.72175,     0.72194,     0.72234,     0.72216,\n",
       "            0.72226,     0.72226,     0.72126,     0.72234,      0.7229,     0.72315,     0.72275,     0.72243,     0.72225,     0.72148,     0.72157,     0.72191,      0.7213,     0.72191,      0.7222,     0.72244,     0.72271,     0.72295,     0.72325,     0.72351,     0.72275,     0.72253,     0.72236,\n",
       "            0.72245,     0.72316,     0.72354,     0.72411,     0.72347,     0.72306,     0.72268,     0.72352,     0.72371,     0.72403,      0.7239,     0.72356,     0.72372,      0.7235,     0.72273,     0.72268,     0.72257,     0.72295,     0.72351,      0.7231,     0.72312,     0.72195,     0.72223,\n",
       "            0.72199,     0.72202,     0.72235,     0.72202,     0.72205,     0.72182,     0.72155,     0.72103,     0.72099,     0.72088,     0.72078,     0.72065,     0.71966,     0.71922,     0.71971,     0.71951,       0.719,     0.71931,     0.71937,     0.71943,     0.71987,     0.71971,     0.71969,\n",
       "            0.71949,     0.72003,     0.72018,     0.72023,     0.72029,     0.72035,      0.7195,     0.71971,     0.71966,      0.7199,     0.72001,     0.71977,     0.71864,     0.71891,     0.71848,     0.71832,     0.71803,     0.71863,     0.71902,     0.71915,     0.71934,     0.71946,     0.71945,\n",
       "            0.71919,     0.71903,     0.71892,     0.71881,     0.71885,     0.71845,     0.71844,     0.71782,      0.7182,     0.71808,     0.71798,     0.71734,     0.71719,     0.71702,     0.71669,     0.71623,     0.71638,     0.71582,      0.7159,     0.71533,     0.71575,     0.71552,     0.71456,\n",
       "            0.71429,     0.71385,     0.71319,      0.7132,     0.71291,     0.71239,     0.71227,     0.71259,     0.71253,     0.71244,     0.71195,     0.71212,     0.71222,     0.71196,     0.71222,     0.71203,     0.71173,     0.71171,     0.71168,     0.71142,      0.7105,     0.71045,     0.71054,\n",
       "            0.71067,     0.70988,     0.70959,     0.70961,      0.7097,      0.7098,     0.70986,     0.70958,     0.71016,     0.71027,     0.71043,      0.7103,     0.71064,     0.71086,      0.7107,     0.71106,     0.71121,     0.71132,     0.71134,     0.71106,     0.71052,     0.71072,     0.71061,\n",
       "            0.71083,     0.70991,     0.70993,     0.70986,     0.71042,      0.7101,     0.71003,      0.7097,     0.70991,     0.70954,     0.70939,      0.7095,     0.70967,     0.70958,     0.70969,     0.71008,     0.70964,     0.70974,     0.70915,     0.70955,     0.70992,     0.70971,     0.70943,\n",
       "            0.70955,     0.70917,     0.70912,     0.70899,     0.70912,     0.70851,     0.70707,     0.70681,     0.70616,     0.70571,     0.70566,     0.70573,      0.7058,     0.70623,      0.7062,     0.70601,     0.70606,     0.70555,     0.70485,     0.70457,     0.70434,     0.70337,     0.70249,\n",
       "            0.70217,     0.70215,     0.70175,     0.70174,     0.70099,     0.70019,     0.69991,     0.69979,     0.69975,     0.69914,     0.69901,     0.69895,     0.69906,     0.69829,     0.69787,     0.69789,     0.69681,     0.69582,     0.69559,       0.695,      0.6947,     0.69458,     0.69417,\n",
       "            0.69372,     0.69321,     0.69309,     0.69293,     0.69202,     0.69085,     0.69002,     0.68976,     0.68938,     0.68951,     0.68937,     0.68943,     0.68951,     0.68903,     0.68893,     0.68832,     0.68839,     0.68845,     0.68861,     0.68798,     0.68774,     0.68662,     0.68657,\n",
       "            0.68626,     0.68562,     0.68538,     0.68471,     0.68448,     0.68403,     0.68385,     0.68402,     0.68348,     0.68255,     0.68241,     0.68204,     0.68203,     0.68104,     0.68007,     0.68011,      0.6803,     0.67978,     0.67866,     0.67754,     0.67613,      0.6745,     0.67413,\n",
       "            0.67348,     0.67318,     0.67305,     0.67292,     0.67244,       0.672,     0.67095,     0.67085,     0.67058,     0.67009,     0.66964,     0.66864,     0.66784,     0.66679,     0.66662,     0.66635,     0.66604,     0.66573,     0.66445,     0.66434,     0.66423,     0.66412,      0.6629,\n",
       "            0.66264,     0.66149,      0.6605,     0.66021,     0.65929,     0.65761,     0.65721,     0.65692,     0.65697,      0.6565,     0.65517,     0.65464,     0.65426,     0.65416,     0.65273,     0.65224,     0.65256,     0.65257,     0.65201,     0.65085,     0.65045,     0.65036,     0.64991,\n",
       "            0.64937,     0.64837,     0.64785,     0.64644,     0.64587,     0.64571,     0.64553,     0.64508,     0.64429,     0.64322,     0.64303,     0.64207,     0.64129,     0.64051,     0.64005,     0.63988,     0.63962,     0.63947,     0.63924,     0.63807,     0.63718,     0.63637,     0.63569,\n",
       "            0.63487,     0.63416,     0.63349,      0.6326,     0.63143,     0.63132,     0.63076,     0.63109,     0.63088,     0.62977,      0.6295,     0.62961,      0.6291,     0.62866,      0.6273,     0.62674,     0.62631,     0.62626,     0.62457,     0.62411,     0.62405,     0.62283,     0.62259,\n",
       "            0.62148,     0.62119,     0.62058,     0.61972,     0.61872,     0.61847,      0.6181,     0.61768,     0.61714,     0.61651,     0.61664,     0.61704,     0.61502,     0.61377,     0.61299,     0.61268,     0.61233,     0.61167,     0.61052,     0.60896,     0.60765,     0.60707,     0.60672,\n",
       "            0.60631,     0.60538,     0.60432,     0.60408,      0.6029,     0.60167,     0.60138,     0.60164,     0.60095,     0.59969,     0.59953,     0.59922,     0.59933,     0.59867,     0.59756,     0.59709,     0.59646,     0.59406,     0.59246,     0.59235,     0.59168,     0.59123,     0.59046,\n",
       "            0.59015,     0.58959,     0.58908,     0.58857,     0.58777,     0.58693,     0.58667,     0.58593,     0.58458,     0.58393,     0.58254,      0.5817,     0.57993,     0.57941,     0.57794,     0.57752,     0.57711,     0.57681,     0.57658,     0.57565,     0.57522,     0.57466,     0.57314,\n",
       "            0.57166,     0.57119,     0.56938,     0.56902,     0.56806,     0.56668,     0.56541,     0.56379,     0.56268,     0.56144,     0.56095,     0.55999,     0.55898,     0.55808,     0.55717,     0.55664,     0.55483,     0.55444,     0.55354,     0.55325,     0.55245,     0.55242,     0.55195,\n",
       "            0.55158,     0.55168,      0.5492,     0.54824,     0.54745,     0.54666,     0.54585,     0.54532,     0.54498,     0.54383,     0.54273,     0.54242,     0.54255,     0.54133,     0.54006,     0.53892,     0.53712,     0.53615,     0.53525,      0.5321,     0.53074,     0.52936,     0.52821,\n",
       "            0.52667,     0.52471,     0.52324,     0.52168,     0.51985,     0.51875,     0.51774,     0.51587,     0.51484,      0.5135,     0.51192,     0.51004,     0.50709,     0.50469,     0.50381,     0.50309,     0.50196,     0.50115,     0.50001,      0.4989,     0.49705,     0.49622,     0.49456,\n",
       "            0.49351,     0.49126,      0.4901,      0.4892,     0.48815,     0.48656,     0.48505,     0.48452,     0.48326,     0.47945,      0.4774,     0.47665,     0.47522,     0.47312,     0.47181,     0.46918,     0.46702,     0.46552,     0.46354,       0.462,     0.46139,     0.45963,     0.45799,\n",
       "             0.4565,     0.45384,     0.45195,      0.4497,     0.44706,     0.44404,     0.44118,     0.43634,     0.43235,     0.43186,     0.42866,     0.42732,     0.42556,     0.42465,     0.42442,     0.42236,      0.4201,     0.41689,     0.41492,     0.41328,     0.41005,     0.40764,     0.40528,\n",
       "            0.40369,     0.40222,     0.39814,     0.39703,     0.39568,      0.3904,     0.38706,     0.38523,     0.38196,     0.37873,     0.37573,     0.37426,     0.37203,     0.36843,     0.36649,     0.36271,      0.3597,     0.35734,     0.35641,     0.35548,     0.35307,      0.3516,     0.34898,\n",
       "            0.34604,       0.344,     0.34214,     0.34027,     0.33763,     0.33409,     0.33057,     0.32557,     0.32351,     0.32103,     0.31788,     0.31666,     0.31277,     0.30829,     0.30469,     0.30151,     0.29859,     0.29367,      0.2909,     0.28805,     0.28465,     0.28114,     0.28005,\n",
       "            0.27851,     0.27776,     0.27521,     0.27268,     0.26772,     0.26366,     0.26004,     0.25175,     0.24903,      0.2475,     0.24492,     0.24075,     0.23908,     0.23398,     0.22966,     0.22542,     0.22126,     0.21904,     0.21668,     0.21451,     0.20993,     0.20517,     0.20238,\n",
       "            0.20069,     0.19546,     0.19223,     0.18866,     0.18331,     0.18108,     0.17585,     0.17106,     0.16884,     0.16758,      0.1669,     0.16362,     0.15808,      0.1539,     0.14883,     0.14399,      0.1362,     0.13487,     0.13134,     0.12406,     0.11981,     0.11692,      0.1135,\n",
       "            0.10916,     0.10728,     0.10293,     0.10211,     0.10004,    0.093663,    0.091184,    0.087146,    0.083387,    0.080456,    0.072734,    0.071693,    0.064629,    0.058726,    0.051374,     0.04873,    0.044347,    0.041362,    0.036165,    0.033831,    0.029605,     0.02689,    0.025936,\n",
       "           0.024744,    0.024292,    0.023274,    0.022071,    0.020991,    0.017924,    0.013943,    0.011168,    0.010963,    0.010758,    0.010552,   0.0099808,   0.0085195,   0.0080988,   0.0077572,   0.0075722,   0.0073872,   0.0072021,    0.007017,   0.0064057,   0.0047907,   0.0038105,   0.0030123,\n",
       "          0.0024953,    0.002212,   0.0019286,           0,           0,           0,           0,           0,           0,           0,           0,           0,           0,           0,           0,           0,           0,           0,           0,           0,           0,           0,           0,\n",
       "                  0,           0,           0,           0,           0,           0,           0,           0,           0,           0,           0]]), 'Confidence', 'F1'], [array([          0,    0.001001,    0.002002,    0.003003,    0.004004,    0.005005,    0.006006,    0.007007,    0.008008,    0.009009,     0.01001,    0.011011,    0.012012,    0.013013,    0.014014,    0.015015,    0.016016,    0.017017,    0.018018,    0.019019,     0.02002,    0.021021,    0.022022,    0.023023,\n",
       "          0.024024,    0.025025,    0.026026,    0.027027,    0.028028,    0.029029,     0.03003,    0.031031,    0.032032,    0.033033,    0.034034,    0.035035,    0.036036,    0.037037,    0.038038,    0.039039,     0.04004,    0.041041,    0.042042,    0.043043,    0.044044,    0.045045,    0.046046,    0.047047,\n",
       "          0.048048,    0.049049,     0.05005,    0.051051,    0.052052,    0.053053,    0.054054,    0.055055,    0.056056,    0.057057,    0.058058,    0.059059,     0.06006,    0.061061,    0.062062,    0.063063,    0.064064,    0.065065,    0.066066,    0.067067,    0.068068,    0.069069,     0.07007,    0.071071,\n",
       "          0.072072,    0.073073,    0.074074,    0.075075,    0.076076,    0.077077,    0.078078,    0.079079,     0.08008,    0.081081,    0.082082,    0.083083,    0.084084,    0.085085,    0.086086,    0.087087,    0.088088,    0.089089,     0.09009,    0.091091,    0.092092,    0.093093,    0.094094,    0.095095,\n",
       "          0.096096,    0.097097,    0.098098,    0.099099,      0.1001,      0.1011,      0.1021,      0.1031,      0.1041,     0.10511,     0.10611,     0.10711,     0.10811,     0.10911,     0.11011,     0.11111,     0.11211,     0.11311,     0.11411,     0.11512,     0.11612,     0.11712,     0.11812,     0.11912,\n",
       "           0.12012,     0.12112,     0.12212,     0.12312,     0.12412,     0.12513,     0.12613,     0.12713,     0.12813,     0.12913,     0.13013,     0.13113,     0.13213,     0.13313,     0.13413,     0.13514,     0.13614,     0.13714,     0.13814,     0.13914,     0.14014,     0.14114,     0.14214,     0.14314,\n",
       "           0.14414,     0.14515,     0.14615,     0.14715,     0.14815,     0.14915,     0.15015,     0.15115,     0.15215,     0.15315,     0.15415,     0.15516,     0.15616,     0.15716,     0.15816,     0.15916,     0.16016,     0.16116,     0.16216,     0.16316,     0.16416,     0.16517,     0.16617,     0.16717,\n",
       "           0.16817,     0.16917,     0.17017,     0.17117,     0.17217,     0.17317,     0.17417,     0.17518,     0.17618,     0.17718,     0.17818,     0.17918,     0.18018,     0.18118,     0.18218,     0.18318,     0.18418,     0.18519,     0.18619,     0.18719,     0.18819,     0.18919,     0.19019,     0.19119,\n",
       "           0.19219,     0.19319,     0.19419,      0.1952,      0.1962,      0.1972,      0.1982,      0.1992,      0.2002,      0.2012,      0.2022,      0.2032,      0.2042,     0.20521,     0.20621,     0.20721,     0.20821,     0.20921,     0.21021,     0.21121,     0.21221,     0.21321,     0.21421,     0.21522,\n",
       "           0.21622,     0.21722,     0.21822,     0.21922,     0.22022,     0.22122,     0.22222,     0.22322,     0.22422,     0.22523,     0.22623,     0.22723,     0.22823,     0.22923,     0.23023,     0.23123,     0.23223,     0.23323,     0.23423,     0.23524,     0.23624,     0.23724,     0.23824,     0.23924,\n",
       "           0.24024,     0.24124,     0.24224,     0.24324,     0.24424,     0.24525,     0.24625,     0.24725,     0.24825,     0.24925,     0.25025,     0.25125,     0.25225,     0.25325,     0.25425,     0.25526,     0.25626,     0.25726,     0.25826,     0.25926,     0.26026,     0.26126,     0.26226,     0.26326,\n",
       "           0.26426,     0.26527,     0.26627,     0.26727,     0.26827,     0.26927,     0.27027,     0.27127,     0.27227,     0.27327,     0.27427,     0.27528,     0.27628,     0.27728,     0.27828,     0.27928,     0.28028,     0.28128,     0.28228,     0.28328,     0.28428,     0.28529,     0.28629,     0.28729,\n",
       "           0.28829,     0.28929,     0.29029,     0.29129,     0.29229,     0.29329,     0.29429,      0.2953,      0.2963,      0.2973,      0.2983,      0.2993,      0.3003,      0.3013,      0.3023,      0.3033,      0.3043,     0.30531,     0.30631,     0.30731,     0.30831,     0.30931,     0.31031,     0.31131,\n",
       "           0.31231,     0.31331,     0.31431,     0.31532,     0.31632,     0.31732,     0.31832,     0.31932,     0.32032,     0.32132,     0.32232,     0.32332,     0.32432,     0.32533,     0.32633,     0.32733,     0.32833,     0.32933,     0.33033,     0.33133,     0.33233,     0.33333,     0.33433,     0.33534,\n",
       "           0.33634,     0.33734,     0.33834,     0.33934,     0.34034,     0.34134,     0.34234,     0.34334,     0.34434,     0.34535,     0.34635,     0.34735,     0.34835,     0.34935,     0.35035,     0.35135,     0.35235,     0.35335,     0.35435,     0.35536,     0.35636,     0.35736,     0.35836,     0.35936,\n",
       "           0.36036,     0.36136,     0.36236,     0.36336,     0.36436,     0.36537,     0.36637,     0.36737,     0.36837,     0.36937,     0.37037,     0.37137,     0.37237,     0.37337,     0.37437,     0.37538,     0.37638,     0.37738,     0.37838,     0.37938,     0.38038,     0.38138,     0.38238,     0.38338,\n",
       "           0.38438,     0.38539,     0.38639,     0.38739,     0.38839,     0.38939,     0.39039,     0.39139,     0.39239,     0.39339,     0.39439,      0.3954,      0.3964,      0.3974,      0.3984,      0.3994,      0.4004,      0.4014,      0.4024,      0.4034,      0.4044,     0.40541,     0.40641,     0.40741,\n",
       "           0.40841,     0.40941,     0.41041,     0.41141,     0.41241,     0.41341,     0.41441,     0.41542,     0.41642,     0.41742,     0.41842,     0.41942,     0.42042,     0.42142,     0.42242,     0.42342,     0.42442,     0.42543,     0.42643,     0.42743,     0.42843,     0.42943,     0.43043,     0.43143,\n",
       "           0.43243,     0.43343,     0.43443,     0.43544,     0.43644,     0.43744,     0.43844,     0.43944,     0.44044,     0.44144,     0.44244,     0.44344,     0.44444,     0.44545,     0.44645,     0.44745,     0.44845,     0.44945,     0.45045,     0.45145,     0.45245,     0.45345,     0.45445,     0.45546,\n",
       "           0.45646,     0.45746,     0.45846,     0.45946,     0.46046,     0.46146,     0.46246,     0.46346,     0.46446,     0.46547,     0.46647,     0.46747,     0.46847,     0.46947,     0.47047,     0.47147,     0.47247,     0.47347,     0.47447,     0.47548,     0.47648,     0.47748,     0.47848,     0.47948,\n",
       "           0.48048,     0.48148,     0.48248,     0.48348,     0.48448,     0.48549,     0.48649,     0.48749,     0.48849,     0.48949,     0.49049,     0.49149,     0.49249,     0.49349,     0.49449,      0.4955,      0.4965,      0.4975,      0.4985,      0.4995,      0.5005,      0.5015,      0.5025,      0.5035,\n",
       "            0.5045,     0.50551,     0.50651,     0.50751,     0.50851,     0.50951,     0.51051,     0.51151,     0.51251,     0.51351,     0.51451,     0.51552,     0.51652,     0.51752,     0.51852,     0.51952,     0.52052,     0.52152,     0.52252,     0.52352,     0.52452,     0.52553,     0.52653,     0.52753,\n",
       "           0.52853,     0.52953,     0.53053,     0.53153,     0.53253,     0.53353,     0.53453,     0.53554,     0.53654,     0.53754,     0.53854,     0.53954,     0.54054,     0.54154,     0.54254,     0.54354,     0.54454,     0.54555,     0.54655,     0.54755,     0.54855,     0.54955,     0.55055,     0.55155,\n",
       "           0.55255,     0.55355,     0.55455,     0.55556,     0.55656,     0.55756,     0.55856,     0.55956,     0.56056,     0.56156,     0.56256,     0.56356,     0.56456,     0.56557,     0.56657,     0.56757,     0.56857,     0.56957,     0.57057,     0.57157,     0.57257,     0.57357,     0.57457,     0.57558,\n",
       "           0.57658,     0.57758,     0.57858,     0.57958,     0.58058,     0.58158,     0.58258,     0.58358,     0.58458,     0.58559,     0.58659,     0.58759,     0.58859,     0.58959,     0.59059,     0.59159,     0.59259,     0.59359,     0.59459,      0.5956,      0.5966,      0.5976,      0.5986,      0.5996,\n",
       "            0.6006,      0.6016,      0.6026,      0.6036,      0.6046,     0.60561,     0.60661,     0.60761,     0.60861,     0.60961,     0.61061,     0.61161,     0.61261,     0.61361,     0.61461,     0.61562,     0.61662,     0.61762,     0.61862,     0.61962,     0.62062,     0.62162,     0.62262,     0.62362,\n",
       "           0.62462,     0.62563,     0.62663,     0.62763,     0.62863,     0.62963,     0.63063,     0.63163,     0.63263,     0.63363,     0.63463,     0.63564,     0.63664,     0.63764,     0.63864,     0.63964,     0.64064,     0.64164,     0.64264,     0.64364,     0.64464,     0.64565,     0.64665,     0.64765,\n",
       "           0.64865,     0.64965,     0.65065,     0.65165,     0.65265,     0.65365,     0.65465,     0.65566,     0.65666,     0.65766,     0.65866,     0.65966,     0.66066,     0.66166,     0.66266,     0.66366,     0.66466,     0.66567,     0.66667,     0.66767,     0.66867,     0.66967,     0.67067,     0.67167,\n",
       "           0.67267,     0.67367,     0.67467,     0.67568,     0.67668,     0.67768,     0.67868,     0.67968,     0.68068,     0.68168,     0.68268,     0.68368,     0.68468,     0.68569,     0.68669,     0.68769,     0.68869,     0.68969,     0.69069,     0.69169,     0.69269,     0.69369,     0.69469,      0.6957,\n",
       "            0.6967,      0.6977,      0.6987,      0.6997,      0.7007,      0.7017,      0.7027,      0.7037,      0.7047,     0.70571,     0.70671,     0.70771,     0.70871,     0.70971,     0.71071,     0.71171,     0.71271,     0.71371,     0.71471,     0.71572,     0.71672,     0.71772,     0.71872,     0.71972,\n",
       "           0.72072,     0.72172,     0.72272,     0.72372,     0.72472,     0.72573,     0.72673,     0.72773,     0.72873,     0.72973,     0.73073,     0.73173,     0.73273,     0.73373,     0.73473,     0.73574,     0.73674,     0.73774,     0.73874,     0.73974,     0.74074,     0.74174,     0.74274,     0.74374,\n",
       "           0.74474,     0.74575,     0.74675,     0.74775,     0.74875,     0.74975,     0.75075,     0.75175,     0.75275,     0.75375,     0.75475,     0.75576,     0.75676,     0.75776,     0.75876,     0.75976,     0.76076,     0.76176,     0.76276,     0.76376,     0.76476,     0.76577,     0.76677,     0.76777,\n",
       "           0.76877,     0.76977,     0.77077,     0.77177,     0.77277,     0.77377,     0.77477,     0.77578,     0.77678,     0.77778,     0.77878,     0.77978,     0.78078,     0.78178,     0.78278,     0.78378,     0.78478,     0.78579,     0.78679,     0.78779,     0.78879,     0.78979,     0.79079,     0.79179,\n",
       "           0.79279,     0.79379,     0.79479,      0.7958,      0.7968,      0.7978,      0.7988,      0.7998,      0.8008,      0.8018,      0.8028,      0.8038,      0.8048,     0.80581,     0.80681,     0.80781,     0.80881,     0.80981,     0.81081,     0.81181,     0.81281,     0.81381,     0.81481,     0.81582,\n",
       "           0.81682,     0.81782,     0.81882,     0.81982,     0.82082,     0.82182,     0.82282,     0.82382,     0.82482,     0.82583,     0.82683,     0.82783,     0.82883,     0.82983,     0.83083,     0.83183,     0.83283,     0.83383,     0.83483,     0.83584,     0.83684,     0.83784,     0.83884,     0.83984,\n",
       "           0.84084,     0.84184,     0.84284,     0.84384,     0.84484,     0.84585,     0.84685,     0.84785,     0.84885,     0.84985,     0.85085,     0.85185,     0.85285,     0.85385,     0.85485,     0.85586,     0.85686,     0.85786,     0.85886,     0.85986,     0.86086,     0.86186,     0.86286,     0.86386,\n",
       "           0.86486,     0.86587,     0.86687,     0.86787,     0.86887,     0.86987,     0.87087,     0.87187,     0.87287,     0.87387,     0.87487,     0.87588,     0.87688,     0.87788,     0.87888,     0.87988,     0.88088,     0.88188,     0.88288,     0.88388,     0.88488,     0.88589,     0.88689,     0.88789,\n",
       "           0.88889,     0.88989,     0.89089,     0.89189,     0.89289,     0.89389,     0.89489,      0.8959,      0.8969,      0.8979,      0.8989,      0.8999,      0.9009,      0.9019,      0.9029,      0.9039,      0.9049,     0.90591,     0.90691,     0.90791,     0.90891,     0.90991,     0.91091,     0.91191,\n",
       "           0.91291,     0.91391,     0.91491,     0.91592,     0.91692,     0.91792,     0.91892,     0.91992,     0.92092,     0.92192,     0.92292,     0.92392,     0.92492,     0.92593,     0.92693,     0.92793,     0.92893,     0.92993,     0.93093,     0.93193,     0.93293,     0.93393,     0.93493,     0.93594,\n",
       "           0.93694,     0.93794,     0.93894,     0.93994,     0.94094,     0.94194,     0.94294,     0.94394,     0.94494,     0.94595,     0.94695,     0.94795,     0.94895,     0.94995,     0.95095,     0.95195,     0.95295,     0.95395,     0.95495,     0.95596,     0.95696,     0.95796,     0.95896,     0.95996,\n",
       "           0.96096,     0.96196,     0.96296,     0.96396,     0.96496,     0.96597,     0.96697,     0.96797,     0.96897,     0.96997,     0.97097,     0.97197,     0.97297,     0.97397,     0.97497,     0.97598,     0.97698,     0.97798,     0.97898,     0.97998,     0.98098,     0.98198,     0.98298,     0.98398,\n",
       "           0.98498,     0.98599,     0.98699,     0.98799,     0.98899,     0.98999,     0.99099,     0.99199,     0.99299,     0.99399,     0.99499,       0.996,       0.997,       0.998,       0.999,           1]), array([[   0.056907,    0.056941,    0.080428,    0.098522,     0.11389,     0.12674,     0.13874,     0.15053,     0.16096,     0.17048,     0.18047,     0.18895,      0.1966,      0.2046,     0.21284,     0.21979,     0.22711,     0.23446,     0.24122,     0.24747,     0.25456,     0.26211,     0.26788,\n",
       "            0.27395,     0.28004,     0.28599,     0.29213,     0.29853,     0.30459,     0.30949,     0.31542,     0.32032,      0.3252,     0.32954,     0.33501,     0.33955,     0.34443,     0.34967,     0.35428,     0.35964,     0.36388,     0.36765,     0.37202,      0.3762,     0.38093,     0.38547,\n",
       "            0.38985,       0.394,     0.39832,     0.40333,     0.40621,     0.40962,     0.41409,     0.41703,     0.41947,      0.4236,     0.42702,      0.4306,     0.43378,     0.43681,     0.43925,     0.44185,     0.44546,     0.44918,     0.45226,     0.45482,     0.45753,     0.46041,     0.46276,\n",
       "            0.46537,      0.4683,     0.47089,     0.47402,     0.47612,     0.47897,     0.48184,      0.4849,     0.48701,      0.4887,     0.49103,     0.49447,     0.49708,     0.49898,     0.50106,      0.5036,     0.50653,     0.50895,     0.51098,       0.514,     0.51673,     0.51807,     0.52021,\n",
       "            0.52243,     0.52475,     0.52669,     0.52972,     0.53202,     0.53435,     0.53588,       0.539,     0.54136,     0.54275,     0.54458,     0.54674,      0.5491,     0.55086,     0.55266,     0.55569,     0.55785,     0.56036,     0.56262,     0.56475,     0.56731,     0.56871,     0.57001,\n",
       "            0.57092,     0.57278,      0.5746,      0.5771,     0.57834,     0.58045,     0.58231,     0.58525,     0.58704,     0.58864,     0.59097,     0.59182,     0.59316,     0.59466,     0.59651,     0.59784,     0.59915,     0.60106,     0.60333,     0.60444,      0.6063,     0.60808,     0.60919,\n",
       "            0.61056,     0.61259,     0.61362,      0.6148,     0.61607,     0.61806,     0.61976,     0.62163,     0.62223,     0.62416,     0.62644,     0.62843,     0.62951,     0.63067,      0.6326,     0.63448,     0.63594,     0.63758,     0.63909,       0.641,     0.64217,     0.64418,     0.64631,\n",
       "            0.64792,     0.64866,     0.65091,     0.65229,     0.65489,     0.65703,     0.65769,     0.65828,     0.65913,     0.66136,     0.66226,      0.6644,     0.66563,     0.66711,     0.66817,     0.66882,     0.66976,     0.67122,     0.67188,     0.67323,     0.67508,     0.67599,     0.67675,\n",
       "            0.67755,     0.67896,     0.67971,     0.68004,     0.68053,     0.68221,     0.68243,     0.68385,     0.68511,     0.68625,     0.68741,     0.68916,     0.69092,     0.69151,      0.6921,      0.6929,     0.69486,     0.69582,     0.69717,     0.69867,     0.69934,     0.69999,     0.70048,\n",
       "            0.70153,     0.70242,      0.7023,     0.70376,      0.7058,     0.70856,     0.70944,     0.70953,     0.71026,     0.71103,     0.71165,       0.712,     0.71305,     0.71349,     0.71453,     0.71574,     0.71701,     0.71731,     0.71822,     0.72022,     0.72022,     0.72033,     0.72221,\n",
       "            0.72263,     0.72374,     0.72662,     0.72745,     0.72812,     0.73074,     0.73117,     0.73305,       0.735,     0.73528,     0.73619,     0.73824,     0.73938,     0.74047,     0.74246,     0.74385,     0.74561,     0.74609,       0.747,     0.74907,     0.75046,     0.75142,      0.7516,\n",
       "            0.75144,     0.75204,     0.75332,     0.75337,     0.75402,      0.7542,     0.75504,     0.75617,     0.75767,     0.75939,     0.76029,     0.76104,     0.76166,     0.76162,     0.76249,     0.76447,      0.7661,     0.76686,     0.76765,     0.76943,     0.77065,     0.77212,     0.77229,\n",
       "            0.77252,      0.7728,     0.77249,     0.77497,     0.77625,     0.77799,     0.77818,     0.77806,     0.77832,     0.77803,     0.77839,     0.78036,     0.78069,     0.78213,     0.78281,     0.78338,      0.7846,      0.7856,     0.78709,     0.78771,     0.78758,      0.7875,     0.78778,\n",
       "             0.7885,     0.79051,     0.79142,     0.79279,      0.7934,     0.79396,     0.79432,     0.79637,     0.79683,      0.7976,     0.79781,     0.79805,     0.79883,     0.79875,     0.79921,     0.80028,     0.80042,     0.80134,     0.80272,     0.80299,     0.80373,     0.80344,     0.80412,\n",
       "            0.80446,     0.80491,     0.80607,     0.80633,     0.80709,     0.80702,     0.80768,     0.80777,     0.80787,     0.80783,      0.8078,     0.80816,     0.80818,     0.80841,     0.80985,     0.81081,     0.81064,     0.81158,     0.81173,     0.81187,     0.81325,     0.81397,     0.81463,\n",
       "            0.81469,     0.81621,     0.81659,     0.81673,     0.81686,     0.81733,     0.81745,     0.81819,      0.8187,      0.8194,     0.82041,     0.82074,     0.82037,     0.82329,     0.82316,     0.82392,     0.82383,     0.82619,     0.82724,     0.82756,     0.82806,     0.82882,      0.8291,\n",
       "            0.82916,     0.82953,     0.82949,     0.82946,     0.82973,     0.82977,     0.83016,        0.83,       0.831,     0.83145,     0.83173,     0.83172,     0.83234,     0.83271,     0.83304,      0.8333,     0.83371,     0.83363,     0.83395,     0.83395,      0.8351,     0.83601,     0.83585,\n",
       "            0.83577,     0.83608,     0.83591,     0.83671,     0.83672,     0.83783,     0.83813,     0.83901,      0.8392,     0.83939,     0.83948,     0.84011,     0.84038,     0.84049,     0.84201,     0.84218,     0.84254,     0.84304,     0.84389,     0.84381,     0.84354,     0.84399,     0.84466,\n",
       "            0.84587,     0.84565,     0.84603,     0.84705,     0.84728,     0.84756,     0.84795,     0.84947,     0.85114,     0.85316,     0.85467,     0.85498,     0.85683,     0.85746,     0.85788,     0.85891,     0.85935,     0.85969,     0.86061,      0.8606,     0.86086,     0.86149,     0.86202,\n",
       "            0.86266,     0.86275,     0.86356,     0.86516,     0.86683,     0.86675,     0.86723,     0.86738,     0.86802,     0.86811,     0.86808,     0.86863,     0.86912,     0.86979,     0.87012,     0.87127,     0.87181,      0.8721,     0.87219,      0.8734,      0.8745,     0.87476,     0.87583,\n",
       "            0.87621,      0.8767,     0.87721,     0.87733,     0.87772,     0.87759,     0.87725,     0.87771,     0.87756,     0.87798,     0.87856,     0.87878,       0.879,     0.88033,     0.88127,     0.88123,     0.88178,     0.88219,     0.88203,     0.88197,     0.88226,     0.88223,     0.88203,\n",
       "            0.88241,     0.88358,     0.88408,     0.88512,     0.88495,     0.88532,     0.88581,     0.88696,     0.88743,      0.8873,     0.88727,     0.88735,     0.88772,     0.88767,       0.888,     0.88925,     0.88902,      0.8888,     0.88932,     0.88919,     0.88912,     0.88994,     0.89014,\n",
       "            0.89004,      0.8905,     0.89145,     0.89216,     0.89196,     0.89172,     0.89211,     0.89206,     0.89217,     0.89261,     0.89314,     0.89344,     0.89375,     0.89365,     0.89421,     0.89413,     0.89436,     0.89458,     0.89531,     0.89522,      0.8969,     0.89667,     0.89725,\n",
       "            0.89719,     0.89706,      0.8976,     0.89747,     0.89802,     0.89912,     0.89931,     0.90033,     0.90022,     0.90004,     0.90015,     0.90054,     0.90114,     0.90095,     0.90076,     0.90154,     0.90264,     0.90254,     0.90232,     0.90272,     0.90244,     0.90212,     0.90329,\n",
       "            0.90317,     0.90374,     0.90371,     0.90369,     0.90422,     0.90414,     0.90393,     0.90455,     0.90449,      0.9044,     0.90431,     0.90462,      0.9046,     0.90439,     0.90485,     0.90495,     0.90489,     0.90483,     0.90458,     0.90456,     0.90454,     0.90452,     0.90428,\n",
       "            0.90423,       0.904,     0.90381,     0.90505,     0.90487,     0.90455,     0.90512,     0.90533,     0.90639,     0.90697,     0.90671,     0.90728,     0.90738,     0.90785,     0.90758,     0.90787,     0.90956,     0.91054,     0.91149,     0.91128,     0.91121,     0.91187,     0.91179,\n",
       "            0.91169,     0.91248,      0.9133,     0.91323,     0.91312,     0.91379,     0.91421,     0.91438,     0.91423,     0.91404,     0.91401,     0.91383,     0.91369,     0.91355,     0.91347,     0.91485,     0.91481,     0.91491,     0.91616,     0.91596,      0.9158,     0.91743,     0.91842,\n",
       "            0.91894,     0.91888,      0.9195,     0.91935,     0.91915,     0.91977,     0.92062,     0.92203,     0.92273,     0.92257,     0.92332,     0.92378,     0.92396,     0.92459,     0.92442,     0.92433,     0.92426,     0.92577,      0.9255,     0.92542,     0.92613,     0.92598,     0.92671,\n",
       "            0.92809,      0.9288,     0.92873,     0.92919,        0.93,     0.92997,     0.92991,     0.92985,     0.92976,     0.93048,     0.93109,      0.9329,     0.93262,     0.93324,     0.93393,     0.93451,     0.93465,     0.93537,      0.9352,     0.93559,     0.93561,     0.93553,     0.93548,\n",
       "            0.93542,     0.93529,     0.93514,     0.93593,     0.93576,     0.93559,     0.93555,     0.93726,     0.93716,     0.93783,     0.93839,     0.93884,      0.9394,     0.93939,     0.93924,     0.93917,     0.93909,     0.93876,     0.93854,     0.93907,     0.93929,      0.9401,        0.94,\n",
       "            0.93995,     0.93988,     0.93981,     0.93974,     0.94051,     0.94128,     0.94124,     0.94114,     0.94096,     0.94176,     0.94158,     0.94147,     0.94123,     0.94116,     0.94096,      0.9409,     0.94085,     0.94081,     0.94078,     0.94065,     0.94059,     0.94052,     0.94122,\n",
       "             0.9418,      0.9428,     0.94349,     0.94344,     0.94425,     0.94595,     0.94579,     0.94782,     0.94831,     0.94816,      0.9481,     0.94835,     0.94882,     0.94872,      0.9486,     0.94854,     0.94832,     0.94898,     0.94915,     0.94911,     0.94901,     0.94998,     0.94994,\n",
       "             0.9499,      0.9529,     0.95262,     0.95453,     0.95649,     0.95743,     0.95838,     0.95833,     0.95829,     0.95818,     0.95806,      0.9593,      0.9601,     0.96093,     0.96094,     0.96084,     0.96066,     0.96057,     0.96048,     0.96125,     0.96112,     0.96099,     0.96088,\n",
       "            0.96073,     0.96054,      0.9604,     0.96135,     0.96117,     0.96107,     0.96097,     0.96078,     0.96068,     0.96055,     0.96153,     0.96135,     0.96106,     0.96082,      0.9619,     0.96183,     0.96289,     0.96281,      0.9627,     0.96281,     0.96361,     0.96353,     0.96458,\n",
       "            0.96448,     0.96427,     0.96417,     0.96408,     0.96398,     0.96383,     0.96369,     0.96488,     0.96476,     0.96566,     0.96675,     0.96791,     0.96912,     0.97024,     0.97014,     0.96993,     0.96975,     0.96963,     0.96946,     0.96933,     0.96928,     0.97048,     0.97035,\n",
       "            0.97159,     0.97138,     0.97123,     0.97105,     0.97084,     0.97059,     0.97178,     0.97139,     0.97106,      0.9725,     0.97224,     0.97213,     0.97199,     0.97342,     0.97341,     0.97325,     0.97307,     0.97281,     0.97265,     0.97252,     0.97226,     0.97365,     0.97346,\n",
       "            0.97333,     0.97321,     0.97288,     0.97443,     0.97433,      0.9739,     0.97363,     0.97348,     0.97321,     0.97293,     0.97444,     0.97432,     0.97592,     0.97564,     0.97549,     0.97518,     0.97494,     0.97474,     0.97656,     0.97839,     0.97822,     0.97811,     0.97791,\n",
       "            0.97967,     0.97953,     0.97939,     0.97926,     0.97907,     0.98296,     0.98274,     0.98243,      0.9823,     0.98214,     0.98193,     0.98185,     0.98159,     0.98128,     0.98102,     0.98079,     0.98295,     0.98262,     0.98243,     0.98223,     0.98452,     0.98429,     0.98422,\n",
       "            0.98412,     0.98408,     0.98391,     0.98374,     0.98339,      0.9831,     0.98284,      0.9822,     0.98198,     0.98186,     0.98164,     0.98129,     0.98114,     0.98068,     0.98028,     0.97987,     0.97945,     0.97922,     0.97897,     0.97874,     0.97823,     0.97768,     0.97734,\n",
       "            0.97714,     0.97647,     0.97604,     0.97556,     0.97889,     0.97861,     0.97793,     0.97727,     0.98146,       0.985,     0.98585,     0.98555,       0.985,     0.98457,     0.98401,     0.98344,     0.98243,     0.98466,     0.99384,     0.99345,     0.99321,     0.99303,     0.99281,\n",
       "            0.99251,     0.99237,           1,           1,           1,           1,           1,           1,           1,           1,           1,           1,           1,           1,           1,           1,           1,           1,           1,           1,           1,           1,           1,\n",
       "                  1,           1,           1,           1,           1,           1,           1,           1,           1,           1,           1,           1,           1,           1,           1,           1,           1,           1,           1,           1,           1,           1,           1,\n",
       "                  1,           1,           1,           1,           1,           1,           1,           1,           1,           1,           1,           1,           1,           1,           1,           1,           1,           1,           1,           1,           1,           1,           1,\n",
       "                  1,           1,           1,           1,           1,           1,           1,           1,           1,           1,           1]]), 'Confidence', 'Precision'], [array([          0,    0.001001,    0.002002,    0.003003,    0.004004,    0.005005,    0.006006,    0.007007,    0.008008,    0.009009,     0.01001,    0.011011,    0.012012,    0.013013,    0.014014,    0.015015,    0.016016,    0.017017,    0.018018,    0.019019,     0.02002,    0.021021,    0.022022,    0.023023,\n",
       "          0.024024,    0.025025,    0.026026,    0.027027,    0.028028,    0.029029,     0.03003,    0.031031,    0.032032,    0.033033,    0.034034,    0.035035,    0.036036,    0.037037,    0.038038,    0.039039,     0.04004,    0.041041,    0.042042,    0.043043,    0.044044,    0.045045,    0.046046,    0.047047,\n",
       "          0.048048,    0.049049,     0.05005,    0.051051,    0.052052,    0.053053,    0.054054,    0.055055,    0.056056,    0.057057,    0.058058,    0.059059,     0.06006,    0.061061,    0.062062,    0.063063,    0.064064,    0.065065,    0.066066,    0.067067,    0.068068,    0.069069,     0.07007,    0.071071,\n",
       "          0.072072,    0.073073,    0.074074,    0.075075,    0.076076,    0.077077,    0.078078,    0.079079,     0.08008,    0.081081,    0.082082,    0.083083,    0.084084,    0.085085,    0.086086,    0.087087,    0.088088,    0.089089,     0.09009,    0.091091,    0.092092,    0.093093,    0.094094,    0.095095,\n",
       "          0.096096,    0.097097,    0.098098,    0.099099,      0.1001,      0.1011,      0.1021,      0.1031,      0.1041,     0.10511,     0.10611,     0.10711,     0.10811,     0.10911,     0.11011,     0.11111,     0.11211,     0.11311,     0.11411,     0.11512,     0.11612,     0.11712,     0.11812,     0.11912,\n",
       "           0.12012,     0.12112,     0.12212,     0.12312,     0.12412,     0.12513,     0.12613,     0.12713,     0.12813,     0.12913,     0.13013,     0.13113,     0.13213,     0.13313,     0.13413,     0.13514,     0.13614,     0.13714,     0.13814,     0.13914,     0.14014,     0.14114,     0.14214,     0.14314,\n",
       "           0.14414,     0.14515,     0.14615,     0.14715,     0.14815,     0.14915,     0.15015,     0.15115,     0.15215,     0.15315,     0.15415,     0.15516,     0.15616,     0.15716,     0.15816,     0.15916,     0.16016,     0.16116,     0.16216,     0.16316,     0.16416,     0.16517,     0.16617,     0.16717,\n",
       "           0.16817,     0.16917,     0.17017,     0.17117,     0.17217,     0.17317,     0.17417,     0.17518,     0.17618,     0.17718,     0.17818,     0.17918,     0.18018,     0.18118,     0.18218,     0.18318,     0.18418,     0.18519,     0.18619,     0.18719,     0.18819,     0.18919,     0.19019,     0.19119,\n",
       "           0.19219,     0.19319,     0.19419,      0.1952,      0.1962,      0.1972,      0.1982,      0.1992,      0.2002,      0.2012,      0.2022,      0.2032,      0.2042,     0.20521,     0.20621,     0.20721,     0.20821,     0.20921,     0.21021,     0.21121,     0.21221,     0.21321,     0.21421,     0.21522,\n",
       "           0.21622,     0.21722,     0.21822,     0.21922,     0.22022,     0.22122,     0.22222,     0.22322,     0.22422,     0.22523,     0.22623,     0.22723,     0.22823,     0.22923,     0.23023,     0.23123,     0.23223,     0.23323,     0.23423,     0.23524,     0.23624,     0.23724,     0.23824,     0.23924,\n",
       "           0.24024,     0.24124,     0.24224,     0.24324,     0.24424,     0.24525,     0.24625,     0.24725,     0.24825,     0.24925,     0.25025,     0.25125,     0.25225,     0.25325,     0.25425,     0.25526,     0.25626,     0.25726,     0.25826,     0.25926,     0.26026,     0.26126,     0.26226,     0.26326,\n",
       "           0.26426,     0.26527,     0.26627,     0.26727,     0.26827,     0.26927,     0.27027,     0.27127,     0.27227,     0.27327,     0.27427,     0.27528,     0.27628,     0.27728,     0.27828,     0.27928,     0.28028,     0.28128,     0.28228,     0.28328,     0.28428,     0.28529,     0.28629,     0.28729,\n",
       "           0.28829,     0.28929,     0.29029,     0.29129,     0.29229,     0.29329,     0.29429,      0.2953,      0.2963,      0.2973,      0.2983,      0.2993,      0.3003,      0.3013,      0.3023,      0.3033,      0.3043,     0.30531,     0.30631,     0.30731,     0.30831,     0.30931,     0.31031,     0.31131,\n",
       "           0.31231,     0.31331,     0.31431,     0.31532,     0.31632,     0.31732,     0.31832,     0.31932,     0.32032,     0.32132,     0.32232,     0.32332,     0.32432,     0.32533,     0.32633,     0.32733,     0.32833,     0.32933,     0.33033,     0.33133,     0.33233,     0.33333,     0.33433,     0.33534,\n",
       "           0.33634,     0.33734,     0.33834,     0.33934,     0.34034,     0.34134,     0.34234,     0.34334,     0.34434,     0.34535,     0.34635,     0.34735,     0.34835,     0.34935,     0.35035,     0.35135,     0.35235,     0.35335,     0.35435,     0.35536,     0.35636,     0.35736,     0.35836,     0.35936,\n",
       "           0.36036,     0.36136,     0.36236,     0.36336,     0.36436,     0.36537,     0.36637,     0.36737,     0.36837,     0.36937,     0.37037,     0.37137,     0.37237,     0.37337,     0.37437,     0.37538,     0.37638,     0.37738,     0.37838,     0.37938,     0.38038,     0.38138,     0.38238,     0.38338,\n",
       "           0.38438,     0.38539,     0.38639,     0.38739,     0.38839,     0.38939,     0.39039,     0.39139,     0.39239,     0.39339,     0.39439,      0.3954,      0.3964,      0.3974,      0.3984,      0.3994,      0.4004,      0.4014,      0.4024,      0.4034,      0.4044,     0.40541,     0.40641,     0.40741,\n",
       "           0.40841,     0.40941,     0.41041,     0.41141,     0.41241,     0.41341,     0.41441,     0.41542,     0.41642,     0.41742,     0.41842,     0.41942,     0.42042,     0.42142,     0.42242,     0.42342,     0.42442,     0.42543,     0.42643,     0.42743,     0.42843,     0.42943,     0.43043,     0.43143,\n",
       "           0.43243,     0.43343,     0.43443,     0.43544,     0.43644,     0.43744,     0.43844,     0.43944,     0.44044,     0.44144,     0.44244,     0.44344,     0.44444,     0.44545,     0.44645,     0.44745,     0.44845,     0.44945,     0.45045,     0.45145,     0.45245,     0.45345,     0.45445,     0.45546,\n",
       "           0.45646,     0.45746,     0.45846,     0.45946,     0.46046,     0.46146,     0.46246,     0.46346,     0.46446,     0.46547,     0.46647,     0.46747,     0.46847,     0.46947,     0.47047,     0.47147,     0.47247,     0.47347,     0.47447,     0.47548,     0.47648,     0.47748,     0.47848,     0.47948,\n",
       "           0.48048,     0.48148,     0.48248,     0.48348,     0.48448,     0.48549,     0.48649,     0.48749,     0.48849,     0.48949,     0.49049,     0.49149,     0.49249,     0.49349,     0.49449,      0.4955,      0.4965,      0.4975,      0.4985,      0.4995,      0.5005,      0.5015,      0.5025,      0.5035,\n",
       "            0.5045,     0.50551,     0.50651,     0.50751,     0.50851,     0.50951,     0.51051,     0.51151,     0.51251,     0.51351,     0.51451,     0.51552,     0.51652,     0.51752,     0.51852,     0.51952,     0.52052,     0.52152,     0.52252,     0.52352,     0.52452,     0.52553,     0.52653,     0.52753,\n",
       "           0.52853,     0.52953,     0.53053,     0.53153,     0.53253,     0.53353,     0.53453,     0.53554,     0.53654,     0.53754,     0.53854,     0.53954,     0.54054,     0.54154,     0.54254,     0.54354,     0.54454,     0.54555,     0.54655,     0.54755,     0.54855,     0.54955,     0.55055,     0.55155,\n",
       "           0.55255,     0.55355,     0.55455,     0.55556,     0.55656,     0.55756,     0.55856,     0.55956,     0.56056,     0.56156,     0.56256,     0.56356,     0.56456,     0.56557,     0.56657,     0.56757,     0.56857,     0.56957,     0.57057,     0.57157,     0.57257,     0.57357,     0.57457,     0.57558,\n",
       "           0.57658,     0.57758,     0.57858,     0.57958,     0.58058,     0.58158,     0.58258,     0.58358,     0.58458,     0.58559,     0.58659,     0.58759,     0.58859,     0.58959,     0.59059,     0.59159,     0.59259,     0.59359,     0.59459,      0.5956,      0.5966,      0.5976,      0.5986,      0.5996,\n",
       "            0.6006,      0.6016,      0.6026,      0.6036,      0.6046,     0.60561,     0.60661,     0.60761,     0.60861,     0.60961,     0.61061,     0.61161,     0.61261,     0.61361,     0.61461,     0.61562,     0.61662,     0.61762,     0.61862,     0.61962,     0.62062,     0.62162,     0.62262,     0.62362,\n",
       "           0.62462,     0.62563,     0.62663,     0.62763,     0.62863,     0.62963,     0.63063,     0.63163,     0.63263,     0.63363,     0.63463,     0.63564,     0.63664,     0.63764,     0.63864,     0.63964,     0.64064,     0.64164,     0.64264,     0.64364,     0.64464,     0.64565,     0.64665,     0.64765,\n",
       "           0.64865,     0.64965,     0.65065,     0.65165,     0.65265,     0.65365,     0.65465,     0.65566,     0.65666,     0.65766,     0.65866,     0.65966,     0.66066,     0.66166,     0.66266,     0.66366,     0.66466,     0.66567,     0.66667,     0.66767,     0.66867,     0.66967,     0.67067,     0.67167,\n",
       "           0.67267,     0.67367,     0.67467,     0.67568,     0.67668,     0.67768,     0.67868,     0.67968,     0.68068,     0.68168,     0.68268,     0.68368,     0.68468,     0.68569,     0.68669,     0.68769,     0.68869,     0.68969,     0.69069,     0.69169,     0.69269,     0.69369,     0.69469,      0.6957,\n",
       "            0.6967,      0.6977,      0.6987,      0.6997,      0.7007,      0.7017,      0.7027,      0.7037,      0.7047,     0.70571,     0.70671,     0.70771,     0.70871,     0.70971,     0.71071,     0.71171,     0.71271,     0.71371,     0.71471,     0.71572,     0.71672,     0.71772,     0.71872,     0.71972,\n",
       "           0.72072,     0.72172,     0.72272,     0.72372,     0.72472,     0.72573,     0.72673,     0.72773,     0.72873,     0.72973,     0.73073,     0.73173,     0.73273,     0.73373,     0.73473,     0.73574,     0.73674,     0.73774,     0.73874,     0.73974,     0.74074,     0.74174,     0.74274,     0.74374,\n",
       "           0.74474,     0.74575,     0.74675,     0.74775,     0.74875,     0.74975,     0.75075,     0.75175,     0.75275,     0.75375,     0.75475,     0.75576,     0.75676,     0.75776,     0.75876,     0.75976,     0.76076,     0.76176,     0.76276,     0.76376,     0.76476,     0.76577,     0.76677,     0.76777,\n",
       "           0.76877,     0.76977,     0.77077,     0.77177,     0.77277,     0.77377,     0.77477,     0.77578,     0.77678,     0.77778,     0.77878,     0.77978,     0.78078,     0.78178,     0.78278,     0.78378,     0.78478,     0.78579,     0.78679,     0.78779,     0.78879,     0.78979,     0.79079,     0.79179,\n",
       "           0.79279,     0.79379,     0.79479,      0.7958,      0.7968,      0.7978,      0.7988,      0.7998,      0.8008,      0.8018,      0.8028,      0.8038,      0.8048,     0.80581,     0.80681,     0.80781,     0.80881,     0.80981,     0.81081,     0.81181,     0.81281,     0.81381,     0.81481,     0.81582,\n",
       "           0.81682,     0.81782,     0.81882,     0.81982,     0.82082,     0.82182,     0.82282,     0.82382,     0.82482,     0.82583,     0.82683,     0.82783,     0.82883,     0.82983,     0.83083,     0.83183,     0.83283,     0.83383,     0.83483,     0.83584,     0.83684,     0.83784,     0.83884,     0.83984,\n",
       "           0.84084,     0.84184,     0.84284,     0.84384,     0.84484,     0.84585,     0.84685,     0.84785,     0.84885,     0.84985,     0.85085,     0.85185,     0.85285,     0.85385,     0.85485,     0.85586,     0.85686,     0.85786,     0.85886,     0.85986,     0.86086,     0.86186,     0.86286,     0.86386,\n",
       "           0.86486,     0.86587,     0.86687,     0.86787,     0.86887,     0.86987,     0.87087,     0.87187,     0.87287,     0.87387,     0.87487,     0.87588,     0.87688,     0.87788,     0.87888,     0.87988,     0.88088,     0.88188,     0.88288,     0.88388,     0.88488,     0.88589,     0.88689,     0.88789,\n",
       "           0.88889,     0.88989,     0.89089,     0.89189,     0.89289,     0.89389,     0.89489,      0.8959,      0.8969,      0.8979,      0.8989,      0.8999,      0.9009,      0.9019,      0.9029,      0.9039,      0.9049,     0.90591,     0.90691,     0.90791,     0.90891,     0.90991,     0.91091,     0.91191,\n",
       "           0.91291,     0.91391,     0.91491,     0.91592,     0.91692,     0.91792,     0.91892,     0.91992,     0.92092,     0.92192,     0.92292,     0.92392,     0.92492,     0.92593,     0.92693,     0.92793,     0.92893,     0.92993,     0.93093,     0.93193,     0.93293,     0.93393,     0.93493,     0.93594,\n",
       "           0.93694,     0.93794,     0.93894,     0.93994,     0.94094,     0.94194,     0.94294,     0.94394,     0.94494,     0.94595,     0.94695,     0.94795,     0.94895,     0.94995,     0.95095,     0.95195,     0.95295,     0.95395,     0.95495,     0.95596,     0.95696,     0.95796,     0.95896,     0.95996,\n",
       "           0.96096,     0.96196,     0.96296,     0.96396,     0.96496,     0.96597,     0.96697,     0.96797,     0.96897,     0.96997,     0.97097,     0.97197,     0.97297,     0.97397,     0.97497,     0.97598,     0.97698,     0.97798,     0.97898,     0.97998,     0.98098,     0.98198,     0.98298,     0.98398,\n",
       "           0.98498,     0.98599,     0.98699,     0.98799,     0.98899,     0.98999,     0.99099,     0.99199,     0.99299,     0.99399,     0.99499,       0.996,       0.997,       0.998,       0.999,           1]), array([[    0.90624,     0.90624,     0.89228,     0.88487,     0.87876,     0.87396,     0.86873,     0.86655,     0.86306,     0.85739,     0.85608,     0.85216,     0.84867,     0.84693,     0.84474,     0.84256,     0.84038,     0.83864,     0.83733,     0.83602,     0.83559,     0.83428,      0.8321,\n",
       "            0.83079,     0.82948,      0.8273,     0.82686,     0.82643,     0.82556,     0.82468,     0.82403,     0.82119,     0.82032,     0.81901,     0.81771,      0.8164,     0.81509,     0.81378,     0.81247,     0.81116,     0.81029,     0.80986,     0.80855,     0.80768,     0.80724,      0.8068,\n",
       "            0.80637,     0.80593,     0.80549,     0.80331,     0.80288,     0.80201,     0.80157,     0.80082,     0.79939,     0.79805,     0.79765,     0.79765,     0.79677,     0.79503,     0.79503,     0.79459,     0.79416,     0.79328,     0.79241,     0.79154,      0.7911,     0.79036,     0.79023,\n",
       "             0.7898,     0.78849,      0.7879,     0.78761,     0.78587,       0.785,       0.785,     0.78456,     0.78325,     0.78282,     0.78195,     0.78151,      0.7802,     0.77889,     0.77715,     0.77715,     0.77628,     0.77628,      0.7754,     0.77497,     0.77497,     0.77322,     0.77279,\n",
       "            0.77191,     0.77148,     0.77061,     0.77061,     0.77017,      0.7693,     0.76799,     0.76625,     0.76537,     0.76494,      0.7645,     0.76363,     0.76319,     0.76232,     0.76145,     0.76101,     0.76058,     0.76058,     0.76014,      0.7597,     0.75883,     0.75796,     0.75709,\n",
       "            0.75669,     0.75578,     0.75534,     0.75491,     0.75447,      0.7536,     0.75273,     0.75273,     0.75201,     0.75055,      0.7498,     0.74836,     0.74706,     0.74618,     0.74531,     0.74531,     0.74531,     0.74444,     0.74357,     0.74313,     0.74313,     0.74226,     0.74166,\n",
       "            0.74095,     0.74051,      0.7397,     0.73833,     0.73827,     0.73746,     0.73641,     0.73572,     0.73528,     0.73397,     0.73397,     0.73388,      0.7331,     0.73223,     0.73223,     0.73179,     0.73136,     0.73092,     0.73092,     0.73048,     0.73048,     0.73005,     0.73005,\n",
       "            0.72951,     0.72874,     0.72874,     0.72874,     0.72874,     0.72874,     0.72813,     0.72743,     0.72743,     0.72743,     0.72743,       0.727,       0.727,     0.72656,     0.72656,     0.72525,     0.72437,     0.72351,     0.72245,      0.7222,     0.72133,     0.72089,     0.72089,\n",
       "            0.72089,     0.72089,     0.72002,     0.71915,     0.71871,     0.71871,     0.71786,     0.71653,     0.71653,     0.71609,     0.71566,     0.71566,     0.71522,     0.71462,     0.71304,     0.71217,     0.71173,     0.71173,      0.7113,      0.7113,     0.71042,     0.71042,     0.70955,\n",
       "            0.70955,     0.70822,     0.70781,     0.70781,     0.70737,     0.70737,     0.70737,     0.70628,     0.70519,     0.70519,     0.70519,     0.70519,     0.70475,     0.70432,     0.70432,     0.70432,     0.70386,      0.7027,      0.7017,     0.70164,     0.70053,     0.69908,     0.69908,\n",
       "            0.69877,     0.69865,     0.69865,     0.69865,     0.69842,     0.69821,     0.69778,      0.6969,      0.6969,     0.69603,     0.69493,     0.69472,     0.69472,     0.69429,     0.69385,     0.69341,     0.69341,     0.69341,     0.69254,     0.69211,     0.69167,     0.69036,     0.69014,\n",
       "            0.68955,     0.68912,     0.68775,      0.6874,     0.68687,     0.68644,     0.68557,     0.68556,     0.68556,     0.68513,     0.68513,     0.68475,     0.68469,     0.68414,     0.68185,     0.68086,     0.68033,      0.6799,      0.6799,     0.67964,     0.67902,     0.67859,     0.67815,\n",
       "            0.67815,     0.67792,     0.67641,     0.67641,     0.67641,     0.67553,      0.6747,     0.67423,     0.67372,      0.6726,     0.67248,     0.67161,      0.6703,      0.6703,      0.6703,      0.6703,     0.66986,     0.66956,     0.66899,     0.66899,     0.66778,     0.66747,     0.66697,\n",
       "            0.66661,     0.66638,     0.66638,     0.66638,     0.66488,     0.66379,     0.66289,     0.66289,     0.66289,     0.66289,     0.66252,     0.66178,     0.66152,     0.66121,     0.65961,      0.6588,     0.65853,     0.65853,     0.65853,     0.65767,     0.65721,     0.65547,     0.65547,\n",
       "            0.65486,      0.6546,     0.65438,     0.65367,     0.65321,      0.6529,     0.65202,     0.65111,     0.65098,     0.65083,     0.65068,     0.65024,     0.64862,     0.64775,     0.64762,     0.64669,     0.64597,     0.64588,     0.64588,     0.64588,     0.64572,     0.64501,     0.64457,\n",
       "            0.64422,     0.64413,     0.64413,     0.64413,     0.64413,     0.64394,     0.64251,     0.64239,       0.642,     0.64195,      0.6415,     0.64093,     0.63936,     0.63801,     0.63743,      0.6367,     0.63631,     0.63585,     0.63585,     0.63585,     0.63585,     0.63559,     0.63541,\n",
       "            0.63498,     0.63451,     0.63436,     0.63421,      0.6341,     0.63347,     0.63323,     0.63236,     0.63236,     0.63192,      0.6316,     0.63061,     0.63003,     0.62955,     0.62886,       0.628,       0.628,     0.62718,     0.62713,     0.62625,     0.62625,     0.62538,     0.62401,\n",
       "            0.62364,     0.62281,     0.62189,     0.62146,     0.62102,     0.61961,     0.61928,     0.61928,     0.61909,     0.61884,     0.61806,     0.61797,     0.61797,     0.61753,      0.6171,     0.61672,     0.61608,     0.61579,     0.61529,     0.61494,      0.6137,      0.6134,     0.61317,\n",
       "            0.61273,     0.61168,     0.61104,     0.61055,     0.61055,     0.61055,     0.61044,     0.60925,     0.60925,     0.60837,     0.60785,      0.6075,     0.60706,     0.60706,     0.60663,     0.60663,     0.60663,     0.60663,     0.60619,      0.6058,     0.60488,     0.60486,     0.60445,\n",
       "            0.60445,     0.60308,      0.6027,     0.60183,     0.60182,     0.60141,     0.60108,     0.60052,     0.60052,     0.59995,     0.59976,     0.59965,     0.59965,     0.59922,     0.59922,     0.59922,     0.59834,     0.59834,     0.59747,     0.59747,     0.59747,     0.59706,     0.59616,\n",
       "            0.59616,     0.59539,     0.59509,     0.59485,     0.59485,     0.59406,     0.59219,     0.59161,     0.59077,     0.58995,     0.58962,     0.58962,     0.58962,     0.58962,     0.58916,     0.58892,     0.58874,     0.58785,     0.58694,     0.58658,     0.58613,     0.58481,     0.58367,\n",
       "            0.58308,     0.58253,     0.58177,     0.58131,     0.58035,      0.5791,     0.57851,     0.57785,      0.5776,     0.57682,     0.57665,     0.57654,     0.57654,     0.57551,     0.57479,      0.5743,     0.57294,     0.57169,     0.57116,     0.57043,     0.57004,     0.56956,     0.56892,\n",
       "            0.56835,     0.56748,     0.56694,     0.56643,      0.5653,     0.56384,     0.56257,     0.56225,     0.56171,     0.56171,     0.56131,     0.56127,     0.56126,     0.56066,     0.56031,     0.55953,     0.55953,     0.55953,     0.55946,     0.55866,     0.55768,     0.55631,     0.55601,\n",
       "            0.55563,     0.55484,     0.55432,      0.5535,     0.55299,     0.55197,     0.55168,     0.55151,     0.55085,     0.54971,      0.5495,     0.54886,     0.54863,     0.54742,     0.54624,     0.54601,     0.54585,     0.54521,     0.54385,     0.54227,     0.54057,     0.53861,     0.53771,\n",
       "            0.53694,     0.53635,     0.53619,     0.53604,     0.53524,     0.53472,     0.53345,     0.53312,     0.53279,      0.5322,     0.53168,     0.53031,     0.52931,     0.52806,     0.52769,     0.52731,     0.52695,     0.52658,     0.52506,     0.52493,      0.5248,     0.52467,     0.52323,\n",
       "            0.52293,     0.52157,     0.52041,     0.51963,     0.51855,     0.51659,      0.5159,     0.51548,     0.51519,     0.51443,     0.51289,     0.51206,     0.51156,     0.51129,     0.50962,     0.50894,      0.5088,      0.5085,     0.50752,     0.50618,     0.50573,     0.50541,     0.50489,\n",
       "            0.50428,     0.50283,     0.50196,     0.50029,     0.49963,     0.49925,     0.49891,     0.49831,     0.49742,     0.49621,     0.49599,     0.49489,     0.49401,     0.49312,     0.49261,       0.492,     0.49171,      0.4915,     0.49087,     0.48955,     0.48855,     0.48713,     0.48606,\n",
       "            0.48495,     0.48414,      0.4832,      0.4822,      0.4809,     0.48059,     0.47972,     0.47972,     0.47928,     0.47805,     0.47754,     0.47754,     0.47691,     0.47623,     0.47472,      0.4741,     0.47363,     0.47318,     0.47132,     0.47081,     0.47056,     0.46922,     0.46875,\n",
       "            0.46715,     0.46664,     0.46598,     0.46489,     0.46356,     0.46329,     0.46289,     0.46244,     0.46185,     0.46097,     0.46097,     0.46097,     0.45878,     0.45725,     0.45622,     0.45573,     0.45531,     0.45441,     0.45318,     0.45137,     0.44993,     0.44932,     0.44895,\n",
       "            0.44851,     0.44752,      0.4464,     0.44596,     0.44471,     0.44341,     0.44311,     0.44301,     0.44228,     0.44077,     0.44047,     0.44003,     0.44003,     0.43933,     0.43816,     0.43767,     0.43701,     0.43451,     0.43285,     0.43262,     0.43185,     0.43121,     0.43042,\n",
       "            0.43009,     0.42951,     0.42898,     0.42845,     0.42746,     0.42641,     0.42614,     0.42538,       0.424,     0.42315,     0.42173,     0.42087,     0.41907,     0.41854,     0.41705,     0.41662,     0.41621,      0.4159,     0.41567,     0.41472,     0.41429,     0.41373,     0.41201,\n",
       "            0.41038,      0.4097,     0.40772,     0.40735,     0.40623,      0.4045,     0.40323,     0.40122,     0.40001,     0.39879,      0.3983,      0.3973,     0.39619,     0.39531,     0.39441,      0.3939,     0.39213,     0.39163,      0.3907,     0.39041,     0.38964,     0.38945,     0.38898,\n",
       "            0.38863,     0.38822,     0.38581,     0.38456,     0.38347,     0.38254,     0.38159,     0.38109,     0.38076,     0.37966,      0.3786,     0.37811,     0.37811,      0.3768,     0.37556,     0.37449,     0.37277,     0.37185,       0.371,     0.36787,     0.36659,     0.36529,     0.36421,\n",
       "            0.36277,     0.36094,     0.35957,     0.35796,     0.35627,     0.35525,     0.35432,     0.35259,     0.35164,     0.35042,     0.34881,     0.34709,     0.34441,     0.34222,     0.34128,     0.34063,     0.33946,     0.33873,      0.3377,     0.33668,      0.3349,     0.33415,     0.33252,\n",
       "            0.33159,     0.32959,     0.32856,     0.32776,     0.32683,     0.32542,     0.32409,     0.32347,     0.32237,     0.31889,     0.31696,     0.31618,     0.31479,     0.31283,      0.3117,     0.30943,     0.30757,     0.30628,     0.30459,     0.30327,     0.30275,     0.30112,     0.29972,\n",
       "            0.29833,     0.29608,     0.29449,     0.29261,     0.29039,     0.28787,     0.28536,     0.28136,     0.27808,     0.27755,     0.27494,     0.27385,     0.27241,     0.27156,     0.27137,      0.2697,     0.26787,     0.26529,     0.26371,     0.26239,     0.25981,     0.25778,     0.25591,\n",
       "            0.25466,      0.2535,     0.25029,      0.2493,     0.24825,     0.24413,     0.24154,     0.24012,     0.23761,     0.23513,     0.23274,     0.23161,     0.22982,      0.2271,     0.22563,     0.22279,     0.22053,     0.21877,     0.21799,      0.2172,     0.21541,     0.21432,     0.21239,\n",
       "            0.21013,     0.20864,     0.20727,     0.20591,     0.20399,     0.20124,      0.1987,     0.19511,     0.19364,     0.19187,     0.18963,     0.18877,     0.18602,     0.18287,     0.18035,     0.17814,     0.17603,     0.17263,     0.17073,     0.16877,     0.16638,     0.16399,     0.16325,\n",
       "            0.16221,      0.1617,     0.15998,     0.15827,     0.15495,     0.15224,     0.14984,     0.14438,      0.1426,      0.1416,     0.13992,      0.1372,     0.13613,     0.13284,     0.13007,     0.12736,     0.12471,     0.12331,     0.12182,     0.12045,     0.11758,     0.11461,     0.11287,\n",
       "            0.11183,      0.1086,     0.10661,     0.10443,     0.10113,     0.09977,    0.096613,    0.093731,    0.092365,    0.091583,    0.091168,    0.089217,    0.085935,    0.083474,    0.080506,     0.07768,     0.07317,    0.072394,    0.070318,    0.066162,    0.063749,    0.062118,    0.060192,\n",
       "           0.057756,    0.056702,     0.05426,      0.0538,    0.052655,    0.049133,     0.04777,    0.045558,    0.043508,    0.041914,    0.037739,    0.037179,    0.033393,    0.030251,    0.026364,    0.024974,    0.022676,    0.021118,    0.018416,    0.017206,    0.015025,    0.013628,    0.013139,\n",
       "           0.012527,    0.012296,    0.011774,    0.011159,    0.010607,   0.0090429,   0.0070205,   0.0056156,   0.0055118,    0.005408,   0.0053042,   0.0050154,    0.004278,   0.0040659,   0.0038937,   0.0038005,   0.0037073,   0.0036141,   0.0035209,   0.0032131,   0.0024011,   0.0019089,   0.0015084,\n",
       "          0.0012492,   0.0011072,  0.00096523,           0,           0,           0,           0,           0,           0,           0,           0,           0,           0,           0,           0,           0,           0,           0,           0,           0,           0,           0,           0,\n",
       "                  0,           0,           0,           0,           0,           0,           0,           0,           0,           0,           0]]), 'Confidence', 'Recall']]\n",
       "fitness: np.float64(0.5013771506659979)\n",
       "keys: ['metrics/precision(B)', 'metrics/recall(B)', 'metrics/mAP50(B)', 'metrics/mAP50-95(B)']\n",
       "maps: array([    0.47511])\n",
       "names: {0: 'Person'}\n",
       "plot: True\n",
       "results_dict: {'metrics/precision(B)': np.float64(0.796369751100172), 'metrics/recall(B)': np.float64(0.662887047535979), 'metrics/mAP50(B)': np.float64(0.7378246164115979), 'metrics/mAP50-95(B)': np.float64(0.4751052100275978), 'fitness': np.float64(0.5013771506659979)}\n",
       "save_dir: WindowsPath('c:/Users/shihy/runs/detect/train15')\n",
       "speed: {'preprocess': 0.33697382965230366, 'inference': 17.561448388406877, 'loss': 0.0, 'postprocess': 0.3774223986571354}\n",
       "task: 'detect'"
      ]
     },
     "execution_count": 3,
     "metadata": {},
     "output_type": "execute_result"
    }
   ],
   "source": [
    "model.train(\n",
    "    data=\"C:/Users/datasets/data.yaml\",  # 데이터셋 경로\n",
    "    epochs=50,                           # 학습 Epoch 수\n",
    "    patience=10,                         # 조기 종료 설정\n",
    "    imgsz=320,                           # 이미지 크기 (작게 설정)\n",
    "    batch=8,                             # 배치 크기 (작게 설정)\n",
    ")"
   ]
  },
  {
   "cell_type": "code",
   "execution_count": null,
   "metadata": {},
   "outputs": [],
   "source": []
  }
 ],
 "metadata": {
  "kernelspec": {
   "display_name": "smoke",
   "language": "python",
   "name": "python3"
  },
  "language_info": {
   "codemirror_mode": {
    "name": "ipython",
    "version": 3
   },
   "file_extension": ".py",
   "mimetype": "text/x-python",
   "name": "python",
   "nbconvert_exporter": "python",
   "pygments_lexer": "ipython3",
   "version": "3.12.8"
  }
 },
 "nbformat": 4,
 "nbformat_minor": 2
}
