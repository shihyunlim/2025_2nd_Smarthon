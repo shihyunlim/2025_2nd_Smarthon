{
 "cells": [
  {
   "cell_type": "markdown",
   "metadata": {},
   "source": [
    "train_0116_4 : cigarette<br/>*same dataset and parameters as train_0116_1 but with different pre-trained model (yolov8n->yolov8s)*"
   ]
  },
  {
   "cell_type": "code",
   "execution_count": 1,
   "metadata": {},
   "outputs": [],
   "source": [
    "import os\n",
    "import cv2\n",
    "%matplotlib inline\n",
    "from ultralytics import YOLO\n",
    "import matplotlib.pyplot as plt"
   ]
  },
  {
   "cell_type": "code",
   "execution_count": 11,
   "metadata": {},
   "outputs": [
    {
     "name": "stdout",
     "output_type": "stream",
     "text": [
      "<class 'dict'> 80\n",
      "{0: 'person', 1: 'bicycle', 2: 'car', 3: 'motorcycle', 4: 'airplane', 5: 'bus', 6: 'train', 7: 'truck', 8: 'boat', 9: 'traffic light', 10: 'fire hydrant', 11: 'stop sign', 12: 'parking meter', 13: 'bench', 14: 'bird', 15: 'cat', 16: 'dog', 17: 'horse', 18: 'sheep', 19: 'cow', 20: 'elephant', 21: 'bear', 22: 'zebra', 23: 'giraffe', 24: 'backpack', 25: 'umbrella', 26: 'handbag', 27: 'tie', 28: 'suitcase', 29: 'frisbee', 30: 'skis', 31: 'snowboard', 32: 'sports ball', 33: 'kite', 34: 'baseball bat', 35: 'baseball glove', 36: 'skateboard', 37: 'surfboard', 38: 'tennis racket', 39: 'bottle', 40: 'wine glass', 41: 'cup', 42: 'fork', 43: 'knife', 44: 'spoon', 45: 'bowl', 46: 'banana', 47: 'apple', 48: 'sandwich', 49: 'orange', 50: 'broccoli', 51: 'carrot', 52: 'hot dog', 53: 'pizza', 54: 'donut', 55: 'cake', 56: 'chair', 57: 'couch', 58: 'potted plant', 59: 'bed', 60: 'dining table', 61: 'toilet', 62: 'tv', 63: 'laptop', 64: 'mouse', 65: 'remote', 66: 'keyboard', 67: 'cell phone', 68: 'microwave', 69: 'oven', 70: 'toaster', 71: 'sink', 72: 'refrigerator', 73: 'book', 74: 'clock', 75: 'vase', 76: 'scissors', 77: 'teddy bear', 78: 'hair drier', 79: 'toothbrush'}\n"
     ]
    }
   ],
   "source": [
    "model = YOLO(\"yolov8n.pt\") #changed to small\n",
    "print(type(model.names),len(model.names))\n",
    "print(model.names)"
   ]
  },
  {
   "cell_type": "code",
   "execution_count": 14,
   "metadata": {},
   "outputs": [
    {
     "name": "stdout",
     "output_type": "stream",
     "text": [
      "New https://pypi.org/project/ultralytics/8.3.62 available  Update with 'pip install -U ultralytics'\n",
      "Ultralytics 8.3.59  Python-3.12.8 torch-2.5.1+cpu CPU (12th Gen Intel Core(TM) i5-1240P)\n",
      "\u001b[34m\u001b[1mengine\\trainer: \u001b[0mtask=detect, mode=train, model=yolov8n.pt, data=C:/Users/datasets/data.yaml, epochs=50, time=None, patience=10, batch=8, imgsz=640, save=True, save_period=-1, cache=False, device=None, workers=8, project=None, name=train23, exist_ok=False, pretrained=True, optimizer=auto, verbose=True, seed=0, deterministic=True, single_cls=False, rect=False, cos_lr=False, close_mosaic=10, resume=False, amp=True, fraction=1.0, profile=False, freeze=None, multi_scale=False, overlap_mask=True, mask_ratio=4, dropout=0.0, val=True, split=val, save_json=False, save_hybrid=False, conf=None, iou=0.7, max_det=300, half=False, dnn=False, plots=True, source=None, vid_stride=1, stream_buffer=False, visualize=False, augment=False, agnostic_nms=False, classes=None, retina_masks=False, embed=None, show=False, save_frames=False, save_txt=False, save_conf=False, save_crop=False, show_labels=True, show_conf=True, show_boxes=True, line_width=None, format=torchscript, keras=False, optimize=False, int8=False, dynamic=False, simplify=True, opset=None, workspace=None, nms=False, lr0=0.01, lrf=0.01, momentum=0.937, weight_decay=0.0005, warmup_epochs=3.0, warmup_momentum=0.8, warmup_bias_lr=0.1, box=7.5, cls=0.5, dfl=1.5, pose=12.0, kobj=1.0, nbs=64, hsv_h=0.015, hsv_s=0.7, hsv_v=0.4, degrees=0.0, translate=0.1, scale=0.5, shear=0.0, perspective=0.0, flipud=0.0, fliplr=0.5, bgr=0.0, mosaic=1.0, mixup=0.0, copy_paste=0.0, copy_paste_mode=flip, auto_augment=randaugment, erasing=0.4, crop_fraction=1.0, cfg=None, tracker=botsort.yaml, save_dir=c:\\Users\\shihy\\runs\\detect\\train23\n",
      "\n",
      "                   from  n    params  module                                       arguments                     \n",
      "  0                  -1  1       464  ultralytics.nn.modules.conv.Conv             [3, 16, 3, 2]                 \n",
      "  1                  -1  1      4672  ultralytics.nn.modules.conv.Conv             [16, 32, 3, 2]                \n",
      "  2                  -1  1      7360  ultralytics.nn.modules.block.C2f             [32, 32, 1, True]             \n",
      "  3                  -1  1     18560  ultralytics.nn.modules.conv.Conv             [32, 64, 3, 2]                \n",
      "  4                  -1  2     49664  ultralytics.nn.modules.block.C2f             [64, 64, 2, True]             \n",
      "  5                  -1  1     73984  ultralytics.nn.modules.conv.Conv             [64, 128, 3, 2]               \n",
      "  6                  -1  2    197632  ultralytics.nn.modules.block.C2f             [128, 128, 2, True]           \n",
      "  7                  -1  1    295424  ultralytics.nn.modules.conv.Conv             [128, 256, 3, 2]              \n",
      "  8                  -1  1    460288  ultralytics.nn.modules.block.C2f             [256, 256, 1, True]           \n",
      "  9                  -1  1    164608  ultralytics.nn.modules.block.SPPF            [256, 256, 5]                 \n",
      " 10                  -1  1         0  torch.nn.modules.upsampling.Upsample         [None, 2, 'nearest']          \n",
      " 11             [-1, 6]  1         0  ultralytics.nn.modules.conv.Concat           [1]                           \n",
      " 12                  -1  1    148224  ultralytics.nn.modules.block.C2f             [384, 128, 1]                 \n",
      " 13                  -1  1         0  torch.nn.modules.upsampling.Upsample         [None, 2, 'nearest']          \n",
      " 14             [-1, 4]  1         0  ultralytics.nn.modules.conv.Concat           [1]                           \n",
      " 15                  -1  1     37248  ultralytics.nn.modules.block.C2f             [192, 64, 1]                  \n",
      " 16                  -1  1     36992  ultralytics.nn.modules.conv.Conv             [64, 64, 3, 2]                \n",
      " 17            [-1, 12]  1         0  ultralytics.nn.modules.conv.Concat           [1]                           \n",
      " 18                  -1  1    123648  ultralytics.nn.modules.block.C2f             [192, 128, 1]                 \n",
      " 19                  -1  1    147712  ultralytics.nn.modules.conv.Conv             [128, 128, 3, 2]              \n",
      " 20             [-1, 9]  1         0  ultralytics.nn.modules.conv.Concat           [1]                           \n",
      " 21                  -1  1    493056  ultralytics.nn.modules.block.C2f             [384, 256, 1]                 \n",
      " 22        [15, 18, 21]  1    751507  ultralytics.nn.modules.head.Detect           [1, [64, 128, 256]]           \n",
      "Model summary: 225 layers, 3,011,043 parameters, 3,011,027 gradients, 8.2 GFLOPs\n",
      "\n",
      "Transferred 355/355 items from pretrained weights\n",
      "Freezing layer 'model.22.dfl.conv.weight'\n"
     ]
    },
    {
     "name": "stderr",
     "output_type": "stream",
     "text": [
      "\u001b[34m\u001b[1mtrain: \u001b[0mScanning C:\\Users\\datasets\\train\\labels.cache... 2910 images, 0 backgrounds, 0 corrupt: 100%|██████████| 2910/2910 [00:00<?, ?it/s]"
     ]
    },
    {
     "name": "stdout",
     "output_type": "stream",
     "text": [
      "WARNING  Box and segment counts should be equal, but got len(segments) = 2, len(boxes) = 3069. To resolve this only boxes will be used and all segments will be removed. To avoid this please supply either a detect or segment dataset, not a detect-segment mixed dataset.\n"
     ]
    },
    {
     "name": "stderr",
     "output_type": "stream",
     "text": [
      "\n",
      "\u001b[34m\u001b[1mval: \u001b[0mScanning C:\\Users\\datasets\\valid\\labels.cache... 810 images, 0 backgrounds, 0 corrupt: 100%|██████████| 810/810 [00:00<?, ?it/s]"
     ]
    },
    {
     "name": "stdout",
     "output_type": "stream",
     "text": [
      "Plotting labels to c:\\Users\\shihy\\runs\\detect\\train23\\labels.jpg... \n"
     ]
    },
    {
     "name": "stderr",
     "output_type": "stream",
     "text": [
      "\n"
     ]
    },
    {
     "name": "stdout",
     "output_type": "stream",
     "text": [
      "\u001b[34m\u001b[1moptimizer:\u001b[0m 'optimizer=auto' found, ignoring 'lr0=0.01' and 'momentum=0.937' and determining best 'optimizer', 'lr0' and 'momentum' automatically... \n",
      "\u001b[34m\u001b[1moptimizer:\u001b[0m AdamW(lr=0.002, momentum=0.9) with parameter groups 57 weight(decay=0.0), 64 weight(decay=0.0005), 63 bias(decay=0.0)\n",
      "Image sizes 640 train, 640 val\n",
      "Using 0 dataloader workers\n",
      "Logging results to \u001b[1mc:\\Users\\shihy\\runs\\detect\\train23\u001b[0m\n",
      "Starting training for 50 epochs...\n",
      "\n",
      "      Epoch    GPU_mem   box_loss   cls_loss   dfl_loss  Instances       Size\n"
     ]
    },
    {
     "name": "stderr",
     "output_type": "stream",
     "text": [
      "       1/50         0G       2.19      2.457      1.759         10        640: 100%|██████████| 364/364 [17:58<00:00,  2.96s/it]\n",
      "                 Class     Images  Instances      Box(P          R      mAP50  mAP50-95): 100%|██████████| 51/51 [01:49<00:00,  2.15s/it]"
     ]
    },
    {
     "name": "stdout",
     "output_type": "stream",
     "text": [
      "                   all        810        865      0.265      0.215      0.138     0.0473\n"
     ]
    },
    {
     "name": "stderr",
     "output_type": "stream",
     "text": [
      "\n"
     ]
    },
    {
     "name": "stdout",
     "output_type": "stream",
     "text": [
      "\n",
      "      Epoch    GPU_mem   box_loss   cls_loss   dfl_loss  Instances       Size\n"
     ]
    },
    {
     "name": "stderr",
     "output_type": "stream",
     "text": [
      "       2/50         0G      2.426      2.731      1.963         12        640: 100%|██████████| 364/364 [16:58<00:00,  2.80s/it]\n",
      "                 Class     Images  Instances      Box(P          R      mAP50  mAP50-95): 100%|██████████| 51/51 [01:01<00:00,  1.20s/it]"
     ]
    },
    {
     "name": "stdout",
     "output_type": "stream",
     "text": [
      "                   all        810        865       0.21      0.206      0.103     0.0314\n"
     ]
    },
    {
     "name": "stderr",
     "output_type": "stream",
     "text": [
      "\n"
     ]
    },
    {
     "name": "stdout",
     "output_type": "stream",
     "text": [
      "\n",
      "      Epoch    GPU_mem   box_loss   cls_loss   dfl_loss  Instances       Size\n"
     ]
    },
    {
     "name": "stderr",
     "output_type": "stream",
     "text": [
      "       3/50         0G      2.484      2.701      2.065         14        640: 100%|██████████| 364/364 [11:41<00:00,  1.93s/it]\n",
      "                 Class     Images  Instances      Box(P          R      mAP50  mAP50-95): 100%|██████████| 51/51 [01:16<00:00,  1.50s/it]"
     ]
    },
    {
     "name": "stdout",
     "output_type": "stream",
     "text": [
      "                   all        810        865      0.243      0.253      0.152     0.0478\n"
     ]
    },
    {
     "name": "stderr",
     "output_type": "stream",
     "text": [
      "\n"
     ]
    },
    {
     "name": "stdout",
     "output_type": "stream",
     "text": [
      "\n",
      "      Epoch    GPU_mem   box_loss   cls_loss   dfl_loss  Instances       Size\n"
     ]
    },
    {
     "name": "stderr",
     "output_type": "stream",
     "text": [
      "       4/50         0G      2.442       2.64      2.008         15        640: 100%|██████████| 364/364 [11:59<00:00,  1.98s/it]\n",
      "                 Class     Images  Instances      Box(P          R      mAP50  mAP50-95): 100%|██████████| 51/51 [01:09<00:00,  1.37s/it]"
     ]
    },
    {
     "name": "stdout",
     "output_type": "stream",
     "text": [
      "                   all        810        865      0.222      0.277      0.159     0.0485\n"
     ]
    },
    {
     "name": "stderr",
     "output_type": "stream",
     "text": [
      "\n"
     ]
    },
    {
     "name": "stdout",
     "output_type": "stream",
     "text": [
      "\n",
      "      Epoch    GPU_mem   box_loss   cls_loss   dfl_loss  Instances       Size\n"
     ]
    },
    {
     "name": "stderr",
     "output_type": "stream",
     "text": [
      "       5/50         0G      2.402       2.53      2.007          6        640: 100%|██████████| 364/364 [11:50<00:00,  1.95s/it]\n",
      "                 Class     Images  Instances      Box(P          R      mAP50  mAP50-95): 100%|██████████| 51/51 [01:09<00:00,  1.36s/it]"
     ]
    },
    {
     "name": "stdout",
     "output_type": "stream",
     "text": [
      "                   all        810        865       0.28       0.32      0.239      0.079\n"
     ]
    },
    {
     "name": "stderr",
     "output_type": "stream",
     "text": [
      "\n"
     ]
    },
    {
     "name": "stdout",
     "output_type": "stream",
     "text": [
      "\n",
      "      Epoch    GPU_mem   box_loss   cls_loss   dfl_loss  Instances       Size\n"
     ]
    },
    {
     "name": "stderr",
     "output_type": "stream",
     "text": [
      "       6/50         0G      2.358      2.435      1.997         11        640: 100%|██████████| 364/364 [11:56<00:00,  1.97s/it]\n",
      "                 Class     Images  Instances      Box(P          R      mAP50  mAP50-95): 100%|██████████| 51/51 [01:09<00:00,  1.36s/it]"
     ]
    },
    {
     "name": "stdout",
     "output_type": "stream",
     "text": [
      "                   all        810        865      0.305      0.325      0.252     0.0871\n"
     ]
    },
    {
     "name": "stderr",
     "output_type": "stream",
     "text": [
      "\n"
     ]
    },
    {
     "name": "stdout",
     "output_type": "stream",
     "text": [
      "\n",
      "      Epoch    GPU_mem   box_loss   cls_loss   dfl_loss  Instances       Size\n"
     ]
    },
    {
     "name": "stderr",
     "output_type": "stream",
     "text": [
      "       7/50         0G      2.309      2.375      1.932         10        640: 100%|██████████| 364/364 [11:58<00:00,  1.97s/it]\n",
      "                 Class     Images  Instances      Box(P          R      mAP50  mAP50-95): 100%|██████████| 51/51 [01:09<00:00,  1.36s/it]"
     ]
    },
    {
     "name": "stdout",
     "output_type": "stream",
     "text": [
      "                   all        810        865      0.304      0.373      0.238     0.0799\n"
     ]
    },
    {
     "name": "stderr",
     "output_type": "stream",
     "text": [
      "\n"
     ]
    },
    {
     "name": "stdout",
     "output_type": "stream",
     "text": [
      "\n",
      "      Epoch    GPU_mem   box_loss   cls_loss   dfl_loss  Instances       Size\n"
     ]
    },
    {
     "name": "stderr",
     "output_type": "stream",
     "text": [
      "       8/50         0G      2.241      2.287      1.887          8        640: 100%|██████████| 364/364 [11:48<00:00,  1.95s/it]\n",
      "                 Class     Images  Instances      Box(P          R      mAP50  mAP50-95): 100%|██████████| 51/51 [01:09<00:00,  1.37s/it]"
     ]
    },
    {
     "name": "stdout",
     "output_type": "stream",
     "text": [
      "                   all        810        865      0.352      0.388       0.29      0.104\n"
     ]
    },
    {
     "name": "stderr",
     "output_type": "stream",
     "text": [
      "\n"
     ]
    },
    {
     "name": "stdout",
     "output_type": "stream",
     "text": [
      "\n",
      "      Epoch    GPU_mem   box_loss   cls_loss   dfl_loss  Instances       Size\n"
     ]
    },
    {
     "name": "stderr",
     "output_type": "stream",
     "text": [
      "       9/50         0G      2.266      2.233      1.875         10        640: 100%|██████████| 364/364 [11:50<00:00,  1.95s/it]\n",
      "                 Class     Images  Instances      Box(P          R      mAP50  mAP50-95): 100%|██████████| 51/51 [01:08<00:00,  1.35s/it]"
     ]
    },
    {
     "name": "stdout",
     "output_type": "stream",
     "text": [
      "                   all        810        865      0.361      0.421      0.313       0.11\n"
     ]
    },
    {
     "name": "stderr",
     "output_type": "stream",
     "text": [
      "\n"
     ]
    },
    {
     "name": "stdout",
     "output_type": "stream",
     "text": [
      "\n",
      "      Epoch    GPU_mem   box_loss   cls_loss   dfl_loss  Instances       Size\n"
     ]
    },
    {
     "name": "stderr",
     "output_type": "stream",
     "text": [
      "      10/50         0G       2.19      2.183      1.848         10        640: 100%|██████████| 364/364 [11:48<00:00,  1.95s/it]\n",
      "                 Class     Images  Instances      Box(P          R      mAP50  mAP50-95): 100%|██████████| 51/51 [01:08<00:00,  1.34s/it]"
     ]
    },
    {
     "name": "stdout",
     "output_type": "stream",
     "text": [
      "                   all        810        865      0.447      0.417      0.371      0.132\n"
     ]
    },
    {
     "name": "stderr",
     "output_type": "stream",
     "text": [
      "\n"
     ]
    },
    {
     "name": "stdout",
     "output_type": "stream",
     "text": [
      "\n",
      "      Epoch    GPU_mem   box_loss   cls_loss   dfl_loss  Instances       Size\n"
     ]
    },
    {
     "name": "stderr",
     "output_type": "stream",
     "text": [
      "      11/50         0G      2.198       2.11      1.832          8        640: 100%|██████████| 364/364 [11:48<00:00,  1.95s/it]\n",
      "                 Class     Images  Instances      Box(P          R      mAP50  mAP50-95): 100%|██████████| 51/51 [01:09<00:00,  1.37s/it]"
     ]
    },
    {
     "name": "stdout",
     "output_type": "stream",
     "text": [
      "                   all        810        865      0.389      0.432      0.366      0.127\n"
     ]
    },
    {
     "name": "stderr",
     "output_type": "stream",
     "text": [
      "\n"
     ]
    },
    {
     "name": "stdout",
     "output_type": "stream",
     "text": [
      "\n",
      "      Epoch    GPU_mem   box_loss   cls_loss   dfl_loss  Instances       Size\n"
     ]
    },
    {
     "name": "stderr",
     "output_type": "stream",
     "text": [
      "      12/50         0G      2.189      2.162       1.85         11        640: 100%|██████████| 364/364 [11:52<00:00,  1.96s/it]\n",
      "                 Class     Images  Instances      Box(P          R      mAP50  mAP50-95): 100%|██████████| 51/51 [01:14<00:00,  1.46s/it]"
     ]
    },
    {
     "name": "stdout",
     "output_type": "stream",
     "text": [
      "                   all        810        865      0.396      0.416      0.351      0.136\n"
     ]
    },
    {
     "name": "stderr",
     "output_type": "stream",
     "text": [
      "\n"
     ]
    },
    {
     "name": "stdout",
     "output_type": "stream",
     "text": [
      "\n",
      "      Epoch    GPU_mem   box_loss   cls_loss   dfl_loss  Instances       Size\n"
     ]
    },
    {
     "name": "stderr",
     "output_type": "stream",
     "text": [
      "      13/50         0G      2.168       2.13      1.821         12        640: 100%|██████████| 364/364 [12:06<00:00,  2.00s/it]\n",
      "                 Class     Images  Instances      Box(P          R      mAP50  mAP50-95): 100%|██████████| 51/51 [01:21<00:00,  1.60s/it]"
     ]
    },
    {
     "name": "stdout",
     "output_type": "stream",
     "text": [
      "                   all        810        865       0.46      0.419      0.402      0.147\n"
     ]
    },
    {
     "name": "stderr",
     "output_type": "stream",
     "text": [
      "\n"
     ]
    },
    {
     "name": "stdout",
     "output_type": "stream",
     "text": [
      "\n",
      "      Epoch    GPU_mem   box_loss   cls_loss   dfl_loss  Instances       Size\n"
     ]
    },
    {
     "name": "stderr",
     "output_type": "stream",
     "text": [
      "      14/50         0G      2.113      2.038      1.772         10        640: 100%|██████████| 364/364 [12:03<00:00,  1.99s/it]\n",
      "                 Class     Images  Instances      Box(P          R      mAP50  mAP50-95): 100%|██████████| 51/51 [01:09<00:00,  1.37s/it]"
     ]
    },
    {
     "name": "stdout",
     "output_type": "stream",
     "text": [
      "                   all        810        865      0.468      0.444      0.407      0.154\n"
     ]
    },
    {
     "name": "stderr",
     "output_type": "stream",
     "text": [
      "\n"
     ]
    },
    {
     "name": "stdout",
     "output_type": "stream",
     "text": [
      "\n",
      "      Epoch    GPU_mem   box_loss   cls_loss   dfl_loss  Instances       Size\n"
     ]
    },
    {
     "name": "stderr",
     "output_type": "stream",
     "text": [
      "      15/50         0G      2.122      2.012      1.768         12        640: 100%|██████████| 364/364 [12:17<00:00,  2.03s/it]\n",
      "                 Class     Images  Instances      Box(P          R      mAP50  mAP50-95): 100%|██████████| 51/51 [01:15<00:00,  1.49s/it]"
     ]
    },
    {
     "name": "stdout",
     "output_type": "stream",
     "text": [
      "                   all        810        865      0.488      0.488      0.446      0.168\n"
     ]
    },
    {
     "name": "stderr",
     "output_type": "stream",
     "text": [
      "\n"
     ]
    },
    {
     "name": "stdout",
     "output_type": "stream",
     "text": [
      "\n",
      "      Epoch    GPU_mem   box_loss   cls_loss   dfl_loss  Instances       Size\n"
     ]
    },
    {
     "name": "stderr",
     "output_type": "stream",
     "text": [
      "      16/50         0G        2.1      1.978      1.746          7        640: 100%|██████████| 364/364 [12:12<00:00,  2.01s/it]\n",
      "                 Class     Images  Instances      Box(P          R      mAP50  mAP50-95): 100%|██████████| 51/51 [01:10<00:00,  1.39s/it]"
     ]
    },
    {
     "name": "stdout",
     "output_type": "stream",
     "text": [
      "                   all        810        865      0.452      0.482      0.421      0.162\n"
     ]
    },
    {
     "name": "stderr",
     "output_type": "stream",
     "text": [
      "\n"
     ]
    },
    {
     "name": "stdout",
     "output_type": "stream",
     "text": [
      "\n",
      "      Epoch    GPU_mem   box_loss   cls_loss   dfl_loss  Instances       Size\n"
     ]
    },
    {
     "name": "stderr",
     "output_type": "stream",
     "text": [
      "      17/50         0G      2.094      2.009      1.758          9        640: 100%|██████████| 364/364 [11:59<00:00,  1.98s/it]\n",
      "                 Class     Images  Instances      Box(P          R      mAP50  mAP50-95): 100%|██████████| 51/51 [01:10<00:00,  1.38s/it]"
     ]
    },
    {
     "name": "stdout",
     "output_type": "stream",
     "text": [
      "                   all        810        865      0.519       0.43      0.443       0.17\n"
     ]
    },
    {
     "name": "stderr",
     "output_type": "stream",
     "text": [
      "\n"
     ]
    },
    {
     "name": "stdout",
     "output_type": "stream",
     "text": [
      "\n",
      "      Epoch    GPU_mem   box_loss   cls_loss   dfl_loss  Instances       Size\n"
     ]
    },
    {
     "name": "stderr",
     "output_type": "stream",
     "text": [
      "      18/50         0G      2.043      1.933      1.709          9        640: 100%|██████████| 364/364 [11:58<00:00,  1.97s/it]\n",
      "                 Class     Images  Instances      Box(P          R      mAP50  mAP50-95): 100%|██████████| 51/51 [01:10<00:00,  1.38s/it]"
     ]
    },
    {
     "name": "stdout",
     "output_type": "stream",
     "text": [
      "                   all        810        865      0.465      0.524      0.456      0.184\n"
     ]
    },
    {
     "name": "stderr",
     "output_type": "stream",
     "text": [
      "\n"
     ]
    },
    {
     "name": "stdout",
     "output_type": "stream",
     "text": [
      "\n",
      "      Epoch    GPU_mem   box_loss   cls_loss   dfl_loss  Instances       Size\n"
     ]
    },
    {
     "name": "stderr",
     "output_type": "stream",
     "text": [
      "      19/50         0G      2.056      1.903      1.718          3        640: 100%|██████████| 364/364 [12:14<00:00,  2.02s/it]\n",
      "                 Class     Images  Instances      Box(P          R      mAP50  mAP50-95): 100%|██████████| 51/51 [01:15<00:00,  1.49s/it]"
     ]
    },
    {
     "name": "stdout",
     "output_type": "stream",
     "text": [
      "                   all        810        865      0.497      0.535      0.476      0.182\n"
     ]
    },
    {
     "name": "stderr",
     "output_type": "stream",
     "text": [
      "\n"
     ]
    },
    {
     "name": "stdout",
     "output_type": "stream",
     "text": [
      "\n",
      "      Epoch    GPU_mem   box_loss   cls_loss   dfl_loss  Instances       Size\n"
     ]
    },
    {
     "name": "stderr",
     "output_type": "stream",
     "text": [
      "      20/50         0G      2.036      1.872      1.705          8        640: 100%|██████████| 364/364 [12:19<00:00,  2.03s/it]\n",
      "                 Class     Images  Instances      Box(P          R      mAP50  mAP50-95): 100%|██████████| 51/51 [01:18<00:00,  1.54s/it]"
     ]
    },
    {
     "name": "stdout",
     "output_type": "stream",
     "text": [
      "                   all        810        865      0.516      0.511      0.507      0.214\n"
     ]
    },
    {
     "name": "stderr",
     "output_type": "stream",
     "text": [
      "\n"
     ]
    },
    {
     "name": "stdout",
     "output_type": "stream",
     "text": [
      "\n",
      "      Epoch    GPU_mem   box_loss   cls_loss   dfl_loss  Instances       Size\n"
     ]
    },
    {
     "name": "stderr",
     "output_type": "stream",
     "text": [
      "      21/50         0G      2.026       1.85      1.692          9        640: 100%|██████████| 364/364 [12:13<00:00,  2.01s/it]\n",
      "                 Class     Images  Instances      Box(P          R      mAP50  mAP50-95): 100%|██████████| 51/51 [01:10<00:00,  1.38s/it]"
     ]
    },
    {
     "name": "stdout",
     "output_type": "stream",
     "text": [
      "                   all        810        865      0.405      0.554      0.444       0.18\n"
     ]
    },
    {
     "name": "stderr",
     "output_type": "stream",
     "text": [
      "\n"
     ]
    },
    {
     "name": "stdout",
     "output_type": "stream",
     "text": [
      "\n",
      "      Epoch    GPU_mem   box_loss   cls_loss   dfl_loss  Instances       Size\n"
     ]
    },
    {
     "name": "stderr",
     "output_type": "stream",
     "text": [
      "      22/50         0G      2.043       1.85      1.708         15        640: 100%|██████████| 364/364 [11:58<00:00,  1.97s/it]\n",
      "                 Class     Images  Instances      Box(P          R      mAP50  mAP50-95): 100%|██████████| 51/51 [01:10<00:00,  1.38s/it]"
     ]
    },
    {
     "name": "stdout",
     "output_type": "stream",
     "text": [
      "                   all        810        865      0.485      0.542      0.462       0.19\n"
     ]
    },
    {
     "name": "stderr",
     "output_type": "stream",
     "text": [
      "\n"
     ]
    },
    {
     "name": "stdout",
     "output_type": "stream",
     "text": [
      "\n",
      "      Epoch    GPU_mem   box_loss   cls_loss   dfl_loss  Instances       Size\n"
     ]
    },
    {
     "name": "stderr",
     "output_type": "stream",
     "text": [
      "      23/50         0G      1.991      1.826      1.676         10        640: 100%|██████████| 364/364 [11:56<00:00,  1.97s/it]\n",
      "                 Class     Images  Instances      Box(P          R      mAP50  mAP50-95): 100%|██████████| 51/51 [01:10<00:00,  1.38s/it]"
     ]
    },
    {
     "name": "stdout",
     "output_type": "stream",
     "text": [
      "                   all        810        865      0.541      0.517      0.522      0.201\n"
     ]
    },
    {
     "name": "stderr",
     "output_type": "stream",
     "text": [
      "\n"
     ]
    },
    {
     "name": "stdout",
     "output_type": "stream",
     "text": [
      "\n",
      "      Epoch    GPU_mem   box_loss   cls_loss   dfl_loss  Instances       Size\n"
     ]
    },
    {
     "name": "stderr",
     "output_type": "stream",
     "text": [
      "      24/50         0G      2.006      1.782       1.68         13        640: 100%|██████████| 364/364 [12:00<00:00,  1.98s/it]\n",
      "                 Class     Images  Instances      Box(P          R      mAP50  mAP50-95): 100%|██████████| 51/51 [01:10<00:00,  1.37s/it]"
     ]
    },
    {
     "name": "stdout",
     "output_type": "stream",
     "text": [
      "                   all        810        865      0.503      0.527      0.477      0.192\n"
     ]
    },
    {
     "name": "stderr",
     "output_type": "stream",
     "text": [
      "\n"
     ]
    },
    {
     "name": "stdout",
     "output_type": "stream",
     "text": [
      "\n",
      "      Epoch    GPU_mem   box_loss   cls_loss   dfl_loss  Instances       Size\n"
     ]
    },
    {
     "name": "stderr",
     "output_type": "stream",
     "text": [
      "      25/50         0G          2      1.797      1.664          8        640: 100%|██████████| 364/364 [11:57<00:00,  1.97s/it]\n",
      "                 Class     Images  Instances      Box(P          R      mAP50  mAP50-95): 100%|██████████| 51/51 [01:08<00:00,  1.35s/it]"
     ]
    },
    {
     "name": "stdout",
     "output_type": "stream",
     "text": [
      "                   all        810        865      0.538      0.528      0.534      0.228\n"
     ]
    },
    {
     "name": "stderr",
     "output_type": "stream",
     "text": [
      "\n"
     ]
    },
    {
     "name": "stdout",
     "output_type": "stream",
     "text": [
      "\n",
      "      Epoch    GPU_mem   box_loss   cls_loss   dfl_loss  Instances       Size\n"
     ]
    },
    {
     "name": "stderr",
     "output_type": "stream",
     "text": [
      "      26/50         0G      1.953      1.721       1.63         19        640: 100%|██████████| 364/364 [12:02<00:00,  1.98s/it]\n",
      "                 Class     Images  Instances      Box(P          R      mAP50  mAP50-95): 100%|██████████| 51/51 [01:09<00:00,  1.36s/it]"
     ]
    },
    {
     "name": "stdout",
     "output_type": "stream",
     "text": [
      "                   all        810        865      0.486      0.535       0.51       0.22\n"
     ]
    },
    {
     "name": "stderr",
     "output_type": "stream",
     "text": [
      "\n"
     ]
    },
    {
     "name": "stdout",
     "output_type": "stream",
     "text": [
      "\n",
      "      Epoch    GPU_mem   box_loss   cls_loss   dfl_loss  Instances       Size\n"
     ]
    },
    {
     "name": "stderr",
     "output_type": "stream",
     "text": [
      "      27/50         0G      1.942      1.726      1.631         13        640: 100%|██████████| 364/364 [11:57<00:00,  1.97s/it]\n",
      "                 Class     Images  Instances      Box(P          R      mAP50  mAP50-95): 100%|██████████| 51/51 [01:09<00:00,  1.36s/it]"
     ]
    },
    {
     "name": "stdout",
     "output_type": "stream",
     "text": [
      "                   all        810        865      0.542      0.527      0.517      0.216\n"
     ]
    },
    {
     "name": "stderr",
     "output_type": "stream",
     "text": [
      "\n"
     ]
    },
    {
     "name": "stdout",
     "output_type": "stream",
     "text": [
      "\n",
      "      Epoch    GPU_mem   box_loss   cls_loss   dfl_loss  Instances       Size\n"
     ]
    },
    {
     "name": "stderr",
     "output_type": "stream",
     "text": [
      "      28/50         0G      1.951      1.713      1.625          9        640: 100%|██████████| 364/364 [12:03<00:00,  1.99s/it]\n",
      "                 Class     Images  Instances      Box(P          R      mAP50  mAP50-95): 100%|██████████| 51/51 [01:10<00:00,  1.38s/it]"
     ]
    },
    {
     "name": "stdout",
     "output_type": "stream",
     "text": [
      "                   all        810        865      0.491      0.548      0.491      0.212\n"
     ]
    },
    {
     "name": "stderr",
     "output_type": "stream",
     "text": [
      "\n"
     ]
    },
    {
     "name": "stdout",
     "output_type": "stream",
     "text": [
      "\n",
      "      Epoch    GPU_mem   box_loss   cls_loss   dfl_loss  Instances       Size\n"
     ]
    },
    {
     "name": "stderr",
     "output_type": "stream",
     "text": [
      "      29/50         0G      1.929      1.694      1.617         14        640: 100%|██████████| 364/364 [12:02<00:00,  1.98s/it]\n",
      "                 Class     Images  Instances      Box(P          R      mAP50  mAP50-95): 100%|██████████| 51/51 [01:10<00:00,  1.37s/it]"
     ]
    },
    {
     "name": "stdout",
     "output_type": "stream",
     "text": [
      "                   all        810        865      0.585       0.53      0.553      0.231\n"
     ]
    },
    {
     "name": "stderr",
     "output_type": "stream",
     "text": [
      "\n"
     ]
    },
    {
     "name": "stdout",
     "output_type": "stream",
     "text": [
      "\n",
      "      Epoch    GPU_mem   box_loss   cls_loss   dfl_loss  Instances       Size\n"
     ]
    },
    {
     "name": "stderr",
     "output_type": "stream",
     "text": [
      "      30/50         0G      1.947      1.694      1.609          7        640: 100%|██████████| 364/364 [11:56<00:00,  1.97s/it]\n",
      "                 Class     Images  Instances      Box(P          R      mAP50  mAP50-95): 100%|██████████| 51/51 [01:09<00:00,  1.36s/it]"
     ]
    },
    {
     "name": "stdout",
     "output_type": "stream",
     "text": [
      "                   all        810        865      0.539      0.565      0.532      0.227\n"
     ]
    },
    {
     "name": "stderr",
     "output_type": "stream",
     "text": [
      "\n"
     ]
    },
    {
     "name": "stdout",
     "output_type": "stream",
     "text": [
      "\n",
      "      Epoch    GPU_mem   box_loss   cls_loss   dfl_loss  Instances       Size\n"
     ]
    },
    {
     "name": "stderr",
     "output_type": "stream",
     "text": [
      "      31/50         0G      1.923      1.625      1.595          8        640: 100%|██████████| 364/364 [11:57<00:00,  1.97s/it]\n",
      "                 Class     Images  Instances      Box(P          R      mAP50  mAP50-95): 100%|██████████| 51/51 [01:17<00:00,  1.53s/it]"
     ]
    },
    {
     "name": "stdout",
     "output_type": "stream",
     "text": [
      "                   all        810        865      0.561        0.6      0.555      0.231\n"
     ]
    },
    {
     "name": "stderr",
     "output_type": "stream",
     "text": [
      "\n"
     ]
    },
    {
     "name": "stdout",
     "output_type": "stream",
     "text": [
      "\n",
      "      Epoch    GPU_mem   box_loss   cls_loss   dfl_loss  Instances       Size\n"
     ]
    },
    {
     "name": "stderr",
     "output_type": "stream",
     "text": [
      "      32/50         0G      1.912      1.634      1.602          7        640: 100%|██████████| 364/364 [12:06<00:00,  2.00s/it]\n",
      "                 Class     Images  Instances      Box(P          R      mAP50  mAP50-95): 100%|██████████| 51/51 [01:09<00:00,  1.37s/it]"
     ]
    },
    {
     "name": "stdout",
     "output_type": "stream",
     "text": [
      "                   all        810        865      0.561      0.573      0.526      0.224\n"
     ]
    },
    {
     "name": "stderr",
     "output_type": "stream",
     "text": [
      "\n"
     ]
    },
    {
     "name": "stdout",
     "output_type": "stream",
     "text": [
      "\n",
      "      Epoch    GPU_mem   box_loss   cls_loss   dfl_loss  Instances       Size\n"
     ]
    },
    {
     "name": "stderr",
     "output_type": "stream",
     "text": [
      "      33/50         0G      1.914      1.628      1.591          8        640: 100%|██████████| 364/364 [11:56<00:00,  1.97s/it]\n",
      "                 Class     Images  Instances      Box(P          R      mAP50  mAP50-95): 100%|██████████| 51/51 [01:09<00:00,  1.35s/it]"
     ]
    },
    {
     "name": "stdout",
     "output_type": "stream",
     "text": [
      "                   all        810        865      0.569      0.585      0.579      0.249\n"
     ]
    },
    {
     "name": "stderr",
     "output_type": "stream",
     "text": [
      "\n"
     ]
    },
    {
     "name": "stdout",
     "output_type": "stream",
     "text": [
      "\n",
      "      Epoch    GPU_mem   box_loss   cls_loss   dfl_loss  Instances       Size\n"
     ]
    },
    {
     "name": "stderr",
     "output_type": "stream",
     "text": [
      "      34/50         0G      1.868      1.577      1.568          8        640: 100%|██████████| 364/364 [12:04<00:00,  1.99s/it]\n",
      "                 Class     Images  Instances      Box(P          R      mAP50  mAP50-95): 100%|██████████| 51/51 [01:11<00:00,  1.40s/it]"
     ]
    },
    {
     "name": "stdout",
     "output_type": "stream",
     "text": [
      "                   all        810        865      0.586      0.591      0.583      0.248\n"
     ]
    },
    {
     "name": "stderr",
     "output_type": "stream",
     "text": [
      "\n"
     ]
    },
    {
     "name": "stdout",
     "output_type": "stream",
     "text": [
      "\n",
      "      Epoch    GPU_mem   box_loss   cls_loss   dfl_loss  Instances       Size\n"
     ]
    },
    {
     "name": "stderr",
     "output_type": "stream",
     "text": [
      "      35/50         0G      1.883      1.572      1.572         10        640: 100%|██████████| 364/364 [12:21<00:00,  2.04s/it]\n",
      "                 Class     Images  Instances      Box(P          R      mAP50  mAP50-95): 100%|██████████| 51/51 [01:10<00:00,  1.38s/it]"
     ]
    },
    {
     "name": "stdout",
     "output_type": "stream",
     "text": [
      "                   all        810        865      0.582       0.56       0.58      0.243\n"
     ]
    },
    {
     "name": "stderr",
     "output_type": "stream",
     "text": [
      "\n"
     ]
    },
    {
     "name": "stdout",
     "output_type": "stream",
     "text": [
      "\n",
      "      Epoch    GPU_mem   box_loss   cls_loss   dfl_loss  Instances       Size\n"
     ]
    },
    {
     "name": "stderr",
     "output_type": "stream",
     "text": [
      "      36/50         0G      1.875      1.556      1.575          9        640: 100%|██████████| 364/364 [11:59<00:00,  1.98s/it]\n",
      "                 Class     Images  Instances      Box(P          R      mAP50  mAP50-95): 100%|██████████| 51/51 [01:08<00:00,  1.35s/it]"
     ]
    },
    {
     "name": "stdout",
     "output_type": "stream",
     "text": [
      "                   all        810        865      0.594      0.545      0.579      0.255\n"
     ]
    },
    {
     "name": "stderr",
     "output_type": "stream",
     "text": [
      "\n"
     ]
    },
    {
     "name": "stdout",
     "output_type": "stream",
     "text": [
      "\n",
      "      Epoch    GPU_mem   box_loss   cls_loss   dfl_loss  Instances       Size\n"
     ]
    },
    {
     "name": "stderr",
     "output_type": "stream",
     "text": [
      "      37/50         0G      1.827      1.514      1.528         11        640: 100%|██████████| 364/364 [11:58<00:00,  1.97s/it]\n",
      "                 Class     Images  Instances      Box(P          R      mAP50  mAP50-95): 100%|██████████| 51/51 [01:10<00:00,  1.38s/it]"
     ]
    },
    {
     "name": "stdout",
     "output_type": "stream",
     "text": [
      "                   all        810        865      0.632      0.588      0.604      0.252\n"
     ]
    },
    {
     "name": "stderr",
     "output_type": "stream",
     "text": [
      "\n"
     ]
    },
    {
     "name": "stdout",
     "output_type": "stream",
     "text": [
      "\n",
      "      Epoch    GPU_mem   box_loss   cls_loss   dfl_loss  Instances       Size\n"
     ]
    },
    {
     "name": "stderr",
     "output_type": "stream",
     "text": [
      "      38/50         0G      1.857      1.518      1.546          5        640: 100%|██████████| 364/364 [12:10<00:00,  2.01s/it]\n",
      "                 Class     Images  Instances      Box(P          R      mAP50  mAP50-95): 100%|██████████| 51/51 [01:10<00:00,  1.39s/it]"
     ]
    },
    {
     "name": "stdout",
     "output_type": "stream",
     "text": [
      "                   all        810        865      0.597      0.577      0.586      0.259\n"
     ]
    },
    {
     "name": "stderr",
     "output_type": "stream",
     "text": [
      "\n"
     ]
    },
    {
     "name": "stdout",
     "output_type": "stream",
     "text": [
      "\n",
      "      Epoch    GPU_mem   box_loss   cls_loss   dfl_loss  Instances       Size\n"
     ]
    },
    {
     "name": "stderr",
     "output_type": "stream",
     "text": [
      "      39/50         0G      1.841      1.533      1.539          8        640: 100%|██████████| 364/364 [11:57<00:00,  1.97s/it]\n",
      "                 Class     Images  Instances      Box(P          R      mAP50  mAP50-95): 100%|██████████| 51/51 [01:09<00:00,  1.36s/it]"
     ]
    },
    {
     "name": "stdout",
     "output_type": "stream",
     "text": [
      "                   all        810        865      0.588      0.609      0.602      0.261\n"
     ]
    },
    {
     "name": "stderr",
     "output_type": "stream",
     "text": [
      "\n"
     ]
    },
    {
     "name": "stdout",
     "output_type": "stream",
     "text": [
      "\n",
      "      Epoch    GPU_mem   box_loss   cls_loss   dfl_loss  Instances       Size\n"
     ]
    },
    {
     "name": "stderr",
     "output_type": "stream",
     "text": [
      "      40/50         0G      1.813      1.502      1.534         10        640: 100%|██████████| 364/364 [12:09<00:00,  2.00s/it]\n",
      "                 Class     Images  Instances      Box(P          R      mAP50  mAP50-95): 100%|██████████| 51/51 [01:09<00:00,  1.37s/it]"
     ]
    },
    {
     "name": "stdout",
     "output_type": "stream",
     "text": [
      "                   all        810        865      0.582      0.609      0.599      0.267\n"
     ]
    },
    {
     "name": "stderr",
     "output_type": "stream",
     "text": [
      "\n"
     ]
    },
    {
     "name": "stdout",
     "output_type": "stream",
     "text": [
      "Closing dataloader mosaic\n",
      "\n",
      "      Epoch    GPU_mem   box_loss   cls_loss   dfl_loss  Instances       Size\n"
     ]
    },
    {
     "name": "stderr",
     "output_type": "stream",
     "text": [
      "      41/50         0G      1.821      1.384      1.574          6        640: 100%|██████████| 364/364 [11:49<00:00,  1.95s/it]\n",
      "                 Class     Images  Instances      Box(P          R      mAP50  mAP50-95): 100%|██████████| 51/51 [01:11<00:00,  1.40s/it]"
     ]
    },
    {
     "name": "stdout",
     "output_type": "stream",
     "text": [
      "                   all        810        865      0.629      0.609      0.632      0.277\n"
     ]
    },
    {
     "name": "stderr",
     "output_type": "stream",
     "text": [
      "\n"
     ]
    },
    {
     "name": "stdout",
     "output_type": "stream",
     "text": [
      "\n",
      "      Epoch    GPU_mem   box_loss   cls_loss   dfl_loss  Instances       Size\n"
     ]
    },
    {
     "name": "stderr",
     "output_type": "stream",
     "text": [
      "      42/50         0G      1.813       1.35       1.56          6        640: 100%|██████████| 364/364 [11:48<00:00,  1.95s/it]\n",
      "                 Class     Images  Instances      Box(P          R      mAP50  mAP50-95): 100%|██████████| 51/51 [01:09<00:00,  1.37s/it]"
     ]
    },
    {
     "name": "stdout",
     "output_type": "stream",
     "text": [
      "                   all        810        865      0.635      0.607      0.636      0.281\n"
     ]
    },
    {
     "name": "stderr",
     "output_type": "stream",
     "text": [
      "\n"
     ]
    },
    {
     "name": "stdout",
     "output_type": "stream",
     "text": [
      "\n",
      "      Epoch    GPU_mem   box_loss   cls_loss   dfl_loss  Instances       Size\n"
     ]
    },
    {
     "name": "stderr",
     "output_type": "stream",
     "text": [
      "      43/50         0G      1.789       1.32      1.545          7        640: 100%|██████████| 364/364 [11:55<00:00,  1.97s/it]\n",
      "                 Class     Images  Instances      Box(P          R      mAP50  mAP50-95): 100%|██████████| 51/51 [01:10<00:00,  1.38s/it]"
     ]
    },
    {
     "name": "stdout",
     "output_type": "stream",
     "text": [
      "                   all        810        865      0.645      0.587      0.623      0.279\n"
     ]
    },
    {
     "name": "stderr",
     "output_type": "stream",
     "text": [
      "\n"
     ]
    },
    {
     "name": "stdout",
     "output_type": "stream",
     "text": [
      "\n",
      "      Epoch    GPU_mem   box_loss   cls_loss   dfl_loss  Instances       Size\n"
     ]
    },
    {
     "name": "stderr",
     "output_type": "stream",
     "text": [
      "      44/50         0G      1.776      1.314      1.543          6        640: 100%|██████████| 364/364 [12:17<00:00,  2.03s/it]\n",
      "                 Class     Images  Instances      Box(P          R      mAP50  mAP50-95): 100%|██████████| 51/51 [01:10<00:00,  1.39s/it]"
     ]
    },
    {
     "name": "stdout",
     "output_type": "stream",
     "text": [
      "                   all        810        865      0.624      0.589      0.624       0.28\n"
     ]
    },
    {
     "name": "stderr",
     "output_type": "stream",
     "text": [
      "\n"
     ]
    },
    {
     "name": "stdout",
     "output_type": "stream",
     "text": [
      "\n",
      "      Epoch    GPU_mem   box_loss   cls_loss   dfl_loss  Instances       Size\n"
     ]
    },
    {
     "name": "stderr",
     "output_type": "stream",
     "text": [
      "      45/50         0G      1.764      1.297       1.53          6        640: 100%|██████████| 364/364 [12:08<00:00,  2.00s/it]\n",
      "                 Class     Images  Instances      Box(P          R      mAP50  mAP50-95): 100%|██████████| 51/51 [01:11<00:00,  1.40s/it]"
     ]
    },
    {
     "name": "stdout",
     "output_type": "stream",
     "text": [
      "                   all        810        865      0.637      0.592      0.628      0.287\n"
     ]
    },
    {
     "name": "stderr",
     "output_type": "stream",
     "text": [
      "\n"
     ]
    },
    {
     "name": "stdout",
     "output_type": "stream",
     "text": [
      "\n",
      "      Epoch    GPU_mem   box_loss   cls_loss   dfl_loss  Instances       Size\n"
     ]
    },
    {
     "name": "stderr",
     "output_type": "stream",
     "text": [
      "      46/50         0G      1.739      1.271      1.517          6        640: 100%|██████████| 364/364 [12:16<00:00,  2.02s/it]\n",
      "                 Class     Images  Instances      Box(P          R      mAP50  mAP50-95): 100%|██████████| 51/51 [01:12<00:00,  1.42s/it]"
     ]
    },
    {
     "name": "stdout",
     "output_type": "stream",
     "text": [
      "                   all        810        865      0.686        0.6      0.647      0.294\n"
     ]
    },
    {
     "name": "stderr",
     "output_type": "stream",
     "text": [
      "\n"
     ]
    },
    {
     "name": "stdout",
     "output_type": "stream",
     "text": [
      "\n",
      "      Epoch    GPU_mem   box_loss   cls_loss   dfl_loss  Instances       Size\n"
     ]
    },
    {
     "name": "stderr",
     "output_type": "stream",
     "text": [
      "      47/50         0G      1.737      1.258      1.519          8        640: 100%|██████████| 364/364 [12:19<00:00,  2.03s/it]\n",
      "                 Class     Images  Instances      Box(P          R      mAP50  mAP50-95): 100%|██████████| 51/51 [01:19<00:00,  1.56s/it]"
     ]
    },
    {
     "name": "stdout",
     "output_type": "stream",
     "text": [
      "                   all        810        865      0.666      0.582      0.642      0.291\n"
     ]
    },
    {
     "name": "stderr",
     "output_type": "stream",
     "text": [
      "\n"
     ]
    },
    {
     "name": "stdout",
     "output_type": "stream",
     "text": [
      "\n",
      "      Epoch    GPU_mem   box_loss   cls_loss   dfl_loss  Instances       Size\n"
     ]
    },
    {
     "name": "stderr",
     "output_type": "stream",
     "text": [
      "      48/50         0G      1.731      1.234      1.503          6        640: 100%|██████████| 364/364 [13:06<00:00,  2.16s/it]\n",
      "                 Class     Images  Instances      Box(P          R      mAP50  mAP50-95): 100%|██████████| 51/51 [01:21<00:00,  1.60s/it]"
     ]
    },
    {
     "name": "stdout",
     "output_type": "stream",
     "text": [
      "                   all        810        865      0.636      0.616       0.65      0.295\n"
     ]
    },
    {
     "name": "stderr",
     "output_type": "stream",
     "text": [
      "\n"
     ]
    },
    {
     "name": "stdout",
     "output_type": "stream",
     "text": [
      "\n",
      "      Epoch    GPU_mem   box_loss   cls_loss   dfl_loss  Instances       Size\n"
     ]
    },
    {
     "name": "stderr",
     "output_type": "stream",
     "text": [
      "      49/50         0G      1.726      1.224      1.509          7        640: 100%|██████████| 364/364 [12:17<00:00,  2.03s/it]\n",
      "                 Class     Images  Instances      Box(P          R      mAP50  mAP50-95): 100%|██████████| 51/51 [01:08<00:00,  1.35s/it]"
     ]
    },
    {
     "name": "stdout",
     "output_type": "stream",
     "text": [
      "                   all        810        865      0.657      0.613      0.653      0.299\n"
     ]
    },
    {
     "name": "stderr",
     "output_type": "stream",
     "text": [
      "\n"
     ]
    },
    {
     "name": "stdout",
     "output_type": "stream",
     "text": [
      "\n",
      "      Epoch    GPU_mem   box_loss   cls_loss   dfl_loss  Instances       Size\n"
     ]
    },
    {
     "name": "stderr",
     "output_type": "stream",
     "text": [
      "      50/50         0G      1.703      1.215      1.487          7        640: 100%|██████████| 364/364 [12:02<00:00,  1.98s/it]\n",
      "                 Class     Images  Instances      Box(P          R      mAP50  mAP50-95): 100%|██████████| 51/51 [01:11<00:00,  1.40s/it]"
     ]
    },
    {
     "name": "stdout",
     "output_type": "stream",
     "text": [
      "                   all        810        865      0.665      0.586       0.65      0.297\n"
     ]
    },
    {
     "name": "stderr",
     "output_type": "stream",
     "text": [
      "\n"
     ]
    },
    {
     "name": "stdout",
     "output_type": "stream",
     "text": [
      "\n",
      "50 epochs completed in 11.235 hours.\n",
      "Optimizer stripped from c:\\Users\\shihy\\runs\\detect\\train23\\weights\\last.pt, 6.2MB\n",
      "Optimizer stripped from c:\\Users\\shihy\\runs\\detect\\train23\\weights\\best.pt, 6.2MB\n",
      "\n",
      "Validating c:\\Users\\shihy\\runs\\detect\\train23\\weights\\best.pt...\n",
      "Ultralytics 8.3.59  Python-3.12.8 torch-2.5.1+cpu CPU (12th Gen Intel Core(TM) i5-1240P)\n",
      "Model summary (fused): 168 layers, 3,005,843 parameters, 0 gradients, 8.1 GFLOPs\n"
     ]
    },
    {
     "name": "stderr",
     "output_type": "stream",
     "text": [
      "                 Class     Images  Instances      Box(P          R      mAP50  mAP50-95): 100%|██████████| 51/51 [01:02<00:00,  1.22s/it]\n"
     ]
    },
    {
     "name": "stdout",
     "output_type": "stream",
     "text": [
      "                   all        810        865      0.657      0.612      0.653      0.298\n",
      "Speed: 0.9ms preprocess, 66.7ms inference, 0.0ms loss, 0.6ms postprocess per image\n",
      "Results saved to \u001b[1mc:\\Users\\shihy\\runs\\detect\\train23\u001b[0m\n"
     ]
    },
    {
     "data": {
      "text/plain": [
       "ultralytics.utils.metrics.DetMetrics object with attributes:\n",
       "\n",
       "ap_class_index: array([0])\n",
       "box: ultralytics.utils.metrics.Metric object\n",
       "confusion_matrix: <ultralytics.utils.metrics.ConfusionMatrix object at 0x00000287416162A0>\n",
       "curves: ['Precision-Recall(B)', 'F1-Confidence(B)', 'Precision-Confidence(B)', 'Recall-Confidence(B)']\n",
       "curves_results: [[array([          0,    0.001001,    0.002002,    0.003003,    0.004004,    0.005005,    0.006006,    0.007007,    0.008008,    0.009009,     0.01001,    0.011011,    0.012012,    0.013013,    0.014014,    0.015015,    0.016016,    0.017017,    0.018018,    0.019019,     0.02002,    0.021021,    0.022022,    0.023023,\n",
       "          0.024024,    0.025025,    0.026026,    0.027027,    0.028028,    0.029029,     0.03003,    0.031031,    0.032032,    0.033033,    0.034034,    0.035035,    0.036036,    0.037037,    0.038038,    0.039039,     0.04004,    0.041041,    0.042042,    0.043043,    0.044044,    0.045045,    0.046046,    0.047047,\n",
       "          0.048048,    0.049049,     0.05005,    0.051051,    0.052052,    0.053053,    0.054054,    0.055055,    0.056056,    0.057057,    0.058058,    0.059059,     0.06006,    0.061061,    0.062062,    0.063063,    0.064064,    0.065065,    0.066066,    0.067067,    0.068068,    0.069069,     0.07007,    0.071071,\n",
       "          0.072072,    0.073073,    0.074074,    0.075075,    0.076076,    0.077077,    0.078078,    0.079079,     0.08008,    0.081081,    0.082082,    0.083083,    0.084084,    0.085085,    0.086086,    0.087087,    0.088088,    0.089089,     0.09009,    0.091091,    0.092092,    0.093093,    0.094094,    0.095095,\n",
       "          0.096096,    0.097097,    0.098098,    0.099099,      0.1001,      0.1011,      0.1021,      0.1031,      0.1041,     0.10511,     0.10611,     0.10711,     0.10811,     0.10911,     0.11011,     0.11111,     0.11211,     0.11311,     0.11411,     0.11512,     0.11612,     0.11712,     0.11812,     0.11912,\n",
       "           0.12012,     0.12112,     0.12212,     0.12312,     0.12412,     0.12513,     0.12613,     0.12713,     0.12813,     0.12913,     0.13013,     0.13113,     0.13213,     0.13313,     0.13413,     0.13514,     0.13614,     0.13714,     0.13814,     0.13914,     0.14014,     0.14114,     0.14214,     0.14314,\n",
       "           0.14414,     0.14515,     0.14615,     0.14715,     0.14815,     0.14915,     0.15015,     0.15115,     0.15215,     0.15315,     0.15415,     0.15516,     0.15616,     0.15716,     0.15816,     0.15916,     0.16016,     0.16116,     0.16216,     0.16316,     0.16416,     0.16517,     0.16617,     0.16717,\n",
       "           0.16817,     0.16917,     0.17017,     0.17117,     0.17217,     0.17317,     0.17417,     0.17518,     0.17618,     0.17718,     0.17818,     0.17918,     0.18018,     0.18118,     0.18218,     0.18318,     0.18418,     0.18519,     0.18619,     0.18719,     0.18819,     0.18919,     0.19019,     0.19119,\n",
       "           0.19219,     0.19319,     0.19419,      0.1952,      0.1962,      0.1972,      0.1982,      0.1992,      0.2002,      0.2012,      0.2022,      0.2032,      0.2042,     0.20521,     0.20621,     0.20721,     0.20821,     0.20921,     0.21021,     0.21121,     0.21221,     0.21321,     0.21421,     0.21522,\n",
       "           0.21622,     0.21722,     0.21822,     0.21922,     0.22022,     0.22122,     0.22222,     0.22322,     0.22422,     0.22523,     0.22623,     0.22723,     0.22823,     0.22923,     0.23023,     0.23123,     0.23223,     0.23323,     0.23423,     0.23524,     0.23624,     0.23724,     0.23824,     0.23924,\n",
       "           0.24024,     0.24124,     0.24224,     0.24324,     0.24424,     0.24525,     0.24625,     0.24725,     0.24825,     0.24925,     0.25025,     0.25125,     0.25225,     0.25325,     0.25425,     0.25526,     0.25626,     0.25726,     0.25826,     0.25926,     0.26026,     0.26126,     0.26226,     0.26326,\n",
       "           0.26426,     0.26527,     0.26627,     0.26727,     0.26827,     0.26927,     0.27027,     0.27127,     0.27227,     0.27327,     0.27427,     0.27528,     0.27628,     0.27728,     0.27828,     0.27928,     0.28028,     0.28128,     0.28228,     0.28328,     0.28428,     0.28529,     0.28629,     0.28729,\n",
       "           0.28829,     0.28929,     0.29029,     0.29129,     0.29229,     0.29329,     0.29429,      0.2953,      0.2963,      0.2973,      0.2983,      0.2993,      0.3003,      0.3013,      0.3023,      0.3033,      0.3043,     0.30531,     0.30631,     0.30731,     0.30831,     0.30931,     0.31031,     0.31131,\n",
       "           0.31231,     0.31331,     0.31431,     0.31532,     0.31632,     0.31732,     0.31832,     0.31932,     0.32032,     0.32132,     0.32232,     0.32332,     0.32432,     0.32533,     0.32633,     0.32733,     0.32833,     0.32933,     0.33033,     0.33133,     0.33233,     0.33333,     0.33433,     0.33534,\n",
       "           0.33634,     0.33734,     0.33834,     0.33934,     0.34034,     0.34134,     0.34234,     0.34334,     0.34434,     0.34535,     0.34635,     0.34735,     0.34835,     0.34935,     0.35035,     0.35135,     0.35235,     0.35335,     0.35435,     0.35536,     0.35636,     0.35736,     0.35836,     0.35936,\n",
       "           0.36036,     0.36136,     0.36236,     0.36336,     0.36436,     0.36537,     0.36637,     0.36737,     0.36837,     0.36937,     0.37037,     0.37137,     0.37237,     0.37337,     0.37437,     0.37538,     0.37638,     0.37738,     0.37838,     0.37938,     0.38038,     0.38138,     0.38238,     0.38338,\n",
       "           0.38438,     0.38539,     0.38639,     0.38739,     0.38839,     0.38939,     0.39039,     0.39139,     0.39239,     0.39339,     0.39439,      0.3954,      0.3964,      0.3974,      0.3984,      0.3994,      0.4004,      0.4014,      0.4024,      0.4034,      0.4044,     0.40541,     0.40641,     0.40741,\n",
       "           0.40841,     0.40941,     0.41041,     0.41141,     0.41241,     0.41341,     0.41441,     0.41542,     0.41642,     0.41742,     0.41842,     0.41942,     0.42042,     0.42142,     0.42242,     0.42342,     0.42442,     0.42543,     0.42643,     0.42743,     0.42843,     0.42943,     0.43043,     0.43143,\n",
       "           0.43243,     0.43343,     0.43443,     0.43544,     0.43644,     0.43744,     0.43844,     0.43944,     0.44044,     0.44144,     0.44244,     0.44344,     0.44444,     0.44545,     0.44645,     0.44745,     0.44845,     0.44945,     0.45045,     0.45145,     0.45245,     0.45345,     0.45445,     0.45546,\n",
       "           0.45646,     0.45746,     0.45846,     0.45946,     0.46046,     0.46146,     0.46246,     0.46346,     0.46446,     0.46547,     0.46647,     0.46747,     0.46847,     0.46947,     0.47047,     0.47147,     0.47247,     0.47347,     0.47447,     0.47548,     0.47648,     0.47748,     0.47848,     0.47948,\n",
       "           0.48048,     0.48148,     0.48248,     0.48348,     0.48448,     0.48549,     0.48649,     0.48749,     0.48849,     0.48949,     0.49049,     0.49149,     0.49249,     0.49349,     0.49449,      0.4955,      0.4965,      0.4975,      0.4985,      0.4995,      0.5005,      0.5015,      0.5025,      0.5035,\n",
       "            0.5045,     0.50551,     0.50651,     0.50751,     0.50851,     0.50951,     0.51051,     0.51151,     0.51251,     0.51351,     0.51451,     0.51552,     0.51652,     0.51752,     0.51852,     0.51952,     0.52052,     0.52152,     0.52252,     0.52352,     0.52452,     0.52553,     0.52653,     0.52753,\n",
       "           0.52853,     0.52953,     0.53053,     0.53153,     0.53253,     0.53353,     0.53453,     0.53554,     0.53654,     0.53754,     0.53854,     0.53954,     0.54054,     0.54154,     0.54254,     0.54354,     0.54454,     0.54555,     0.54655,     0.54755,     0.54855,     0.54955,     0.55055,     0.55155,\n",
       "           0.55255,     0.55355,     0.55455,     0.55556,     0.55656,     0.55756,     0.55856,     0.55956,     0.56056,     0.56156,     0.56256,     0.56356,     0.56456,     0.56557,     0.56657,     0.56757,     0.56857,     0.56957,     0.57057,     0.57157,     0.57257,     0.57357,     0.57457,     0.57558,\n",
       "           0.57658,     0.57758,     0.57858,     0.57958,     0.58058,     0.58158,     0.58258,     0.58358,     0.58458,     0.58559,     0.58659,     0.58759,     0.58859,     0.58959,     0.59059,     0.59159,     0.59259,     0.59359,     0.59459,      0.5956,      0.5966,      0.5976,      0.5986,      0.5996,\n",
       "            0.6006,      0.6016,      0.6026,      0.6036,      0.6046,     0.60561,     0.60661,     0.60761,     0.60861,     0.60961,     0.61061,     0.61161,     0.61261,     0.61361,     0.61461,     0.61562,     0.61662,     0.61762,     0.61862,     0.61962,     0.62062,     0.62162,     0.62262,     0.62362,\n",
       "           0.62462,     0.62563,     0.62663,     0.62763,     0.62863,     0.62963,     0.63063,     0.63163,     0.63263,     0.63363,     0.63463,     0.63564,     0.63664,     0.63764,     0.63864,     0.63964,     0.64064,     0.64164,     0.64264,     0.64364,     0.64464,     0.64565,     0.64665,     0.64765,\n",
       "           0.64865,     0.64965,     0.65065,     0.65165,     0.65265,     0.65365,     0.65465,     0.65566,     0.65666,     0.65766,     0.65866,     0.65966,     0.66066,     0.66166,     0.66266,     0.66366,     0.66466,     0.66567,     0.66667,     0.66767,     0.66867,     0.66967,     0.67067,     0.67167,\n",
       "           0.67267,     0.67367,     0.67467,     0.67568,     0.67668,     0.67768,     0.67868,     0.67968,     0.68068,     0.68168,     0.68268,     0.68368,     0.68468,     0.68569,     0.68669,     0.68769,     0.68869,     0.68969,     0.69069,     0.69169,     0.69269,     0.69369,     0.69469,      0.6957,\n",
       "            0.6967,      0.6977,      0.6987,      0.6997,      0.7007,      0.7017,      0.7027,      0.7037,      0.7047,     0.70571,     0.70671,     0.70771,     0.70871,     0.70971,     0.71071,     0.71171,     0.71271,     0.71371,     0.71471,     0.71572,     0.71672,     0.71772,     0.71872,     0.71972,\n",
       "           0.72072,     0.72172,     0.72272,     0.72372,     0.72472,     0.72573,     0.72673,     0.72773,     0.72873,     0.72973,     0.73073,     0.73173,     0.73273,     0.73373,     0.73473,     0.73574,     0.73674,     0.73774,     0.73874,     0.73974,     0.74074,     0.74174,     0.74274,     0.74374,\n",
       "           0.74474,     0.74575,     0.74675,     0.74775,     0.74875,     0.74975,     0.75075,     0.75175,     0.75275,     0.75375,     0.75475,     0.75576,     0.75676,     0.75776,     0.75876,     0.75976,     0.76076,     0.76176,     0.76276,     0.76376,     0.76476,     0.76577,     0.76677,     0.76777,\n",
       "           0.76877,     0.76977,     0.77077,     0.77177,     0.77277,     0.77377,     0.77477,     0.77578,     0.77678,     0.77778,     0.77878,     0.77978,     0.78078,     0.78178,     0.78278,     0.78378,     0.78478,     0.78579,     0.78679,     0.78779,     0.78879,     0.78979,     0.79079,     0.79179,\n",
       "           0.79279,     0.79379,     0.79479,      0.7958,      0.7968,      0.7978,      0.7988,      0.7998,      0.8008,      0.8018,      0.8028,      0.8038,      0.8048,     0.80581,     0.80681,     0.80781,     0.80881,     0.80981,     0.81081,     0.81181,     0.81281,     0.81381,     0.81481,     0.81582,\n",
       "           0.81682,     0.81782,     0.81882,     0.81982,     0.82082,     0.82182,     0.82282,     0.82382,     0.82482,     0.82583,     0.82683,     0.82783,     0.82883,     0.82983,     0.83083,     0.83183,     0.83283,     0.83383,     0.83483,     0.83584,     0.83684,     0.83784,     0.83884,     0.83984,\n",
       "           0.84084,     0.84184,     0.84284,     0.84384,     0.84484,     0.84585,     0.84685,     0.84785,     0.84885,     0.84985,     0.85085,     0.85185,     0.85285,     0.85385,     0.85485,     0.85586,     0.85686,     0.85786,     0.85886,     0.85986,     0.86086,     0.86186,     0.86286,     0.86386,\n",
       "           0.86486,     0.86587,     0.86687,     0.86787,     0.86887,     0.86987,     0.87087,     0.87187,     0.87287,     0.87387,     0.87487,     0.87588,     0.87688,     0.87788,     0.87888,     0.87988,     0.88088,     0.88188,     0.88288,     0.88388,     0.88488,     0.88589,     0.88689,     0.88789,\n",
       "           0.88889,     0.88989,     0.89089,     0.89189,     0.89289,     0.89389,     0.89489,      0.8959,      0.8969,      0.8979,      0.8989,      0.8999,      0.9009,      0.9019,      0.9029,      0.9039,      0.9049,     0.90591,     0.90691,     0.90791,     0.90891,     0.90991,     0.91091,     0.91191,\n",
       "           0.91291,     0.91391,     0.91491,     0.91592,     0.91692,     0.91792,     0.91892,     0.91992,     0.92092,     0.92192,     0.92292,     0.92392,     0.92492,     0.92593,     0.92693,     0.92793,     0.92893,     0.92993,     0.93093,     0.93193,     0.93293,     0.93393,     0.93493,     0.93594,\n",
       "           0.93694,     0.93794,     0.93894,     0.93994,     0.94094,     0.94194,     0.94294,     0.94394,     0.94494,     0.94595,     0.94695,     0.94795,     0.94895,     0.94995,     0.95095,     0.95195,     0.95295,     0.95395,     0.95495,     0.95596,     0.95696,     0.95796,     0.95896,     0.95996,\n",
       "           0.96096,     0.96196,     0.96296,     0.96396,     0.96496,     0.96597,     0.96697,     0.96797,     0.96897,     0.96997,     0.97097,     0.97197,     0.97297,     0.97397,     0.97497,     0.97598,     0.97698,     0.97798,     0.97898,     0.97998,     0.98098,     0.98198,     0.98298,     0.98398,\n",
       "           0.98498,     0.98599,     0.98699,     0.98799,     0.98899,     0.98999,     0.99099,     0.99199,     0.99299,     0.99399,     0.99499,       0.996,       0.997,       0.998,       0.999,           1]), array([[          1,           1,           1,           1,           1,           1,           1,           1,           1,           1,           1,           1,           1,           1,           1,           1,           1,           1,           1,           1,           1,           1,        0.98,\n",
       "               0.98,        0.98,        0.98,        0.98,        0.98,        0.98,        0.98,        0.98,        0.98,        0.98,        0.98,        0.98,        0.98,        0.98,        0.98,        0.98,        0.98,        0.98,        0.98,        0.98,        0.98,        0.98,        0.98,\n",
       "               0.98,        0.98,        0.98,        0.98,        0.98,        0.98,        0.98,        0.98,        0.98,        0.98,        0.98,     0.96296,     0.96296,     0.96296,     0.96296,     0.94915,     0.94915,     0.94915,     0.94915,     0.94565,     0.94565,     0.94565,     0.94565,\n",
       "            0.94565,     0.94565,     0.94565,     0.94565,     0.94565,     0.94565,     0.94565,     0.94565,     0.94565,     0.94565,     0.94565,     0.94565,     0.94565,     0.94565,     0.94565,     0.94565,     0.94565,     0.94565,     0.94565,     0.94565,     0.94565,     0.94565,     0.94565,\n",
       "            0.94565,     0.94565,     0.94565,     0.94565,     0.94565,     0.94565,     0.94565,     0.94565,     0.94565,     0.93893,     0.93893,     0.93893,     0.93893,     0.93893,     0.93893,     0.93893,     0.93893,     0.93893,     0.93893,     0.93893,     0.93893,     0.93893,     0.93893,\n",
       "            0.93893,     0.93893,     0.93893,     0.93893,     0.93893,     0.93893,     0.93893,     0.93893,     0.93893,     0.93893,     0.93893,     0.93893,     0.93893,     0.93893,     0.93893,     0.93893,     0.93893,     0.93893,     0.93893,     0.93893,     0.93893,     0.93893,     0.93893,\n",
       "            0.93893,     0.93893,     0.93893,     0.93893,     0.93893,     0.93103,     0.93103,     0.93103,     0.93103,     0.93103,     0.93103,     0.93103,     0.93103,     0.93103,     0.93103,     0.93103,     0.93103,     0.93103,     0.92617,     0.92617,     0.92617,     0.92617,     0.92442,\n",
       "            0.92442,     0.92442,     0.92442,     0.92442,     0.92442,     0.92442,     0.92442,     0.92442,     0.92442,     0.92442,     0.92442,     0.92442,     0.92442,     0.92442,     0.92442,     0.92442,     0.92442,     0.92442,     0.92442,     0.92442,     0.92442,     0.92442,     0.92442,\n",
       "            0.91803,     0.91803,     0.91803,     0.91803,     0.91803,     0.91803,     0.91803,     0.91803,     0.91803,     0.91803,     0.91803,     0.91534,     0.91534,     0.91534,     0.91534,     0.91534,     0.91237,     0.91237,     0.91237,     0.91237,     0.91237,     0.90816,     0.90547,\n",
       "            0.90547,     0.90547,     0.90547,     0.90547,     0.89855,     0.89855,     0.89855,     0.89855,     0.89744,     0.89744,     0.89744,     0.89744,     0.89744,     0.89744,     0.89744,     0.89744,     0.89744,     0.89744,     0.89744,     0.89744,     0.89744,     0.89744,     0.89744,\n",
       "            0.89744,     0.89744,     0.89744,     0.89744,     0.89744,     0.89744,     0.89744,     0.89744,     0.89744,     0.89744,     0.89744,     0.89744,     0.89744,     0.89496,     0.89496,     0.89496,     0.89256,     0.89256,     0.89256,     0.89256,      0.8898,      0.8898,     0.88353,\n",
       "            0.88353,     0.88353,     0.88077,     0.88077,     0.88077,     0.88077,     0.88077,     0.88077,     0.88077,     0.88077,     0.88077,     0.88077,     0.88043,     0.88043,     0.88043,     0.88043,     0.88043,     0.88043,     0.88043,     0.88043,     0.88043,     0.88043,     0.88043,\n",
       "            0.88043,     0.88043,     0.88043,     0.88043,     0.88043,     0.87857,     0.87857,     0.87857,     0.87857,     0.87847,     0.87847,     0.87847,     0.87847,     0.87847,     0.87847,     0.87847,     0.87847,     0.87586,       0.875,       0.875,       0.875,       0.875,       0.875,\n",
       "              0.875,     0.87043,     0.87043,     0.87043,     0.86943,     0.86943,     0.86943,     0.86943,     0.86943,     0.86943,     0.86943,     0.86943,     0.86943,     0.86943,     0.86943,     0.86943,     0.86943,      0.8685,      0.8685,      0.8685,      0.8685,      0.8685,      0.8685,\n",
       "             0.8685,      0.8685,      0.8685,      0.8685,      0.8685,      0.8685,     0.86747,     0.86747,     0.86747,     0.86747,     0.86747,     0.86377,     0.86377,     0.86377,     0.86377,     0.86377,     0.86377,     0.86377,     0.86377,     0.86377,     0.86377,     0.86377,     0.86377,\n",
       "            0.86119,     0.86119,     0.86119,     0.86119,     0.86119,     0.86119,     0.86119,     0.85994,     0.85994,     0.85994,     0.85794,     0.85224,     0.85224,     0.85224,     0.85224,     0.85224,     0.85224,     0.85224,     0.85224,     0.85224,     0.85224,     0.85224,     0.85224,\n",
       "            0.85224,     0.85224,     0.85224,     0.85224,     0.85224,     0.85224,     0.84974,     0.84974,     0.84974,     0.84974,     0.84974,     0.84439,     0.84439,     0.84439,     0.84439,     0.84304,     0.84304,     0.84211,     0.84211,     0.84211,     0.84211,      0.8404,     0.83663,\n",
       "            0.83498,     0.83333,     0.82968,     0.82651,     0.82651,     0.82651,     0.82494,     0.81991,     0.81991,     0.81422,     0.81422,     0.81422,     0.81422,     0.81422,     0.81422,     0.81422,     0.81422,     0.81422,     0.81422,     0.81279,     0.81279,     0.81136,     0.80995,\n",
       "            0.80674,     0.80537,      0.8044,      0.8044,      0.8044,      0.8044,      0.8044,      0.8044,      0.8044,     0.80174,     0.80174,     0.80174,     0.80043,     0.79959,     0.79959,     0.79959,     0.79959,     0.79959,     0.79959,     0.79959,     0.79959,     0.79959,     0.79959,\n",
       "            0.79959,     0.79959,     0.79959,     0.79959,     0.79959,     0.79959,     0.79959,     0.79959,     0.79959,     0.79959,     0.79959,     0.79959,     0.79959,     0.79959,     0.79959,     0.79878,     0.79878,     0.79757,     0.79757,     0.79678,     0.79678,       0.794,     0.79283,\n",
       "            0.79167,     0.79051,     0.78016,     0.78016,     0.77907,     0.77649,     0.77543,     0.77481,     0.77481,     0.77419,     0.77419,     0.77419,     0.77341,     0.77341,     0.77341,     0.77341,     0.77341,     0.77148,     0.77148,     0.77148,     0.77148,     0.77148,     0.77148,\n",
       "            0.77148,     0.77148,     0.77148,     0.77148,     0.77148,     0.77091,     0.77091,     0.77076,     0.77076,     0.77076,     0.77076,     0.76923,     0.76923,     0.76923,     0.76868,     0.76868,     0.76814,     0.76814,     0.76814,      0.7672,     0.76532,     0.76532,      0.7644,\n",
       "             0.7643,      0.7643,      0.7643,      0.7643,     0.75597,     0.75597,     0.75296,     0.75296,     0.75253,     0.75253,     0.75253,     0.75168,     0.75167,     0.75167,     0.75167,     0.74876,     0.74876,     0.74876,     0.74548,     0.74355,     0.74355,     0.74355,     0.74355,\n",
       "            0.74355,     0.74355,     0.74355,     0.74355,     0.74157,      0.7408,     0.73885,     0.73344,     0.73344,     0.73083,     0.73083,     0.72826,     0.72826,     0.72531,     0.72451,     0.72451,     0.72451,     0.72451,     0.72451,     0.72451,     0.72451,     0.72424,     0.72424,\n",
       "            0.72424,     0.72356,      0.7218,     0.72114,     0.72048,      0.7145,     0.71176,     0.71114,     0.71114,     0.71098,     0.71098,     0.71098,     0.71098,     0.71098,     0.71098,     0.71098,     0.71098,     0.70935,     0.70774,     0.70555,     0.70555,     0.70397,     0.70365,\n",
       "            0.70365,     0.70365,     0.70365,     0.70365,     0.70308,     0.70251,     0.70139,     0.70139,     0.70139,      0.6989,     0.69739,     0.69684,     0.69441,     0.69199,     0.69199,     0.69147,     0.67995,     0.67979,     0.67979,     0.67979,     0.67979,     0.67979,     0.67979,\n",
       "            0.67979,     0.67932,     0.67532,     0.66967,      0.6688,      0.6688,      0.6688,     0.66709,     0.66709,     0.66667,      0.6654,     0.66499,     0.66457,     0.65757,     0.65757,     0.65679,     0.65679,      0.6556,     0.65043,     0.64474,     0.64474,     0.64474,     0.64474,\n",
       "            0.64474,     0.64474,     0.64439,     0.64413,     0.64413,     0.64413,     0.64413,     0.64277,     0.64277,     0.64277,     0.64277,     0.64211,     0.64211,     0.64211,     0.63417,     0.63417,     0.63417,     0.63417,      0.6314,      0.6314,      0.6311,      0.6311,      0.6308,\n",
       "            0.62738,     0.62738,     0.62653,     0.62653,     0.62653,     0.62653,     0.62073,     0.61978,     0.61547,     0.61522,     0.61165,     0.60619,     0.60616,     0.60616,     0.60616,     0.60616,     0.60084,         0.6,      0.5942,     0.59259,     0.59259,     0.59259,     0.59058,\n",
       "            0.59026,     0.59026,     0.59026,     0.59026,     0.59026,     0.59026,      0.5877,     0.58676,     0.58676,      0.5825,     0.58234,      0.5816,      0.5816,     0.58087,     0.57957,     0.57926,     0.57926,     0.57854,     0.57281,     0.57281,     0.56938,     0.56925,     0.56844,\n",
       "            0.56844,     0.56509,     0.55803,     0.55803,     0.55803,     0.55782,     0.55782,     0.55771,      0.5576,     0.55444,     0.55434,     0.55434,     0.55172,     0.54865,     0.54709,     0.54692,     0.54692,      0.5444,     0.54384,     0.54384,     0.54329,     0.54321,     0.54313,\n",
       "            0.54306,     0.54108,     0.53866,     0.53866,     0.53766,     0.53667,     0.53385,     0.53333,     0.53011,     0.52961,     0.52822,     0.52822,      0.5264,      0.5246,     0.52369,     0.52322,     0.51466,     0.51422,     0.51422,     0.50801,     0.50594,     0.50594,     0.50594,\n",
       "            0.50594,     0.50594,     0.50593,     0.50593,     0.50314,     0.50274,     0.50195,     0.50078,     0.50039,     0.49351,     0.49351,     0.49239,     0.49055,     0.49055,     0.49021,     0.49021,     0.48657,     0.48657,     0.48514,     0.47947,     0.47636,     0.47399,     0.46563,\n",
       "            0.46436,     0.46408,     0.46408,     0.45839,     0.45839,     0.45034,     0.44919,     0.44355,     0.43351,     0.43351,     0.42259,      0.4195,     0.41286,     0.41119,     0.41104,     0.40422,     0.40191,     0.40191,     0.40131,     0.39382,     0.39382,      0.3936,      0.3936,\n",
       "            0.39213,     0.39213,     0.38978,     0.38959,     0.38959,      0.3875,     0.38741,     0.38657,     0.38657,     0.38657,     0.38453,     0.37685,     0.37678,     0.37405,     0.37358,     0.37311,     0.37311,     0.37224,     0.37112,     0.37112,     0.36617,     0.36459,     0.36227,\n",
       "            0.36072,     0.36072,     0.36012,     0.35949,     0.35949,     0.35259,     0.35132,     0.34886,     0.34886,     0.34729,     0.34693,     0.34471,     0.34402,     0.34367,     0.34333,     0.34265,     0.34265,     0.33953,       0.336,     0.33521,     0.32934,      0.3283,      0.3283,\n",
       "             0.3283,       0.328,     0.32756,     0.32638,     0.32361,     0.32218,     0.32076,     0.32076,     0.31126,     0.31049,     0.29669,     0.28667,     0.28404,      0.2791,     0.27208,     0.27208,     0.27185,     0.26715,     0.26577,     0.26546,     0.26401,      0.2568,      0.2568,\n",
       "            0.25555,        0.25,     0.24958,     0.24874,     0.24725,     0.24162,      0.2373,      0.2373,     0.23455,     0.23029,     0.22744,     0.22678,      0.2256,      0.2256,      0.2256,     0.22229,     0.21978,     0.21678,     0.19785,      0.1959,     0.18392,     0.18354,     0.18354,\n",
       "            0.18175,     0.18065,       0.174,     0.17265,     0.16511,      0.1546,      0.1546,     0.15196,     0.14687,     0.14627,     0.13162,     0.12939,     0.12445,     0.12445,     0.12445,     0.11832,      0.1162,     0.11497,     0.10965,      0.1072,     0.10208,     0.10208,     0.10031,\n",
       "           0.098629,    0.095777,    0.094459,    0.092166,    0.091548,    0.091015,    0.091015,    0.089969,      0.0896,    0.085206,    0.085203,    0.075921,    0.075048,    0.075048,    0.066836,    0.066037,    0.066016,    0.063092,     0.06035,     0.06017,     0.06017,    0.057945,    0.053021,\n",
       "           0.041259,    0.040737,    0.040214,    0.039692,     0.03917,    0.038648,    0.038125,    0.037603,    0.037081,    0.036559,    0.036036,    0.035514,    0.034992,    0.034469,    0.033947,    0.033425,    0.032903,     0.03238,    0.031858,    0.031336,    0.030814,    0.030291,    0.029769,\n",
       "           0.029247,    0.028725,    0.028202,     0.02768,    0.027158,    0.026635,    0.026113,    0.025591,    0.025069,    0.024546,    0.024024,    0.023502,     0.02298,    0.022457,    0.021935,    0.021413,    0.020891,    0.020368,    0.019846,    0.019324,    0.018802,    0.018279,    0.017757,\n",
       "           0.017235,    0.016712,     0.01619,    0.015668,    0.015146,    0.014623,    0.014101,    0.013579,    0.013057,    0.012534,    0.012012,     0.01149,    0.010968,    0.010445,    0.009923,   0.0094008,   0.0088785,   0.0083562,    0.007834,   0.0073117,   0.0067894,   0.0062672,   0.0057449,\n",
       "          0.0052226,   0.0047004,   0.0041781,   0.0036559,   0.0031336,   0.0026113,   0.0020891,   0.0015668,   0.0010445,  0.00052226,           0]]), 'Recall', 'Precision'], [array([          0,    0.001001,    0.002002,    0.003003,    0.004004,    0.005005,    0.006006,    0.007007,    0.008008,    0.009009,     0.01001,    0.011011,    0.012012,    0.013013,    0.014014,    0.015015,    0.016016,    0.017017,    0.018018,    0.019019,     0.02002,    0.021021,    0.022022,    0.023023,\n",
       "          0.024024,    0.025025,    0.026026,    0.027027,    0.028028,    0.029029,     0.03003,    0.031031,    0.032032,    0.033033,    0.034034,    0.035035,    0.036036,    0.037037,    0.038038,    0.039039,     0.04004,    0.041041,    0.042042,    0.043043,    0.044044,    0.045045,    0.046046,    0.047047,\n",
       "          0.048048,    0.049049,     0.05005,    0.051051,    0.052052,    0.053053,    0.054054,    0.055055,    0.056056,    0.057057,    0.058058,    0.059059,     0.06006,    0.061061,    0.062062,    0.063063,    0.064064,    0.065065,    0.066066,    0.067067,    0.068068,    0.069069,     0.07007,    0.071071,\n",
       "          0.072072,    0.073073,    0.074074,    0.075075,    0.076076,    0.077077,    0.078078,    0.079079,     0.08008,    0.081081,    0.082082,    0.083083,    0.084084,    0.085085,    0.086086,    0.087087,    0.088088,    0.089089,     0.09009,    0.091091,    0.092092,    0.093093,    0.094094,    0.095095,\n",
       "          0.096096,    0.097097,    0.098098,    0.099099,      0.1001,      0.1011,      0.1021,      0.1031,      0.1041,     0.10511,     0.10611,     0.10711,     0.10811,     0.10911,     0.11011,     0.11111,     0.11211,     0.11311,     0.11411,     0.11512,     0.11612,     0.11712,     0.11812,     0.11912,\n",
       "           0.12012,     0.12112,     0.12212,     0.12312,     0.12412,     0.12513,     0.12613,     0.12713,     0.12813,     0.12913,     0.13013,     0.13113,     0.13213,     0.13313,     0.13413,     0.13514,     0.13614,     0.13714,     0.13814,     0.13914,     0.14014,     0.14114,     0.14214,     0.14314,\n",
       "           0.14414,     0.14515,     0.14615,     0.14715,     0.14815,     0.14915,     0.15015,     0.15115,     0.15215,     0.15315,     0.15415,     0.15516,     0.15616,     0.15716,     0.15816,     0.15916,     0.16016,     0.16116,     0.16216,     0.16316,     0.16416,     0.16517,     0.16617,     0.16717,\n",
       "           0.16817,     0.16917,     0.17017,     0.17117,     0.17217,     0.17317,     0.17417,     0.17518,     0.17618,     0.17718,     0.17818,     0.17918,     0.18018,     0.18118,     0.18218,     0.18318,     0.18418,     0.18519,     0.18619,     0.18719,     0.18819,     0.18919,     0.19019,     0.19119,\n",
       "           0.19219,     0.19319,     0.19419,      0.1952,      0.1962,      0.1972,      0.1982,      0.1992,      0.2002,      0.2012,      0.2022,      0.2032,      0.2042,     0.20521,     0.20621,     0.20721,     0.20821,     0.20921,     0.21021,     0.21121,     0.21221,     0.21321,     0.21421,     0.21522,\n",
       "           0.21622,     0.21722,     0.21822,     0.21922,     0.22022,     0.22122,     0.22222,     0.22322,     0.22422,     0.22523,     0.22623,     0.22723,     0.22823,     0.22923,     0.23023,     0.23123,     0.23223,     0.23323,     0.23423,     0.23524,     0.23624,     0.23724,     0.23824,     0.23924,\n",
       "           0.24024,     0.24124,     0.24224,     0.24324,     0.24424,     0.24525,     0.24625,     0.24725,     0.24825,     0.24925,     0.25025,     0.25125,     0.25225,     0.25325,     0.25425,     0.25526,     0.25626,     0.25726,     0.25826,     0.25926,     0.26026,     0.26126,     0.26226,     0.26326,\n",
       "           0.26426,     0.26527,     0.26627,     0.26727,     0.26827,     0.26927,     0.27027,     0.27127,     0.27227,     0.27327,     0.27427,     0.27528,     0.27628,     0.27728,     0.27828,     0.27928,     0.28028,     0.28128,     0.28228,     0.28328,     0.28428,     0.28529,     0.28629,     0.28729,\n",
       "           0.28829,     0.28929,     0.29029,     0.29129,     0.29229,     0.29329,     0.29429,      0.2953,      0.2963,      0.2973,      0.2983,      0.2993,      0.3003,      0.3013,      0.3023,      0.3033,      0.3043,     0.30531,     0.30631,     0.30731,     0.30831,     0.30931,     0.31031,     0.31131,\n",
       "           0.31231,     0.31331,     0.31431,     0.31532,     0.31632,     0.31732,     0.31832,     0.31932,     0.32032,     0.32132,     0.32232,     0.32332,     0.32432,     0.32533,     0.32633,     0.32733,     0.32833,     0.32933,     0.33033,     0.33133,     0.33233,     0.33333,     0.33433,     0.33534,\n",
       "           0.33634,     0.33734,     0.33834,     0.33934,     0.34034,     0.34134,     0.34234,     0.34334,     0.34434,     0.34535,     0.34635,     0.34735,     0.34835,     0.34935,     0.35035,     0.35135,     0.35235,     0.35335,     0.35435,     0.35536,     0.35636,     0.35736,     0.35836,     0.35936,\n",
       "           0.36036,     0.36136,     0.36236,     0.36336,     0.36436,     0.36537,     0.36637,     0.36737,     0.36837,     0.36937,     0.37037,     0.37137,     0.37237,     0.37337,     0.37437,     0.37538,     0.37638,     0.37738,     0.37838,     0.37938,     0.38038,     0.38138,     0.38238,     0.38338,\n",
       "           0.38438,     0.38539,     0.38639,     0.38739,     0.38839,     0.38939,     0.39039,     0.39139,     0.39239,     0.39339,     0.39439,      0.3954,      0.3964,      0.3974,      0.3984,      0.3994,      0.4004,      0.4014,      0.4024,      0.4034,      0.4044,     0.40541,     0.40641,     0.40741,\n",
       "           0.40841,     0.40941,     0.41041,     0.41141,     0.41241,     0.41341,     0.41441,     0.41542,     0.41642,     0.41742,     0.41842,     0.41942,     0.42042,     0.42142,     0.42242,     0.42342,     0.42442,     0.42543,     0.42643,     0.42743,     0.42843,     0.42943,     0.43043,     0.43143,\n",
       "           0.43243,     0.43343,     0.43443,     0.43544,     0.43644,     0.43744,     0.43844,     0.43944,     0.44044,     0.44144,     0.44244,     0.44344,     0.44444,     0.44545,     0.44645,     0.44745,     0.44845,     0.44945,     0.45045,     0.45145,     0.45245,     0.45345,     0.45445,     0.45546,\n",
       "           0.45646,     0.45746,     0.45846,     0.45946,     0.46046,     0.46146,     0.46246,     0.46346,     0.46446,     0.46547,     0.46647,     0.46747,     0.46847,     0.46947,     0.47047,     0.47147,     0.47247,     0.47347,     0.47447,     0.47548,     0.47648,     0.47748,     0.47848,     0.47948,\n",
       "           0.48048,     0.48148,     0.48248,     0.48348,     0.48448,     0.48549,     0.48649,     0.48749,     0.48849,     0.48949,     0.49049,     0.49149,     0.49249,     0.49349,     0.49449,      0.4955,      0.4965,      0.4975,      0.4985,      0.4995,      0.5005,      0.5015,      0.5025,      0.5035,\n",
       "            0.5045,     0.50551,     0.50651,     0.50751,     0.50851,     0.50951,     0.51051,     0.51151,     0.51251,     0.51351,     0.51451,     0.51552,     0.51652,     0.51752,     0.51852,     0.51952,     0.52052,     0.52152,     0.52252,     0.52352,     0.52452,     0.52553,     0.52653,     0.52753,\n",
       "           0.52853,     0.52953,     0.53053,     0.53153,     0.53253,     0.53353,     0.53453,     0.53554,     0.53654,     0.53754,     0.53854,     0.53954,     0.54054,     0.54154,     0.54254,     0.54354,     0.54454,     0.54555,     0.54655,     0.54755,     0.54855,     0.54955,     0.55055,     0.55155,\n",
       "           0.55255,     0.55355,     0.55455,     0.55556,     0.55656,     0.55756,     0.55856,     0.55956,     0.56056,     0.56156,     0.56256,     0.56356,     0.56456,     0.56557,     0.56657,     0.56757,     0.56857,     0.56957,     0.57057,     0.57157,     0.57257,     0.57357,     0.57457,     0.57558,\n",
       "           0.57658,     0.57758,     0.57858,     0.57958,     0.58058,     0.58158,     0.58258,     0.58358,     0.58458,     0.58559,     0.58659,     0.58759,     0.58859,     0.58959,     0.59059,     0.59159,     0.59259,     0.59359,     0.59459,      0.5956,      0.5966,      0.5976,      0.5986,      0.5996,\n",
       "            0.6006,      0.6016,      0.6026,      0.6036,      0.6046,     0.60561,     0.60661,     0.60761,     0.60861,     0.60961,     0.61061,     0.61161,     0.61261,     0.61361,     0.61461,     0.61562,     0.61662,     0.61762,     0.61862,     0.61962,     0.62062,     0.62162,     0.62262,     0.62362,\n",
       "           0.62462,     0.62563,     0.62663,     0.62763,     0.62863,     0.62963,     0.63063,     0.63163,     0.63263,     0.63363,     0.63463,     0.63564,     0.63664,     0.63764,     0.63864,     0.63964,     0.64064,     0.64164,     0.64264,     0.64364,     0.64464,     0.64565,     0.64665,     0.64765,\n",
       "           0.64865,     0.64965,     0.65065,     0.65165,     0.65265,     0.65365,     0.65465,     0.65566,     0.65666,     0.65766,     0.65866,     0.65966,     0.66066,     0.66166,     0.66266,     0.66366,     0.66466,     0.66567,     0.66667,     0.66767,     0.66867,     0.66967,     0.67067,     0.67167,\n",
       "           0.67267,     0.67367,     0.67467,     0.67568,     0.67668,     0.67768,     0.67868,     0.67968,     0.68068,     0.68168,     0.68268,     0.68368,     0.68468,     0.68569,     0.68669,     0.68769,     0.68869,     0.68969,     0.69069,     0.69169,     0.69269,     0.69369,     0.69469,      0.6957,\n",
       "            0.6967,      0.6977,      0.6987,      0.6997,      0.7007,      0.7017,      0.7027,      0.7037,      0.7047,     0.70571,     0.70671,     0.70771,     0.70871,     0.70971,     0.71071,     0.71171,     0.71271,     0.71371,     0.71471,     0.71572,     0.71672,     0.71772,     0.71872,     0.71972,\n",
       "           0.72072,     0.72172,     0.72272,     0.72372,     0.72472,     0.72573,     0.72673,     0.72773,     0.72873,     0.72973,     0.73073,     0.73173,     0.73273,     0.73373,     0.73473,     0.73574,     0.73674,     0.73774,     0.73874,     0.73974,     0.74074,     0.74174,     0.74274,     0.74374,\n",
       "           0.74474,     0.74575,     0.74675,     0.74775,     0.74875,     0.74975,     0.75075,     0.75175,     0.75275,     0.75375,     0.75475,     0.75576,     0.75676,     0.75776,     0.75876,     0.75976,     0.76076,     0.76176,     0.76276,     0.76376,     0.76476,     0.76577,     0.76677,     0.76777,\n",
       "           0.76877,     0.76977,     0.77077,     0.77177,     0.77277,     0.77377,     0.77477,     0.77578,     0.77678,     0.77778,     0.77878,     0.77978,     0.78078,     0.78178,     0.78278,     0.78378,     0.78478,     0.78579,     0.78679,     0.78779,     0.78879,     0.78979,     0.79079,     0.79179,\n",
       "           0.79279,     0.79379,     0.79479,      0.7958,      0.7968,      0.7978,      0.7988,      0.7998,      0.8008,      0.8018,      0.8028,      0.8038,      0.8048,     0.80581,     0.80681,     0.80781,     0.80881,     0.80981,     0.81081,     0.81181,     0.81281,     0.81381,     0.81481,     0.81582,\n",
       "           0.81682,     0.81782,     0.81882,     0.81982,     0.82082,     0.82182,     0.82282,     0.82382,     0.82482,     0.82583,     0.82683,     0.82783,     0.82883,     0.82983,     0.83083,     0.83183,     0.83283,     0.83383,     0.83483,     0.83584,     0.83684,     0.83784,     0.83884,     0.83984,\n",
       "           0.84084,     0.84184,     0.84284,     0.84384,     0.84484,     0.84585,     0.84685,     0.84785,     0.84885,     0.84985,     0.85085,     0.85185,     0.85285,     0.85385,     0.85485,     0.85586,     0.85686,     0.85786,     0.85886,     0.85986,     0.86086,     0.86186,     0.86286,     0.86386,\n",
       "           0.86486,     0.86587,     0.86687,     0.86787,     0.86887,     0.86987,     0.87087,     0.87187,     0.87287,     0.87387,     0.87487,     0.87588,     0.87688,     0.87788,     0.87888,     0.87988,     0.88088,     0.88188,     0.88288,     0.88388,     0.88488,     0.88589,     0.88689,     0.88789,\n",
       "           0.88889,     0.88989,     0.89089,     0.89189,     0.89289,     0.89389,     0.89489,      0.8959,      0.8969,      0.8979,      0.8989,      0.8999,      0.9009,      0.9019,      0.9029,      0.9039,      0.9049,     0.90591,     0.90691,     0.90791,     0.90891,     0.90991,     0.91091,     0.91191,\n",
       "           0.91291,     0.91391,     0.91491,     0.91592,     0.91692,     0.91792,     0.91892,     0.91992,     0.92092,     0.92192,     0.92292,     0.92392,     0.92492,     0.92593,     0.92693,     0.92793,     0.92893,     0.92993,     0.93093,     0.93193,     0.93293,     0.93393,     0.93493,     0.93594,\n",
       "           0.93694,     0.93794,     0.93894,     0.93994,     0.94094,     0.94194,     0.94294,     0.94394,     0.94494,     0.94595,     0.94695,     0.94795,     0.94895,     0.94995,     0.95095,     0.95195,     0.95295,     0.95395,     0.95495,     0.95596,     0.95696,     0.95796,     0.95896,     0.95996,\n",
       "           0.96096,     0.96196,     0.96296,     0.96396,     0.96496,     0.96597,     0.96697,     0.96797,     0.96897,     0.96997,     0.97097,     0.97197,     0.97297,     0.97397,     0.97497,     0.97598,     0.97698,     0.97798,     0.97898,     0.97998,     0.98098,     0.98198,     0.98298,     0.98398,\n",
       "           0.98498,     0.98599,     0.98699,     0.98799,     0.98899,     0.98999,     0.99099,     0.99199,     0.99299,     0.99399,     0.99499,       0.996,       0.997,       0.998,       0.999,           1]), array([[   0.079636,    0.079682,     0.11235,     0.13591,      0.1552,     0.17072,     0.18401,     0.19699,     0.20882,     0.21917,     0.22985,     0.23963,     0.24985,     0.25802,     0.26567,     0.27283,     0.27957,     0.28605,     0.29235,     0.29883,     0.30358,     0.30969,     0.31473,\n",
       "            0.32066,     0.32559,     0.33093,     0.33483,     0.33915,     0.34355,     0.34713,     0.35174,     0.35593,     0.35887,     0.36279,     0.36598,     0.36939,       0.372,     0.37512,     0.37877,     0.38286,      0.3846,     0.38675,     0.39082,     0.39306,     0.39614,     0.39911,\n",
       "            0.40262,     0.40462,     0.40601,     0.40916,     0.41157,     0.41543,     0.41761,     0.41944,     0.42162,     0.42397,     0.42561,      0.4279,     0.43111,     0.43386,      0.4364,     0.43801,     0.43997,     0.44137,     0.44371,     0.44541,     0.44757,     0.44931,      0.4523,\n",
       "            0.45294,     0.45479,     0.45721,     0.45855,     0.46063,     0.46273,     0.46443,     0.46576,     0.46829,     0.46964,     0.46962,     0.47096,     0.47277,     0.47464,      0.4759,     0.47669,     0.47733,     0.47982,     0.48155,     0.48273,     0.48368,     0.48429,     0.48566,\n",
       "            0.48699,      0.4879,     0.48835,     0.49047,     0.49148,     0.49201,     0.49388,     0.49725,     0.49791,     0.49862,     0.49951,     0.50096,     0.50221,     0.50293,     0.50535,     0.50664,     0.50765,     0.50827,     0.50884,      0.5103,     0.51122,     0.51152,     0.51274,\n",
       "            0.51435,     0.51673,     0.51751,     0.51905,     0.51862,     0.51959,     0.52004,     0.52119,     0.52041,     0.52239,     0.52326,     0.52288,       0.523,     0.52391,     0.52503,     0.52663,     0.52772,     0.52932,     0.52989,     0.53163,     0.53234,     0.53425,     0.53683,\n",
       "            0.53768,     0.53843,     0.53931,     0.54049,     0.54089,     0.54153,     0.54309,     0.54384,     0.54543,      0.5467,     0.54839,     0.54961,     0.55025,     0.55197,     0.55408,      0.5539,     0.55501,     0.55609,     0.55684,     0.55771,     0.55964,     0.56187,     0.56355,\n",
       "            0.56429,     0.56552,     0.56599,      0.5666,     0.56702,     0.56774,     0.56954,     0.57056,     0.57224,      0.5727,     0.57287,     0.57358,     0.57451,     0.57635,     0.57611,     0.57711,     0.57824,     0.57874,     0.58031,     0.58167,     0.58294,     0.58296,     0.58473,\n",
       "            0.58444,     0.58521,     0.58581,     0.58733,     0.58835,      0.5889,     0.59006,     0.59094,     0.59115,     0.59143,     0.59173,     0.59244,     0.59313,      0.5927,     0.59374,      0.5939,      0.5951,     0.59557,     0.59767,     0.59833,     0.59849,     0.59904,     0.60067,\n",
       "            0.59885,     0.59859,     0.59962,     0.59959,     0.60107,     0.60297,     0.60363,     0.60429,     0.60574,     0.60601,     0.60709,     0.60848,      0.6091,     0.60922,     0.61073,     0.61119,     0.61125,     0.61248,     0.61323,     0.61309,     0.61445,     0.61436,      0.6144,\n",
       "             0.6151,     0.61612,     0.61644,     0.61678,     0.61616,     0.61537,     0.61606,     0.61657,     0.61612,     0.61618,     0.61767,     0.61821,     0.61881,     0.61988,     0.61966,     0.61858,     0.61895,     0.61955,     0.62128,      0.6221,     0.62348,     0.62249,     0.62273,\n",
       "            0.62288,     0.62499,     0.62611,     0.62728,     0.62733,     0.62631,     0.62666,     0.62618,     0.62726,     0.62708,     0.62738,     0.62729,      0.6265,      0.6265,     0.62627,     0.62636,      0.6273,     0.62904,     0.62945,     0.63041,     0.63104,     0.63033,     0.63149,\n",
       "             0.6335,     0.63353,     0.63489,     0.63486,     0.63483,     0.63707,     0.63642,     0.63575,     0.63591,     0.63679,     0.63681,     0.63627,     0.63498,     0.63541,     0.63564,      0.6356,     0.63403,      0.6348,      0.6352,      0.6362,      0.6374,     0.63824,      0.6375,\n",
       "            0.63601,     0.63518,     0.63513,      0.6335,     0.63348,     0.63204,       0.631,     0.63197,     0.63321,     0.63404,     0.63486,      0.6348,     0.63403,     0.63418,     0.63572,     0.63686,     0.63599,     0.63595,     0.63407,      0.6346,     0.63409,     0.63364,      0.6349,\n",
       "            0.63605,     0.63658,     0.63666,     0.63495,     0.63244,     0.63263,     0.63221,     0.63346,     0.63495,     0.63695,     0.63611,     0.63623,     0.63685,      0.6367,     0.63691,     0.63654,     0.63691,     0.63689,      0.6356,     0.63624,     0.63477,     0.63316,     0.63272,\n",
       "            0.63181,     0.63176,     0.63127,     0.63176,     0.63066,     0.62748,     0.62707,     0.62698,     0.62618,     0.62568,     0.62682,     0.62726,     0.62823,     0.62714,     0.62699,      0.6266,     0.62685,      0.6266,     0.62616,     0.62167,     0.62009,     0.62066,     0.62133,\n",
       "              0.621,     0.61997,     0.61928,     0.62025,     0.62017,     0.62137,     0.62076,      0.6204,     0.62058,     0.61937,      0.6156,     0.61609,     0.61601,     0.61549,     0.61588,     0.61451,     0.61568,     0.61355,     0.61266,     0.61242,     0.61088,     0.61116,     0.60959,\n",
       "            0.60941,     0.61003,     0.61044,     0.61093,     0.61114,     0.61158,     0.61088,     0.60903,       0.607,     0.60699,     0.60696,     0.60551,      0.6054,     0.60425,     0.60294,     0.60126,     0.60012,     0.59927,      0.5974,     0.59765,     0.59333,     0.59217,     0.59006,\n",
       "            0.59027,     0.58998,     0.58736,     0.58619,     0.58457,     0.58211,     0.58159,     0.58082,     0.58147,     0.58278,     0.58319,      0.5826,       0.582,     0.58151,     0.58121,     0.58143,     0.57995,     0.57976,     0.57792,     0.57664,     0.57255,     0.56997,     0.56515,\n",
       "            0.56446,     0.56325,     0.56242,     0.55906,     0.55646,     0.55541,     0.55568,     0.55555,     0.55501,     0.55409,     0.55213,     0.54942,     0.54847,     0.54795,     0.54773,      0.5473,     0.54743,     0.54721,     0.54606,     0.54535,     0.54565,     0.54385,     0.54239,\n",
       "            0.54133,     0.53826,     0.53794,     0.53759,     0.53724,     0.53627,     0.53768,     0.53609,      0.5358,     0.53416,     0.53428,     0.53339,     0.53415,     0.53261,     0.53179,     0.53164,     0.52818,       0.528,     0.52687,     0.52644,     0.52395,     0.52179,     0.51925,\n",
       "             0.5185,     0.51906,     0.51787,     0.51744,     0.51701,     0.51553,     0.51324,     0.51043,     0.50845,     0.50383,     0.50189,     0.50285,     0.50227,     0.49964,     0.49854,     0.49699,     0.49526,     0.49469,      0.4941,     0.49348,     0.49211,      0.4922,     0.49052,\n",
       "            0.48852,     0.48791,     0.48468,      0.4826,     0.48288,     0.48178,     0.48085,     0.48098,     0.48058,     0.47987,     0.47715,      0.4764,     0.47567,     0.47413,     0.47117,     0.46701,     0.46504,     0.46451,     0.46338,     0.46285,     0.45892,     0.45778,     0.45706,\n",
       "             0.4535,     0.45181,     0.45137,     0.45154,     0.44973,     0.44911,     0.44866,     0.44821,     0.44548,     0.44563,     0.44579,       0.446,     0.44583,     0.44358,     0.43946,     0.43945,      0.4385,     0.43858,     0.43869,     0.43879,     0.43596,     0.43285,     0.43044,\n",
       "            0.42935,     0.42953,     0.42947,     0.42743,     0.42352,     0.42054,     0.41947,     0.41612,     0.41484,     0.41015,     0.40949,     0.40795,     0.40701,     0.40697,     0.40659,      0.4042,     0.40376,     0.40331,     0.40287,     0.40252,     0.40218,     0.40184,      0.4015,\n",
       "            0.40021,     0.39947,     0.39885,     0.39774,     0.39464,     0.39491,     0.39317,     0.39249,     0.39235,     0.39231,     0.39152,     0.39033,     0.39012,     0.38984,     0.38922,     0.38701,     0.38587,      0.3821,     0.37877,     0.37684,     0.37294,       0.372,      0.3711,\n",
       "            0.36983,     0.36752,     0.36605,     0.36339,     0.36103,     0.36001,     0.35998,     0.35846,     0.35647,       0.355,     0.35228,     0.35089,     0.34974,     0.34745,     0.34665,     0.34645,     0.34658,     0.34671,     0.34688,     0.34681,     0.34597,     0.34516,     0.34441,\n",
       "            0.34219,     0.34087,     0.33978,     0.33884,     0.33661,     0.33402,     0.33426,     0.33362,     0.33291,     0.33167,     0.33073,     0.33009,     0.32942,     0.32857,      0.3281,     0.32722,     0.32576,     0.32402,     0.32252,     0.32156,     0.32099,     0.32041,     0.31974,\n",
       "            0.31843,     0.31678,     0.31411,     0.31291,      0.3123,     0.31193,     0.31156,     0.31119,     0.31065,      0.3098,      0.3087,     0.30724,     0.30634,     0.30568,     0.30477,     0.30429,      0.3038,     0.30183,     0.29983,     0.29942,     0.29901,     0.29859,     0.29595,\n",
       "            0.29387,       0.292,     0.28923,     0.28806,     0.28736,     0.28643,     0.28457,     0.28191,     0.28171,     0.28019,     0.27883,     0.27753,     0.27621,     0.27515,     0.27462,      0.2741,     0.27355,     0.27283,     0.27211,     0.27217,     0.26847,     0.26766,     0.26716,\n",
       "            0.26702,     0.26644,     0.26586,      0.2637,      0.2629,     0.26207,     0.26094,     0.25915,     0.25576,     0.25469,     0.25405,     0.25329,     0.25171,     0.25077,     0.24985,     0.24906,     0.24827,     0.24668,     0.24686,     0.24682,     0.24564,     0.24434,      0.2425,\n",
       "            0.23952,     0.23834,     0.23482,     0.23341,     0.23257,     0.23214,     0.23171,     0.23128,     0.22774,     0.22688,      0.2263,     0.22573,     0.22137,     0.22036,     0.21819,     0.21662,     0.21513,     0.21233,     0.21111,     0.21028,     0.20946,     0.20704,     0.20375,\n",
       "            0.20247,     0.19749,     0.19463,     0.19094,     0.19062,     0.18501,     0.18333,     0.18165,     0.18176,     0.17934,      0.1756,     0.17278,     0.17185,     0.17135,     0.17085,     0.17035,      0.1691,     0.16787,     0.16667,     0.16589,     0.16519,     0.16422,     0.15951,\n",
       "            0.15753,     0.15602,     0.15472,     0.15436,       0.154,     0.15365,     0.15329,     0.15293,     0.15204,     0.15105,     0.14996,     0.14851,      0.1457,     0.14398,     0.14285,     0.14248,     0.14211,     0.14173,     0.14136,     0.14087,     0.13943,     0.13791,     0.13669,\n",
       "            0.13588,     0.13508,     0.13275,     0.13107,     0.13114,     0.12913,     0.12885,     0.12857,     0.12829,     0.12801,     0.12773,     0.12745,     0.12716,     0.12665,     0.12612,     0.12559,     0.12502,     0.12415,     0.12328,     0.12172,     0.12112,     0.12119,     0.12067,\n",
       "            0.11988,     0.11858,      0.1157,     0.11484,     0.11448,     0.11411,     0.11375,     0.11338,     0.11305,     0.11314,     0.11056,     0.10869,     0.10814,     0.10758,     0.10703,     0.10706,     0.10291,       0.102,      0.1011,    0.097508,    0.095802,    0.094575,    0.093252,\n",
       "           0.092027,    0.090929,    0.090186,    0.089764,    0.089342,     0.08892,    0.088498,    0.088139,    0.087835,    0.087532,    0.087228,    0.086924,    0.086621,    0.086317,    0.084144,    0.081639,    0.080579,    0.077628,    0.077388,    0.077147,    0.076907,    0.076667,    0.076426,\n",
       "           0.076186,    0.075945,    0.075704,    0.072761,    0.070382,     0.06792,    0.065441,    0.063142,    0.061517,    0.060283,    0.059583,    0.058883,    0.056035,    0.051608,    0.051065,    0.050522,    0.049979,    0.049454,    0.048999,    0.048543,    0.048088,    0.047632,    0.045087,\n",
       "           0.044674,    0.044261,    0.043847,    0.043434,     0.04302,    0.041724,    0.040035,    0.038896,    0.038209,     0.03772,     0.03723,    0.036741,    0.036179,    0.035199,    0.034217,    0.033745,    0.033348,    0.032951,    0.032553,    0.032156,    0.031573,    0.030409,    0.029224,\n",
       "              0.028,    0.025646,    0.023344,    0.020896,    0.020447,     0.02028,    0.020112,    0.019945,    0.019777,     0.01961,    0.019442,    0.019275,    0.019107,     0.01894,    0.018772,    0.018604,    0.018436,    0.018135,    0.017587,    0.017038,    0.016489,    0.015992,    0.015692,\n",
       "           0.015392,    0.015092,    0.014792,    0.014491,    0.014191,    0.013891,    0.011225,    0.010152,   0.0090412,    0.007653,   0.0055698,   0.0039138,   0.0028648,           0,           0,           0,           0,           0,           0,           0,           0,           0,           0,\n",
       "                  0,           0,           0,           0,           0,           0,           0,           0,           0,           0,           0,           0,           0,           0,           0,           0,           0,           0,           0,           0,           0,           0,           0,\n",
       "                  0,           0,           0,           0,           0,           0,           0,           0,           0,           0,           0,           0,           0,           0,           0,           0,           0,           0,           0,           0,           0,           0,           0,\n",
       "                  0,           0,           0,           0,           0,           0,           0,           0,           0,           0,           0]]), 'Confidence', 'F1'], [array([          0,    0.001001,    0.002002,    0.003003,    0.004004,    0.005005,    0.006006,    0.007007,    0.008008,    0.009009,     0.01001,    0.011011,    0.012012,    0.013013,    0.014014,    0.015015,    0.016016,    0.017017,    0.018018,    0.019019,     0.02002,    0.021021,    0.022022,    0.023023,\n",
       "          0.024024,    0.025025,    0.026026,    0.027027,    0.028028,    0.029029,     0.03003,    0.031031,    0.032032,    0.033033,    0.034034,    0.035035,    0.036036,    0.037037,    0.038038,    0.039039,     0.04004,    0.041041,    0.042042,    0.043043,    0.044044,    0.045045,    0.046046,    0.047047,\n",
       "          0.048048,    0.049049,     0.05005,    0.051051,    0.052052,    0.053053,    0.054054,    0.055055,    0.056056,    0.057057,    0.058058,    0.059059,     0.06006,    0.061061,    0.062062,    0.063063,    0.064064,    0.065065,    0.066066,    0.067067,    0.068068,    0.069069,     0.07007,    0.071071,\n",
       "          0.072072,    0.073073,    0.074074,    0.075075,    0.076076,    0.077077,    0.078078,    0.079079,     0.08008,    0.081081,    0.082082,    0.083083,    0.084084,    0.085085,    0.086086,    0.087087,    0.088088,    0.089089,     0.09009,    0.091091,    0.092092,    0.093093,    0.094094,    0.095095,\n",
       "          0.096096,    0.097097,    0.098098,    0.099099,      0.1001,      0.1011,      0.1021,      0.1031,      0.1041,     0.10511,     0.10611,     0.10711,     0.10811,     0.10911,     0.11011,     0.11111,     0.11211,     0.11311,     0.11411,     0.11512,     0.11612,     0.11712,     0.11812,     0.11912,\n",
       "           0.12012,     0.12112,     0.12212,     0.12312,     0.12412,     0.12513,     0.12613,     0.12713,     0.12813,     0.12913,     0.13013,     0.13113,     0.13213,     0.13313,     0.13413,     0.13514,     0.13614,     0.13714,     0.13814,     0.13914,     0.14014,     0.14114,     0.14214,     0.14314,\n",
       "           0.14414,     0.14515,     0.14615,     0.14715,     0.14815,     0.14915,     0.15015,     0.15115,     0.15215,     0.15315,     0.15415,     0.15516,     0.15616,     0.15716,     0.15816,     0.15916,     0.16016,     0.16116,     0.16216,     0.16316,     0.16416,     0.16517,     0.16617,     0.16717,\n",
       "           0.16817,     0.16917,     0.17017,     0.17117,     0.17217,     0.17317,     0.17417,     0.17518,     0.17618,     0.17718,     0.17818,     0.17918,     0.18018,     0.18118,     0.18218,     0.18318,     0.18418,     0.18519,     0.18619,     0.18719,     0.18819,     0.18919,     0.19019,     0.19119,\n",
       "           0.19219,     0.19319,     0.19419,      0.1952,      0.1962,      0.1972,      0.1982,      0.1992,      0.2002,      0.2012,      0.2022,      0.2032,      0.2042,     0.20521,     0.20621,     0.20721,     0.20821,     0.20921,     0.21021,     0.21121,     0.21221,     0.21321,     0.21421,     0.21522,\n",
       "           0.21622,     0.21722,     0.21822,     0.21922,     0.22022,     0.22122,     0.22222,     0.22322,     0.22422,     0.22523,     0.22623,     0.22723,     0.22823,     0.22923,     0.23023,     0.23123,     0.23223,     0.23323,     0.23423,     0.23524,     0.23624,     0.23724,     0.23824,     0.23924,\n",
       "           0.24024,     0.24124,     0.24224,     0.24324,     0.24424,     0.24525,     0.24625,     0.24725,     0.24825,     0.24925,     0.25025,     0.25125,     0.25225,     0.25325,     0.25425,     0.25526,     0.25626,     0.25726,     0.25826,     0.25926,     0.26026,     0.26126,     0.26226,     0.26326,\n",
       "           0.26426,     0.26527,     0.26627,     0.26727,     0.26827,     0.26927,     0.27027,     0.27127,     0.27227,     0.27327,     0.27427,     0.27528,     0.27628,     0.27728,     0.27828,     0.27928,     0.28028,     0.28128,     0.28228,     0.28328,     0.28428,     0.28529,     0.28629,     0.28729,\n",
       "           0.28829,     0.28929,     0.29029,     0.29129,     0.29229,     0.29329,     0.29429,      0.2953,      0.2963,      0.2973,      0.2983,      0.2993,      0.3003,      0.3013,      0.3023,      0.3033,      0.3043,     0.30531,     0.30631,     0.30731,     0.30831,     0.30931,     0.31031,     0.31131,\n",
       "           0.31231,     0.31331,     0.31431,     0.31532,     0.31632,     0.31732,     0.31832,     0.31932,     0.32032,     0.32132,     0.32232,     0.32332,     0.32432,     0.32533,     0.32633,     0.32733,     0.32833,     0.32933,     0.33033,     0.33133,     0.33233,     0.33333,     0.33433,     0.33534,\n",
       "           0.33634,     0.33734,     0.33834,     0.33934,     0.34034,     0.34134,     0.34234,     0.34334,     0.34434,     0.34535,     0.34635,     0.34735,     0.34835,     0.34935,     0.35035,     0.35135,     0.35235,     0.35335,     0.35435,     0.35536,     0.35636,     0.35736,     0.35836,     0.35936,\n",
       "           0.36036,     0.36136,     0.36236,     0.36336,     0.36436,     0.36537,     0.36637,     0.36737,     0.36837,     0.36937,     0.37037,     0.37137,     0.37237,     0.37337,     0.37437,     0.37538,     0.37638,     0.37738,     0.37838,     0.37938,     0.38038,     0.38138,     0.38238,     0.38338,\n",
       "           0.38438,     0.38539,     0.38639,     0.38739,     0.38839,     0.38939,     0.39039,     0.39139,     0.39239,     0.39339,     0.39439,      0.3954,      0.3964,      0.3974,      0.3984,      0.3994,      0.4004,      0.4014,      0.4024,      0.4034,      0.4044,     0.40541,     0.40641,     0.40741,\n",
       "           0.40841,     0.40941,     0.41041,     0.41141,     0.41241,     0.41341,     0.41441,     0.41542,     0.41642,     0.41742,     0.41842,     0.41942,     0.42042,     0.42142,     0.42242,     0.42342,     0.42442,     0.42543,     0.42643,     0.42743,     0.42843,     0.42943,     0.43043,     0.43143,\n",
       "           0.43243,     0.43343,     0.43443,     0.43544,     0.43644,     0.43744,     0.43844,     0.43944,     0.44044,     0.44144,     0.44244,     0.44344,     0.44444,     0.44545,     0.44645,     0.44745,     0.44845,     0.44945,     0.45045,     0.45145,     0.45245,     0.45345,     0.45445,     0.45546,\n",
       "           0.45646,     0.45746,     0.45846,     0.45946,     0.46046,     0.46146,     0.46246,     0.46346,     0.46446,     0.46547,     0.46647,     0.46747,     0.46847,     0.46947,     0.47047,     0.47147,     0.47247,     0.47347,     0.47447,     0.47548,     0.47648,     0.47748,     0.47848,     0.47948,\n",
       "           0.48048,     0.48148,     0.48248,     0.48348,     0.48448,     0.48549,     0.48649,     0.48749,     0.48849,     0.48949,     0.49049,     0.49149,     0.49249,     0.49349,     0.49449,      0.4955,      0.4965,      0.4975,      0.4985,      0.4995,      0.5005,      0.5015,      0.5025,      0.5035,\n",
       "            0.5045,     0.50551,     0.50651,     0.50751,     0.50851,     0.50951,     0.51051,     0.51151,     0.51251,     0.51351,     0.51451,     0.51552,     0.51652,     0.51752,     0.51852,     0.51952,     0.52052,     0.52152,     0.52252,     0.52352,     0.52452,     0.52553,     0.52653,     0.52753,\n",
       "           0.52853,     0.52953,     0.53053,     0.53153,     0.53253,     0.53353,     0.53453,     0.53554,     0.53654,     0.53754,     0.53854,     0.53954,     0.54054,     0.54154,     0.54254,     0.54354,     0.54454,     0.54555,     0.54655,     0.54755,     0.54855,     0.54955,     0.55055,     0.55155,\n",
       "           0.55255,     0.55355,     0.55455,     0.55556,     0.55656,     0.55756,     0.55856,     0.55956,     0.56056,     0.56156,     0.56256,     0.56356,     0.56456,     0.56557,     0.56657,     0.56757,     0.56857,     0.56957,     0.57057,     0.57157,     0.57257,     0.57357,     0.57457,     0.57558,\n",
       "           0.57658,     0.57758,     0.57858,     0.57958,     0.58058,     0.58158,     0.58258,     0.58358,     0.58458,     0.58559,     0.58659,     0.58759,     0.58859,     0.58959,     0.59059,     0.59159,     0.59259,     0.59359,     0.59459,      0.5956,      0.5966,      0.5976,      0.5986,      0.5996,\n",
       "            0.6006,      0.6016,      0.6026,      0.6036,      0.6046,     0.60561,     0.60661,     0.60761,     0.60861,     0.60961,     0.61061,     0.61161,     0.61261,     0.61361,     0.61461,     0.61562,     0.61662,     0.61762,     0.61862,     0.61962,     0.62062,     0.62162,     0.62262,     0.62362,\n",
       "           0.62462,     0.62563,     0.62663,     0.62763,     0.62863,     0.62963,     0.63063,     0.63163,     0.63263,     0.63363,     0.63463,     0.63564,     0.63664,     0.63764,     0.63864,     0.63964,     0.64064,     0.64164,     0.64264,     0.64364,     0.64464,     0.64565,     0.64665,     0.64765,\n",
       "           0.64865,     0.64965,     0.65065,     0.65165,     0.65265,     0.65365,     0.65465,     0.65566,     0.65666,     0.65766,     0.65866,     0.65966,     0.66066,     0.66166,     0.66266,     0.66366,     0.66466,     0.66567,     0.66667,     0.66767,     0.66867,     0.66967,     0.67067,     0.67167,\n",
       "           0.67267,     0.67367,     0.67467,     0.67568,     0.67668,     0.67768,     0.67868,     0.67968,     0.68068,     0.68168,     0.68268,     0.68368,     0.68468,     0.68569,     0.68669,     0.68769,     0.68869,     0.68969,     0.69069,     0.69169,     0.69269,     0.69369,     0.69469,      0.6957,\n",
       "            0.6967,      0.6977,      0.6987,      0.6997,      0.7007,      0.7017,      0.7027,      0.7037,      0.7047,     0.70571,     0.70671,     0.70771,     0.70871,     0.70971,     0.71071,     0.71171,     0.71271,     0.71371,     0.71471,     0.71572,     0.71672,     0.71772,     0.71872,     0.71972,\n",
       "           0.72072,     0.72172,     0.72272,     0.72372,     0.72472,     0.72573,     0.72673,     0.72773,     0.72873,     0.72973,     0.73073,     0.73173,     0.73273,     0.73373,     0.73473,     0.73574,     0.73674,     0.73774,     0.73874,     0.73974,     0.74074,     0.74174,     0.74274,     0.74374,\n",
       "           0.74474,     0.74575,     0.74675,     0.74775,     0.74875,     0.74975,     0.75075,     0.75175,     0.75275,     0.75375,     0.75475,     0.75576,     0.75676,     0.75776,     0.75876,     0.75976,     0.76076,     0.76176,     0.76276,     0.76376,     0.76476,     0.76577,     0.76677,     0.76777,\n",
       "           0.76877,     0.76977,     0.77077,     0.77177,     0.77277,     0.77377,     0.77477,     0.77578,     0.77678,     0.77778,     0.77878,     0.77978,     0.78078,     0.78178,     0.78278,     0.78378,     0.78478,     0.78579,     0.78679,     0.78779,     0.78879,     0.78979,     0.79079,     0.79179,\n",
       "           0.79279,     0.79379,     0.79479,      0.7958,      0.7968,      0.7978,      0.7988,      0.7998,      0.8008,      0.8018,      0.8028,      0.8038,      0.8048,     0.80581,     0.80681,     0.80781,     0.80881,     0.80981,     0.81081,     0.81181,     0.81281,     0.81381,     0.81481,     0.81582,\n",
       "           0.81682,     0.81782,     0.81882,     0.81982,     0.82082,     0.82182,     0.82282,     0.82382,     0.82482,     0.82583,     0.82683,     0.82783,     0.82883,     0.82983,     0.83083,     0.83183,     0.83283,     0.83383,     0.83483,     0.83584,     0.83684,     0.83784,     0.83884,     0.83984,\n",
       "           0.84084,     0.84184,     0.84284,     0.84384,     0.84484,     0.84585,     0.84685,     0.84785,     0.84885,     0.84985,     0.85085,     0.85185,     0.85285,     0.85385,     0.85485,     0.85586,     0.85686,     0.85786,     0.85886,     0.85986,     0.86086,     0.86186,     0.86286,     0.86386,\n",
       "           0.86486,     0.86587,     0.86687,     0.86787,     0.86887,     0.86987,     0.87087,     0.87187,     0.87287,     0.87387,     0.87487,     0.87588,     0.87688,     0.87788,     0.87888,     0.87988,     0.88088,     0.88188,     0.88288,     0.88388,     0.88488,     0.88589,     0.88689,     0.88789,\n",
       "           0.88889,     0.88989,     0.89089,     0.89189,     0.89289,     0.89389,     0.89489,      0.8959,      0.8969,      0.8979,      0.8989,      0.8999,      0.9009,      0.9019,      0.9029,      0.9039,      0.9049,     0.90591,     0.90691,     0.90791,     0.90891,     0.90991,     0.91091,     0.91191,\n",
       "           0.91291,     0.91391,     0.91491,     0.91592,     0.91692,     0.91792,     0.91892,     0.91992,     0.92092,     0.92192,     0.92292,     0.92392,     0.92492,     0.92593,     0.92693,     0.92793,     0.92893,     0.92993,     0.93093,     0.93193,     0.93293,     0.93393,     0.93493,     0.93594,\n",
       "           0.93694,     0.93794,     0.93894,     0.93994,     0.94094,     0.94194,     0.94294,     0.94394,     0.94494,     0.94595,     0.94695,     0.94795,     0.94895,     0.94995,     0.95095,     0.95195,     0.95295,     0.95395,     0.95495,     0.95596,     0.95696,     0.95796,     0.95896,     0.95996,\n",
       "           0.96096,     0.96196,     0.96296,     0.96396,     0.96496,     0.96597,     0.96697,     0.96797,     0.96897,     0.96997,     0.97097,     0.97197,     0.97297,     0.97397,     0.97497,     0.97598,     0.97698,     0.97798,     0.97898,     0.97998,     0.98098,     0.98198,     0.98298,     0.98398,\n",
       "           0.98498,     0.98599,     0.98699,     0.98799,     0.98899,     0.98999,     0.99099,     0.99199,     0.99299,     0.99399,     0.99499,       0.996,       0.997,       0.998,       0.999,           1]), array([[   0.041619,    0.041644,    0.059838,    0.073431,    0.084847,    0.094296,     0.10255,     0.11071,     0.11829,     0.12504,     0.13209,     0.13859,     0.14548,     0.15111,     0.15646,     0.16145,     0.16623,     0.17084,     0.17544,     0.18013,     0.18378,     0.18829,     0.19203,\n",
       "            0.19653,      0.2003,     0.20436,     0.20734,     0.21066,     0.21407,     0.21693,     0.22062,     0.22401,     0.22649,     0.22979,     0.23245,     0.23528,      0.2375,     0.24005,     0.24314,     0.24652,     0.24806,     0.25015,     0.25356,     0.25556,     0.25827,      0.2608,\n",
       "            0.26387,     0.26576,     0.26719,     0.26993,     0.27227,     0.27565,     0.27758,     0.27932,     0.28126,     0.28335,     0.28496,     0.28714,     0.29004,     0.29254,     0.29485,     0.29647,     0.29827,     0.29956,     0.30172,      0.3033,      0.3053,     0.30692,     0.30972,\n",
       "            0.31047,     0.31238,     0.31467,     0.31594,     0.31792,     0.31992,     0.32172,     0.32335,     0.32579,     0.32727,     0.32798,     0.32929,     0.33125,     0.33309,     0.33433,      0.3353,     0.33612,      0.3386,     0.34052,     0.34171,     0.34306,     0.34393,     0.34568,\n",
       "            0.34723,     0.34837,     0.34904,     0.35121,     0.35246,     0.35323,     0.35516,     0.35866,     0.36003,       0.361,     0.36218,      0.3637,     0.36526,     0.36627,     0.36883,      0.3707,     0.37178,     0.37295,     0.37407,     0.37566,     0.37665,      0.3775,     0.37883,\n",
       "             0.3806,     0.38321,     0.38433,     0.38603,     0.38612,     0.38747,     0.38825,     0.38953,     0.38951,     0.39174,      0.3933,     0.39316,     0.39389,     0.39492,     0.39619,     0.39802,     0.39926,      0.4014,     0.40237,      0.4047,     0.40552,     0.40774,     0.41089,\n",
       "             0.4124,     0.41362,     0.41467,     0.41606,     0.41653,      0.4173,     0.41932,     0.42039,     0.42229,     0.42417,      0.4262,     0.42768,     0.42845,     0.43055,     0.43311,      0.4332,     0.43462,     0.43595,     0.43687,     0.43795,     0.44034,      0.4431,     0.44558,\n",
       "            0.44651,     0.44805,     0.44904,     0.44981,     0.45074,     0.45165,     0.45393,     0.45522,     0.45737,     0.45818,     0.45901,     0.45992,     0.46112,      0.4635,     0.46404,     0.46578,     0.46726,      0.4679,     0.46996,     0.47175,     0.47342,      0.4739,     0.47631,\n",
       "            0.47631,     0.47733,     0.47813,     0.48063,       0.482,     0.48275,     0.48477,     0.48597,     0.48673,     0.48711,     0.48752,     0.48848,     0.49007,     0.49081,     0.49224,     0.49327,     0.49513,     0.49577,      0.4987,     0.50013,     0.50088,     0.50218,     0.50555,\n",
       "            0.50538,     0.50585,     0.50734,     0.50784,     0.50998,     0.51272,     0.51424,     0.51578,      0.5179,     0.51829,     0.51987,     0.52191,     0.52358,      0.5248,     0.52766,     0.52896,     0.53029,     0.53214,     0.53331,     0.53434,     0.53641,     0.53691,     0.53762,\n",
       "            0.53935,     0.54092,     0.54208,     0.54288,     0.54298,     0.54357,     0.54554,     0.54634,     0.54702,     0.54851,     0.55088,     0.55246,     0.55485,     0.55731,      0.5577,     0.55742,     0.55953,     0.56052,     0.56335,     0.56496,     0.56775,     0.56764,     0.56886,\n",
       "             0.5699,     0.57427,     0.57616,     0.57814,     0.57905,      0.5798,     0.58125,     0.58199,     0.58486,     0.58604,      0.5868,     0.58736,     0.58936,      0.5915,     0.59212,     0.59309,      0.5957,     0.59886,     0.60055,     0.60326,     0.60564,     0.60603,     0.60919,\n",
       "            0.61394,     0.61606,     0.61864,     0.61962,     0.62062,     0.62608,     0.62573,     0.62688,     0.62808,     0.62981,     0.63095,     0.63077,      0.6306,     0.63156,     0.63202,     0.63357,     0.63339,     0.63492,     0.63572,     0.63773,     0.64013,     0.64184,     0.64271,\n",
       "            0.64197,     0.64278,     0.64375,       0.643,     0.64419,     0.64441,     0.64527,     0.64731,     0.64992,     0.65295,       0.656,     0.65657,      0.6574,     0.65853,     0.66186,     0.66435,      0.6652,     0.66648,     0.66653,     0.66854,     0.66941,     0.66984,     0.67266,\n",
       "            0.67523,     0.67791,     0.67905,     0.67889,     0.67832,     0.67937,     0.67994,     0.68283,      0.6863,     0.69138,      0.6917,     0.69248,     0.69394,     0.69519,      0.6957,     0.69643,     0.69732,     0.70058,      0.7006,     0.70248,     0.70336,     0.70338,     0.70396,\n",
       "            0.70514,     0.70863,     0.70917,     0.71088,     0.71035,     0.70883,     0.70941,     0.71028,     0.71085,     0.71142,     0.71438,     0.71744,     0.71997,     0.72097,     0.72159,     0.72151,     0.72218,      0.7232,     0.72391,     0.72272,     0.72207,     0.72567,      0.7275,\n",
       "            0.72798,      0.7275,     0.73027,     0.73299,     0.73492,     0.73829,     0.73877,     0.74132,     0.74342,     0.74288,     0.74119,     0.74339,     0.74548,     0.74628,     0.74745,     0.74812,     0.75166,     0.75072,      0.7514,     0.75238,      0.7518,     0.75264,     0.75222,\n",
       "            0.75545,     0.75924,     0.76053,     0.76205,     0.76272,     0.76408,     0.76397,     0.76394,     0.76463,     0.76696,     0.76804,     0.76752,     0.76866,     0.76817,     0.76881,     0.77052,     0.77004,     0.77083,     0.77038,      0.7712,     0.76962,     0.77036,     0.77218,\n",
       "            0.77289,     0.77322,     0.77211,     0.77419,      0.7748,     0.77557,     0.77616,     0.78071,     0.78304,     0.78781,     0.79038,     0.79054,     0.79173,     0.79251,     0.79569,     0.79652,     0.79617,     0.79754,     0.79827,     0.79924,     0.79857,      0.7981,     0.79618,\n",
       "             0.7959,     0.79592,      0.7966,     0.79524,     0.79419,     0.79571,      0.7968,     0.80003,     0.80139,     0.80248,     0.80345,     0.80399,     0.80403,     0.80612,      0.8066,     0.80643,     0.80825,     0.80972,     0.81116,      0.8125,     0.81385,      0.8135,     0.81294,\n",
       "            0.81253,     0.81299,     0.81295,     0.81282,     0.81268,     0.81334,      0.8199,     0.82226,     0.82646,     0.82585,     0.82872,     0.82929,     0.83333,     0.83618,     0.83743,     0.84014,     0.84106,     0.84284,     0.84246,     0.84328,     0.84749,     0.84888,     0.84803,\n",
       "            0.84799,     0.85098,     0.85177,     0.85163,     0.85149,       0.851,     0.85024,      0.8493,     0.85079,     0.84924,     0.84996,     0.85553,     0.85762,     0.85904,     0.86098,     0.86049,     0.85993,     0.85975,     0.85956,     0.85935,     0.85891,     0.86365,     0.86312,\n",
       "            0.86248,     0.86228,     0.86124,     0.86101,     0.86277,     0.86272,     0.86242,     0.86604,     0.86727,     0.86705,     0.86619,     0.86774,     0.86824,     0.86775,      0.8668,     0.86546,     0.86563,     0.86725,     0.86688,     0.86764,     0.86808,     0.86771,     0.86748,\n",
       "            0.86631,     0.86575,     0.86619,     0.86749,     0.86778,     0.87034,     0.87019,     0.87004,     0.86971,     0.87089,     0.87208,      0.8737,     0.87489,     0.87418,     0.87299,     0.87574,     0.87544,     0.87627,     0.87712,     0.87798,     0.87756,     0.87658,     0.87581,\n",
       "            0.87573,     0.87721,      0.8785,     0.87785,     0.87967,     0.87872,     0.87838,     0.87729,     0.87687,     0.87531,     0.87509,     0.87586,     0.87748,     0.87941,      0.8806,     0.87982,     0.87967,     0.87953,     0.87938,     0.87927,     0.87916,     0.87904,     0.87893,\n",
       "             0.8785,     0.87825,     0.87805,     0.87767,     0.88024,     0.88351,     0.88295,     0.88272,     0.88523,     0.88965,      0.8894,     0.88903,      0.8913,     0.89244,     0.89225,     0.89157,     0.89127,     0.89673,     0.89642,     0.89583,     0.89463,     0.89434,     0.89405,\n",
       "            0.89366,     0.89292,     0.89245,      0.8916,     0.89082,     0.89049,     0.89293,     0.89397,     0.89332,     0.89284,     0.89194,     0.89148,      0.8911,     0.89032,     0.89005,     0.89105,     0.89272,     0.89446,     0.89679,     0.89848,     0.89822,     0.89796,     0.89772,\n",
       "              0.897,     0.89657,     0.90496,     0.90467,     0.90399,      0.9085,     0.91207,     0.91218,     0.91198,     0.91162,     0.91134,     0.91115,     0.91096,      0.9107,     0.91529,     0.91504,     0.91463,     0.91413,     0.91369,     0.91341,     0.91324,     0.91307,     0.91779,\n",
       "            0.91742,     0.91695,     0.91618,     0.91583,     0.91565,     0.91554,     0.91544,     0.91533,     0.91517,     0.91492,     0.91459,     0.91415,     0.91873,     0.92415,     0.92391,     0.92378,     0.92364,      0.9231,     0.92254,     0.92243,     0.92231,      0.9222,     0.92144,\n",
       "            0.92084,      0.9203,     0.91947,     0.91912,     0.91891,     0.91863,     0.91806,     0.91947,     0.92297,     0.92252,     0.92212,     0.92172,     0.92132,       0.921,     0.92084,     0.92068,     0.92051,     0.92028,     0.92006,     0.92575,     0.92508,     0.92484,     0.92695,\n",
       "            0.93095,     0.93079,     0.93063,     0.93002,     0.92979,     0.92955,     0.92922,      0.9287,     0.92769,     0.92737,     0.92718,     0.92695,     0.92646,     0.92617,     0.92588,     0.92563,     0.92538,     0.92997,     0.93514,     0.93889,     0.93857,     0.93822,     0.93772,\n",
       "             0.9369,     0.93656,     0.93555,     0.93514,     0.93489,     0.93476,     0.93464,     0.93451,     0.93343,     0.93317,     0.93299,     0.93281,     0.93142,     0.93109,     0.93038,     0.92985,     0.92934,     0.92837,     0.92795,     0.92765,     0.92736,       0.935,     0.93391,\n",
       "            0.93347,     0.93173,      0.9307,     0.93249,     0.93862,      0.9367,      0.9361,     0.93652,     0.94273,     0.94487,     0.94365,      0.9427,     0.94238,     0.94221,     0.94204,     0.94186,     0.94142,     0.94097,     0.94054,     0.94025,     0.93999,     0.93963,     0.93781,\n",
       "            0.93701,     0.93639,     0.93585,      0.9357,     0.93555,      0.9354,     0.93524,     0.93509,     0.93471,     0.93427,     0.93379,     0.93314,     0.93184,     0.93102,     0.93048,     0.93029,     0.93011,     0.92993,     0.92974,      0.9295,     0.92877,     0.92798,     0.92735,\n",
       "            0.92692,     0.92649,     0.92521,     0.92732,     0.93434,     0.93748,     0.93734,      0.9372,     0.93707,     0.93693,     0.93679,     0.93665,     0.93651,     0.93625,     0.93598,     0.93572,     0.93543,     0.93497,     0.93451,     0.93368,     0.93843,     0.94657,     0.94892,\n",
       "            0.94858,     0.94801,     0.94671,     0.94631,     0.94614,     0.94596,     0.94579,     0.94562,     0.94628,     0.95932,     0.96207,     0.96141,      0.9612,       0.961,      0.9608,     0.97322,     0.97916,     0.97896,     0.97877,     0.97796,     0.97756,     0.97726,     0.97693,\n",
       "            0.97662,     0.97633,     0.97613,     0.97601,      0.9759,     0.97578,     0.97566,     0.97556,     0.97548,     0.97539,      0.9753,     0.97521,     0.97512,     0.97504,     0.97438,     0.97358,     0.97323,      0.9722,     0.97211,     0.97202,     0.97193,     0.97184,     0.97175,\n",
       "            0.97166,     0.97157,     0.97148,     0.97032,     0.96931,     0.96819,     0.96698,     0.96578,     0.96488,     0.96417,     0.96375,     0.96332,     0.96148,     0.95822,     0.95777,     0.95732,     0.95688,     0.95644,     0.95603,     0.95562,     0.95521,      0.9548,     0.95232,\n",
       "            0.95187,     0.95143,     0.95098,     0.95053,     0.95009,           1,           1,           1,           1,           1,           1,           1,           1,           1,           1,           1,           1,           1,           1,           1,           1,           1,           1,\n",
       "                  1,           1,           1,           1,           1,           1,           1,           1,           1,           1,           1,           1,           1,           1,           1,           1,           1,           1,           1,           1,           1,           1,           1,\n",
       "                  1,           1,           1,           1,           1,           1,           1,           1,           1,           1,           1,           1,           1,           1,           1,           1,           1,           1,           1,           1,           1,           1,           1,\n",
       "                  1,           1,           1,           1,           1,           1,           1,           1,           1,           1,           1,           1,           1,           1,           1,           1,           1,           1,           1,           1,           1,           1,           1,\n",
       "                  1,           1,           1,           1,           1,           1,           1,           1,           1,           1,           1,           1,           1,           1,           1,           1,           1,           1,           1,           1,           1,           1,           1,\n",
       "                  1,           1,           1,           1,           1,           1,           1,           1,           1,           1,           1]]), 'Confidence', 'Precision'], [array([          0,    0.001001,    0.002002,    0.003003,    0.004004,    0.005005,    0.006006,    0.007007,    0.008008,    0.009009,     0.01001,    0.011011,    0.012012,    0.013013,    0.014014,    0.015015,    0.016016,    0.017017,    0.018018,    0.019019,     0.02002,    0.021021,    0.022022,    0.023023,\n",
       "          0.024024,    0.025025,    0.026026,    0.027027,    0.028028,    0.029029,     0.03003,    0.031031,    0.032032,    0.033033,    0.034034,    0.035035,    0.036036,    0.037037,    0.038038,    0.039039,     0.04004,    0.041041,    0.042042,    0.043043,    0.044044,    0.045045,    0.046046,    0.047047,\n",
       "          0.048048,    0.049049,     0.05005,    0.051051,    0.052052,    0.053053,    0.054054,    0.055055,    0.056056,    0.057057,    0.058058,    0.059059,     0.06006,    0.061061,    0.062062,    0.063063,    0.064064,    0.065065,    0.066066,    0.067067,    0.068068,    0.069069,     0.07007,    0.071071,\n",
       "          0.072072,    0.073073,    0.074074,    0.075075,    0.076076,    0.077077,    0.078078,    0.079079,     0.08008,    0.081081,    0.082082,    0.083083,    0.084084,    0.085085,    0.086086,    0.087087,    0.088088,    0.089089,     0.09009,    0.091091,    0.092092,    0.093093,    0.094094,    0.095095,\n",
       "          0.096096,    0.097097,    0.098098,    0.099099,      0.1001,      0.1011,      0.1021,      0.1031,      0.1041,     0.10511,     0.10611,     0.10711,     0.10811,     0.10911,     0.11011,     0.11111,     0.11211,     0.11311,     0.11411,     0.11512,     0.11612,     0.11712,     0.11812,     0.11912,\n",
       "           0.12012,     0.12112,     0.12212,     0.12312,     0.12412,     0.12513,     0.12613,     0.12713,     0.12813,     0.12913,     0.13013,     0.13113,     0.13213,     0.13313,     0.13413,     0.13514,     0.13614,     0.13714,     0.13814,     0.13914,     0.14014,     0.14114,     0.14214,     0.14314,\n",
       "           0.14414,     0.14515,     0.14615,     0.14715,     0.14815,     0.14915,     0.15015,     0.15115,     0.15215,     0.15315,     0.15415,     0.15516,     0.15616,     0.15716,     0.15816,     0.15916,     0.16016,     0.16116,     0.16216,     0.16316,     0.16416,     0.16517,     0.16617,     0.16717,\n",
       "           0.16817,     0.16917,     0.17017,     0.17117,     0.17217,     0.17317,     0.17417,     0.17518,     0.17618,     0.17718,     0.17818,     0.17918,     0.18018,     0.18118,     0.18218,     0.18318,     0.18418,     0.18519,     0.18619,     0.18719,     0.18819,     0.18919,     0.19019,     0.19119,\n",
       "           0.19219,     0.19319,     0.19419,      0.1952,      0.1962,      0.1972,      0.1982,      0.1992,      0.2002,      0.2012,      0.2022,      0.2032,      0.2042,     0.20521,     0.20621,     0.20721,     0.20821,     0.20921,     0.21021,     0.21121,     0.21221,     0.21321,     0.21421,     0.21522,\n",
       "           0.21622,     0.21722,     0.21822,     0.21922,     0.22022,     0.22122,     0.22222,     0.22322,     0.22422,     0.22523,     0.22623,     0.22723,     0.22823,     0.22923,     0.23023,     0.23123,     0.23223,     0.23323,     0.23423,     0.23524,     0.23624,     0.23724,     0.23824,     0.23924,\n",
       "           0.24024,     0.24124,     0.24224,     0.24324,     0.24424,     0.24525,     0.24625,     0.24725,     0.24825,     0.24925,     0.25025,     0.25125,     0.25225,     0.25325,     0.25425,     0.25526,     0.25626,     0.25726,     0.25826,     0.25926,     0.26026,     0.26126,     0.26226,     0.26326,\n",
       "           0.26426,     0.26527,     0.26627,     0.26727,     0.26827,     0.26927,     0.27027,     0.27127,     0.27227,     0.27327,     0.27427,     0.27528,     0.27628,     0.27728,     0.27828,     0.27928,     0.28028,     0.28128,     0.28228,     0.28328,     0.28428,     0.28529,     0.28629,     0.28729,\n",
       "           0.28829,     0.28929,     0.29029,     0.29129,     0.29229,     0.29329,     0.29429,      0.2953,      0.2963,      0.2973,      0.2983,      0.2993,      0.3003,      0.3013,      0.3023,      0.3033,      0.3043,     0.30531,     0.30631,     0.30731,     0.30831,     0.30931,     0.31031,     0.31131,\n",
       "           0.31231,     0.31331,     0.31431,     0.31532,     0.31632,     0.31732,     0.31832,     0.31932,     0.32032,     0.32132,     0.32232,     0.32332,     0.32432,     0.32533,     0.32633,     0.32733,     0.32833,     0.32933,     0.33033,     0.33133,     0.33233,     0.33333,     0.33433,     0.33534,\n",
       "           0.33634,     0.33734,     0.33834,     0.33934,     0.34034,     0.34134,     0.34234,     0.34334,     0.34434,     0.34535,     0.34635,     0.34735,     0.34835,     0.34935,     0.35035,     0.35135,     0.35235,     0.35335,     0.35435,     0.35536,     0.35636,     0.35736,     0.35836,     0.35936,\n",
       "           0.36036,     0.36136,     0.36236,     0.36336,     0.36436,     0.36537,     0.36637,     0.36737,     0.36837,     0.36937,     0.37037,     0.37137,     0.37237,     0.37337,     0.37437,     0.37538,     0.37638,     0.37738,     0.37838,     0.37938,     0.38038,     0.38138,     0.38238,     0.38338,\n",
       "           0.38438,     0.38539,     0.38639,     0.38739,     0.38839,     0.38939,     0.39039,     0.39139,     0.39239,     0.39339,     0.39439,      0.3954,      0.3964,      0.3974,      0.3984,      0.3994,      0.4004,      0.4014,      0.4024,      0.4034,      0.4044,     0.40541,     0.40641,     0.40741,\n",
       "           0.40841,     0.40941,     0.41041,     0.41141,     0.41241,     0.41341,     0.41441,     0.41542,     0.41642,     0.41742,     0.41842,     0.41942,     0.42042,     0.42142,     0.42242,     0.42342,     0.42442,     0.42543,     0.42643,     0.42743,     0.42843,     0.42943,     0.43043,     0.43143,\n",
       "           0.43243,     0.43343,     0.43443,     0.43544,     0.43644,     0.43744,     0.43844,     0.43944,     0.44044,     0.44144,     0.44244,     0.44344,     0.44444,     0.44545,     0.44645,     0.44745,     0.44845,     0.44945,     0.45045,     0.45145,     0.45245,     0.45345,     0.45445,     0.45546,\n",
       "           0.45646,     0.45746,     0.45846,     0.45946,     0.46046,     0.46146,     0.46246,     0.46346,     0.46446,     0.46547,     0.46647,     0.46747,     0.46847,     0.46947,     0.47047,     0.47147,     0.47247,     0.47347,     0.47447,     0.47548,     0.47648,     0.47748,     0.47848,     0.47948,\n",
       "           0.48048,     0.48148,     0.48248,     0.48348,     0.48448,     0.48549,     0.48649,     0.48749,     0.48849,     0.48949,     0.49049,     0.49149,     0.49249,     0.49349,     0.49449,      0.4955,      0.4965,      0.4975,      0.4985,      0.4995,      0.5005,      0.5015,      0.5025,      0.5035,\n",
       "            0.5045,     0.50551,     0.50651,     0.50751,     0.50851,     0.50951,     0.51051,     0.51151,     0.51251,     0.51351,     0.51451,     0.51552,     0.51652,     0.51752,     0.51852,     0.51952,     0.52052,     0.52152,     0.52252,     0.52352,     0.52452,     0.52553,     0.52653,     0.52753,\n",
       "           0.52853,     0.52953,     0.53053,     0.53153,     0.53253,     0.53353,     0.53453,     0.53554,     0.53654,     0.53754,     0.53854,     0.53954,     0.54054,     0.54154,     0.54254,     0.54354,     0.54454,     0.54555,     0.54655,     0.54755,     0.54855,     0.54955,     0.55055,     0.55155,\n",
       "           0.55255,     0.55355,     0.55455,     0.55556,     0.55656,     0.55756,     0.55856,     0.55956,     0.56056,     0.56156,     0.56256,     0.56356,     0.56456,     0.56557,     0.56657,     0.56757,     0.56857,     0.56957,     0.57057,     0.57157,     0.57257,     0.57357,     0.57457,     0.57558,\n",
       "           0.57658,     0.57758,     0.57858,     0.57958,     0.58058,     0.58158,     0.58258,     0.58358,     0.58458,     0.58559,     0.58659,     0.58759,     0.58859,     0.58959,     0.59059,     0.59159,     0.59259,     0.59359,     0.59459,      0.5956,      0.5966,      0.5976,      0.5986,      0.5996,\n",
       "            0.6006,      0.6016,      0.6026,      0.6036,      0.6046,     0.60561,     0.60661,     0.60761,     0.60861,     0.60961,     0.61061,     0.61161,     0.61261,     0.61361,     0.61461,     0.61562,     0.61662,     0.61762,     0.61862,     0.61962,     0.62062,     0.62162,     0.62262,     0.62362,\n",
       "           0.62462,     0.62563,     0.62663,     0.62763,     0.62863,     0.62963,     0.63063,     0.63163,     0.63263,     0.63363,     0.63463,     0.63564,     0.63664,     0.63764,     0.63864,     0.63964,     0.64064,     0.64164,     0.64264,     0.64364,     0.64464,     0.64565,     0.64665,     0.64765,\n",
       "           0.64865,     0.64965,     0.65065,     0.65165,     0.65265,     0.65365,     0.65465,     0.65566,     0.65666,     0.65766,     0.65866,     0.65966,     0.66066,     0.66166,     0.66266,     0.66366,     0.66466,     0.66567,     0.66667,     0.66767,     0.66867,     0.66967,     0.67067,     0.67167,\n",
       "           0.67267,     0.67367,     0.67467,     0.67568,     0.67668,     0.67768,     0.67868,     0.67968,     0.68068,     0.68168,     0.68268,     0.68368,     0.68468,     0.68569,     0.68669,     0.68769,     0.68869,     0.68969,     0.69069,     0.69169,     0.69269,     0.69369,     0.69469,      0.6957,\n",
       "            0.6967,      0.6977,      0.6987,      0.6997,      0.7007,      0.7017,      0.7027,      0.7037,      0.7047,     0.70571,     0.70671,     0.70771,     0.70871,     0.70971,     0.71071,     0.71171,     0.71271,     0.71371,     0.71471,     0.71572,     0.71672,     0.71772,     0.71872,     0.71972,\n",
       "           0.72072,     0.72172,     0.72272,     0.72372,     0.72472,     0.72573,     0.72673,     0.72773,     0.72873,     0.72973,     0.73073,     0.73173,     0.73273,     0.73373,     0.73473,     0.73574,     0.73674,     0.73774,     0.73874,     0.73974,     0.74074,     0.74174,     0.74274,     0.74374,\n",
       "           0.74474,     0.74575,     0.74675,     0.74775,     0.74875,     0.74975,     0.75075,     0.75175,     0.75275,     0.75375,     0.75475,     0.75576,     0.75676,     0.75776,     0.75876,     0.75976,     0.76076,     0.76176,     0.76276,     0.76376,     0.76476,     0.76577,     0.76677,     0.76777,\n",
       "           0.76877,     0.76977,     0.77077,     0.77177,     0.77277,     0.77377,     0.77477,     0.77578,     0.77678,     0.77778,     0.77878,     0.77978,     0.78078,     0.78178,     0.78278,     0.78378,     0.78478,     0.78579,     0.78679,     0.78779,     0.78879,     0.78979,     0.79079,     0.79179,\n",
       "           0.79279,     0.79379,     0.79479,      0.7958,      0.7968,      0.7978,      0.7988,      0.7998,      0.8008,      0.8018,      0.8028,      0.8038,      0.8048,     0.80581,     0.80681,     0.80781,     0.80881,     0.80981,     0.81081,     0.81181,     0.81281,     0.81381,     0.81481,     0.81582,\n",
       "           0.81682,     0.81782,     0.81882,     0.81982,     0.82082,     0.82182,     0.82282,     0.82382,     0.82482,     0.82583,     0.82683,     0.82783,     0.82883,     0.82983,     0.83083,     0.83183,     0.83283,     0.83383,     0.83483,     0.83584,     0.83684,     0.83784,     0.83884,     0.83984,\n",
       "           0.84084,     0.84184,     0.84284,     0.84384,     0.84484,     0.84585,     0.84685,     0.84785,     0.84885,     0.84985,     0.85085,     0.85185,     0.85285,     0.85385,     0.85485,     0.85586,     0.85686,     0.85786,     0.85886,     0.85986,     0.86086,     0.86186,     0.86286,     0.86386,\n",
       "           0.86486,     0.86587,     0.86687,     0.86787,     0.86887,     0.86987,     0.87087,     0.87187,     0.87287,     0.87387,     0.87487,     0.87588,     0.87688,     0.87788,     0.87888,     0.87988,     0.88088,     0.88188,     0.88288,     0.88388,     0.88488,     0.88589,     0.88689,     0.88789,\n",
       "           0.88889,     0.88989,     0.89089,     0.89189,     0.89289,     0.89389,     0.89489,      0.8959,      0.8969,      0.8979,      0.8989,      0.8999,      0.9009,      0.9019,      0.9029,      0.9039,      0.9049,     0.90591,     0.90691,     0.90791,     0.90891,     0.90991,     0.91091,     0.91191,\n",
       "           0.91291,     0.91391,     0.91491,     0.91592,     0.91692,     0.91792,     0.91892,     0.91992,     0.92092,     0.92192,     0.92292,     0.92392,     0.92492,     0.92593,     0.92693,     0.92793,     0.92893,     0.92993,     0.93093,     0.93193,     0.93293,     0.93393,     0.93493,     0.93594,\n",
       "           0.93694,     0.93794,     0.93894,     0.93994,     0.94094,     0.94194,     0.94294,     0.94394,     0.94494,     0.94595,     0.94695,     0.94795,     0.94895,     0.94995,     0.95095,     0.95195,     0.95295,     0.95395,     0.95495,     0.95596,     0.95696,     0.95796,     0.95896,     0.95996,\n",
       "           0.96096,     0.96196,     0.96296,     0.96396,     0.96496,     0.96597,     0.96697,     0.96797,     0.96897,     0.96997,     0.97097,     0.97197,     0.97297,     0.97397,     0.97497,     0.97598,     0.97698,     0.97798,     0.97898,     0.97998,     0.98098,     0.98198,     0.98298,     0.98398,\n",
       "           0.98498,     0.98599,     0.98699,     0.98799,     0.98899,     0.98999,     0.99099,     0.99199,     0.99299,     0.99399,     0.99499,       0.996,       0.997,       0.998,       0.999,           1]), array([[    0.92023,     0.92023,     0.91792,     0.91098,     0.90867,     0.90058,      0.8948,     0.89249,     0.89017,     0.88671,     0.88439,     0.88439,     0.88439,     0.88208,     0.87977,     0.87977,     0.87861,     0.87861,      0.8763,      0.8763,     0.87201,     0.87168,     0.87168,\n",
       "            0.87052,     0.86936,     0.86936,     0.86936,     0.86936,     0.86936,     0.86821,     0.86705,      0.8659,     0.86358,     0.86127,     0.86012,     0.85896,      0.8578,      0.8578,     0.85665,     0.85665,     0.85549,     0.85202,     0.85202,     0.85087,     0.84971,     0.84971,\n",
       "            0.84909,      0.8474,     0.84509,     0.84509,     0.84277,     0.84277,     0.84277,     0.84162,     0.84162,     0.84162,     0.84046,     0.83931,     0.83931,     0.83931,     0.83931,     0.83815,     0.83815,     0.83815,     0.83815,     0.83815,     0.83815,     0.83815,     0.83815,\n",
       "            0.83699,     0.83584,     0.83584,     0.83584,     0.83584,     0.83584,     0.83468,     0.83237,     0.83237,     0.83121,     0.82659,     0.82659,     0.82543,     0.82543,     0.82543,     0.82428,     0.82312,     0.82312,     0.82197,     0.82197,     0.81965,     0.81817,     0.81618,\n",
       "            0.81503,     0.81387,     0.81272,     0.81272,     0.81156,      0.8104,      0.8104,      0.8104,     0.80694,     0.80578,     0.80462,     0.80462,     0.80347,     0.80231,     0.80231,         0.8,         0.8,     0.79769,     0.79538,     0.79538,     0.79538,     0.79306,     0.79306,\n",
       "            0.79306,     0.79306,     0.79191,     0.79191,      0.7896,     0.78844,     0.78728,     0.78728,     0.78382,     0.78382,      0.7815,     0.78035,     0.77803,     0.77803,     0.77803,     0.77803,     0.77803,     0.77688,     0.77572,     0.77457,     0.77457,     0.77457,     0.77408,\n",
       "            0.77225,      0.7711,      0.7711,      0.7711,      0.7711,      0.7711,     0.77053,     0.76994,     0.76994,     0.76879,     0.76879,     0.76879,     0.76879,     0.76879,     0.76879,     0.76784,     0.76763,     0.76763,     0.76763,     0.76763,     0.76763,     0.76763,     0.76647,\n",
       "            0.76647,     0.76647,     0.76532,     0.76532,     0.76416,     0.76416,     0.76416,     0.76416,     0.76416,     0.76352,     0.76185,     0.76185,     0.76185,     0.76185,     0.75954,     0.75838,     0.75838,     0.75838,     0.75838,     0.75838,     0.75838,     0.75723,     0.75705,\n",
       "            0.75607,     0.75607,     0.75607,     0.75491,     0.75491,     0.75491,     0.75378,     0.75376,      0.7526,      0.7526,      0.7526,      0.7526,     0.75107,     0.74798,     0.74798,     0.74611,     0.74566,     0.74566,     0.74566,     0.74451,     0.74335,      0.7422,     0.73988,\n",
       "            0.73473,     0.73295,     0.73295,     0.73179,     0.73179,     0.73179,     0.73064,     0.72948,     0.72948,     0.72948,     0.72948,     0.72948,     0.72801,     0.72601,     0.72486,      0.7237,     0.72139,     0.72139,     0.72132,     0.71908,     0.71908,     0.71792,     0.71676,\n",
       "            0.71561,     0.71561,     0.71445,     0.71395,     0.71214,     0.70904,     0.70751,     0.70751,      0.7052,     0.70289,     0.70289,     0.70173,     0.69942,     0.69827,     0.69711,      0.6948,     0.69249,     0.69249,     0.69249,      0.6921,     0.69133,     0.68907,     0.68786,\n",
       "            0.68671,     0.68555,     0.68555,     0.68555,     0.68439,     0.68092,     0.67977,     0.67764,      0.6763,      0.6743,     0.67399,     0.67305,     0.66865,      0.6659,      0.6646,     0.66358,     0.66243,     0.66243,     0.66127,     0.66012,     0.65868,     0.65665,     0.65549,\n",
       "            0.65434,     0.65202,     0.65202,     0.65087,     0.64971,     0.64846,     0.64748,     0.64486,     0.64393,     0.64393,     0.64277,     0.64187,     0.63942,     0.63931,     0.63931,     0.63764,     0.63468,     0.63468,     0.63468,     0.63468,     0.63468,     0.63468,     0.63237,\n",
       "            0.63017,     0.62775,     0.62672,     0.62428,     0.62312,     0.62013,     0.61734,     0.61734,     0.61734,     0.61618,     0.61503,     0.61443,     0.61227,     0.61156,     0.61156,     0.61156,     0.60925,     0.60809,     0.60462,     0.60393,     0.60231,     0.60116,     0.60116,\n",
       "            0.60116,         0.6,     0.59925,     0.59636,     0.59238,     0.59191,     0.59075,     0.59075,     0.59075,     0.59048,     0.58879,     0.58844,     0.58844,     0.58728,     0.58728,     0.58613,     0.58613,     0.58382,     0.58163,     0.58141,     0.57838,     0.57569,     0.57457,\n",
       "            0.57229,     0.56994,     0.56879,      0.5685,     0.56705,     0.56287,     0.56185,     0.56117,     0.55954,     0.55838,     0.55838,     0.55723,     0.55723,     0.55491,     0.55432,     0.55376,     0.55376,     0.55276,     0.55167,     0.54541,     0.54335,      0.5422,      0.5422,\n",
       "            0.54144,     0.54013,     0.53757,     0.53757,     0.53642,     0.53642,     0.53526,      0.5334,     0.53258,     0.53108,     0.52641,     0.52601,     0.52485,      0.5237,      0.5237,     0.52139,     0.52136,     0.51877,     0.51716,     0.51637,     0.51445,     0.51445,     0.51242,\n",
       "            0.51068,     0.50983,     0.50983,     0.50983,     0.50983,     0.50983,      0.5089,     0.50636,     0.50326,     0.50224,     0.50173,     0.49998,     0.49935,     0.49799,     0.49594,     0.49297,     0.49163,     0.49017,     0.48786,     0.48786,     0.48275,     0.48092,     0.47746,\n",
       "            0.47746,     0.47694,     0.47395,     0.47166,     0.46934,      0.4659,     0.46502,     0.46243,     0.46243,     0.46243,     0.46206,     0.46127,     0.46012,     0.45924,      0.4578,      0.4578,     0.45609,      0.4554,      0.4529,     0.45103,     0.44624,     0.44327,     0.43804,\n",
       "            0.43729,     0.43584,     0.43464,     0.43104,     0.42826,     0.42659,     0.42659,     0.42551,      0.4245,     0.42312,     0.42058,     0.41729,     0.41618,     0.41503,     0.41465,      0.4142,     0.41387,     0.41324,     0.41156,      0.4104,      0.4104,     0.40846,     0.40695,\n",
       "            0.40587,     0.40231,     0.40196,      0.4016,     0.40125,         0.4,         0.4,     0.39769,     0.39639,     0.39474,     0.39422,     0.39313,     0.39304,     0.39075,      0.3896,     0.38885,     0.38497,      0.3844,     0.38329,     0.38266,     0.37919,     0.37666,     0.37418,\n",
       "            0.37341,     0.37341,     0.37203,     0.37161,      0.3712,     0.36977,     0.36755,     0.36485,     0.36257,     0.35816,     0.35607,     0.35607,     0.35513,     0.35226,     0.35084,     0.34939,     0.34778,     0.34724,      0.3467,     0.34612,     0.34484,     0.34417,     0.34262,\n",
       "            0.34077,      0.3402,     0.33723,     0.33526,     0.33526,      0.3342,     0.33336,     0.33295,     0.33238,     0.33173,     0.32927,     0.32832,     0.32756,     0.32617,     0.32351,     0.31979,     0.31792,     0.31721,      0.3162,     0.31561,     0.31191,      0.3109,     0.31027,\n",
       "            0.30714,     0.30566,      0.3052,      0.3052,     0.30351,     0.30264,     0.30225,     0.30185,     0.29942,     0.29942,     0.29942,     0.29942,     0.29913,     0.29719,     0.29364,     0.29332,     0.29251,     0.29249,     0.29249,     0.29249,     0.29002,     0.28738,     0.28534,\n",
       "            0.28439,     0.28439,      0.2842,     0.28249,      0.2789,     0.27641,     0.27552,     0.27275,     0.27169,     0.26782,     0.26728,      0.2659,     0.26495,     0.26474,     0.26431,     0.26237,     0.26201,     0.26165,     0.26128,       0.261,     0.26073,     0.26045,     0.26017,\n",
       "            0.25913,     0.25853,     0.25803,     0.25713,     0.25434,     0.25428,     0.25289,     0.25235,     0.25202,     0.25164,     0.25101,     0.25006,     0.24971,     0.24939,      0.2489,     0.24714,     0.24624,     0.24277,     0.24011,     0.23861,     0.23557,     0.23484,     0.23414,\n",
       "            0.23316,     0.23137,     0.23024,      0.2282,     0.22639,     0.22561,     0.22543,     0.22418,     0.22266,     0.22155,     0.21948,     0.21843,     0.21757,     0.21584,     0.21524,     0.21503,     0.21503,     0.21503,     0.21503,     0.21487,     0.21424,     0.21364,     0.21308,\n",
       "            0.21142,     0.21044,     0.20915,     0.20846,     0.20681,     0.20462,     0.20462,     0.20414,     0.20362,     0.20271,     0.20202,     0.20155,     0.20106,     0.20044,     0.19987,     0.19923,     0.19817,     0.19691,     0.19582,     0.19513,     0.19471,      0.1943,     0.19359,\n",
       "            0.19265,     0.19146,     0.18955,     0.18869,     0.18825,     0.18799,     0.18772,     0.18746,     0.18708,     0.18647,     0.18569,     0.18465,     0.18382,     0.18312,     0.18248,     0.18214,      0.1818,     0.18041,       0.179,     0.17871,     0.17842,     0.17813,     0.17628,\n",
       "            0.17483,     0.17353,     0.17161,     0.17079,     0.17031,     0.16967,     0.16838,     0.16647,     0.16622,     0.16518,     0.16425,     0.16336,     0.16246,     0.16173,     0.16137,     0.16102,     0.16065,     0.16016,     0.15966,     0.15954,     0.15702,     0.15647,     0.15607,\n",
       "            0.15586,     0.15547,     0.15508,     0.15363,     0.15309,     0.15254,     0.15178,     0.15059,     0.14833,     0.14761,     0.14719,     0.14669,     0.14564,     0.14502,     0.14441,     0.14389,     0.14337,      0.1422,      0.1422,     0.14209,     0.14131,     0.14046,     0.13925,\n",
       "            0.13731,     0.13655,     0.13426,     0.13335,      0.1328,     0.13253,     0.13225,     0.13197,     0.12969,     0.12914,     0.12877,      0.1284,     0.12561,     0.12497,     0.12359,     0.12259,     0.12165,     0.11987,     0.11911,     0.11858,     0.11807,     0.11641,     0.11435,\n",
       "            0.11355,     0.11045,     0.10868,     0.10636,     0.10608,     0.10264,     0.10162,     0.10058,     0.10058,    0.099073,    0.096807,    0.095108,    0.094546,    0.094246,    0.093946,    0.093646,    0.092892,    0.092153,    0.091437,    0.090971,    0.090549,    0.089974,    0.087166,\n",
       "           0.085996,    0.085099,    0.084332,     0.08412,    0.083908,    0.083697,    0.083485,    0.083273,    0.082752,    0.082167,    0.081525,    0.080676,    0.079027,    0.078025,    0.077366,    0.077148,     0.07693,    0.076713,    0.076495,    0.076211,    0.075373,    0.074489,    0.073781,\n",
       "           0.073315,    0.072849,    0.071506,     0.07052,     0.07052,    0.069343,    0.069182,     0.06902,    0.068859,    0.068697,    0.068536,    0.068375,    0.068213,    0.067916,    0.067616,    0.067315,    0.066989,     0.06649,    0.065991,    0.065105,     0.06474,     0.06474,    0.064433,\n",
       "           0.063983,    0.063245,    0.061613,    0.061129,    0.060923,    0.060718,    0.060513,    0.060308,    0.060116,    0.060116,    0.058648,    0.057599,     0.05729,    0.056982,    0.056673,    0.056647,    0.054309,    0.053805,    0.053302,    0.051312,    0.050369,    0.049692,    0.048963,\n",
       "           0.048289,    0.047685,    0.047277,    0.047046,    0.046814,    0.046583,    0.046351,    0.046154,    0.045988,    0.045822,    0.045656,     0.04549,    0.045323,    0.045157,    0.043971,    0.042606,     0.04203,    0.040428,    0.040298,    0.040168,    0.040038,    0.039907,    0.039777,\n",
       "           0.039647,    0.039517,    0.039387,    0.037798,    0.036517,    0.035194,    0.033866,    0.032638,    0.031771,    0.031114,    0.030742,     0.03037,    0.028858,    0.026518,    0.026232,    0.025946,    0.025659,    0.025383,    0.025144,    0.024904,    0.024665,    0.024426,     0.02309,\n",
       "           0.022874,    0.022657,    0.022441,    0.022225,    0.022008,    0.021307,    0.020426,    0.019834,    0.019477,    0.019222,    0.018968,    0.018714,    0.018423,    0.017915,    0.017406,    0.017162,    0.016957,    0.016751,    0.016546,    0.016341,     0.01604,    0.015439,    0.014829,\n",
       "           0.014199,    0.012989,     0.01181,    0.010558,    0.010329,    0.010244,    0.010158,    0.010073,   0.0099875,    0.009902,   0.0098166,   0.0097312,   0.0096457,   0.0095603,   0.0094749,   0.0093894,    0.009304,   0.0091505,   0.0088713,   0.0085921,   0.0083129,   0.0080604,   0.0079081,\n",
       "          0.0077557,   0.0076033,    0.007451,   0.0072986,   0.0071463,   0.0069939,   0.0056441,    0.005102,   0.0045411,   0.0038412,   0.0027927,   0.0019607,   0.0014345,           0,           0,           0,           0,           0,           0,           0,           0,           0,           0,\n",
       "                  0,           0,           0,           0,           0,           0,           0,           0,           0,           0,           0,           0,           0,           0,           0,           0,           0,           0,           0,           0,           0,           0,           0,\n",
       "                  0,           0,           0,           0,           0,           0,           0,           0,           0,           0,           0,           0,           0,           0,           0,           0,           0,           0,           0,           0,           0,           0,           0,\n",
       "                  0,           0,           0,           0,           0,           0,           0,           0,           0,           0,           0]]), 'Confidence', 'Recall']]\n",
       "fitness: np.float64(0.33390051470147275)\n",
       "keys: ['metrics/precision(B)', 'metrics/recall(B)', 'metrics/mAP50(B)', 'metrics/mAP50-95(B)']\n",
       "maps: array([    0.29839])\n",
       "names: {0: 'cigarette'}\n",
       "plot: True\n",
       "results_dict: {'metrics/precision(B)': np.float64(0.6574029157421829), 'metrics/recall(B)': np.float64(0.6122674617617513), 'metrics/mAP50(B)': np.float64(0.6534570843092582), 'metrics/mAP50-95(B)': np.float64(0.2983942291894966), 'fitness': np.float64(0.33390051470147275)}\n",
       "save_dir: WindowsPath('c:/Users/shihy/runs/detect/train23')\n",
       "speed: {'preprocess': 0.8524756372710806, 'inference': 66.73209313993101, 'loss': 0.0, 'postprocess': 0.623133741779092}\n",
       "task: 'detect'"
      ]
     },
     "execution_count": 14,
     "metadata": {},
     "output_type": "execute_result"
    }
   ],
   "source": [
    "model.train(\n",
    "    data=\"C:/Users/datasets/data.yaml\",  \n",
    "    epochs=50,\n",
    "    imgsz=640,\n",
    "    patience=10,\n",
    "    batch=8,                  \n",
    ")"
   ]
  },
  {
   "cell_type": "code",
   "execution_count": null,
   "metadata": {},
   "outputs": [],
   "source": []
  }
 ],
 "metadata": {
  "kernelspec": {
   "display_name": "smoke",
   "language": "python",
   "name": "python3"
  },
  "language_info": {
   "codemirror_mode": {
    "name": "ipython",
    "version": 3
   },
   "file_extension": ".py",
   "mimetype": "text/x-python",
   "name": "python",
   "nbconvert_exporter": "python",
   "pygments_lexer": "ipython3",
   "version": "3.12.8"
  }
 },
 "nbformat": 4,
 "nbformat_minor": 2
}
