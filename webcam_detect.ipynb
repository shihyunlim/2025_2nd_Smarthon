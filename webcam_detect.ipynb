{
 "cells": [
  {
   "cell_type": "code",
   "execution_count": 1,
   "metadata": {},
   "outputs": [],
   "source": [
    "from ultralytics import YOLO\n",
    "import cv2  # OpenCV를 사용하여 창 관리를 처리"
   ]
  },
  {
   "cell_type": "code",
   "execution_count": null,
   "metadata": {},
   "outputs": [
    {
     "ename": "SyntaxError",
     "evalue": "(unicode error) 'unicodeescape' codec can't decode bytes in position 2-3: truncated \\UXXXXXXXX escape (2311678851.py, line 2)",
     "output_type": "error",
     "traceback": [
      "\u001b[1;36m  Cell \u001b[1;32mIn[2], line 2\u001b[1;36m\u001b[0m\n\u001b[1;33m    model = YOLO(\"c:\\Users\\shihy\\runs\\detect\\train13\\weights\\best.pt\")\u001b[0m\n\u001b[1;37m                 ^\u001b[0m\n\u001b[1;31mSyntaxError\u001b[0m\u001b[1;31m:\u001b[0m (unicode error) 'unicodeescape' codec can't decode bytes in position 2-3: truncated \\UXXXXXXXX escape\n"
     ]
    }
   ],
   "source": [
    "# YOLO 모델 로드\n",
    "model = YOLO(\"yolov8s.pt\")\n",
    "\n",
    "# 웹캠에서 실시간 예측\n",
    "try:\n",
    "    results = model.predict(source=\"0\", show=True)\n",
    "    while True:\n",
    "        # OpenCV의 waitKey를 사용하여 창 상태를 확인\n",
    "        if cv2.waitKey(1) & 0xFF == ord('q'):  # 'q'를 누르면 종료\n",
    "            break\n",
    "except Exception as e:\n",
    "    print(f\"Error: {e}\")\n",
    "finally:\n",
    "    # 프로그램 종료 시 모든 창 닫기\n",
    "    cv2.destroyAllWindows()\n",
    "    print(\"프로그램 종료\")"
   ]
  },
  {
   "cell_type": "code",
   "execution_count": 2,
   "metadata": {},
   "outputs": [
    {
     "name": "stdout",
     "output_type": "stream",
     "text": [
      "클래스 목록:\n",
      "0: short_sleeved_shirt\n",
      "1: long_sleeved_shirt\n",
      "2: short_sleeved_outwear\n",
      "3: long_sleeved_outwear\n",
      "4: vest\n",
      "5: sling\n",
      "6: shorts\n",
      "7: trousers\n",
      "8: skirt\n",
      "9: short_sleeved_dress\n",
      "10: long_sleeved_dress\n",
      "11: vest_dress\n",
      "12: sling_dress\n"
     ]
    }
   ],
   "source": [
    "from ultralytics import YOLO\n",
    "\n",
    "# 모델 로드\n",
    "model_path = \"C:/Users/shihy/SmokeVision/models/clothing.pt\"  # 모델 경로 설정\n",
    "model = YOLO(model_path)\n",
    "\n",
    "# 클래스 목록 출력\n",
    "print(\"클래스 목록:\")\n",
    "for idx, class_name in model.names.items():\n",
    "    print(f\"{idx}: {class_name}\")"
   ]
  },
  {
   "cell_type": "code",
   "execution_count": null,
   "metadata": {},
   "outputs": [],
   "source": []
  }
 ],
 "metadata": {
  "kernelspec": {
   "display_name": "smoke",
   "language": "python",
   "name": "python3"
  },
  "language_info": {
   "codemirror_mode": {
    "name": "ipython",
    "version": 3
   },
   "file_extension": ".py",
   "mimetype": "text/x-python",
   "name": "python",
   "nbconvert_exporter": "python",
   "pygments_lexer": "ipython3",
   "version": "3.12.8"
  }
 },
 "nbformat": 4,
 "nbformat_minor": 2
}
